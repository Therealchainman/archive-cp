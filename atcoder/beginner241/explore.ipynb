{
 "cells": [
  {
   "cell_type": "code",
   "execution_count": 15,
   "id": "75fcfff3-84b9-4c4e-a981-15f8dd29821e",
   "metadata": {},
   "outputs": [
    {
     "name": "stdout",
     "output_type": "stream",
     "text": [
      "20\n",
      "20\n",
      "30\n",
      "-1\n",
      "-1\n",
      "1\n"
     ]
    }
   ],
   "source": [
    "from sortedcontainers import SortedList\n",
    "from bisect import bisect_left, bisect_right\n",
    "\n",
    "def ksmallest(pivot, k):\n",
    "    i = A.bisect_left(pivot) - 1\n",
    "    if k >= len(A)-i-1: return -1\n",
    "    return A[i+k]\n",
    "\n",
    "def klargest(pivot, k):\n",
    "    i = A.bisect_left(pivot)\n",
    "    if k >= i: return -1\n",
    "    return A[i-k]\n",
    "\n",
    "\n",
    "if __name__ == '__main__':\n",
    "    with open('input.txt', 'r') as f:\n",
    "        # Q = int(input())\n",
    "        Q = int(f.readline().strip())\n",
    "        A = SortedList()  \n",
    "        A.add(0)\n",
    "        A.add(1000000000000000001)\n",
    "        for _ in range(Q):\n",
    "            # query = list(map(int, input().split()))\n",
    "            query = list(map(int, f.readline().split()))\n",
    "            if query[0] == 1:\n",
    "                A.add(query[1])\n",
    "            elif query[0] == 2:\n",
    "                print(klargest(query[1],query[2]))\n",
    "            else:\n",
    "                print(ksmallest(query[1],query[2]))"
   ]
  },
  {
   "cell_type": "code",
   "execution_count": null,
   "id": "4cc042ef-4cf3-4473-8af7-af8f146a7528",
   "metadata": {},
   "outputs": [],
   "source": []
  },
  {
   "cell_type": "code",
   "execution_count": null,
   "id": "4fd9d26f-5f6a-43e4-8d83-133347281469",
   "metadata": {},
   "outputs": [],
   "source": []
  }
 ],
 "metadata": {
  "kernelspec": {
   "display_name": "Python 3 (ipykernel)",
   "language": "python",
   "name": "python3"
  },
  "language_info": {
   "codemirror_mode": {
    "name": "ipython",
    "version": 3
   },
   "file_extension": ".py",
   "mimetype": "text/x-python",
   "name": "python",
   "nbconvert_exporter": "python",
   "pygments_lexer": "ipython3",
   "version": "3.10.2"
  }
 },
 "nbformat": 4,
 "nbformat_minor": 5
}
