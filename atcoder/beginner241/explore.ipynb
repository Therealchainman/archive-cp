{
 "cells": [
  {
   "cell_type": "code",
   "execution_count": 15,
   "id": "75fcfff3-84b9-4c4e-a981-15f8dd29821e",
   "metadata": {},
   "outputs": [
    {
     "name": "stdout",
     "output_type": "stream",
     "text": [
      "20\n",
      "20\n",
      "30\n",
      "-1\n",
      "-1\n",
      "1\n"
     ]
    }
   ],
   "source": [
    "from sortedcontainers import SortedList\n",
    "from bisect import bisect_left, bisect_right\n",
    "\n",
    "def ksmallest(pivot, k):\n",
    "    i = A.bisect_left(pivot) - 1\n",
    "    if k >= len(A)-i-1: return -1\n",
    "    return A[i+k]\n",
    "\n",
    "def klargest(pivot, k):\n",
    "    i = A.bisect_left(pivot)\n",
    "    if k >= i: return -1\n",
    "    return A[i-k]\n",
    "\n",
    "\n",
    "if __name__ == '__main__':\n",
    "    with open('input.txt', 'r') as f:\n",
    "        # Q = int(input())\n",
    "        Q = int(f.readline().strip())\n",
    "        A = SortedList()  \n",
    "        A.add(0)\n",
    "        A.add(1000000000000000001)\n",
    "        for _ in range(Q):\n",
    "            # query = list(map(int, input().split()))\n",
    "            query = list(map(int, f.readline().split()))\n",
    "            if query[0] == 1:\n",
    "                A.add(query[1])\n",
    "            elif query[0] == 2:\n",
    "                print(klargest(query[1],query[2]))\n",
    "            else:\n",
    "                print(ksmallest(query[1],query[2]))\n",
    "              "
   ]
  },
  {
   "cell_type": "code",
   "execution_count": 43,
   "id": "4cc042ef-4cf3-4473-8af7-af8f146a7528",
   "metadata": {},
   "outputs": [],
   "source": [
    "\"\"\"\n",
    "A solution with python array objects and bisect\n",
    "\"\"\"\n",
    "\n",
    "from bisect import bisect_left, bisect_right, insort_left \n",
    "from array import array\n",
    "\n",
    "def sequence_query(arr):\n",
    "  with open('input_stress.txt', 'r') as f:\n",
    "    Q = int(f.readline().strip())\n",
    "    # arr = []\n",
    "    # arr = array(\"i\", [])\n",
    "\n",
    "    queries = [list(map(int,f.readline().split())) for _ in range(Q)]\n",
    "    x_values = [queries[i][1] for i in range(Q)]\n",
    "    x_values = set(x_values)\n",
    "    x_values = sorted(list(x_values))\n",
    "    to = {}\n",
    "    fr = {}\n",
    "    for i in range(len(x_values)):\n",
    "      to[x_values[i]] = i\n",
    "      fr[i] = x_values[i]\n",
    "    for i in range(Q):\n",
    "      query = queries[i]\n",
    "      if query[0] == 1:\n",
    "        x_index = to[query[1]]\n",
    "        insort_left(arr, x_index) # nlogn\n",
    "      elif query[0] == 2:\n",
    "        x_index = to[query[1]]\n",
    "        j = bisect_right(arr,x_index)\n",
    "        k = query[2]\n",
    "        if k > j:\n",
    "          return -1\n",
    "          print(-1)\n",
    "        else:\n",
    "          return fr[arr[j-k]]\n",
    "          print(fr[arr[j-k]])\n",
    "      else:\n",
    "        x_index = to[query[1]]\n",
    "        j = bisect_left(arr,x_index)\n",
    "        k = query[2]\n",
    "        if k > len(arr) - j:\n",
    "          return -1\n",
    "          print(-1)\n",
    "        else:\n",
    "          return fr[arr[j+k-1]]\n",
    "          print(fr[arr[j+k-1]])"
   ]
  },
  {
   "cell_type": "code",
   "execution_count": 47,
   "id": "4fd9d26f-5f6a-43e4-8d83-133347281469",
   "metadata": {},
   "outputs": [
    {
     "name": "stdout",
     "output_type": "stream",
     "text": [
      "7.13 s ± 0 ns per loop (mean ± std. dev. of 1 run, 1 loop each)\n"
     ]
    }
   ],
   "source": [
    "%%timeit -r 1\n",
    "sequence_query(arr=[])"
   ]
  },
  {
   "cell_type": "code",
   "execution_count": 48,
   "id": "e2b0e079-3346-4f7b-9cca-9f971b86ae42",
   "metadata": {},
   "outputs": [
    {
     "name": "stdout",
     "output_type": "stream",
     "text": [
      "1.94 s ± 0 ns per loop (mean ± std. dev. of 1 run, 1 loop each)\n"
     ]
    }
   ],
   "source": [
    "%%timeit -r 1\n",
    "sequence_query(arr=array(\"i\",[]))"
   ]
  },
  {
   "cell_type": "code",
   "execution_count": 34,
   "id": "79948591-d629-4b1c-b4c6-ccf71bd4b9d9",
   "metadata": {},
   "outputs": [],
   "source": [
    "# create a dataset out of curiosity to compare array and list in python\n",
    "from random import randint\n",
    "data = [randint(1,100000) for _ in range(200000)]\n",
    "with open('input_stress.txt', 'w') as f:\n",
    "  f.write(str(len(data))+'\\n')\n",
    "  for d in data:\n",
    "    f.write(f\"1 {d}\\n\")"
   ]
  },
  {
   "cell_type": "code",
   "execution_count": 68,
   "id": "2b678d44-c57e-4e46-a502-acd61a81399a",
   "metadata": {},
   "outputs": [
    {
     "name": "stdout",
     "output_type": "stream",
     "text": [
      "20\n",
      "20\n",
      "30\n",
      "-1\n",
      "-1\n",
      "1\n",
      "array: [0, 1, 2, 0, 4, 1, 1, 0]\n"
     ]
    }
   ],
   "source": [
    "# Fenwick tree\n",
    "\n",
    "class FenwickTree:\n",
    "  def __init__(self, N):\n",
    "    self.sums = [0 for _ in range(N+1)]\n",
    "  \n",
    "  def update(self, i, delta):\n",
    "\n",
    "    while i < len(self.sums):\n",
    "      self.sums[i] += delta\n",
    "      i += i & (-i)\n",
    "      \n",
    "  def query(self, i):\n",
    "    res = 0\n",
    "    while i > 0:\n",
    "      res += self.sums[i]\n",
    "      i -= i & (-i)\n",
    "    return res\n",
    "  \n",
    "  def __repr__(self):\n",
    "    return f\"array: {self.sums}\"\n",
    "  \n",
    "with open('inputs/input.txt', 'r') as f:\n",
    "  Q = int(f.readline().strip())\n",
    "  arr = array(\"i\", [])\n",
    "\n",
    "  queries = [list(map(int,f.readline().split())) for _ in range(Q)]\n",
    "  x_values = [queries[i][1] for i in range(Q)]\n",
    "  x_values.append(0)\n",
    "  x_values = set(x_values)\n",
    "  x_values = sorted(list(x_values))\n",
    "  to = {}\n",
    "  fr = {}\n",
    "  for i, x in enumerate(x_values):\n",
    "    to[x] = i\n",
    "    fr[i] = x\n",
    "  bit = FenwickTree(len(x_values))\n",
    "  \n",
    "  for query in queries:\n",
    "    if query[0] == 1:\n",
    "      x_index = to[query[1]]\n",
    "      bit.update(x_index, 1)\n",
    "    elif query[0] == 2:\n",
    "      x, k = query[1:]\n",
    "      x_index = to[x]\n",
    "      fz = bit.query(x_index)\n",
    "      if fz < k:\n",
    "        print(-1)\n",
    "      else:\n",
    "        ok = 0\n",
    "        ng = x_index + 1\n",
    "        while ng-ok > 1:\n",
    "          m = (ok+ng)//2\n",
    "          if fz - bit.query(m-1) < k:\n",
    "            ng = m\n",
    "          else:\n",
    "            ok = m\n",
    "        print(fr[ok])\n",
    "    else:\n",
    "      x, k = query[1:]\n",
    "      x_index = to[x]\n",
    "      fz = bit.query(x_index)\n",
    "      if bit.query(len(x_values)) - fz < k:\n",
    "        print(-1)\n",
    "      else:\n",
    "        ok = len(x_values)\n",
    "        ng = x_index - 1\n",
    "        while ok - ng > 1:\n",
    "          m = (ok+ng)//2\n",
    "          if bit.query(m) - fz < k:\n",
    "            ng = m\n",
    "          else:\n",
    "            ok = m\n",
    "        print(fr[ok])\n",
    "  print(bit)\n",
    "  \n",
    "    "
   ]
  },
  {
   "cell_type": "code",
   "execution_count": null,
   "id": "c9d78093-9723-422f-b933-af3654a8f537",
   "metadata": {},
   "outputs": [],
   "source": []
  },
  {
   "cell_type": "code",
   "execution_count": 69,
   "id": "0ea3bd37-3367-4ecc-8744-8e342f1a29c0",
   "metadata": {},
   "outputs": [
    {
     "data": {
      "text/plain": [
       "4096"
      ]
     },
     "execution_count": 69,
     "metadata": {},
     "output_type": "execute_result"
    }
   ],
   "source": []
  },
  {
   "cell_type": "code",
   "execution_count": null,
   "id": "4b82451c-1909-4e37-a8b9-cbe3f2a09be4",
   "metadata": {},
   "outputs": [],
   "source": []
  }
 ],
 "metadata": {
  "kernelspec": {
   "display_name": "Python 3 (ipykernel)",
   "language": "python",
   "name": "python3"
  },
  "language_info": {
   "codemirror_mode": {
    "name": "ipython",
    "version": 3
   },
   "file_extension": ".py",
   "mimetype": "text/x-python",
   "name": "python",
   "nbconvert_exporter": "python",
   "pygments_lexer": "ipython3",
   "version": "3.10.2"
  }
 },
 "nbformat": 4,
 "nbformat_minor": 5
}
