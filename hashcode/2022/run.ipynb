{
 "cells": [
  {
   "cell_type": "code",
   "execution_count": 93,
   "id": "6efca27e-ee57-4aa5-b7b5-69b0003f0106",
   "metadata": {
    "collapsed": true,
    "jupyter": {
     "outputs_hidden": true
    }
   },
   "outputs": [],
   "source": [
    "import matplotlib.pyplot as pyplot\n",
    "import pandas as pd\n",
    "import sys\n",
    "import numpy as np\n",
    "from sortedcontainers import SortedList\n",
    "from collections import defaultdict\n",
    "from heapq import heappop, heappush, heapify\n",
    "%matplotlib inline"
   ]
  },
  {
   "cell_type": "code",
   "execution_count": 194,
   "id": "74f6a309-b6bc-4fad-8442-adc127588a68",
   "metadata": {
    "tags": []
   },
   "outputs": [],
   "source": [
    "class Contributor:\n",
    "    def __init__(self, name, num_skills):\n",
    "        self.name = name\n",
    "        self.num_skills = num_skills\n",
    "        self.skills = {}\n",
    "        \n",
    "    def __repr__(self):\n",
    "        return f\"contributor name: {self.name}, number of skills: {self.num_skills}, skills: {self.skills}\\n\"\n",
    "\n",
    "class Skill:\n",
    "    def __init__(self, name, skill_level):\n",
    "        self.name = name\n",
    "        self.skill_level = skill_level\n",
    "        \n",
    "    def __repr__(self):\n",
    "        return f\"(skill name: {self.name}, skill level: {self.skill_level})\"\n",
    "    \n",
    "class Project:\n",
    "    def __init__(self, name, duration, score, best_day, num_roles):\n",
    "        self.name = name\n",
    "        self.duration = duration\n",
    "        self.score = score\n",
    "        self.best_day = best_day\n",
    "        self.num_roles = num_roles\n",
    "        self.max_skill_level = 0\n",
    "        self.skills = []\n",
    "        \n",
    "    def __repr__(self):\n",
    "        return f\"project name: {self.name}, number of skills: {self.num_roles}, duration: {self.duration}, score: {self.score}, best_day: {self.best_day}, skills: {self.skills}\\n\"\n",
    "\n",
    "class AssignedProject:\n",
    "    def __init__(self, project_name, contributors, learnings):\n",
    "        self.project_name = project_name\n",
    "        self.contributors = contributors\n",
    "        self.learnings = learnings\n",
    "        \n",
    "    def __lt__(self, other):\n",
    "        return False\n",
    "        \n",
    "    def __repr__(self):\n",
    "        return f\"project name: {self.project_name}, contributors: {self.contributors}, learnings: {self.learnings}\"\n",
    "    \n",
    "class Solver:\n",
    "    def __init__(self, dataset_name):\n",
    "        self.dataset_name = dataset_name\n",
    "    def data_loader(self):\n",
    "        with open(f'inputs/{self.dataset_name}.in') as f:\n",
    "            self.num_contributors, self.num_projects = map(int, f.readline().split())\n",
    "            # print(self.num_contributors, self.num_projects)\n",
    "            self.contributors = {}\n",
    "            for _ in range(self.num_contributors):\n",
    "                contributor_name, num_skills = f.readline().split()\n",
    "                num_skills = int(num_skills)\n",
    "                self.contributors[contributor_name] = Contributor(contributor_name, num_skills)\n",
    "                for _ in range(num_skills):\n",
    "                    skill_name, skill_level = f.readline().split()\n",
    "                    skill_level = int(skill_level)\n",
    "                    self.contributors[contributor_name].skills[skill_name] = Skill(skill_name, skill_level)\n",
    "            self.projects = {}\n",
    "            for _ in range(self.num_projects):\n",
    "                project_name, duration, score, best_day, num_roles = f.readline().split()\n",
    "                duration = int(duration)\n",
    "                score = int(score)\n",
    "                best_day = int(best_day)\n",
    "                num_roles = int(num_roles)\n",
    "                self.projects[project_name] = Project(project_name, duration, score, best_day, num_roles)\n",
    "                for _ in range(num_roles):\n",
    "                    skill_name, skill_level = f.readline().split()\n",
    "                    skill_level = int(skill_level)\n",
    "                    self.projects[project_name].max_skill_level = max(self.projects[project_name].max_skill_level, skill_level)\n",
    "                    self.projects[project_name].skills.append(Skill(skill_name, skill_level))\n",
    "            \n",
    "    def run(self):\n",
    "        self.data_loader()\n",
    "        ordered_projects = []\n",
    "        self.skills_contributors = {}\n",
    "        self.contributor_skill_levels = defaultdict(dict)\n",
    "        unique_skills = set()\n",
    "        for contrib in self.contributors.values():\n",
    "            for skill in contrib.skills.values():\n",
    "                unique_skills.add(skill.name)\n",
    "        \n",
    "        # PREPROCESSING THE CONTRIBUTORS SKILL LEVELS IN ALL SKILLS AND SKILLS WITH CONTRIBUTORS\n",
    "        for skill in unique_skills:\n",
    "            self.skills_contributors[skill] = SortedList(key=lambda x: x[0])\n",
    "            for contrib in self.contributors.values():\n",
    "                if skill in contrib.skills:\n",
    "                    self.skills_contributors[skill].add((contrib.skills[skill].skill_level, contrib.name))\n",
    "                    self.contributor_skill_levels[contrib.name][skill] = contrib.skills[skill].skill_level\n",
    "                else:\n",
    "                    self.skills_contributors[skill].add((0, contrib.name))\n",
    "                    self.contributor_skill_levels[contrib.name][skill] = 0\n",
    "        \n",
    "        for proj in self.projects.values():\n",
    "            # skip skills that can't be completed unless you level up many times\n",
    "            if proj.max_skill_level > 10: continue\n",
    "            ordered_projects.append(proj)\n",
    "        \n",
    "        ordered_projects.sort(key=lambda x: (x.best_day, -x.score))\n",
    "        \n",
    "        # TODO: queue up the people that are available with the current \n",
    "        # For each role in a project, find the best person available with the appropriate skill and skill level\n",
    "        # how to query the available contributors\n",
    "        \n",
    "        day = 0\n",
    "        min_heap = []\n",
    "        completed_projects = set()\n",
    "        total_score = 0\n",
    "        assigned_projects = []\n",
    "        while len(completed_projects) < self.num_projects:\n",
    "            # print(f\"heap datastructure with assigned projects: {min_heap}\")\n",
    "            if min_heap:\n",
    "                day = min_heap[0][0]\n",
    "            while min_heap and min_heap[0][0] == day:\n",
    "                _, completed_project = heappop(min_heap)\n",
    "\n",
    "                # UPDATE THE LEARNINGS\n",
    "                for contributor_name, skill_name in completed_project.learnings:\n",
    "                    self.contributor_skill_levels[contributor_name][skill_name] += 1\n",
    "\n",
    "\n",
    "                # ADD CONTRIBUTORS AS AVAILABLE\n",
    "                for contributor_name in completed_project.contributors:\n",
    "                    for skill_name in unique_skills:\n",
    "                        self.skills_contributors[skill_name].add((self.contributor_skill_levels[contributor_name][skill_name],contributor_name))\n",
    "\n",
    "            for proj in ordered_projects:\n",
    "                if proj.name in completed_projects: continue\n",
    "                assigned_contributors = []\n",
    "                learnings = []\n",
    "                can_assign = True\n",
    "                # print(f\"project skills: {proj.skills}\")\n",
    "                for role in proj.skills:\n",
    "                    skill_name, level = role.name, role.skill_level\n",
    "                    index = self.skills_contributors[skill_name].bisect_left((level, 0))\n",
    "                    if index == len(self.skills_contributors[skill_name]): \n",
    "                        can_assign = False\n",
    "                        break\n",
    "                    len_before = len(assigned_contributors)\n",
    "                    for i in range(index, len(self.skills_contributors[skill_name])):\n",
    "                        contributor_name = self.skills_contributors[skill_name][i][1]\n",
    "                        if contributor_name in assigned_contributors: continue\n",
    "                        assigned_contributors.append(contributor_name)\n",
    "                        # print(contributor_name, level, self.contributor_skill_levels[contributor_name][skill_name])\n",
    "                        if level == self.contributor_skill_levels[contributor_name][skill_name]:\n",
    "                            learnings.append((contributor_name, skill_name))\n",
    "                        break\n",
    "                    len_after = len(assigned_contributors)\n",
    "                    if len_before == len_after:\n",
    "                        can_assign = False\n",
    "                        break\n",
    "\n",
    "                if not can_assign: continue\n",
    "\n",
    "                # ASSIGN PROJECT\n",
    "                assigned_project = AssignedProject(proj.name, assigned_contributors, learnings)\n",
    "                # print(f\"project that can be assigned: {assigned_project}\")\n",
    "                \n",
    "                # MIN HEAP DATASTRUCTURE FOR ASSIGNED PROJECT\n",
    "                heappush(min_heap, (day + proj.duration, assigned_project))\n",
    "                \n",
    "                # SIMULATING THE PROJECT SCORE \n",
    "                project_score = max(0, proj.score - (max(0,(day + proj.duration)-proj.best_day)))\n",
    "                total_score += project_score\n",
    "                \n",
    "                # print(len(assigned_contributors), len(unique_skills))\n",
    "                \n",
    "                # REMOVE THE CONTRIBUTORS NO LONGER AVAILABLE\n",
    "                for contrib in assigned_contributors:\n",
    "                    for skill in unique_skills:\n",
    "                        contrib_skill_level = self.contributor_skill_levels[contrib][skill]\n",
    "                        self.skills_contributors[skill].remove((contrib_skill_level, contrib))\n",
    "                \n",
    "                # print(f\"After removing contributors working on the project: {self.skills_contributors}\")\n",
    "                \n",
    "                # UPDATE THE COMPLETED PROJECTS\n",
    "                completed_projects.add(proj.name)\n",
    "                assigned_projects.append(assigned_project)\n",
    "            # print(f\"heap datastructure with assigned projects: {min_heap}\")\n",
    "            # print(f\"progress: {len(completed_projects)}/{len(ordered_projects)}\")\n",
    "            \n",
    "            # EXITS WHEN IT NO LONGER HAS PROJECTS THAT CAN BE ASSIGNED\n",
    "            if not min_heap:\n",
    "                break\n",
    "        # print(f\"score estimation: {total_score}\")\n",
    "\n",
    "        # WRITE TO OUTPUT FILE\n",
    "        with open(f\"outputs/{self.dataset_name}.out\", \"w\") as f:\n",
    "            f.write(str(len(assigned_projects)) + '\\n')\n",
    "            for proj in assigned_projects:\n",
    "                f.write(proj.project_name + '\\n')\n",
    "                f.write(\" \".join(proj.contributors) + '\\n')\n",
    "        \n",
    "        # RETURNS THE TOTAL SCORE\n",
    "        return total_score\n"
   ]
  },
  {
   "cell_type": "code",
   "execution_count": 207,
   "id": "093a13b2-fe94-4221-8f42-543bb483075c",
   "metadata": {
    "tags": []
   },
   "outputs": [
    {
     "name": "stdout",
     "output_type": "stream",
     "text": [
      "223 ms ± 35.1 ms per loop (mean ± std. dev. of 7 runs, 1 loop each)\n"
     ]
    }
   ],
   "source": [
    "%%timeit\n",
    "Solver('b').run()"
   ]
  },
  {
   "cell_type": "code",
   "execution_count": null,
   "id": "fac7dabd-004c-4150-9100-eb0debce334b",
   "metadata": {
    "collapsed": true,
    "jupyter": {
     "outputs_hidden": true
    }
   },
   "outputs": [],
   "source": [
    "\"\"\"\n",
    "solutions:\n",
    "\n",
    "1. schedule projects in order of ones that need to be completed first (sort in best_day), schedule to use contributors with skill level closest to the required for the role of each project, store when the contributor is available next, choose contributors with fewer skills\n",
    "\n",
    "if duration is close to the best day remove it\n",
    "\"\"\"\n"
   ]
  },
  {
   "cell_type": "code",
   "execution_count": null,
   "id": "971558aa-15ac-4b33-91e0-49b802925473",
   "metadata": {
    "collapsed": true,
    "jupyter": {
     "outputs_hidden": true
    }
   },
   "outputs": [],
   "source": []
  },
  {
   "cell_type": "code",
   "execution_count": null,
   "id": "714f3718-b62f-4cbe-a51d-fa16fb97762e",
   "metadata": {
    "collapsed": true,
    "jupyter": {
     "outputs_hidden": true
    }
   },
   "outputs": [],
   "source": []
  },
  {
   "cell_type": "code",
   "execution_count": 183,
   "id": "a5944ead-2225-414e-b445-89f6d8e5a207",
   "metadata": {
    "tags": []
   },
   "outputs": [],
   "source": [
    "# Get the upper_bound for the score for each dataset\n",
    "# assume that I complete all projects by the best day\n",
    "def upper_bound():\n",
    "    scores = {}\n",
    "    total_score = 0\n",
    "    total_actual_score = 0\n",
    "    for dataset in ['a','b','c','d','e','f']:\n",
    "        sol = Solver()\n",
    "        sol.data_loader(f\"{dataset}.in\")\n",
    "        actual_score = sol.run(dataset)\n",
    "        upper_bound_score = 0\n",
    "        for project in sol.projects.values():\n",
    "            upper_bound_score += project.score\n",
    "        print(f\"dataset: {dataset}, upper_bound_score: {upper_bound_score}, actual_score: {actual_score}, offset: {upper_bound_score - actual_score}\")\n",
    "        total_score += upper_bound_score\n",
    "        total_actual_score += actual_score\n",
    "    print(f\"total_socre upper_bound score: {total_score}, total actual score: {total_actual_score}, total offset: {total_score - total_actual_score}\")\n",
    "    \n",
    "\n",
    "# number of unique skills from each contributor\n",
    "def count_skills():\n",
    "    for dataset in ['a','b','c','d','e','f']:\n",
    "        sol = Solver()\n",
    "        sol.data_loader(f\"{dataset}.in\")\n",
    "        skills = set()\n",
    "        for contrib in sol.contributors.values():\n",
    "            for skill in contrib.skills:\n",
    "                skills.add(skill.name)\n",
    "        skills_project = set()\n",
    "        for proj in sol.projects.values():\n",
    "            for skill in proj.skills:\n",
    "                skills_project.add(skill.name)\n",
    "        print(f\"dataset: {dataset}, num_skills from contributors: {len(skills)}, num_skills from projects: {len(skills_project)}, num_contributors: {len(sol.contributors)}, num_projects: {len(sol.projects)}\")"
   ]
  },
  {
   "cell_type": "code",
   "execution_count": 184,
   "id": "02022b4b-2556-4956-803b-ba72cfcf6ee0",
   "metadata": {
    "tags": []
   },
   "outputs": [
    {
     "name": "stdout",
     "output_type": "stream",
     "text": [
      "dataset: a, upper_bound_score: 40, actual_score: 33, offset: 7\n",
      "dataset: b, upper_bound_score: 1239673, actual_score: 697786, offset: 541887\n",
      "dataset: c, upper_bound_score: 8036807, actual_score: 52314, offset: 7984493\n",
      "dataset: d, upper_bound_score: 3229412, actual_score: 133020, offset: 3096392\n",
      "dataset: e, upper_bound_score: 2774566, actual_score: 1606884, offset: 1167682\n"
     ]
    },
    {
     "ename": "KeyboardInterrupt",
     "evalue": "",
     "output_type": "error",
     "traceback": [
      "\u001b[1;31m---------------------------------------------------------------------------\u001b[0m",
      "\u001b[1;31mKeyboardInterrupt\u001b[0m                         Traceback (most recent call last)",
      "Input \u001b[1;32mIn [184]\u001b[0m, in \u001b[0;36m<module>\u001b[1;34m\u001b[0m\n\u001b[1;32m----> 1\u001b[0m \u001b[43mupper_bound\u001b[49m\u001b[43m(\u001b[49m\u001b[43m)\u001b[49m\n",
      "Input \u001b[1;32mIn [183]\u001b[0m, in \u001b[0;36mupper_bound\u001b[1;34m()\u001b[0m\n\u001b[0;32m      8\u001b[0m sol \u001b[38;5;241m=\u001b[39m Solver()\n\u001b[0;32m      9\u001b[0m sol\u001b[38;5;241m.\u001b[39mdata_loader(\u001b[38;5;124mf\u001b[39m\u001b[38;5;124m\"\u001b[39m\u001b[38;5;132;01m{\u001b[39;00mdataset\u001b[38;5;132;01m}\u001b[39;00m\u001b[38;5;124m.in\u001b[39m\u001b[38;5;124m\"\u001b[39m)\n\u001b[1;32m---> 10\u001b[0m actual_score \u001b[38;5;241m=\u001b[39m \u001b[43msol\u001b[49m\u001b[38;5;241;43m.\u001b[39;49m\u001b[43mrun\u001b[49m\u001b[43m(\u001b[49m\u001b[43mdataset\u001b[49m\u001b[43m)\u001b[49m\n\u001b[0;32m     11\u001b[0m upper_bound_score \u001b[38;5;241m=\u001b[39m \u001b[38;5;241m0\u001b[39m\n\u001b[0;32m     12\u001b[0m \u001b[38;5;28;01mfor\u001b[39;00m project \u001b[38;5;129;01min\u001b[39;00m sol\u001b[38;5;241m.\u001b[39mprojects\u001b[38;5;241m.\u001b[39mvalues():\n",
      "Input \u001b[1;32mIn [182]\u001b[0m, in \u001b[0;36mSolver.run\u001b[1;34m(self, name)\u001b[0m\n\u001b[0;32m    137\u001b[0m assigned_contributors\u001b[38;5;241m.\u001b[39madd(contributor_name)\n\u001b[0;32m    138\u001b[0m \u001b[38;5;66;03m# print(contributor_name, level, self.contributor_skill_levels[contributor_name][skill_name])\u001b[39;00m\n\u001b[1;32m--> 139\u001b[0m \u001b[38;5;28;01mif\u001b[39;00m level \u001b[38;5;241m==\u001b[39m \u001b[38;5;28mself\u001b[39m\u001b[38;5;241m.\u001b[39mcontributor_skill_levels[contributor_name][skill_name]:\n\u001b[0;32m    140\u001b[0m     learnings\u001b[38;5;241m.\u001b[39mappend((contributor_name, skill_name))\n\u001b[0;32m    141\u001b[0m \u001b[38;5;28;01mbreak\u001b[39;00m\n",
      "\u001b[1;31mKeyboardInterrupt\u001b[0m: "
     ]
    }
   ],
   "source": [
    "upper_bound()"
   ]
  },
  {
   "cell_type": "code",
   "execution_count": 62,
   "id": "a5650ace-60b0-41b4-8ee5-92569a55ca8f",
   "metadata": {
    "collapsed": true,
    "jupyter": {
     "outputs_hidden": true
    },
    "tags": []
   },
   "outputs": [
    {
     "name": "stdout",
     "output_type": "stream",
     "text": [
      "dataset: a, num_skills from contributors: 4, num_skills from projects: 3, num_contributors: 3, num_projects: 3\n",
      "dataset: b, num_skills from contributors: 36, num_skills from projects: 36, num_contributors: 50, num_projects: 100\n",
      "dataset: c, num_skills from contributors: 200, num_skills from projects: 200, num_contributors: 1500, num_projects: 1000\n",
      "dataset: d, num_skills from contributors: 188, num_skills from projects: 188, num_contributors: 500, num_projects: 1000\n",
      "dataset: e, num_skills from contributors: 800, num_skills from projects: 800, num_contributors: 800, num_projects: 10000\n",
      "dataset: f, num_skills from contributors: 500, num_skills from projects: 500, num_contributors: 1000, num_projects: 19413\n"
     ]
    }
   ],
   "source": [
    "count_skills()"
   ]
  },
  {
   "cell_type": "code",
   "execution_count": null,
   "id": "857b5cf6-4f64-47ee-83ed-2b28e3940351",
   "metadata": {
    "collapsed": true,
    "jupyter": {
     "outputs_hidden": true
    },
    "tags": []
   },
   "outputs": [],
   "source": [
    "# TODO: Fix bug in code, it appears that I am getting WA"
   ]
  },
  {
   "cell_type": "code",
   "execution_count": null,
   "id": "42adc339-6d5f-4691-b4a8-36f137b87b79",
   "metadata": {
    "collapsed": true,
    "jupyter": {
     "outputs_hidden": true
    }
   },
   "outputs": [],
   "source": []
  }
 ],
 "metadata": {
  "kernelspec": {
   "display_name": "Python 3 (ipykernel)",
   "language": "python",
   "name": "python3"
  },
  "language_info": {
   "codemirror_mode": {
    "name": "ipython",
    "version": 3
   },
   "file_extension": ".py",
   "mimetype": "text/x-python",
   "name": "python",
   "nbconvert_exporter": "python",
   "pygments_lexer": "ipython3",
   "version": "3.10.2"
  }
 },
 "nbformat": 4,
 "nbformat_minor": 5
}
