{
 "cells": [
  {
   "cell_type": "markdown",
   "id": "2504f1bd-ac12-4458-90c5-510386510080",
   "metadata": {},
   "source": [
    "# Testing"
   ]
  },
  {
   "cell_type": "code",
   "execution_count": 15,
   "id": "17f3008d-c67b-49c7-a0d7-47ad1ebbe0b3",
   "metadata": {},
   "outputs": [],
   "source": [
    "IMP = \"Impossible\"\n",
    "BLU = \"Blue wins\"\n",
    "RED = \"Red wins\"\n",
    "NON = \"Nobody wins\"\n",
    "\n",
    "def game_status(board_size, board):\n",
    "  # TODO: implement this method to determine the status of the game board\n",
    "  count_blue, count_red = sum(row.count('B') for row in board), sum(row.count('R') for row in board)\n",
    "  if abs(count_blue-count_red)>1: return IMP\n",
    "  cols = [[] for _ in range(board_size)]\n",
    "  for row in board:\n",
    "    for c, cell in enumerate(row):\n",
    "      cols[c].append(cell)\n",
    "  # count number of complete crossings, horizontal for blue, vertical for red\n",
    "  count_blue_crossings, count_red_crossings = sum(1 for row in board if row.count('B')==board_size), sum(1 for col in cols if col.count('R')==board_size)\n",
    "  if count_blue_crossings+count_red_crossings > 1 or (count_blue_crossings==1 and count_red>count_blue) or (count_red_crossings==1 and count_blue>count_red): return IMP\n",
    "  if count_blue_crossings==1: return BLU\n",
    "  if count_red_crossings==1: return RED\n",
    "  return NON\n",
    "\n",
    "def main():\n",
    "  test_cases = 1\n",
    "  for test_case in range(1, test_cases + 1, 1):\n",
    "    board_size = 4\n",
    "    board = []\n",
    "    b = [\"BR..\",\"BBBB\",\"RRRR\",\"...R\"]\n",
    "    for row in b:\n",
    "      board.append(list(row))\n",
    "    print(board)\n",
    "    ans = game_status(board_size, board)\n",
    "\n",
    "    print(\"Case #{}: {}\".format(test_case, ans))"
   ]
  },
  {
   "cell_type": "code",
   "execution_count": 16,
   "id": "823a3948-f289-4fed-8db2-475986530f09",
   "metadata": {},
   "outputs": [
    {
     "name": "stdout",
     "output_type": "stream",
     "text": [
      "[['B', 'R', '.', '.'], ['B', 'B', 'B', 'B'], ['R', 'R', 'R', 'R'], ['.', '.', '.', 'R']]\n",
      "Case #1: Impossible\n"
     ]
    }
   ],
   "source": [
    "main()"
   ]
  },
  {
   "cell_type": "code",
   "execution_count": null,
   "id": "8b4b91ec-1160-4440-bafe-c87cfa892328",
   "metadata": {},
   "outputs": [],
   "source": [
    "\"\"\"\n",
    "The edge case that I ignored was the one where there is a winning state, but\n",
    "it is kind of complicated because there was already a winning move prior.  \n",
    "\"\"\""
   ]
  }
 ],
 "metadata": {
  "kernelspec": {
   "display_name": "Python 3 (ipykernel)",
   "language": "python",
   "name": "python3"
  },
  "language_info": {
   "codemirror_mode": {
    "name": "ipython",
    "version": 3
   },
   "file_extension": ".py",
   "mimetype": "text/x-python",
   "name": "python",
   "nbconvert_exporter": "python",
   "pygments_lexer": "ipython3",
   "version": "3.10.2"
  }
 },
 "nbformat": 4,
 "nbformat_minor": 5
}
