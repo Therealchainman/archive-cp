{
 "cells": [
  {
   "attachments": {},
   "cell_type": "markdown",
   "metadata": {},
   "source": [
    "# EXPLORATION OF SPARSE MATRIX"
   ]
  },
  {
   "attachments": {},
   "cell_type": "markdown",
   "metadata": {},
   "source": [
    "# IMPORTS"
   ]
  },
  {
   "cell_type": "code",
   "execution_count": 35,
   "metadata": {},
   "outputs": [],
   "source": [
    "import numpy as np\n",
    "from itertools import product\n",
    "from typing import *\n",
    "from scipy.sparse import csr_matrix, csc_matrix\n",
    "import scipy\n",
    "import pathlib"
   ]
  },
  {
   "attachments": {},
   "cell_type": "markdown",
   "metadata": {},
   "source": [
    "# CREATION OF MATRIX WITH NUMPY"
   ]
  },
  {
   "cell_type": "code",
   "execution_count": 1,
   "metadata": {},
   "outputs": [],
   "source": [
    "\"\"\"\n",
    "The create_matrix function generates a NumPy array (matrix) with n_rows rows and n_cols columns, and a specified number of non-zero elements (n_nonzero).\n",
    "\n",
    "It first initializes a matrix of all zeros using the np.zeros function with the specified number of rows and columns, and a data type of 32-bit integer (dtype = np.int32).\n",
    "\n",
    "It then enters a loop that generates n_nonzero random non-zero values in the matrix. In each iteration of the loop, it selects a random row and column index using the np.random.randint function, and assigns a random integer between 1 and 1000 (exclusive of 1000) to the corresponding element in the matrix.\n",
    "\n",
    "After generating the non-zero elements, it prints the number of non-zero elements in the matrix, and the total number of elements (i.e. the product of n_rows and n_cols) for informational purposes.\n",
    "\n",
    "Finally, it returns the generated matrix.\n",
    "\"\"\"\n",
    "\n",
    "def create_matrix(n_rows, n_cols, n_nonzero):\n",
    "    matrix = np.zeros((n_rows, n_cols), dtype = np.int32)\n",
    "    for i in range(n_nonzero):\n",
    "        row = np.random.randint(n_rows)\n",
    "        col = np.random.randint(n_cols)\n",
    "        matrix[row, col] = np.random.randint(1, 1_000)\n",
    "    print(f\"{np.count_nonzero(matrix):,}\")\n",
    "    print(f\"{n_rows*n_cols:,}\")\n",
    "    return matrix"
   ]
  },
  {
   "attachments": {},
   "cell_type": "markdown",
   "metadata": {},
   "source": [
    "# MATRIX MULTIPLICATION PYTHON IMPELEMTNATIONS"
   ]
  },
  {
   "cell_type": "code",
   "execution_count": 29,
   "metadata": {},
   "outputs": [],
   "source": [
    "\"\"\"\n",
    "basic matrix multiplication following matrix multiplication formula\n",
    "res[i][j] = sum(mat1[i][k] * mat2[k][j]) where k in is the number of columns for mat1, and number of rows for mat2\n",
    "\"\"\"\n",
    "class Solution1:\n",
    "    def multiply(self, mat1: List[List[int]], mat2: List[List[int]]) -> List[List[int]]:\n",
    "        m, n, k = len(mat1), len(mat2[0]), len(mat2)\n",
    "        M = [[0]*n for _ in range(m)]\n",
    "        for i in range(m):\n",
    "            for j in range(n):\n",
    "                M[i][j] = sum(mat1[i][ii]*mat2[ii][j] for ii in range(k))\n",
    "        return M"
   ]
  },
  {
   "cell_type": "code",
   "execution_count": 30,
   "metadata": {},
   "outputs": [],
   "source": [
    "\"\"\"\n",
    "matrix multiplication that skips 0s\n",
    "\"\"\"\n",
    "class Solution2:\n",
    "    def multiply(self, mat1: List[List[int]], mat2: List[List[int]]) -> List[List[int]]:\n",
    "        m, n, k = len(mat1), len(mat2[0]), len(mat2)\n",
    "        M = [[0]*n for _ in range(m)]\n",
    "        for i in range(m):\n",
    "            for ii in range(k):\n",
    "                if mat1[i][ii] == 0: continue\n",
    "                for j in range(n):\n",
    "                    M[i][j] += mat1[i][ii]*mat2[ii][j]\n",
    "        return M"
   ]
  },
  {
   "cell_type": "code",
   "execution_count": 31,
   "metadata": {},
   "outputs": [],
   "source": [
    "\"\"\"\n",
    "This code defines two classes, CompressedSparseRowMatrix and CompressedSparseColumnMatrix, that represent a matrix in compressed sparse row (CSR) and compressed sparse column (CSC) formats, respectively.\n",
    "\n",
    "Both classes take a two-dimensional list (matrix) as input to their constructors. The classes then store the non-zero values of the matrix in a list (values) and their corresponding row and column indices in separate lists (row_indices for CSR and col_indices for CSC).\n",
    "\n",
    "The Solution3 class defines a multiply method that takes two matrices (mat1 and mat2) as input and returns their matrix product in the form of a two-dimensional list. The method first initializes the dimensions of the matrices and creates objects of the CompressedSparseRowMatrix and CompressedSparseColumnMatrix classes for the left and right matrices, respectively.\n",
    "\n",
    "It then initializes the result matrix (res) as a two-dimensional list of zeros with dimensions R by C. The method then loops over each row and column index of the result matrix using the product function from the itertools module.\n",
    "\n",
    "For each element in the result matrix, it performs a sparse matrix multiplication by iterating over the non-zero elements in the corresponding row of the left matrix and the non-zero elements in the corresponding column of the right matrix. It does this by using the row and column index information stored in the CSR and CSC formats.\n",
    "\n",
    "For each non-zero element in the left and right matrices with matching row and column indices, it multiplies the values and adds the result to the corresponding element in the result matrix.\n",
    "\n",
    "Finally, the method returns the result matrix.\n",
    "\"\"\"\n",
    "class CompressedSparseRowMatrix:\n",
    "    def __init__(self, matrix):\n",
    "        R, C = len(matrix), len(matrix[0])\n",
    "        self.values, self.col_indices, self.row_indices = [], [], [0]\n",
    "        for r in range(R):\n",
    "            for c in range(C):\n",
    "                if matrix[r][c] == 0: continue\n",
    "                self.values.append(matrix[r][c])\n",
    "                self.col_indices.append(c)\n",
    "            self.row_indices.append(len(self.values))\n",
    "\n",
    "class CompressedSparseColumnMatrix:\n",
    "    def __init__(self, matrix):\n",
    "        R, C = len(matrix), len(matrix[0])\n",
    "        self.values, self.col_indices, self.row_indices = [], [0], []\n",
    "        for c in range(C):\n",
    "            for r in range(R):\n",
    "                if matrix[r][c] == 0: continue\n",
    "                self.values.append(matrix[r][c])\n",
    "                self.row_indices.append(r)\n",
    "            self.col_indices.append(len(self.values))\n",
    "\n",
    "class Solution3:\n",
    "    def multiply(self, mat1: List[List[int]], mat2: List[List[int]]) -> List[List[int]]:\n",
    "        R, M, C = len(mat1), len(mat1[0]), len(mat2[0])\n",
    "        left_matrix, right_matrix = CompressedSparseRowMatrix(mat1), CompressedSparseColumnMatrix(mat2)\n",
    "        res = [[0]*C for _ in range(R)]\n",
    "        for r, c in product(range(R), range(C)):\n",
    "            left_col_ptr = left_matrix.row_indices[r]\n",
    "            left_col_end = left_matrix.row_indices[r + 1]\n",
    "            right_row_ptr = right_matrix.col_indices[c]\n",
    "            right_row_end = right_matrix.col_indices[c + 1]\n",
    "            while left_col_ptr < left_col_end and right_row_ptr < right_row_end:\n",
    "                left_col_index = left_matrix.col_indices[left_col_ptr]\n",
    "                right_row_index = right_matrix.row_indices[right_row_ptr]\n",
    "                if left_col_index < right_row_index:\n",
    "                    left_col_ptr += 1\n",
    "                elif left_col_index > right_row_index:\n",
    "                    right_row_ptr += 1\n",
    "                else:\n",
    "                    res[r][c] += left_matrix.values[left_col_ptr]*right_matrix.values[right_row_ptr]\n",
    "                    left_col_ptr += 1\n",
    "                    right_row_ptr += 1\n",
    "        return res"
   ]
  },
  {
   "cell_type": "code",
   "execution_count": 46,
   "metadata": {},
   "outputs": [
    {
     "name": "stdout",
     "output_type": "stream",
     "text": [
      "95,202\n",
      "1,000,000\n",
      "999\n",
      "1,000,000\n"
     ]
    }
   ],
   "source": [
    "n_rows = n_cols = 1_000\n",
    "# the right matrix is much more sparse than the left matrix\n",
    "mat1 = create_matrix(n_rows, n_cols, 100*n_rows).tolist()\n",
    "mat2 = create_matrix(n_rows, n_cols, n_rows).tolist()"
   ]
  },
  {
   "cell_type": "code",
   "execution_count": null,
   "metadata": {},
   "outputs": [],
   "source": [
    "n_rows = n_cols = 1_000\n",
    "# balance sparsity\n",
    "mat1 = create_matrix(n_rows, n_cols, 5*n_rows).tolist()\n",
    "mat2 = create_matrix(n_rows, n_cols, 5*n_rows).tolist()"
   ]
  },
  {
   "cell_type": "code",
   "execution_count": null,
   "metadata": {},
   "outputs": [],
   "source": [
    "\"\"\"\n",
    "time is good for both implementation 2 and 3, sometimes one is better than other\n",
    "\"\"\""
   ]
  },
  {
   "cell_type": "code",
   "execution_count": 37,
   "metadata": {},
   "outputs": [
    {
     "ename": "KeyboardInterrupt",
     "evalue": "",
     "output_type": "error",
     "traceback": [
      "\u001b[0;31m---------------------------------------------------------------------------\u001b[0m",
      "\u001b[0;31mKeyboardInterrupt\u001b[0m                         Traceback (most recent call last)",
      "File \u001b[0;32m<timed exec>:1\u001b[0m, in \u001b[0;36m<module>\u001b[0;34m\u001b[0m\n",
      "\u001b[1;32m/home/therealchainman/cp/archive-cp/notebooks/march_2023.ipynb Cell 6\u001b[0m in \u001b[0;36mSolution1.multiply\u001b[0;34m(self, mat1, mat2)\u001b[0m\n\u001b[1;32m      <a href='vscode-notebook-cell:/home/therealchainman/cp/archive-cp/notebooks/march_2023.ipynb#X15sZmlsZQ%3D%3D?line=4'>5</a>\u001b[0m \u001b[39mfor\u001b[39;00m i \u001b[39min\u001b[39;00m \u001b[39mrange\u001b[39m(m):\n\u001b[1;32m      <a href='vscode-notebook-cell:/home/therealchainman/cp/archive-cp/notebooks/march_2023.ipynb#X15sZmlsZQ%3D%3D?line=5'>6</a>\u001b[0m     \u001b[39mfor\u001b[39;00m j \u001b[39min\u001b[39;00m \u001b[39mrange\u001b[39m(n):\n\u001b[0;32m----> <a href='vscode-notebook-cell:/home/therealchainman/cp/archive-cp/notebooks/march_2023.ipynb#X15sZmlsZQ%3D%3D?line=6'>7</a>\u001b[0m         M[i][j] \u001b[39m=\u001b[39m \u001b[39msum\u001b[39;49m(mat1[i][ii]\u001b[39m*\u001b[39;49mmat2[ii][j] \u001b[39mfor\u001b[39;49;00m ii \u001b[39min\u001b[39;49;00m \u001b[39mrange\u001b[39;49m(k))\n\u001b[1;32m      <a href='vscode-notebook-cell:/home/therealchainman/cp/archive-cp/notebooks/march_2023.ipynb#X15sZmlsZQ%3D%3D?line=7'>8</a>\u001b[0m \u001b[39mreturn\u001b[39;00m M\n",
      "\u001b[1;32m/home/therealchainman/cp/archive-cp/notebooks/march_2023.ipynb Cell 6\u001b[0m in \u001b[0;36m<genexpr>\u001b[0;34m(.0)\u001b[0m\n\u001b[1;32m      <a href='vscode-notebook-cell:/home/therealchainman/cp/archive-cp/notebooks/march_2023.ipynb#X15sZmlsZQ%3D%3D?line=4'>5</a>\u001b[0m \u001b[39mfor\u001b[39;00m i \u001b[39min\u001b[39;00m \u001b[39mrange\u001b[39m(m):\n\u001b[1;32m      <a href='vscode-notebook-cell:/home/therealchainman/cp/archive-cp/notebooks/march_2023.ipynb#X15sZmlsZQ%3D%3D?line=5'>6</a>\u001b[0m     \u001b[39mfor\u001b[39;00m j \u001b[39min\u001b[39;00m \u001b[39mrange\u001b[39m(n):\n\u001b[0;32m----> <a href='vscode-notebook-cell:/home/therealchainman/cp/archive-cp/notebooks/march_2023.ipynb#X15sZmlsZQ%3D%3D?line=6'>7</a>\u001b[0m         M[i][j] \u001b[39m=\u001b[39m \u001b[39msum\u001b[39m(mat1[i][ii]\u001b[39m*\u001b[39mmat2[ii][j] \u001b[39mfor\u001b[39;00m ii \u001b[39min\u001b[39;00m \u001b[39mrange\u001b[39m(k))\n\u001b[1;32m      <a href='vscode-notebook-cell:/home/therealchainman/cp/archive-cp/notebooks/march_2023.ipynb#X15sZmlsZQ%3D%3D?line=7'>8</a>\u001b[0m \u001b[39mreturn\u001b[39;00m M\n",
      "\u001b[0;31mKeyboardInterrupt\u001b[0m: "
     ]
    }
   ],
   "source": [
    "%%time\n",
    "x = Solution1().multiply(mat1, mat2)"
   ]
  },
  {
   "cell_type": "code",
   "execution_count": 47,
   "metadata": {},
   "outputs": [
    {
     "name": "stdout",
     "output_type": "stream",
     "text": [
      "CPU times: user 12.3 s, sys: 0 ns, total: 12.3 s\n",
      "Wall time: 12.3 s\n"
     ]
    }
   ],
   "source": [
    "%%time\n",
    "x = Solution2().multiply(mat1, mat2)"
   ]
  },
  {
   "cell_type": "code",
   "execution_count": 48,
   "metadata": {},
   "outputs": [
    {
     "name": "stdout",
     "output_type": "stream",
     "text": [
      "CPU times: user 5.48 s, sys: 0 ns, total: 5.48 s\n",
      "Wall time: 5.51 s\n"
     ]
    }
   ],
   "source": [
    "%%time\n",
    "x = Solution3().multiply(mat1, mat2)"
   ]
  },
  {
   "attachments": {},
   "cell_type": "markdown",
   "metadata": {},
   "source": [
    "# USING THE SCIPY SPARSE MATRIX LIBRARY"
   ]
  },
  {
   "cell_type": "code",
   "execution_count": 5,
   "metadata": {},
   "outputs": [
    {
     "name": "stdout",
     "output_type": "stream",
     "text": [
      "49,988\n",
      "100,000,000\n",
      "49,986\n",
      "100,000,000\n"
     ]
    }
   ],
   "source": [
    "n_rows = n_cols = 1_000\n",
    "# balanced sparsity\n",
    "mat1 = create_matrix(n_rows, n_cols, 5*n_rows)\n",
    "mat2 = create_matrix(n_rows, n_cols, 5*n_rows)\n"
   ]
  },
  {
   "cell_type": "code",
   "execution_count": 65,
   "metadata": {},
   "outputs": [
    {
     "name": "stdout",
     "output_type": "stream",
     "text": [
      "29,532\n",
      "1,000,000\n",
      "1,998\n",
      "1,000,000\n"
     ]
    }
   ],
   "source": [
    "n_rows = n_cols = 1_000\n",
    "# left leaning sparsity\n",
    "mat1 = create_matrix(n_rows, n_cols, 30*n_rows)\n",
    "mat2 = create_matrix(n_rows, n_cols, 2*n_rows)"
   ]
  },
  {
   "cell_type": "code",
   "execution_count": 68,
   "metadata": {},
   "outputs": [
    {
     "name": "stdout",
     "output_type": "stream",
     "text": [
      "1,000\n",
      "1,000,000\n",
      "95,206\n",
      "1,000,000\n"
     ]
    }
   ],
   "source": [
    "n_rows = n_cols = 1_000\n",
    "# imbalanced sparsity\n",
    "mat1 = create_matrix(n_rows, n_cols, n_rows)\n",
    "mat2 = create_matrix(n_rows, n_cols, 100*n_rows)"
   ]
  },
  {
   "cell_type": "code",
   "execution_count": null,
   "metadata": {},
   "outputs": [],
   "source": [
    "\"\"\"\n",
    "compressed matrices are very fast for matrix multiplication, huge speed up.\n",
    "also they save thousands of memory, way lower MB of storage both in RAM and disk\n",
    "\"\"\""
   ]
  },
  {
   "cell_type": "code",
   "execution_count": 3,
   "metadata": {},
   "outputs": [],
   "source": [
    "compressed_mat1 = csr_matrix(mat1)\n",
    "compressed_mat2 = csc_matrix(mat2)"
   ]
  },
  {
   "cell_type": "code",
   "execution_count": 74,
   "metadata": {},
   "outputs": [
    {
     "name": "stdout",
     "output_type": "stream",
     "text": [
      "3.25 ms ± 66.6 µs per loop (mean ± std. dev. of 7 runs, 100 loops each)\n"
     ]
    }
   ],
   "source": [
    "%%timeit\n",
    "C = compressed_mat1.dot(compressed_mat2)"
   ]
  },
  {
   "cell_type": "code",
   "execution_count": 75,
   "metadata": {},
   "outputs": [],
   "source": [
    "%%timeit\n",
    "C = mat1.dot(mat2)"
   ]
  },
  {
   "cell_type": "code",
   "execution_count": 8,
   "metadata": {},
   "outputs": [
    {
     "data": {
      "text/plain": [
       "<10000x10000 sparse matrix of type '<class 'numpy.int32'>'\n",
       "\twith 49986 stored elements in Compressed Sparse Row format>"
      ]
     },
     "execution_count": 8,
     "metadata": {},
     "output_type": "execute_result"
    }
   ],
   "source": [
    "compressed_mat1"
   ]
  },
  {
   "cell_type": "code",
   "execution_count": 18,
   "metadata": {},
   "outputs": [],
   "source": [
    "scipy.sparse.save_npz('cmat1.npz', compressed_mat1)"
   ]
  },
  {
   "cell_type": "code",
   "execution_count": 19,
   "metadata": {},
   "outputs": [
    {
     "data": {
      "text/plain": [
       "<10000x10000 sparse matrix of type '<class 'numpy.int32'>'\n",
       "\twith 49986 stored elements in Compressed Sparse Row format>"
      ]
     },
     "execution_count": 19,
     "metadata": {},
     "output_type": "execute_result"
    }
   ],
   "source": [
    "scipy.sparse.load_npz('cmat1.npz')"
   ]
  },
  {
   "cell_type": "code",
   "execution_count": 13,
   "metadata": {},
   "outputs": [
    {
     "data": {
      "text/plain": [
       "array([[0, 0, 0, ..., 0, 0, 0],\n",
       "       [0, 0, 0, ..., 0, 0, 0],\n",
       "       [0, 0, 0, ..., 0, 0, 0],\n",
       "       ...,\n",
       "       [0, 0, 0, ..., 0, 0, 0],\n",
       "       [0, 0, 0, ..., 0, 0, 0],\n",
       "       [0, 0, 0, ..., 0, 0, 0]], dtype=int32)"
      ]
     },
     "execution_count": 13,
     "metadata": {},
     "output_type": "execute_result"
    }
   ],
   "source": [
    "mat1"
   ]
  },
  {
   "cell_type": "code",
   "execution_count": 17,
   "metadata": {},
   "outputs": [],
   "source": [
    "np.savez('mat1.npz', x = mat1)"
   ]
  },
  {
   "cell_type": "code",
   "execution_count": 20,
   "metadata": {},
   "outputs": [
    {
     "data": {
      "text/plain": [
       "array([[0, 0, 0, ..., 0, 0, 0],\n",
       "       [0, 0, 0, ..., 0, 0, 0],\n",
       "       [0, 0, 0, ..., 0, 0, 0],\n",
       "       ...,\n",
       "       [0, 0, 0, ..., 0, 0, 0],\n",
       "       [0, 0, 0, ..., 0, 0, 0],\n",
       "       [0, 0, 0, ..., 0, 0, 0]], dtype=int32)"
      ]
     },
     "execution_count": 20,
     "metadata": {},
     "output_type": "execute_result"
    }
   ],
   "source": [
    "np.load('mat1.npz')['x']"
   ]
  },
  {
   "cell_type": "code",
   "execution_count": 25,
   "metadata": {},
   "outputs": [
    {
     "name": "stdout",
     "output_type": "stream",
     "text": [
      "390,625.25 MB\n"
     ]
    }
   ],
   "source": [
    "sz1 = pathlib.Path('mat1.npz').stat().st_size\n",
    "print(f\"{sz1/1_024:,} MB\")"
   ]
  },
  {
   "cell_type": "code",
   "execution_count": 26,
   "metadata": {},
   "outputs": [
    {
     "name": "stdout",
     "output_type": "stream",
     "text": [
      "214.7197265625 MB\n"
     ]
    }
   ],
   "source": [
    "sz2 = pathlib.Path('cmat1.npz').stat().st_size\n",
    "print(f\"{sz2/1_024:,} MB\")"
   ]
  },
  {
   "cell_type": "code",
   "execution_count": 28,
   "metadata": {},
   "outputs": [
    {
     "data": {
      "text/plain": [
       "1819.2331755149564"
      ]
     },
     "execution_count": 28,
     "metadata": {},
     "output_type": "execute_result"
    }
   ],
   "source": [
    "sz1/sz2"
   ]
  },
  {
   "cell_type": "code",
   "execution_count": 31,
   "metadata": {},
   "outputs": [
    {
     "name": "stdout",
     "output_type": "stream",
     "text": [
      "390,625.0 MB\n"
     ]
    }
   ],
   "source": [
    "print(f\"{mat1.nbytes/1_024:,} MB\")"
   ]
  },
  {
   "cell_type": "code",
   "execution_count": 32,
   "metadata": {},
   "outputs": [
    {
     "name": "stdout",
     "output_type": "stream",
     "text": [
      "195.2578125 MB\n"
     ]
    }
   ],
   "source": [
    "print(f\"{compressed_mat1.data.nbytes/1_024:,} MB\")"
   ]
  },
  {
   "attachments": {},
   "cell_type": "markdown",
   "metadata": {},
   "source": [
    "# DEFININING THE SPARSITY OF A MATRIX"
   ]
  },
  {
   "cell_type": "code",
   "execution_count": 40,
   "metadata": {},
   "outputs": [],
   "source": [
    "def sparsity(mat):\n",
    "    return 1 - np.count_nonzero(mat)/mat.size"
   ]
  },
  {
   "cell_type": "code",
   "execution_count": 41,
   "metadata": {},
   "outputs": [
    {
     "data": {
      "text/plain": [
       "0.99950012"
      ]
     },
     "execution_count": 41,
     "metadata": {},
     "output_type": "execute_result"
    }
   ],
   "source": [
    "sparsity(mat1)"
   ]
  },
  {
   "cell_type": "code",
   "execution_count": null,
   "metadata": {},
   "outputs": [],
   "source": []
  }
 ],
 "metadata": {
  "kernelspec": {
   "display_name": "programming",
   "language": "python",
   "name": "python3"
  },
  "language_info": {
   "codemirror_mode": {
    "name": "ipython",
    "version": 3
   },
   "file_extension": ".py",
   "mimetype": "text/x-python",
   "name": "python",
   "nbconvert_exporter": "python",
   "pygments_lexer": "ipython3",
   "version": "3.10.0"
  },
  "orig_nbformat": 4
 },
 "nbformat": 4,
 "nbformat_minor": 2
}
