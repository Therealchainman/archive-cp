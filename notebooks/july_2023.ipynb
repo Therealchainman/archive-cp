{
 "cells": [
  {
   "cell_type": "code",
   "execution_count": 1,
   "metadata": {},
   "outputs": [
    {
     "data": {
      "text/plain": [
       "65536"
      ]
     },
     "execution_count": 1,
     "metadata": {},
     "output_type": "execute_result"
    }
   ],
   "source": [
    "2**16"
   ]
  },
  {
   "cell_type": "code",
   "execution_count": 2,
   "metadata": {},
   "outputs": [
    {
     "name": "stdout",
     "output_type": "stream",
     "text": [
      "3,932,160\n"
     ]
    }
   ],
   "source": [
    "v = 60*2**16\n",
    "print(f\"{v:,}\")"
   ]
  },
  {
   "cell_type": "code",
   "execution_count": 3,
   "metadata": {},
   "outputs": [],
   "source": [
    "s = \"abc\""
   ]
  },
  {
   "cell_type": "code",
   "execution_count": 19,
   "metadata": {},
   "outputs": [
    {
     "name": "stdout",
     "output_type": "stream",
     "text": [
      "[3, 5]\n"
     ]
    }
   ],
   "source": []
  },
  {
   "cell_type": "code",
   "execution_count": 17,
   "metadata": {},
   "outputs": [
    {
     "data": {
      "text/plain": [
       "34710.0"
      ]
     },
     "execution_count": 17,
     "metadata": {},
     "output_type": "execute_result"
    }
   ],
   "source": [
    "69420 \n",
    "69420/2"
   ]
  },
  {
   "cell_type": "code",
   "execution_count": 18,
   "metadata": {},
   "outputs": [
    {
     "data": {
      "text/plain": [
       "11570.0"
      ]
     },
     "execution_count": 18,
     "metadata": {},
     "output_type": "execute_result"
    }
   ],
   "source": [
    "34710/3"
   ]
  },
  {
   "cell_type": "code",
   "execution_count": 10,
   "metadata": {},
   "outputs": [
    {
     "name": "stdout",
     "output_type": "stream",
     "text": [
      "75025\n",
      "[121393, 196418]\n",
      "left 1\n"
     ]
    }
   ],
   "source": [
    "dp1, dp2 = [1, 0], [0, 1]\n",
    "k = 15\n",
    "for i in range(k - 2):\n",
    "    dp1, dp2 = dp2, [dp2[0] + dp1[0], dp2[1] + dp1[1]]\n",
    "f = lambda a, b, c, x: c / a - b / a*x\n",
    "a, b, c = dp2[1], dp2[0], 88_890\n",
    "left, right = 0, 1_000_000_000\n",
    "while left < right:\n",
    "    mid = (left + right) >> 1\n",
    "    y = f(a, b, c, mid)\n",
    "    if y > mid:\n",
    "        left = mid + 1\n",
    "    else:\n",
    "        right = mid\n",
    "print('left', left)\n",
    "\n",
    "while f(a, b, c, left) > 0:\n",
    "    y = f(a, b, c, left)\n",
    "    print('x', left, 'y', y, 'mod', (c - b * left) % a)\n",
    "    left += 1"
   ]
  },
  {
   "cell_type": "code",
   "execution_count": 25,
   "metadata": {},
   "outputs": [],
   "source": [
    "# arr = set([0,3,6,8,11,14,16,17,19])\n",
    "# window = list(range(1, 21))\n",
    "# mx = max(window)\n",
    "# k = 1435\n",
    "# for idx in range(k):\n",
    "#     nwindow = []\n",
    "#     for i in range(20):\n",
    "#         if i in arr: continue\n",
    "#         nwindow.append(window[i])\n",
    "#     while len(nwindow) < 20:\n",
    "#         nwindow.append(mx + 1)\n",
    "#         mx += 1\n",
    "#     window = nwindow\n",
    "#     print('idx', idx, 'val', window[0])"
   ]
  },
  {
   "cell_type": "code",
   "execution_count": 32,
   "metadata": {},
   "outputs": [
    {
     "name": "stdout",
     "output_type": "stream",
     "text": [
      "theta1 0 theta2 0 angle 0\n",
      "theta1 0 theta2 30 angle 30\n",
      "theta1 0 theta2 60 angle 60\n",
      "theta1 0 theta2 90 angle 90\n",
      "theta1 0 theta2 120 angle 120\n",
      "theta1 0 theta2 150 angle 150\n",
      "theta1 0 theta2 180 angle 180\n",
      "theta1 0 theta2 210 angle 210\n",
      "theta1 0 theta2 240 angle 240\n",
      "theta1 0 theta2 270 angle 270\n",
      "theta1 0 theta2 300 angle 300\n",
      "theta1 0 theta2 330 angle 330\n",
      "theta1 30 theta2 0 angle 330\n",
      "theta1 30 theta2 30 angle 0\n",
      "theta1 30 theta2 60 angle 30\n",
      "theta1 30 theta2 90 angle 60\n",
      "theta1 30 theta2 120 angle 90\n",
      "theta1 30 theta2 150 angle 120\n",
      "theta1 30 theta2 180 angle 150\n",
      "theta1 30 theta2 210 angle 180\n",
      "theta1 30 theta2 240 angle 210\n",
      "theta1 30 theta2 270 angle 240\n",
      "theta1 30 theta2 300 angle 270\n",
      "theta1 30 theta2 330 angle 300\n",
      "theta1 60 theta2 0 angle 300\n",
      "theta1 60 theta2 30 angle 330\n",
      "theta1 60 theta2 60 angle 0\n",
      "theta1 60 theta2 90 angle 30\n",
      "theta1 60 theta2 120 angle 60\n",
      "theta1 60 theta2 150 angle 90\n",
      "theta1 60 theta2 180 angle 120\n",
      "theta1 60 theta2 210 angle 150\n",
      "theta1 60 theta2 240 angle 180\n",
      "theta1 60 theta2 270 angle 210\n",
      "theta1 60 theta2 300 angle 240\n",
      "theta1 60 theta2 330 angle 270\n",
      "theta1 90 theta2 0 angle 270\n",
      "theta1 90 theta2 30 angle 300\n",
      "theta1 90 theta2 60 angle 330\n",
      "theta1 90 theta2 90 angle 0\n",
      "theta1 90 theta2 120 angle 30\n",
      "theta1 90 theta2 150 angle 60\n",
      "theta1 90 theta2 180 angle 90\n",
      "theta1 90 theta2 210 angle 120\n",
      "theta1 90 theta2 240 angle 150\n",
      "theta1 90 theta2 270 angle 180\n",
      "theta1 90 theta2 300 angle 210\n",
      "theta1 90 theta2 330 angle 240\n",
      "theta1 120 theta2 0 angle 240\n",
      "theta1 120 theta2 30 angle 270\n",
      "theta1 120 theta2 60 angle 300\n",
      "theta1 120 theta2 90 angle 330\n",
      "theta1 120 theta2 120 angle 0\n",
      "theta1 120 theta2 150 angle 30\n",
      "theta1 120 theta2 180 angle 60\n",
      "theta1 120 theta2 210 angle 90\n",
      "theta1 120 theta2 240 angle 120\n",
      "theta1 120 theta2 270 angle 150\n",
      "theta1 120 theta2 300 angle 180\n",
      "theta1 120 theta2 330 angle 210\n",
      "theta1 150 theta2 0 angle 210\n",
      "theta1 150 theta2 30 angle 240\n",
      "theta1 150 theta2 60 angle 270\n",
      "theta1 150 theta2 90 angle 300\n",
      "theta1 150 theta2 120 angle 330\n",
      "theta1 150 theta2 150 angle 0\n",
      "theta1 150 theta2 180 angle 30\n",
      "theta1 150 theta2 210 angle 60\n",
      "theta1 150 theta2 240 angle 90\n",
      "theta1 150 theta2 270 angle 120\n",
      "theta1 150 theta2 300 angle 150\n",
      "theta1 150 theta2 330 angle 180\n",
      "theta1 180 theta2 0 angle 180\n",
      "theta1 180 theta2 30 angle 210\n",
      "theta1 180 theta2 60 angle 240\n",
      "theta1 180 theta2 90 angle 270\n",
      "theta1 180 theta2 120 angle 300\n",
      "theta1 180 theta2 150 angle 330\n",
      "theta1 180 theta2 180 angle 0\n",
      "theta1 180 theta2 210 angle 30\n",
      "theta1 180 theta2 240 angle 60\n",
      "theta1 180 theta2 270 angle 90\n",
      "theta1 180 theta2 300 angle 120\n",
      "theta1 180 theta2 330 angle 150\n",
      "theta1 210 theta2 0 angle 150\n",
      "theta1 210 theta2 30 angle 180\n",
      "theta1 210 theta2 60 angle 210\n",
      "theta1 210 theta2 90 angle 240\n",
      "theta1 210 theta2 120 angle 270\n",
      "theta1 210 theta2 150 angle 300\n",
      "theta1 210 theta2 180 angle 330\n",
      "theta1 210 theta2 210 angle 0\n",
      "theta1 210 theta2 240 angle 30\n",
      "theta1 210 theta2 270 angle 60\n",
      "theta1 210 theta2 300 angle 90\n",
      "theta1 210 theta2 330 angle 120\n",
      "theta1 240 theta2 0 angle 120\n",
      "theta1 240 theta2 30 angle 150\n",
      "theta1 240 theta2 60 angle 180\n",
      "theta1 240 theta2 90 angle 210\n",
      "theta1 240 theta2 120 angle 240\n",
      "theta1 240 theta2 150 angle 270\n",
      "theta1 240 theta2 180 angle 300\n",
      "theta1 240 theta2 210 angle 330\n",
      "theta1 240 theta2 240 angle 0\n",
      "theta1 240 theta2 270 angle 30\n",
      "theta1 240 theta2 300 angle 60\n",
      "theta1 240 theta2 330 angle 90\n",
      "theta1 270 theta2 0 angle 90\n",
      "theta1 270 theta2 30 angle 120\n",
      "theta1 270 theta2 60 angle 150\n",
      "theta1 270 theta2 90 angle 180\n",
      "theta1 270 theta2 120 angle 210\n",
      "theta1 270 theta2 150 angle 240\n",
      "theta1 270 theta2 180 angle 270\n",
      "theta1 270 theta2 210 angle 300\n",
      "theta1 270 theta2 240 angle 330\n",
      "theta1 270 theta2 270 angle 0\n",
      "theta1 270 theta2 300 angle 30\n",
      "theta1 270 theta2 330 angle 60\n",
      "theta1 300 theta2 0 angle 60\n",
      "theta1 300 theta2 30 angle 90\n",
      "theta1 300 theta2 60 angle 120\n",
      "theta1 300 theta2 90 angle 150\n",
      "theta1 300 theta2 120 angle 180\n",
      "theta1 300 theta2 150 angle 210\n",
      "theta1 300 theta2 180 angle 240\n",
      "theta1 300 theta2 210 angle 270\n",
      "theta1 300 theta2 240 angle 300\n",
      "theta1 300 theta2 270 angle 330\n",
      "theta1 300 theta2 300 angle 0\n",
      "theta1 300 theta2 330 angle 30\n",
      "theta1 330 theta2 0 angle 30\n",
      "theta1 330 theta2 30 angle 60\n",
      "theta1 330 theta2 60 angle 90\n",
      "theta1 330 theta2 90 angle 120\n",
      "theta1 330 theta2 120 angle 150\n",
      "theta1 330 theta2 150 angle 180\n",
      "theta1 330 theta2 180 angle 210\n",
      "theta1 330 theta2 210 angle 240\n",
      "theta1 330 theta2 240 angle 270\n",
      "theta1 330 theta2 270 angle 300\n",
      "theta1 330 theta2 300 angle 330\n",
      "theta1 330 theta2 330 angle 0\n"
     ]
    }
   ],
   "source": [
    "\n",
    "for theta1 in range(0, 360, 30):\n",
    "    for theta2 in range(0, 360, 30):\n",
    "        theta = (theta2 - theta1) % 360\n",
    "        print('theta1', theta1, 'theta2', theta2, 'angle', theta)\n"
   ]
  },
  {
   "cell_type": "code",
   "execution_count": 27,
   "metadata": {},
   "outputs": [
    {
     "data": {
      "text/plain": [
       "-360"
      ]
     },
     "execution_count": 27,
     "metadata": {},
     "output_type": "execute_result"
    }
   ],
   "source": [
    "F.array(\n",
    "    stf.ST_Astc.ST_Point(0.0, 0.0), stc.ST_Point(0.0, 1.0)\n",
    "    \n",
    ")\n",
    "F.array(\n",
    "    stf.ST_Azimuth(stc.ST_Point(0.0, 0.0), stc.ST_Point(0.0, 1.0)),\n",
    "    stf.ST_Azimuth(stc.ST_Point(0.0, 0.0), stc.ST_Point(1.0, 1.0)),\n",
    "    stf.ST_Azimuth(stc.ST_Point(0.0, 0.0), stc.ST_Point(1.0, 0.0)),\n",
    "    stf.ST_Azimuth(stc.ST_Point(0.0, 0.0), stc.ST_Point(1.0, -1.0)),\n",
    "    stf.ST_Azimuth(stc.ST_Point(0.0, 0.0), stc.ST_Point(0.0, -1.0)),\n",
    "    stf.ST_Azimuth(stc.ST_Point(0.0, 0.0), stc.ST_Point(-1.0, -1.0)),\n",
    "    stf.ST_Azimuth(stc.ST_Point(0.0, 0.0), stc.ST_Point(-1.0, 0.0)),\n",
    "    stf.ST_Azimuth(stc.ST_Point(0.0, 0.0), stc.ST_Point(-1.0, 1.0)))"
   ]
  },
  {
   "cell_type": "code",
   "execution_count": 1,
   "metadata": {},
   "outputs": [
    {
     "data": {
      "text/plain": [
       "1073741824"
      ]
     },
     "execution_count": 1,
     "metadata": {},
     "output_type": "execute_result"
    }
   ],
   "source": [
    "2**30"
   ]
  },
  {
   "cell_type": "code",
   "execution_count": 2,
   "metadata": {},
   "outputs": [
    {
     "name": "stdout",
     "output_type": "stream",
     "text": [
      "b1011\n"
     ]
    }
   ],
   "source": [
    "x = 10\n",
    "print(bin(~x)[2:])"
   ]
  },
  {
   "cell_type": "code",
   "execution_count": null,
   "metadata": {},
   "outputs": [],
   "source": []
  }
 ],
 "metadata": {
  "kernelspec": {
   "display_name": "programming",
   "language": "python",
   "name": "python3"
  },
  "language_info": {
   "codemirror_mode": {
    "name": "ipython",
    "version": 3
   },
   "file_extension": ".py",
   "mimetype": "text/x-python",
   "name": "python",
   "nbconvert_exporter": "python",
   "pygments_lexer": "ipython3",
   "version": "3.11.3"
  },
  "orig_nbformat": 4
 },
 "nbformat": 4,
 "nbformat_minor": 2
}
