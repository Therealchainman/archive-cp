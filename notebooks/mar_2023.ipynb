{
 "cells": [
  {
   "cell_type": "code",
   "execution_count": null,
   "metadata": {},
   "outputs": [],
   "source": [
    "import math\n",
    "arr = [10, 20, 3, 15, 1000, 60, 16]\n",
    "power_two_size = 4\n",
    "sparse_table = [[math.inf]*len(arr) for _ in range(power_two_size + 1)]\n",
    "for i in range(power_two_size + 1):\n",
    "    j = 0\n",
    "    while j + (1 << i) <= len(arr):\n",
    "        if i == 0:\n",
    "            sparse_table[i][j] = arr[j]\n",
    "        else:\n",
    "            sparse_table[i][j] = math.gcd(sparse_table[i - 1][j], sparse_table[i - 1][j + (1 << (i - 1))])\n",
    "        j += 1\n"
   ]
  },
  {
   "cell_type": "code",
   "execution_count": null,
   "metadata": {},
   "outputs": [],
   "source": [
    "# from manim import *\n",
    "\n",
    "# class PolygonInsidePolygon(Scene):\n",
    "#     def construct(self):\n",
    "#         # Outer polygon\n",
    "#         outer_polygon = Polygon(\n",
    "#             ORIGIN, 3 * RIGHT, 2 * RIGHT + 2 * UP, 2 * UP,\n",
    "#             stroke_width=2, stroke_color=YELLOW, fill_opacity=0.5, color=YELLOW\n",
    "#         )\n",
    "\n",
    "#         # Inner polygon\n",
    "#         inner_polygon = Polygon(\n",
    "#             ORIGIN, RIGHT, UP,\n",
    "#             stroke_width=2, stroke_color=BLUE, fill_opacity=0.5, color=BLUE\n",
    "#         )\n",
    "\n",
    "#         # Move the inner polygon to the center of the outer polygon\n",
    "#         inner_polygon.move_to(outer_polygon.get_center())\n",
    "\n",
    "#         # Add the polygons to a VGroup\n",
    "#         polygons = VGroup(outer_polygon, inner_polygon)\n",
    "\n",
    "#         self.play(Create(polygons))\n",
    "#         self.wait()"
   ]
  },
  {
   "cell_type": "code",
   "execution_count": null,
   "metadata": {},
   "outputs": [],
   "source": [
    "def prime_sieve(lim):\n",
    "    sieve,primes = [[] for _ in range(lim)], []\n",
    "    for integer in range(2,lim):\n",
    "        if not len(sieve[integer]):\n",
    "            primes.append(integer)\n",
    "            for possibly_divisible_integer in range(integer,lim,integer):\n",
    "                current_integer = possibly_divisible_integer\n",
    "                while not current_integer%integer:\n",
    "                    sieve[possibly_divisible_integer].append(integer)\n",
    "                    current_integer //= integer\n",
    "    return primes"
   ]
  },
  {
   "cell_type": "code",
   "execution_count": null,
   "metadata": {},
   "outputs": [],
   "source": [
    "print(len(prime_sieve(1_000_001)))"
   ]
  },
  {
   "cell_type": "code",
   "execution_count": 41,
   "metadata": {},
   "outputs": [],
   "source": [
    "a, x, m = 5, 1_000_000, 1_000_000\n",
    "start = False\n",
    "powers = []\n",
    "res = 0\n",
    "for i in range(x):\n",
    "    if not start and a**i > m:\n",
    "        start = True\n",
    "    p = pow(a, i, m)\n",
    "    if start:\n",
    "        powers.append(p)\n",
    "    res = (res + p)%m"
   ]
  },
  {
   "cell_type": "code",
   "execution_count": 42,
   "metadata": {},
   "outputs": [
    {
     "name": "stdout",
     "output_type": "stream",
     "text": [
      "[953125, 765625, 828125, 140625, 703125, 515625, 578125, 890625, 453125, 265625]\n"
     ]
    }
   ],
   "source": [
    "print(powers[:10])"
   ]
  },
  {
   "cell_type": "code",
   "execution_count": 43,
   "metadata": {},
   "outputs": [],
   "source": [
    "with open('../atcoder/pat.txt', 'w') as f:\n",
    "    f.write(' '.join(map(str, powers)))"
   ]
  },
  {
   "cell_type": "code",
   "execution_count": null,
   "metadata": {},
   "outputs": [],
   "source": [
    "    result = 1\n",
    "    base = 2\n",
    "    while base <= n:\n",
    "        exp = pow(base, min(n - base + 1, m), m)\n",
    "        result = (result * exp) % m\n",
    "        base = exp + 1\n",
    "    return result"
   ]
  },
  {
   "cell_type": "code",
   "execution_count": 44,
   "metadata": {},
   "outputs": [
    {
     "data": {
      "text/plain": [
       "256"
      ]
     },
     "execution_count": 44,
     "metadata": {},
     "output_type": "execute_result"
    }
   ],
   "source": [
    "16*16"
   ]
  },
  {
   "cell_type": "code",
   "execution_count": 45,
   "metadata": {},
   "outputs": [
    {
     "data": {
      "text/plain": [
       "65536"
      ]
     },
     "execution_count": 45,
     "metadata": {},
     "output_type": "execute_result"
    }
   ],
   "source": [
    "256*256"
   ]
  },
  {
   "cell_type": "code",
   "execution_count": 46,
   "metadata": {},
   "outputs": [
    {
     "data": {
      "text/plain": [
       "1048576"
      ]
     },
     "execution_count": 46,
     "metadata": {},
     "output_type": "execute_result"
    }
   ],
   "source": [
    "16*256*256"
   ]
  },
  {
   "cell_type": "code",
   "execution_count": 47,
   "metadata": {},
   "outputs": [
    {
     "data": {
      "text/plain": [
       "1048576"
      ]
     },
     "execution_count": 47,
     "metadata": {},
     "output_type": "execute_result"
    }
   ],
   "source": [
    "2**20"
   ]
  },
  {
   "cell_type": "code",
   "execution_count": 48,
   "metadata": {},
   "outputs": [
    {
     "data": {
      "text/plain": [
       "65536"
      ]
     },
     "execution_count": 48,
     "metadata": {},
     "output_type": "execute_result"
    }
   ],
   "source": [
    "2**16"
   ]
  },
  {
   "cell_type": "code",
   "execution_count": 50,
   "metadata": {},
   "outputs": [
    {
     "data": {
      "text/plain": [
       "40"
      ]
     },
     "execution_count": 50,
     "metadata": {},
     "output_type": "execute_result"
    }
   ],
   "source": [
    "len(bin(10**12)[2:])"
   ]
  },
  {
   "cell_type": "code",
   "execution_count": 51,
   "metadata": {},
   "outputs": [],
   "source": [
    "a, x, m = 5, 1_000_000, 1_000_000\n",
    "orig = [1]\n",
    "powers = [a % m]\n",
    "while len(orig) < 40:\n",
    "    orig.append(orig[-1] * (pow(a, 1 << (len(orig) - 1), m) + 1) % m)\n",
    "while len(powers) < 40:\n",
    "    powers.append(powers[-1] ** 2 % m)"
   ]
  },
  {
   "cell_type": "code",
   "execution_count": 53,
   "metadata": {},
   "outputs": [
    {
     "data": {
      "text/plain": [
       "[1,\n",
       " 6,\n",
       " 156,\n",
       " 97656,\n",
       " 972656,\n",
       " 722656,\n",
       " 222656,\n",
       " 222656,\n",
       " 222656,\n",
       " 222656,\n",
       " 222656,\n",
       " 222656,\n",
       " 222656,\n",
       " 222656,\n",
       " 222656,\n",
       " 222656,\n",
       " 222656,\n",
       " 222656,\n",
       " 222656,\n",
       " 222656,\n",
       " 222656,\n",
       " 222656,\n",
       " 222656,\n",
       " 222656,\n",
       " 222656,\n",
       " 222656,\n",
       " 222656,\n",
       " 222656,\n",
       " 222656,\n",
       " 222656,\n",
       " 222656,\n",
       " 222656,\n",
       " 222656,\n",
       " 222656,\n",
       " 222656,\n",
       " 222656,\n",
       " 222656,\n",
       " 222656,\n",
       " 222656,\n",
       " 222656]"
      ]
     },
     "execution_count": 53,
     "metadata": {},
     "output_type": "execute_result"
    }
   ],
   "source": [
    "orig"
   ]
  },
  {
   "cell_type": "code",
   "execution_count": null,
   "metadata": {},
   "outputs": [],
   "source": []
  }
 ],
 "metadata": {
  "kernelspec": {
   "display_name": "programming",
   "language": "python",
   "name": "python3"
  },
  "language_info": {
   "codemirror_mode": {
    "name": "ipython",
    "version": 3
   },
   "file_extension": ".py",
   "mimetype": "text/x-python",
   "name": "python",
   "nbconvert_exporter": "python",
   "pygments_lexer": "ipython3",
   "version": "3.10.0"
  },
  "orig_nbformat": 4,
  "vscode": {
   "interpreter": {
    "hash": "05a440cbc0a4d5663111a9b3b9ea59349399813ac6e64ad16052767f7ba4c947"
   }
  }
 },
 "nbformat": 4,
 "nbformat_minor": 2
}
