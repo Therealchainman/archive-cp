{
 "cells": [
  {
   "cell_type": "code",
   "execution_count": 1,
   "metadata": {},
   "outputs": [],
   "source": [
    "import math\n",
    "arr = [10, 20, 3, 15, 1000, 60, 16]\n",
    "power_two_size = 4\n",
    "sparse_table = [[math.inf]*len(arr) for _ in range(power_two_size + 1)]\n",
    "for i in range(power_two_size + 1):\n",
    "    j = 0\n",
    "    while j + (1 << i) <= len(arr):\n",
    "        if i == 0:\n",
    "            sparse_table[i][j] = arr[j]\n",
    "        else:\n",
    "            sparse_table[i][j] = math.gcd(sparse_table[i - 1][j], sparse_table[i - 1][j + (1 << (i - 1))])\n",
    "        j += 1\n"
   ]
  },
  {
   "cell_type": "code",
   "execution_count": 1,
   "metadata": {},
   "outputs": [
    {
     "ename": "ModuleNotFoundError",
     "evalue": "No module named 'manim'",
     "output_type": "error",
     "traceback": [
      "\u001b[0;31m---------------------------------------------------------------------------\u001b[0m",
      "\u001b[0;31mModuleNotFoundError\u001b[0m                       Traceback (most recent call last)",
      "\u001b[1;32m/home/therealchainman/cp/archive-cp/notebooks/mar_2023.ipynb Cell 2\u001b[0m in \u001b[0;36m<module>\u001b[0;34m\u001b[0m\n\u001b[0;32m----> <a href='vscode-notebook-cell:/home/therealchainman/cp/archive-cp/notebooks/mar_2023.ipynb#W2sZmlsZQ%3D%3D?line=0'>1</a>\u001b[0m \u001b[39mfrom\u001b[39;00m \u001b[39mmanim\u001b[39;00m \u001b[39mimport\u001b[39;00m \u001b[39m*\u001b[39m\n\u001b[1;32m      <a href='vscode-notebook-cell:/home/therealchainman/cp/archive-cp/notebooks/mar_2023.ipynb#W2sZmlsZQ%3D%3D?line=2'>3</a>\u001b[0m \u001b[39mclass\u001b[39;00m \u001b[39mPolygonInsidePolygon\u001b[39;00m(Scene):\n\u001b[1;32m      <a href='vscode-notebook-cell:/home/therealchainman/cp/archive-cp/notebooks/mar_2023.ipynb#W2sZmlsZQ%3D%3D?line=3'>4</a>\u001b[0m     \u001b[39mdef\u001b[39;00m \u001b[39mconstruct\u001b[39m(\u001b[39mself\u001b[39m):\n\u001b[1;32m      <a href='vscode-notebook-cell:/home/therealchainman/cp/archive-cp/notebooks/mar_2023.ipynb#W2sZmlsZQ%3D%3D?line=4'>5</a>\u001b[0m         \u001b[39m# Outer polygon\u001b[39;00m\n",
      "\u001b[0;31mModuleNotFoundError\u001b[0m: No module named 'manim'"
     ]
    }
   ],
   "source": [
    "# from manim import *\n",
    "\n",
    "# class PolygonInsidePolygon(Scene):\n",
    "#     def construct(self):\n",
    "#         # Outer polygon\n",
    "#         outer_polygon = Polygon(\n",
    "#             ORIGIN, 3 * RIGHT, 2 * RIGHT + 2 * UP, 2 * UP,\n",
    "#             stroke_width=2, stroke_color=YELLOW, fill_opacity=0.5, color=YELLOW\n",
    "#         )\n",
    "\n",
    "#         # Inner polygon\n",
    "#         inner_polygon = Polygon(\n",
    "#             ORIGIN, RIGHT, UP,\n",
    "#             stroke_width=2, stroke_color=BLUE, fill_opacity=0.5, color=BLUE\n",
    "#         )\n",
    "\n",
    "#         # Move the inner polygon to the center of the outer polygon\n",
    "#         inner_polygon.move_to(outer_polygon.get_center())\n",
    "\n",
    "#         # Add the polygons to a VGroup\n",
    "#         polygons = VGroup(outer_polygon, inner_polygon)\n",
    "\n",
    "#         self.play(Create(polygons))\n",
    "#         self.wait()"
   ]
  },
  {
   "cell_type": "code",
   "execution_count": 3,
   "metadata": {},
   "outputs": [],
   "source": [
    "def prime_sieve(lim):\n",
    "    sieve,primes = [[] for _ in range(lim)], []\n",
    "    for integer in range(2,lim):\n",
    "        if not len(sieve[integer]):\n",
    "            primes.append(integer)\n",
    "            for possibly_divisible_integer in range(integer,lim,integer):\n",
    "                current_integer = possibly_divisible_integer\n",
    "                while not current_integer%integer:\n",
    "                    sieve[possibly_divisible_integer].append(integer)\n",
    "                    current_integer //= integer\n",
    "    return primes"
   ]
  },
  {
   "cell_type": "code",
   "execution_count": 6,
   "metadata": {},
   "outputs": [
    {
     "name": "stdout",
     "output_type": "stream",
     "text": [
      "78498\n"
     ]
    }
   ],
   "source": [
    "print(len(prime_sieve(1_000_001)))"
   ]
  },
  {
   "cell_type": "code",
   "execution_count": null,
   "metadata": {},
   "outputs": [],
   "source": []
  },
  {
   "cell_type": "code",
   "execution_count": null,
   "metadata": {},
   "outputs": [],
   "source": []
  }
 ],
 "metadata": {
  "kernelspec": {
   "display_name": "programming",
   "language": "python",
   "name": "python3"
  },
  "language_info": {
   "codemirror_mode": {
    "name": "ipython",
    "version": 3
   },
   "file_extension": ".py",
   "mimetype": "text/x-python",
   "name": "python",
   "nbconvert_exporter": "python",
   "pygments_lexer": "ipython3",
   "version": "3.10.0"
  },
  "orig_nbformat": 4,
  "vscode": {
   "interpreter": {
    "hash": "05a440cbc0a4d5663111a9b3b9ea59349399813ac6e64ad16052767f7ba4c947"
   }
  }
 },
 "nbformat": 4,
 "nbformat_minor": 2
}
