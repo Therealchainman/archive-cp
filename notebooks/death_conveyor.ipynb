{
 "cells": [
  {
   "cell_type": "code",
   "execution_count": null,
   "metadata": {},
   "outputs": [],
   "source": [
    "\"\"\"\n",
    "Find the centroid of the polyhedron\n",
    "\n",
    "Know that one of the points is at (0, 0, 1)\n",
    "centroid is at (0, 0, 0)\n",
    "And another one will be in the xz plane. x >= 0\n",
    "(x, 0, z)\n",
    "Example:\n",
    "Tetrahedron\n",
    "\n",
    "Given the coordinates of each platonic solid from online\n",
    "Then perform rotation to get it into proper alignment, just need to find vertex nearest z -axis then perform rotation on that vertex and the rest of the vertex.\n",
    "\n",
    "angle formed from any adjacent vertex in platonic solid when centroid is at origin of coordinates\n",
    "\n",
    "need some more ideas, because if I can get two coordinates for two vertices, which I believe I can, \n",
    "how can I then get the coordinates for the rest of the vertices. \n",
    "\n",
    "I can't figure out what the axis of rotation would be\n",
    "I do know that all of the vertices that are adjacent have constant angle from the origin. \n",
    "\n",
    "\n",
    "\n",
    "https://www.mathsisfun.com/geometry/platonic-solids-why-five.html\n",
    "\n",
    "And the fact that they are regular polygons\n",
    "might be able to use the internal angles of the triangles, squares, pentagons\n",
    "\n",
    "Generate the rest of the vertex of platonic solid given two adjacent vertex on some edge, where the platonic solid centroid is at the origin of the 3d space. \n",
    "\n",
    "\n",
    "\"\"\""
   ]
  },
  {
   "cell_type": "code",
   "execution_count": null,
   "metadata": {},
   "outputs": [],
   "source": []
  },
  {
   "cell_type": "code",
   "execution_count": null,
   "metadata": {},
   "outputs": [],
   "source": []
  }
 ],
 "metadata": {
  "language_info": {
   "name": "python"
  }
 },
 "nbformat": 4,
 "nbformat_minor": 2
}
