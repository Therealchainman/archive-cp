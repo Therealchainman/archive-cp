{
 "cells": [
  {
   "cell_type": "code",
   "execution_count": 1,
   "metadata": {},
   "outputs": [],
   "source": [
    "from collections import *\n",
    "from functools import *\n",
    "from itertools import *\n",
    "import operator\n",
    "import sys\n",
    "import re\n",
    "import math\n",
    "import string\n",
    "import bisect\n",
    "import parse\n",
    "import matplotlib.pyplot as plt\n",
    "import numpy as np\n",
    "import heapq\n",
    "from matplotlib.path import Path\n",
    "import ast\n",
    "import hashlib\n",
    "import unittest\n",
    "import copy\n",
    "from dataclasses import dataclass, field\n",
    "import sympy\n",
    "import networkx as nx\n",
    "from pyvis.network import Network\n",
    "from typing import *\n",
    "from shapely.geometry import Polygon\n",
    "import random"
   ]
  },
  {
   "cell_type": "code",
   "execution_count": 9,
   "metadata": {},
   "outputs": [],
   "source": [
    "N = 200_000\n",
    "dp = [0] * (N + 1)\n",
    "for i in range(1, N + 1):\n",
    "    s = sum(map(int, str(i)))\n",
    "    dp[i] = dp[i - 1] + s\n"
   ]
  },
  {
   "cell_type": "code",
   "execution_count": null,
   "metadata": {},
   "outputs": [],
   "source": []
  }
 ],
 "metadata": {
  "kernelspec": {
   "display_name": "programming",
   "language": "python",
   "name": "python3"
  },
  "language_info": {
   "codemirror_mode": {
    "name": "ipython",
    "version": 3
   },
   "file_extension": ".py",
   "mimetype": "text/x-python",
   "name": "python",
   "nbconvert_exporter": "python",
   "pygments_lexer": "ipython3",
   "version": "3.11.3"
  }
 },
 "nbformat": 4,
 "nbformat_minor": 2
}
