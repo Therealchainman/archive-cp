{
 "cells": [
  {
   "cell_type": "code",
   "execution_count": 1,
   "metadata": {},
   "outputs": [],
   "source": [
    "from collections import *\n",
    "from functools import *\n",
    "from itertools import *\n",
    "import operator\n",
    "import sys\n",
    "import re\n",
    "import math\n",
    "import string\n",
    "import bisect\n",
    "import parse\n",
    "import matplotlib.pyplot as plt\n",
    "import numpy as np\n",
    "import heapq\n",
    "from matplotlib.path import Path\n",
    "import ast\n",
    "import hashlib\n",
    "import unittest\n",
    "import copy\n",
    "from dataclasses import dataclass, field\n",
    "import sympy\n",
    "import networkx as nx\n",
    "from pyvis.network import Network\n",
    "from typing import *\n",
    "from shapely.geometry import Polygon"
   ]
  },
  {
   "cell_type": "code",
   "execution_count": 5,
   "metadata": {},
   "outputs": [
    {
     "name": "stdout",
     "output_type": "stream",
     "text": [
      "1,152,921,504,606,846,976, 1,000,000,000,000,000,000\n"
     ]
    }
   ],
   "source": [
    "print(f\"{2**60:,}, {10**18:,}\")"
   ]
  },
  {
   "cell_type": "code",
   "execution_count": 7,
   "metadata": {},
   "outputs": [
    {
     "name": "stdout",
     "output_type": "stream",
     "text": [
      "59.794705707972525\n"
     ]
    }
   ],
   "source": [
    "x = math.log(10**18, 2)\n",
    "print(x)"
   ]
  },
  {
   "cell_type": "markdown",
   "metadata": {},
   "source": []
  },
  {
   "cell_type": "code",
   "execution_count": 13,
   "metadata": {},
   "outputs": [
    {
     "data": {
      "text/plain": [
       "9"
      ]
     },
     "execution_count": 13,
     "metadata": {},
     "output_type": "execute_result"
    }
   ],
   "source": [
    "\"\"\"How to prove this statement?  I think there is a pattern with the binary digits.  But what is the pattern?\n",
    "\n",
    "binary representation, there must be a pattern here? \n",
    "\n",
    "\"\"\"\n",
    "\n",
    "\"\"\"\n",
    "2 - 1  10\n",
    "3 - 11 11\n",
    "4 - 12 100\n",
    "5 - 121 101\n",
    "6 - 112 110\n",
    "7 - 1121 111\n",
    "8 - 123 1000\n",
    "9 - 3123 1001\n",
    "10 - 1323 1010\n",
    "11 - 1233 1011\n",
    "12 - 1233 1100\n",
    "13 - \n",
    "14 - \n",
    "\"\"\"\n",
    "\n",
    "how to create 7?\n",
    "\n",
    "x\n",
    "x\n",
    "x\n",
    "x\n",
    "xx\n",
    "xx\n",
    "xx\n",
    "xx\n",
    "xx\n",
    "xxx\n",
    "xxx\n",
    "\n",
    "\n",
    "\n",
    "\n",
    "\n",
    "\n",
    "\n",
    "x\n",
    "x\n",
    "x\n",
    "x\n",
    "xx\n",
    "xx\n",
    "xx\n",
    "xxx\n",
    "\n",
    "1323\n",
    "\n",
    "\n",
    "x \n",
    "x\n",
    "x\n",
    "xx\n",
    "xx\n",
    "xx\n",
    "xxx\n",
    "\n",
    "1\n",
    "2\n",
    "3\n",
    "12\n",
    "23\n",
    "123\n",
    "\n",
    "112\n",
    "1\n",
    "1\n",
    "2\n",
    "12\n",
    "12\n",
    "\n",
    "121 adds just one\n",
    "1\n",
    "1\n",
    "2\n",
    "12\n",
    "\n",
    "123\n",
    "\n",
    "1\n",
    "2\n",
    "12\n"
   ]
  },
  {
   "cell_type": "code",
   "execution_count": 14,
   "metadata": {},
   "outputs": [
    {
     "name": "stdout",
     "output_type": "stream",
     "text": [
      "2\n",
      "7\n",
      "14\n"
     ]
    }
   ],
   "source": [
    "for i in range(2, 127):\n",
    "    if 543298 % i == 0:\n",
    "        print(i)"
   ]
  },
  {
   "cell_type": "code",
   "execution_count": null,
   "metadata": {},
   "outputs": [],
   "source": []
  }
 ],
 "metadata": {
  "kernelspec": {
   "display_name": "programming",
   "language": "python",
   "name": "python3"
  },
  "language_info": {
   "codemirror_mode": {
    "name": "ipython",
    "version": 3
   },
   "file_extension": ".py",
   "mimetype": "text/x-python",
   "name": "python",
   "nbconvert_exporter": "python",
   "pygments_lexer": "ipython3",
   "version": "3.11.3"
  }
 },
 "nbformat": 4,
 "nbformat_minor": 2
}
