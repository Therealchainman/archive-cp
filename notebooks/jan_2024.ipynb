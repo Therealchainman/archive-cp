{
 "cells": [
  {
   "cell_type": "code",
   "execution_count": 2,
   "metadata": {},
   "outputs": [],
   "source": [
    "from collections import *\n",
    "from functools import *\n",
    "from itertools import *\n",
    "import operator\n",
    "import sys\n",
    "import re\n",
    "import math\n",
    "import string\n",
    "import bisect\n",
    "import parse\n",
    "import matplotlib.pyplot as plt\n",
    "import numpy as np\n",
    "import heapq\n",
    "from matplotlib.path import Path\n",
    "import ast\n",
    "import hashlib\n",
    "import unittest\n",
    "import copy\n",
    "from dataclasses import dataclass, field\n",
    "import sympy\n",
    "import networkx as nx\n",
    "from pyvis.network import Network\n",
    "from typing import *\n",
    "from shapely.geometry import Polygon\n",
    "import random"
   ]
  },
  {
   "cell_type": "code",
   "execution_count": 9,
   "metadata": {},
   "outputs": [
    {
     "name": "stdout",
     "output_type": "stream",
     "text": [
      "10,000,000\n",
      "20,000,000\n",
      "30,000,000\n",
      "40,000,000\n",
      "50,000,000\n",
      "60,000,000\n"
     ]
    },
    {
     "ename": "KeyboardInterrupt",
     "evalue": "",
     "output_type": "error",
     "traceback": [
      "\u001b[1;31m---------------------------------------------------------------------------\u001b[0m",
      "\u001b[1;31mKeyboardInterrupt\u001b[0m                         Traceback (most recent call last)",
      "Cell \u001b[1;32mIn[9], line 27\u001b[0m\n\u001b[0;32m     25\u001b[0m cnt \u001b[38;5;241m+\u001b[39m\u001b[38;5;241m=\u001b[39m \u001b[38;5;241m1\u001b[39m\n\u001b[0;32m     26\u001b[0m \u001b[38;5;28;01mif\u001b[39;00m cnt \u001b[38;5;241m%\u001b[39m \u001b[38;5;241m10_000_000\u001b[39m \u001b[38;5;241m==\u001b[39m \u001b[38;5;241m0\u001b[39m: \u001b[38;5;28mprint\u001b[39m(\u001b[38;5;124mf\u001b[39m\u001b[38;5;124m\"\u001b[39m\u001b[38;5;132;01m{\u001b[39;00mcnt\u001b[38;5;132;01m:\u001b[39;00m\u001b[38;5;124m,\u001b[39m\u001b[38;5;132;01m}\u001b[39;00m\u001b[38;5;124m\"\u001b[39m)\n\u001b[1;32m---> 27\u001b[0m \u001b[38;5;28;01mif\u001b[39;00m miller_rabin(x): primes\u001b[38;5;241m.\u001b[39mappend(x)\n",
      "Cell \u001b[1;32mIn[9], line 19\u001b[0m, in \u001b[0;36mmiller_rabin\u001b[1;34m(n)\u001b[0m\n\u001b[0;32m     17\u001b[0m \u001b[38;5;28;01mfor\u001b[39;00m a \u001b[38;5;129;01min\u001b[39;00m bases:\n\u001b[0;32m     18\u001b[0m     \u001b[38;5;28;01mif\u001b[39;00m n \u001b[38;5;241m==\u001b[39m a: \u001b[38;5;28;01mreturn\u001b[39;00m \u001b[38;5;28;01mTrue\u001b[39;00m\n\u001b[1;32m---> 19\u001b[0m     \u001b[38;5;28;01mif\u001b[39;00m \u001b[43mcheck_composite\u001b[49m\u001b[43m(\u001b[49m\u001b[43mn\u001b[49m\u001b[43m,\u001b[49m\u001b[43m \u001b[49m\u001b[43ma\u001b[49m\u001b[43m,\u001b[49m\u001b[43m \u001b[49m\u001b[43md\u001b[49m\u001b[43m,\u001b[49m\u001b[43m \u001b[49m\u001b[43mr\u001b[49m\u001b[43m)\u001b[49m: \u001b[38;5;28;01mreturn\u001b[39;00m \u001b[38;5;28;01mFalse\u001b[39;00m\n\u001b[0;32m     20\u001b[0m \u001b[38;5;28;01mreturn\u001b[39;00m \u001b[38;5;28;01mTrue\u001b[39;00m\n",
      "Cell \u001b[1;32mIn[9], line 5\u001b[0m, in \u001b[0;36mcheck_composite\u001b[1;34m(n, a, d, s)\u001b[0m\n\u001b[0;32m      3\u001b[0m \u001b[38;5;28;01mif\u001b[39;00m x \u001b[38;5;241m==\u001b[39m \u001b[38;5;241m1\u001b[39m \u001b[38;5;129;01mor\u001b[39;00m x \u001b[38;5;241m==\u001b[39m n \u001b[38;5;241m-\u001b[39m \u001b[38;5;241m1\u001b[39m: \u001b[38;5;28;01mreturn\u001b[39;00m \u001b[38;5;28;01mFalse\u001b[39;00m\n\u001b[0;32m      4\u001b[0m \u001b[38;5;28;01mfor\u001b[39;00m r \u001b[38;5;129;01min\u001b[39;00m \u001b[38;5;28mrange\u001b[39m(\u001b[38;5;241m1\u001b[39m, s):\n\u001b[1;32m----> 5\u001b[0m     x \u001b[38;5;241m=\u001b[39m \u001b[43mx\u001b[49m\u001b[43m \u001b[49m\u001b[38;5;241;43m*\u001b[39;49m\u001b[43m \u001b[49m\u001b[43mx\u001b[49m\u001b[43m \u001b[49m\u001b[38;5;241;43m%\u001b[39;49m\u001b[43m \u001b[49m\u001b[43mn\u001b[49m\n\u001b[0;32m      6\u001b[0m     \u001b[38;5;28;01mif\u001b[39;00m x \u001b[38;5;241m==\u001b[39m n \u001b[38;5;241m-\u001b[39m \u001b[38;5;241m1\u001b[39m: \u001b[38;5;28;01mreturn\u001b[39;00m \u001b[38;5;28;01mFalse\u001b[39;00m\n\u001b[0;32m      7\u001b[0m \u001b[38;5;28;01mreturn\u001b[39;00m \u001b[38;5;28;01mTrue\u001b[39;00m\n",
      "\u001b[1;31mKeyboardInterrupt\u001b[0m: "
     ]
    }
   ],
   "source": [
    "def check_composite(n, a, d, s):\n",
    "    x = pow(a, d, n)\n",
    "    if x == 1 or x == n - 1: return False\n",
    "    for r in range(1, s):\n",
    "        x = x * x % n\n",
    "        if x == n - 1: return False\n",
    "    return True\n",
    "\n",
    "def miller_rabin(n):\n",
    "    if n < 4: return n == 2 or n == 3\n",
    "    r = 0\n",
    "    d = n - 1\n",
    "    while d % 2 == 0:\n",
    "        r += 1\n",
    "        d >>= 1\n",
    "    bases = [2, 3, 5, 7, 11, 13, 17, 19, 23, 29, 31, 37]\n",
    "    for a in bases:\n",
    "        if n == a: return True\n",
    "        if check_composite(n, a, d, r): return False\n",
    "    return True\n",
    "\n",
    "primes = []\n",
    "cnt = 0\n",
    "for x in range(10**9 + 1, 2*10**9, 2):\n",
    "    cnt += 1\n",
    "    if cnt % 10_000_000 == 0: print(f\"{cnt:,}\")\n",
    "    if miller_rabin(x): primes.append(x)"
   ]
  },
  {
   "cell_type": "code",
   "execution_count": 11,
   "metadata": {},
   "outputs": [
    {
     "name": "stdout",
     "output_type": "stream",
     "text": [
      "[1061656997, 1014795163, 1049051473, 1012437247, 1081837567, 1096543859, 1115841889, 1024347089, 1085086993, 1032420871, 1116383371, 1022333441, 1092307759, 1056909577, 1044126409, 1061438557, 1015339601, 1088395067, 1111290809, 1048440361]\n"
     ]
    }
   ],
   "source": [
    "n = len(primes)\n",
    "chosen = []\n",
    "for _ in range(20):\n",
    "    chosen.append(primes[random.randint(0, n - 1)])\n",
    "print(chosen)"
   ]
  },
  {
   "cell_type": "code",
   "execution_count": 11,
   "metadata": {},
   "outputs": [
    {
     "name": "stdout",
     "output_type": "stream",
     "text": [
      "{0: [0, 6, 5, 4, 3, 2, 1], 1: [6, 0, 1, 2, 3, 4, 5], 2: [5, 1, 0, 1, 2, 3, 4], 3: [4, 2, 1, 0, 1, 2, 3], 4: [3, 3, 2, 1, 0, 1, 2], 5: [2, 4, 3, 2, 1, 0, 1], 6: [1, 5, 4, 3, 2, 1, 0]}\n",
      "{0: [0, 1, 5, 4, 3, 2, 1], 1: [1, 0, 6, 5, 4, 3, 2], 2: [5, 6, 0, 1, 2, 3, 4], 3: [4, 5, 1, 0, 1, 2, 3], 4: [3, 4, 2, 1, 0, 1, 2], 5: [2, 3, 3, 2, 1, 0, 1], 6: [1, 2, 4, 3, 2, 1, 0]}\n",
      "{0: [0, 1, 2, 4, 3, 2, 1], 1: [1, 0, 1, 5, 4, 3, 2], 2: [2, 1, 0, 6, 5, 4, 3], 3: [4, 5, 6, 0, 1, 2, 3], 4: [3, 4, 5, 1, 0, 1, 2], 5: [2, 3, 4, 2, 1, 0, 1], 6: [1, 2, 3, 3, 2, 1, 0]}\n",
      "{0: [0, 1, 2, 3, 3, 2, 1], 1: [1, 0, 1, 2, 4, 3, 2], 2: [2, 1, 0, 1, 5, 4, 3], 3: [3, 2, 1, 0, 6, 5, 4], 4: [3, 4, 5, 6, 0, 1, 2], 5: [2, 3, 4, 5, 1, 0, 1], 6: [1, 2, 3, 4, 2, 1, 0]}\n",
      "{0: [0, 1, 2, 3, 4, 2, 1], 1: [1, 0, 1, 2, 3, 3, 2], 2: [2, 1, 0, 1, 2, 4, 3], 3: [3, 2, 1, 0, 1, 5, 4], 4: [4, 3, 2, 1, 0, 6, 5], 5: [2, 3, 4, 5, 6, 0, 1], 6: [1, 2, 3, 4, 5, 1, 0]}\n",
      "{0: [0, 1, 2, 3, 4, 5, 1], 1: [1, 0, 1, 2, 3, 4, 2], 2: [2, 1, 0, 1, 2, 3, 3], 3: [3, 2, 1, 0, 1, 2, 4], 4: [4, 3, 2, 1, 0, 1, 5], 5: [5, 4, 3, 2, 1, 0, 6], 6: [1, 2, 3, 4, 5, 6, 0]}\n",
      "{0: [0, 1, 2, 3, 4, 5, 6], 1: [1, 0, 1, 2, 3, 4, 5], 2: [2, 1, 0, 1, 2, 3, 4], 3: [3, 2, 1, 0, 1, 2, 3], 4: [4, 3, 2, 1, 0, 1, 2], 5: [5, 4, 3, 2, 1, 0, 1], 6: [6, 5, 4, 3, 2, 1, 0]}\n"
     ]
    }
   ],
   "source": [
    "N = 7\n",
    "adj = list(range(1, N)) + [0]\n",
    "adj = [deque() for _ in range(N)]\n",
    "for i in range(N):\n",
    "    adj[i].append((i - 1) % N)\n",
    "    adj[i].append((i + 1) % N)\n",
    "def bfs(n, src):\n",
    "    q = deque([(src, 0)])\n",
    "    vis = [math.inf] * n\n",
    "    vis[src] = 0\n",
    "    while q:\n",
    "        u, dis = q.popleft()\n",
    "        for v in adj[u]:\n",
    "            if vis[v] != math.inf: continue\n",
    "            vis[v] = dis + 1\n",
    "            q.append((v, dis + 1))\n",
    "    return vis\n",
    "for i in range(N):\n",
    "    adj[i].pop()\n",
    "    adj[(i + 1) % N].popleft()\n",
    "    shortest_path = {}\n",
    "    for u in range(N):\n",
    "        shortest_path[u] = bfs(N, u)\n",
    "    adj[i].append((i + 1) % N)\n",
    "    adj[(i + 1) % N].appendleft(i)\n",
    "    print(shortest_path)    \n",
    "\n"
   ]
  },
  {
   "cell_type": "code",
   "execution_count": 7,
   "metadata": {},
   "outputs": [
    {
     "name": "stdout",
     "output_type": "stream",
     "text": [
      "59.794705707972525\n"
     ]
    }
   ],
   "source": [
    "x = math.log(10**18, 2)\n",
    "print(x)"
   ]
  },
  {
   "cell_type": "markdown",
   "metadata": {},
   "source": []
  },
  {
   "cell_type": "code",
   "execution_count": 13,
   "metadata": {},
   "outputs": [
    {
     "data": {
      "text/plain": [
       "9"
      ]
     },
     "execution_count": 13,
     "metadata": {},
     "output_type": "execute_result"
    }
   ],
   "source": [
    "\"\"\"How to prove this statement?  I think there is a pattern with the binary digits.  But what is the pattern?\n",
    "\n",
    "binary representation, there must be a pattern here? \n",
    "\n",
    "\"\"\"\n",
    "\n",
    "\"\"\"\n",
    "2 - 1  10\n",
    "3 - 11 11\n",
    "4 - 12 100\n",
    "5 - 121 101\n",
    "6 - 112 110\n",
    "7 - 1121 111\n",
    "8 - 123 1000\n",
    "9 - 3123 1001\n",
    "10 - 1323 1010\n",
    "11 - 1233 1011\n",
    "12 - 1233 1100\n",
    "13 - \n",
    "14 - \n",
    "\"\"\"\n",
    "\n",
    "how to create 7?\n",
    "\n",
    "x\n",
    "x\n",
    "x\n",
    "x\n",
    "xx\n",
    "xx\n",
    "xx\n",
    "xx\n",
    "xx\n",
    "xxx\n",
    "xxx\n",
    "\n",
    "\n",
    "\n",
    "\n",
    "\n",
    "\n",
    "\n",
    "x\n",
    "x\n",
    "x\n",
    "x\n",
    "xx\n",
    "xx\n",
    "xx\n",
    "xxx\n",
    "\n",
    "1323\n",
    "\n",
    "\n",
    "x \n",
    "x\n",
    "x\n",
    "xx\n",
    "xx\n",
    "xx\n",
    "xxx\n",
    "\n",
    "1\n",
    "2\n",
    "3\n",
    "12\n",
    "23\n",
    "123\n",
    "\n",
    "112\n",
    "1\n",
    "1\n",
    "2\n",
    "12\n",
    "12\n",
    "\n",
    "121 adds just one\n",
    "1\n",
    "1\n",
    "2\n",
    "12\n",
    "\n",
    "123\n",
    "\n",
    "1\n",
    "2\n",
    "12\n"
   ]
  },
  {
   "cell_type": "code",
   "execution_count": 14,
   "metadata": {},
   "outputs": [
    {
     "name": "stdout",
     "output_type": "stream",
     "text": [
      "2\n",
      "7\n",
      "14\n"
     ]
    }
   ],
   "source": [
    "for i in range(2, 127):\n",
    "    if 543298 % i == 0:\n",
    "        print(i)"
   ]
  },
  {
   "cell_type": "code",
   "execution_count": null,
   "metadata": {},
   "outputs": [],
   "source": []
  }
 ],
 "metadata": {
  "kernelspec": {
   "display_name": "programming",
   "language": "python",
   "name": "python3"
  },
  "language_info": {
   "codemirror_mode": {
    "name": "ipython",
    "version": 3
   },
   "file_extension": ".py",
   "mimetype": "text/x-python",
   "name": "python",
   "nbconvert_exporter": "python",
   "pygments_lexer": "ipython3",
   "version": "3.11.3"
  }
 },
 "nbformat": 4,
 "nbformat_minor": 2
}
