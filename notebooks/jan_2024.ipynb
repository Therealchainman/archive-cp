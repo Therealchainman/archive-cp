{
 "cells": [
  {
   "cell_type": "code",
   "execution_count": 2,
   "metadata": {},
   "outputs": [],
   "source": [
    "from collections import *\n",
    "from functools import *\n",
    "from itertools import *\n",
    "import operator\n",
    "import sys\n",
    "import re\n",
    "import math\n",
    "import string\n",
    "import bisect\n",
    "import parse\n",
    "import matplotlib.pyplot as plt\n",
    "import numpy as np\n",
    "import heapq\n",
    "from matplotlib.path import Path\n",
    "import ast\n",
    "import hashlib\n",
    "import unittest\n",
    "import copy\n",
    "from dataclasses import dataclass, field\n",
    "import sympy\n",
    "import networkx as nx\n",
    "from pyvis.network import Network\n",
    "from typing import *\n",
    "from shapely.geometry import Polygon"
   ]
  },
  {
   "cell_type": "code",
   "execution_count": 6,
   "metadata": {},
   "outputs": [
    {
     "name": "stdout",
     "output_type": "stream",
     "text": [
      "[1, 2, 3, 5, 7, 11, 13, 17, 19, 23, 29, 31, 37, 41, 43, 47, 53, 59, 61, 67, 71, 73, 79, 83, 89, 97, 101, 103, 107, 109, 113, 127, 131, 137, 139, 149, 151, 157, 163, 167, 173, 179, 181, 191, 193, 197, 199, 211, 223, 227, 229, 233, 239, 241, 251, 257, 263, 269, 271, 277, 281, 283, 293, 307, 311, 313, 317, 331, 337, 347, 349, 353, 359, 367, 373, 379, 383, 389, 397, 401, 409, 419, 421, 431, 433, 439, 443, 449, 457, 461, 463, 467, 479, 487, 491, 499, 503, 509, 521, 523]\n"
     ]
    }
   ],
   "source": [
    "import math\n",
    "\n",
    "def is_prime(num):\n",
    "    for i in range(2, int(math.sqrt(num)) + 1):\n",
    "        if num % i == 0: return False\n",
    "    return True\n",
    "primes = []\n",
    "i = 1\n",
    "while len(primes) < 100:\n",
    "    if is_prime(i): primes.append(i)\n",
    "    i += 1\n",
    "\n",
    "print(primes)\n",
    "\n"
   ]
  },
  {
   "cell_type": "code",
   "execution_count": 11,
   "metadata": {},
   "outputs": [
    {
     "name": "stdout",
     "output_type": "stream",
     "text": [
      "{0: [0, 6, 5, 4, 3, 2, 1], 1: [6, 0, 1, 2, 3, 4, 5], 2: [5, 1, 0, 1, 2, 3, 4], 3: [4, 2, 1, 0, 1, 2, 3], 4: [3, 3, 2, 1, 0, 1, 2], 5: [2, 4, 3, 2, 1, 0, 1], 6: [1, 5, 4, 3, 2, 1, 0]}\n",
      "{0: [0, 1, 5, 4, 3, 2, 1], 1: [1, 0, 6, 5, 4, 3, 2], 2: [5, 6, 0, 1, 2, 3, 4], 3: [4, 5, 1, 0, 1, 2, 3], 4: [3, 4, 2, 1, 0, 1, 2], 5: [2, 3, 3, 2, 1, 0, 1], 6: [1, 2, 4, 3, 2, 1, 0]}\n",
      "{0: [0, 1, 2, 4, 3, 2, 1], 1: [1, 0, 1, 5, 4, 3, 2], 2: [2, 1, 0, 6, 5, 4, 3], 3: [4, 5, 6, 0, 1, 2, 3], 4: [3, 4, 5, 1, 0, 1, 2], 5: [2, 3, 4, 2, 1, 0, 1], 6: [1, 2, 3, 3, 2, 1, 0]}\n",
      "{0: [0, 1, 2, 3, 3, 2, 1], 1: [1, 0, 1, 2, 4, 3, 2], 2: [2, 1, 0, 1, 5, 4, 3], 3: [3, 2, 1, 0, 6, 5, 4], 4: [3, 4, 5, 6, 0, 1, 2], 5: [2, 3, 4, 5, 1, 0, 1], 6: [1, 2, 3, 4, 2, 1, 0]}\n",
      "{0: [0, 1, 2, 3, 4, 2, 1], 1: [1, 0, 1, 2, 3, 3, 2], 2: [2, 1, 0, 1, 2, 4, 3], 3: [3, 2, 1, 0, 1, 5, 4], 4: [4, 3, 2, 1, 0, 6, 5], 5: [2, 3, 4, 5, 6, 0, 1], 6: [1, 2, 3, 4, 5, 1, 0]}\n",
      "{0: [0, 1, 2, 3, 4, 5, 1], 1: [1, 0, 1, 2, 3, 4, 2], 2: [2, 1, 0, 1, 2, 3, 3], 3: [3, 2, 1, 0, 1, 2, 4], 4: [4, 3, 2, 1, 0, 1, 5], 5: [5, 4, 3, 2, 1, 0, 6], 6: [1, 2, 3, 4, 5, 6, 0]}\n",
      "{0: [0, 1, 2, 3, 4, 5, 6], 1: [1, 0, 1, 2, 3, 4, 5], 2: [2, 1, 0, 1, 2, 3, 4], 3: [3, 2, 1, 0, 1, 2, 3], 4: [4, 3, 2, 1, 0, 1, 2], 5: [5, 4, 3, 2, 1, 0, 1], 6: [6, 5, 4, 3, 2, 1, 0]}\n"
     ]
    }
   ],
   "source": [
    "N = 7\n",
    "adj = list(range(1, N)) + [0]\n",
    "adj = [deque() for _ in range(N)]\n",
    "for i in range(N):\n",
    "    adj[i].append((i - 1) % N)\n",
    "    adj[i].append((i + 1) % N)\n",
    "def bfs(n, src):\n",
    "    q = deque([(src, 0)])\n",
    "    vis = [math.inf] * n\n",
    "    vis[src] = 0\n",
    "    while q:\n",
    "        u, dis = q.popleft()\n",
    "        for v in adj[u]:\n",
    "            if vis[v] != math.inf: continue\n",
    "            vis[v] = dis + 1\n",
    "            q.append((v, dis + 1))\n",
    "    return vis\n",
    "for i in range(N):\n",
    "    adj[i].pop()\n",
    "    adj[(i + 1) % N].popleft()\n",
    "    shortest_path = {}\n",
    "    for u in range(N):\n",
    "        shortest_path[u] = bfs(N, u)\n",
    "    adj[i].append((i + 1) % N)\n",
    "    adj[(i + 1) % N].appendleft(i)\n",
    "    print(shortest_path)    \n",
    "\n"
   ]
  },
  {
   "cell_type": "code",
   "execution_count": 7,
   "metadata": {},
   "outputs": [
    {
     "name": "stdout",
     "output_type": "stream",
     "text": [
      "59.794705707972525\n"
     ]
    }
   ],
   "source": [
    "x = math.log(10**18, 2)\n",
    "print(x)"
   ]
  },
  {
   "cell_type": "markdown",
   "metadata": {},
   "source": []
  },
  {
   "cell_type": "code",
   "execution_count": 13,
   "metadata": {},
   "outputs": [
    {
     "data": {
      "text/plain": [
       "9"
      ]
     },
     "execution_count": 13,
     "metadata": {},
     "output_type": "execute_result"
    }
   ],
   "source": [
    "\"\"\"How to prove this statement?  I think there is a pattern with the binary digits.  But what is the pattern?\n",
    "\n",
    "binary representation, there must be a pattern here? \n",
    "\n",
    "\"\"\"\n",
    "\n",
    "\"\"\"\n",
    "2 - 1  10\n",
    "3 - 11 11\n",
    "4 - 12 100\n",
    "5 - 121 101\n",
    "6 - 112 110\n",
    "7 - 1121 111\n",
    "8 - 123 1000\n",
    "9 - 3123 1001\n",
    "10 - 1323 1010\n",
    "11 - 1233 1011\n",
    "12 - 1233 1100\n",
    "13 - \n",
    "14 - \n",
    "\"\"\"\n",
    "\n",
    "how to create 7?\n",
    "\n",
    "x\n",
    "x\n",
    "x\n",
    "x\n",
    "xx\n",
    "xx\n",
    "xx\n",
    "xx\n",
    "xx\n",
    "xxx\n",
    "xxx\n",
    "\n",
    "\n",
    "\n",
    "\n",
    "\n",
    "\n",
    "\n",
    "x\n",
    "x\n",
    "x\n",
    "x\n",
    "xx\n",
    "xx\n",
    "xx\n",
    "xxx\n",
    "\n",
    "1323\n",
    "\n",
    "\n",
    "x \n",
    "x\n",
    "x\n",
    "xx\n",
    "xx\n",
    "xx\n",
    "xxx\n",
    "\n",
    "1\n",
    "2\n",
    "3\n",
    "12\n",
    "23\n",
    "123\n",
    "\n",
    "112\n",
    "1\n",
    "1\n",
    "2\n",
    "12\n",
    "12\n",
    "\n",
    "121 adds just one\n",
    "1\n",
    "1\n",
    "2\n",
    "12\n",
    "\n",
    "123\n",
    "\n",
    "1\n",
    "2\n",
    "12\n"
   ]
  },
  {
   "cell_type": "code",
   "execution_count": 14,
   "metadata": {},
   "outputs": [
    {
     "name": "stdout",
     "output_type": "stream",
     "text": [
      "2\n",
      "7\n",
      "14\n"
     ]
    }
   ],
   "source": [
    "for i in range(2, 127):\n",
    "    if 543298 % i == 0:\n",
    "        print(i)"
   ]
  },
  {
   "cell_type": "code",
   "execution_count": null,
   "metadata": {},
   "outputs": [],
   "source": []
  }
 ],
 "metadata": {
  "kernelspec": {
   "display_name": "programming",
   "language": "python",
   "name": "python3"
  },
  "language_info": {
   "codemirror_mode": {
    "name": "ipython",
    "version": 3
   },
   "file_extension": ".py",
   "mimetype": "text/x-python",
   "name": "python",
   "nbconvert_exporter": "python",
   "pygments_lexer": "ipython3",
   "version": "3.11.3"
  }
 },
 "nbformat": 4,
 "nbformat_minor": 2
}
