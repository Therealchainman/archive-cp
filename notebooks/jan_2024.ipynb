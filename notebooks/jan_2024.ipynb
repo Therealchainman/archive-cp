{
 "cells": [
  {
   "cell_type": "code",
   "execution_count": 1,
   "metadata": {},
   "outputs": [],
   "source": [
    "from collections import *\n",
    "from functools import *\n",
    "from itertools import *\n",
    "import operator\n",
    "import sys\n",
    "import re\n",
    "import math\n",
    "import string\n",
    "import bisect\n",
    "import parse\n",
    "import matplotlib.pyplot as plt\n",
    "import numpy as np\n",
    "import heapq\n",
    "from matplotlib.path import Path\n",
    "import ast\n",
    "import hashlib\n",
    "import unittest\n",
    "import copy\n",
    "from dataclasses import dataclass, field\n",
    "import sympy\n",
    "import networkx as nx\n",
    "from pyvis.network import Network\n",
    "from typing import *\n",
    "from shapely.geometry import Polygon\n",
    "import random"
   ]
  },
  {
   "cell_type": "code",
   "execution_count": 9,
   "metadata": {},
   "outputs": [],
   "source": [
    "N = 200_000\n",
    "dp = [0] * (N + 1)\n",
    "for i in range(1, N + 1):\n",
    "    s = sum(map(int, str(i)))\n",
    "    dp[i] = dp[i - 1] + s\n"
   ]
  },
  {
   "cell_type": "code",
   "execution_count": 11,
   "metadata": {},
   "outputs": [
    {
     "name": "stdout",
     "output_type": "stream",
     "text": [
      "[1, 29, 39, 49, 57, 63, 69, 73, 79, 83, 87, 91, 95, 99, 103, 105, 109, 111, 115, 117, 121, 123, 125, 127, 129, 133, 135, 137, 139, 141, 143, 145, 147, 149, 151, 151, 153, 155, 157, 159, 161, 161, 163, 165, 165, 167, 169, 169, 171, 173, 173, 175, 175, 177, 177, 179, 179, 181, 181, 183, 183, 185, 185, 185, 187, 187, 189, 189, 189, 191, 191, 191, 193, 193, 193, 193, 195, 195, 195, 195, 195, 197, 197, 197, 197, 197, 199, 199, 199, 199, 199, 199, 199, 199, 199, 199, 199, 199, 199, 199, 201, 199, 199, 199, 199, 199, 199, 199, 199, 199, 199, 199, 199, 199, 199, 197, 197, 197, 197, 197, 195, 195, 195, 195, 195, 193, 193, 193, 193, 191, 191, 191, 189, 189, 189, 187, 187, 185, 185, 185, 183, 183, 181, 181, 179, 179, 177, 177, 175, 175, 173, 173, 171, 169, 169, 167, 165, 165, 163, 161, 161, 159, 157, 155, 153, 151, 151, 149, 147, 145, 143, 141, 139, 137, 135, 133, 129, 127, 125, 123, 121, 117, 115, 111, 109, 105, 103, 99, 95, 91, 87, 83, 79, 73, 69, 63, 57, 49, 39, 29, 1]\n"
     ]
    }
   ],
   "source": [
    "calc = lambda r1, c1, r2, c2: (r1 - r2) ** 2 + (c1 - c2) ** 2\n",
    "def circle(radius):\n",
    "    left, right = defaultdict(lambda: math.inf), defaultdict(lambda: -math.inf)\n",
    "    for i in range(-radius, radius + 1):\n",
    "        for j in range(-radius, radius + 1):\n",
    "            if calc(0, 0, i, j) <= radius ** 2:\n",
    "                left[i] = min(left[i], j)\n",
    "                right[i] = max(right[i], j)\n",
    "    lengths = []\n",
    "    for i in range(-radius, radius + 1):\n",
    "        lengths.append((right[i] - left[i] + 1))\n",
    "    return lengths\n",
    "\n",
    "print(circle(100))\n"
   ]
  },
  {
   "cell_type": "code",
   "execution_count": null,
   "metadata": {},
   "outputs": [],
   "source": []
  }
 ],
 "metadata": {
  "kernelspec": {
   "display_name": "programming",
   "language": "python",
   "name": "python3"
  },
  "language_info": {
   "codemirror_mode": {
    "name": "ipython",
    "version": 3
   },
   "file_extension": ".py",
   "mimetype": "text/x-python",
   "name": "python",
   "nbconvert_exporter": "python",
   "pygments_lexer": "ipython3",
   "version": "3.11.3"
  }
 },
 "nbformat": 4,
 "nbformat_minor": 2
}
