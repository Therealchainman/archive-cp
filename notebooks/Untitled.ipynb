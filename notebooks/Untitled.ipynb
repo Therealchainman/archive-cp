{
 "cells": [
  {
   "cell_type": "code",
   "execution_count": 3,
   "id": "a6a89926-e842-4687-9f63-20ad72da2277",
   "metadata": {},
   "outputs": [],
   "source": [
    "import math"
   ]
  },
  {
   "cell_type": "code",
   "execution_count": null,
   "id": "b3011e66-e9f3-4790-9864-09ecba6d0ad5",
   "metadata": {},
   "outputs": [],
   "source": []
  },
  {
   "cell_type": "code",
   "execution_count": null,
   "id": "5ee2901e-6861-439a-806a-a1e2c641ec8e",
   "metadata": {},
   "outputs": [],
   "source": []
  },
  {
   "cell_type": "code",
   "execution_count": 1,
   "id": "49aa5f39-e0af-44a2-a25d-aa606692dab0",
   "metadata": {},
   "outputs": [],
   "source": [
    "n = m = 10"
   ]
  },
  {
   "cell_type": "code",
   "execution_count": 8,
   "id": "9cc86a2b-b7f1-4fb1-bfd9-c9a2f68262f6",
   "metadata": {},
   "outputs": [
    {
     "data": {
      "text/plain": [
       "102400"
      ]
     },
     "execution_count": 8,
     "metadata": {},
     "output_type": "execute_result"
    }
   ],
   "source": [
    "n*m*2**n"
   ]
  },
  {
   "cell_type": "code",
   "execution_count": 5,
   "id": "9c1d322b-12ce-49fc-ac8a-cbce50c83b6b",
   "metadata": {},
   "outputs": [],
   "source": [
    "x = 5"
   ]
  },
  {
   "cell_type": "code",
   "execution_count": 7,
   "id": "78d83ff1-58af-4c2b-9ca6-e917e159550d",
   "metadata": {},
   "outputs": [
    {
     "data": {
      "text/plain": [
       "2"
      ]
     },
     "execution_count": 7,
     "metadata": {},
     "output_type": "execute_result"
    }
   ],
   "source": [
    "x.bit_count()"
   ]
  },
  {
   "cell_type": "markdown",
   "id": "71aff530-2713-43f2-a617-59ceea4f34aa",
   "metadata": {},
   "source": [
    "minimum cost flow in a given flow network\n",
    "\n",
    "graph algorithm to find the minimum cost flow in a flow network\n",
    "\n",
    "find the flow that minimizes the total cost while satisfying the capacity constraints\n",
    "\n",
    "can z3 solver work for this? \n",
    "\n",
    "\n",
    "transportation problems, resource allocation problems, and network design problems? \n",
    "\n",
    "simplex method, the primal-dual algorithm, and the successive shortest path algorithm. \n",
    "\n",
    "A flow network is a directed graph with capacities and costs associated with its edges\n",
    "\n",
    "Minimum-cost flow - Successive shortest path algorithm\n",
    "\n",
    "\n",
    "Triangle Inequality in graph theory\n",
    "\n",
    "Johnson's Algorithm\n",
    "If all edge weights are positive, then running Dijkstra's from each node would result in O(VElog(E))\n"
   ]
  },
  {
   "cell_type": "code",
   "execution_count": null,
   "id": "ef3d28aa-3a1c-47d8-94bd-35a962934eec",
   "metadata": {},
   "outputs": [],
   "source": [
    "\n",
    "\n"
   ]
  },
  {
   "cell_type": "markdown",
   "id": "ca7145c1-01c7-4ba1-928f-7a091cc1c3bb",
   "metadata": {},
   "source": [
    "Bellman Ford Algorithm O(V * E)\n",
    "\n",
    "fibonacci heaps to improve dijkstra algorithm time\n",
    "\n"
   ]
  },
  {
   "cell_type": "code",
   "execution_count": 18,
   "id": "3ebe0902-3956-4950-bad4-f33694815f12",
   "metadata": {},
   "outputs": [],
   "source": [
    "from typing import List\n",
    "import math\n",
    "import heapq\n",
    "from itertools import product\n",
    "\n",
    "def bellmanFord(n: int, src: int, edges: List[List[int]]) -> List[int]:\n",
    "    dist = [math.inf]*n\n",
    "    dist[src] = 0\n",
    "    for _ in range(n-1):\n",
    "        any_relaxed = False\n",
    "        for u, v, w in edges:\n",
    "            if dist[u] + w < dist[v]:\n",
    "                any_relaxed = True\n",
    "                dist[v] = dist[u] + w\n",
    "        if not any_relaxed: break\n",
    "    # check for any negative cycles\n",
    "    for u, v, w in edges:\n",
    "        if dist[v] > dist[u] + w: return []\n",
    "    return dist\n",
    "\n",
    "def dijkstra(n: int, src: int, adj_list: List[List[int]]) -> List[int]:\n",
    "    dist = [math.inf]*n\n",
    "    dist[src] = 0\n",
    "    pq = [(0, src)]\n",
    "    while pq:\n",
    "        d, u = heapq.heappop(pq)\n",
    "        if d > dist[u]: continue\n",
    "        for v, w in adj_list[u]:\n",
    "            if dist[u] + w < dist[v]:\n",
    "                dist[v] = dist[u] + w\n",
    "                heapq.heappush(pq, (dist[v], v))\n",
    "    return dist\n",
    "\n",
    "def johnsons(n: int, edges: List[List[int]]) -> List[List[int]]:\n",
    "    # create a new vertex that is connected to all other vertices with weight 0\n",
    "    # new vertex that will be the source for bellman fourd is going to be n\n",
    "    # run bellman ford to find shortest paths from the new vertex to all other vertices\n",
    "    dist = bellmanFord(n+1, n, edges + [[n, i, 0] for i in range(n)])\n",
    "    if not dist: return [] # if it has negative cycle\n",
    "    # reweight the edges\n",
    "    for i in range(len(edges)):\n",
    "        u, v, w = edges[i]\n",
    "        edges[i][2] = w + dist[u] - dist[v]\n",
    "    # run dijkstra for each vertex\n",
    "    adj_list = [[] for _ in range(n)]\n",
    "    for u, v, w in edges:\n",
    "        adj_list[u].append((v, w))\n",
    "    shortest_paths = [dijkstra(n, i, adj_list) for i in range(n)]\n",
    "    for u, v in product(range(n), repeat = 2):\n",
    "        if shortest_paths == math.inf: continue\n",
    "        shortest_paths[u][v] = shortest_paths[u][v] + dist[v] - dist[u]\n",
    "    return shortest_paths\n"
   ]
  },
  {
   "cell_type": "code",
   "execution_count": 19,
   "id": "cdebde4a-40a2-4d04-95d9-d9a49d92dbdd",
   "metadata": {},
   "outputs": [],
   "source": [
    "res = johnsons(4, [[1,0,1],[1,2,1],[2,3,1]])"
   ]
  },
  {
   "cell_type": "code",
   "execution_count": 20,
   "id": "e6fe95c4-57b3-4f20-b1fb-58803f642cac",
   "metadata": {},
   "outputs": [
    {
     "data": {
      "text/plain": [
       "[[0, inf, inf, inf], [1, 0, 1, 2], [inf, inf, 0, 1], [inf, inf, inf, 0]]"
      ]
     },
     "execution_count": 20,
     "metadata": {},
     "output_type": "execute_result"
    }
   ],
   "source": [
    "res"
   ]
  },
  {
   "cell_type": "code",
   "execution_count": null,
   "id": "28a33b17-45b2-47dd-b8ab-bf5d2c258ce8",
   "metadata": {},
   "outputs": [],
   "source": [
    "Kuhn-Munkres Algorithm for Optimal Matching of Weighted Bipartite Graph"
   ]
  }
 ],
 "metadata": {
  "kernelspec": {
   "display_name": "Python 3 (ipykernel)",
   "language": "python",
   "name": "python3"
  },
  "language_info": {
   "codemirror_mode": {
    "name": "ipython",
    "version": 3
   },
   "file_extension": ".py",
   "mimetype": "text/x-python",
   "name": "python",
   "nbconvert_exporter": "python",
   "pygments_lexer": "ipython3",
   "version": "3.10.0"
  }
 },
 "nbformat": 4,
 "nbformat_minor": 5
}
