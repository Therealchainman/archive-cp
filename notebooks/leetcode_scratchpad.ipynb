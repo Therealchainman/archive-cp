{
 "cells": [
  {
   "cell_type": "markdown",
   "id": "b3d763a1-a65b-4798-a9b2-5025377ef7d6",
   "metadata": {},
   "source": [
    "# lEETCODE SCRATCHPAD"
   ]
  },
  {
   "cell_type": "markdown",
   "id": "01e7ed22-6ddc-40ad-8e7d-de67e3b2c4db",
   "metadata": {},
   "source": [
    "# IMPORTS"
   ]
  },
  {
   "cell_type": "code",
   "execution_count": null,
   "id": "b18c9f7c-9e5e-4fb5-898c-09a6a856014c",
   "metadata": {},
   "outputs": [],
   "source": [
    "from typing import List\n",
    "import math"
   ]
  },
  {
   "cell_type": "markdown",
   "id": "7a4fd973-b6a9-4bc6-9ea0-62008f89154a",
   "metadata": {},
   "source": [
    "## PROBLEM 1"
   ]
  },
  {
   "cell_type": "code",
   "execution_count": null,
   "id": "08de8bf6-6a6b-4cf1-8437-70edb6f57d08",
   "metadata": {},
   "outputs": [],
   "source": []
  },
  {
   "cell_type": "markdown",
   "id": "f6db1daf-0e11-419a-8255-111afc748b92",
   "metadata": {},
   "source": [
    "## PROBLEM 2"
   ]
  },
  {
   "cell_type": "code",
   "execution_count": null,
   "id": "a11535c7-e0be-4058-a41e-ac837feaa4fb",
   "metadata": {},
   "outputs": [],
   "source": [
    "n = 20\n",
    "def prime_sieve(lim):\n",
    "    sieve,primes = [[] for _ in range(lim + 1)], set()\n",
    "    for integer in range(2,lim + 1):\n",
    "        if not len(sieve[integer]):\n",
    "            primes.add(integer)\n",
    "            for possibly_divisible_integer in range(integer,lim+1,integer):\n",
    "                current_integer = possibly_divisible_integer\n",
    "                while not current_integer%integer:\n",
    "                    sieve[possibly_divisible_integer].append(integer)\n",
    "                    current_integer //= integer\n",
    "    return primes, sieve\n",
    "primes, sieve = prime_sieve(n)\n"
   ]
  },
  {
   "cell_type": "code",
   "execution_count": 72,
   "id": "d2706bf3",
   "metadata": {},
   "outputs": [
    {
     "data": {
      "text/plain": [
       "7"
      ]
     },
     "execution_count": 72,
     "metadata": {},
     "output_type": "execute_result"
    }
   ],
   "source": [
    "\"\"\"\n",
    "Uses the optimized prime seive algorithm to compute all the primes up to al lim value\n",
    "This will only need to iterate through sqrt(n) values and then the iteration beneath is about logn\n",
    "\n",
    "so probably sqrt(n)+sqrt(n) time complexity, so it is rather fast\n",
    "think about worst case which would be \n",
    "\n",
    "I'd imagine the time complexity of this scale as sqrt(n)\n",
    "\n",
    "What does this do, it can precompute all the primes optimally in sqrt(n) time\n",
    "\n",
    "This will allow to iterate through primes which are somewhat sparse\n",
    "\n",
    "\"\"\"\n",
    "def prime_sieve(lim):\n",
    "    lim = int(math.sqrt(lim))\n",
    "    sieve, primes = [False for _ in range(lim + 1)], []\n",
    "    for integer in range(2, lim + 1):\n",
    "        if not sieve[integer]:\n",
    "            primes.append(integer)\n",
    "            for possibly_divisible_integer in range(integer, lim + 1, integer):\n",
    "                sieve[possibly_divisible_integer] = True\n",
    "    return primes\n",
    "\n",
    "def sopf_sieve(n: int, primes: List[int]) -> int:\n",
    "    sum_ = 0\n",
    "    for prime in primes:\n",
    "        if n < prime: break\n",
    "        while n%prime == 0:\n",
    "            sum_ += prime\n",
    "            n //= prime\n",
    "    return sum_ + (n if n > 1 else 0)\n",
    "# logn + sqrt(n)log(log(n)) time\n",
    "def pivot_sopf_sieve(n: int) -> int:\n",
    "    primes = prime_sieve(n)\n",
    "    while n != (n := sopf_sieve(n, primes)): pass\n",
    "    return n\n",
    "\n",
    "pivot_sopf_sieve(100000)\n"
   ]
  },
  {
   "cell_type": "code",
   "execution_count": 88,
   "id": "88d47ebd",
   "metadata": {},
   "outputs": [
    {
     "data": {
      "text/plain": [
       "13"
      ]
     },
     "execution_count": 88,
     "metadata": {},
     "output_type": "execute_result"
    }
   ],
   "source": [
    "# log(n)sqrt(n)log(log(n)) time complexity probably?\n",
    "def sopf(n: int) -> int:\n",
    "    sum_ = 0\n",
    "    for i in range(2, int(math.sqrt(n)) + 1):\n",
    "        if n < i: break\n",
    "        while n%i == 0:\n",
    "            sum_ += i\n",
    "            n //= i\n",
    "    return sum_ + (n if n > 1 else 0)\n",
    "\n",
    "def pivot_sopf(n: int) -> int:\n",
    "    while n != (n := sopf(n)): pass\n",
    "    return n\n",
    "\n",
    "pivot_sopf(n)\n",
    "    "
   ]
  },
  {
   "cell_type": "code",
   "execution_count": 93,
   "id": "42c4d15c",
   "metadata": {},
   "outputs": [],
   "source": [
    "n = 1000000000"
   ]
  },
  {
   "cell_type": "code",
   "execution_count": 78,
   "id": "2e7b2432",
   "metadata": {},
   "outputs": [
    {
     "name": "stdout",
     "output_type": "stream",
     "text": [
      "CPU times: user 3.27 ms, sys: 0 ns, total: 3.27 ms\n",
      "Wall time: 3.24 ms\n"
     ]
    },
    {
     "data": {
      "text/plain": [
       "13"
      ]
     },
     "execution_count": 78,
     "metadata": {},
     "output_type": "execute_result"
    }
   ],
   "source": [
    "%%time\n",
    "pivot_sopf_sieve(n)"
   ]
  },
  {
   "cell_type": "code",
   "execution_count": 94,
   "id": "7890886d",
   "metadata": {},
   "outputs": [
    {
     "name": "stdout",
     "output_type": "stream",
     "text": [
      "CPU times: user 16 µs, sys: 1 µs, total: 17 µs\n",
      "Wall time: 20.3 µs\n"
     ]
    },
    {
     "data": {
      "text/plain": [
       "13"
      ]
     },
     "execution_count": 94,
     "metadata": {},
     "output_type": "execute_result"
    }
   ],
   "source": [
    "%%time\n",
    "pivot_sopf(n)"
   ]
  },
  {
   "cell_type": "markdown",
   "id": "e964cb75-c93a-4dac-ac93-5acad861a547",
   "metadata": {},
   "source": [
    "## PROBLEM 3"
   ]
  },
  {
   "cell_type": "code",
   "execution_count": null,
   "id": "2d1a3135-372b-456d-865f-e8782988caaa",
   "metadata": {},
   "outputs": [],
   "source": [
    "nodes = [1, 2, 3, 4]\n",
    "m = len(nodes)\n",
    "for mask in range(1, 1 << 4):\n",
    "    if mask.bit_count() != 2: continue\n",
    "    pairs = [[] for _ in range(2)]\n",
    "    for i in range(m):\n",
    "        if (mask>>i)&1:\n",
    "            pairs[0].append(nodes[i])\n",
    "        else:\n",
    "            pairs[1].append(nodes[i])\n",
    "    print(pairs, bin(mask)[2:])\n",
    "\n",
    "def bad_adjacent(nodes):\n",
    "    if len(node) == 2: return False\n",
    "    x1, x2, x3, x4 = nodes\n",
    "    if (adj_list[x1] & {x2, x3, x4}) > 1 or (adj_list[x2] & {x1, x3, x4}) > 1 or (adj_list[x3] & {x1, x2, x4}) > 1 or (adj_list[x4] & {x1, x2, x3}) > 1:\n",
    "        return True\n"
   ]
  },
  {
   "cell_type": "code",
   "execution_count": null,
   "id": "dc329895",
   "metadata": {},
   "outputs": [],
   "source": [
    "6\n",
    "[[1,2],[1,3],[1,4],[4,5],[5,6]]\n",
    "\n",
    "11\n",
    "[[5,9],[8,1],[2,3],[7,10],[3,6],[6,7],[7,8],[5,1],[5,7],[10,11],[3,7],[6,11],[8,11],[3,4],[8,9],[9,1],[2,10],[9,11],[5,11],[2,5],[8,10],[2,7],[4,1],[3,10],[6,1],[4,9],[4,6],[4,5],[2,4],[2,11],[5,8],[6,9],[4,10],[3,11],[4,7],[3,5],[7,1],[2,9],[6,10],[10,1],[5,6],[3,9],[2,6],[7,9],[4,11],[4,8],[6,8],[3,8],[9,10],[5,10],[2,8],[7,11]]\n"
   ]
  },
  {
   "cell_type": "markdown",
   "id": "fa068287-aec6-493e-8d3d-778e5beab149",
   "metadata": {},
   "source": [
    "## PROBLEM 4"
   ]
  },
  {
   "cell_type": "code",
   "execution_count": null,
   "id": "192d964b-5e61-48be-979d-31dc14c308ca",
   "metadata": {},
   "outputs": [],
   "source": [
    "def cycleLengthQueries(n: int, queries: List[List[int]]) -> List[int]:\n",
    "    m = len(queries)\n",
    "    def lca_depth(u: int, v: int) -> int:\n",
    "        du = dv = 0\n",
    "        while  u != v:\n",
    "            if u > v:\n",
    "                u >>= 1\n",
    "                du += 1\n",
    "            if v > u:\n",
    "                v >>= 1\n",
    "                dv += 1\n",
    "        return du + dv\n",
    "    answer = [0]*m\n",
    "    for i, (u, v) in enumerate(queries):\n",
    "        answer[i] = lca_depth(u, v) + 1\n",
    "    return answer"
   ]
  },
  {
   "cell_type": "code",
   "execution_count": null,
   "id": "98acc306",
   "metadata": {},
   "outputs": [],
   "source": [
    "n = 30\n",
    "cycleLengthQueries(n, [[1, 2**30-1]])"
   ]
  },
  {
   "cell_type": "code",
   "execution_count": null,
   "id": "03a035a4",
   "metadata": {},
   "outputs": [],
   "source": []
  }
 ],
 "metadata": {
  "kernelspec": {
   "display_name": "programming",
   "language": "python",
   "name": "python3"
  },
  "language_info": {
   "codemirror_mode": {
    "name": "ipython",
    "version": 3
   },
   "file_extension": ".py",
   "mimetype": "text/x-python",
   "name": "python",
   "nbconvert_exporter": "python",
   "pygments_lexer": "ipython3",
   "version": "3.10.0"
  },
  "vscode": {
   "interpreter": {
    "hash": "05a440cbc0a4d5663111a9b3b9ea59349399813ac6e64ad16052767f7ba4c947"
   }
  }
 },
 "nbformat": 4,
 "nbformat_minor": 5
}
