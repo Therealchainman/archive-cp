{
 "cells": [
  {
   "cell_type": "code",
   "execution_count": null,
   "id": "0a4ffb96-5a3a-438a-b229-0f0b5659e1d4",
   "metadata": {},
   "outputs": [],
   "source": []
  },
  {
   "cell_type": "markdown",
   "id": "ef9c92ed-e289-4468-a485-db6d3fefe196",
   "metadata": {},
   "source": [
    "# ALGORITHM"
   ]
  },
  {
   "cell_type": "code",
   "execution_count": null,
   "id": "edc435c1-fbf2-417c-9268-e763ecd14f2c",
   "metadata": {},
   "outputs": [],
   "source": [
    "def main(L, N):\n",
    "    laps = pos = 0\n",
    "    start = None\n",
    "    for _ in range(N):\n",
    "        dist, dir = input().split()\n",
    "        dist = int(dist)\n",
    "        remainingLaps = pos if dir == 'A' else (L - pos)%L\n",
    "        sign = 1 if dir == 'C' else -1\n",
    "        pos = (pos + sign*dist) % L\n",
    "        if dist >= remainingLaps:\n",
    "            currentLaps = 1 if remainingLaps > 0 and start == dir else 0\n",
    "            dist -= remainingLaps\n",
    "            currentLaps += dist // L\n",
    "            laps += currentLaps\n",
    "            start = dir\n",
    "        print('pos, laps, start', pos, laps, start)\n",
    "    return laps"
   ]
  },
  {
   "cell_type": "code",
   "execution_count": null,
   "id": "188efa2d-8d2a-4729-b077-dd4f0eb6c428",
   "metadata": {
    "tags": []
   },
   "outputs": [],
   "source": [
    "main(10, 10)"
   ]
  },
  {
   "cell_type": "code",
   "execution_count": null,
   "id": "4a27db40-a6e0-4f0c-8839-5e6b0cede9eb",
   "metadata": {},
   "outputs": [],
   "source": [
    "import re\n",
    "\n",
    "s = '[1518-11-01 00:00] Guard #10 begins shift'\n",
    "pattern = r\"#[0-9]*\"\n",
    "m = re.search(pattern, s)"
   ]
  },
  {
   "cell_type": "code",
   "execution_count": null,
   "id": "b526eca2-09da-4e12-afe7-e75148528748",
   "metadata": {},
   "outputs": [],
   "source": [
    "m.group(0)"
   ]
  },
  {
   "cell_type": "code",
   "execution_count": null,
   "id": "3271e15a-dd98-472b-b00f-b2aa997c454e",
   "metadata": {},
   "outputs": [],
   "source": []
  },
  {
   "cell_type": "code",
   "execution_count": null,
   "id": "88b23ccf-43dc-46bf-a08c-8a0fe58d5084",
   "metadata": {},
   "outputs": [],
   "source": []
  },
  {
   "cell_type": "code",
   "execution_count": null,
   "id": "a2d6a2c0-47a7-4ec9-8300-4d4e2bfbeb8b",
   "metadata": {},
   "outputs": [],
   "source": []
  },
  {
   "cell_type": "code",
   "execution_count": null,
   "id": "c73cb751-6a93-47a5-84c4-1ecc6c8a3a86",
   "metadata": {},
   "outputs": [],
   "source": []
  }
 ],
 "metadata": {
  "kernelspec": {
   "display_name": "Python 3 (ipykernel)",
   "language": "python",
   "name": "python3"
  },
  "language_info": {
   "codemirror_mode": {
    "name": "ipython",
    "version": 3
   },
   "file_extension": ".py",
   "mimetype": "text/x-python",
   "name": "python",
   "nbconvert_exporter": "python",
   "pygments_lexer": "ipython3",
   "version": "3.10.0"
  }
 },
 "nbformat": 4,
 "nbformat_minor": 5
}
