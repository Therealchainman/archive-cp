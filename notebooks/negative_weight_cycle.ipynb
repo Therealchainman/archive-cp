{
 "cells": [
  {
   "cell_type": "code",
   "execution_count": 2,
   "metadata": {},
   "outputs": [],
   "source": [
    "import math\n",
    "from typing import List"
   ]
  },
  {
   "cell_type": "code",
   "execution_count": 13,
   "metadata": {},
   "outputs": [],
   "source": [
    "\"\"\"\n",
    "bellman ford algorithm can be used to detect negative weight cycles in directed graph easily,\n",
    "in order to print out the negative weight cycle nodes, that will need a parent array\n",
    "\"\"\"\n",
    "def bellmanFord(n: int, src: int, edges: List[List[int]]) -> List[int]:\n",
    "    dist = [math.inf]*n\n",
    "    parents = [-1]*n\n",
    "    dist[src] = 0\n",
    "    last_node_updated = None\n",
    "    for _ in range(n):\n",
    "        last_node_updated = None\n",
    "        for u, v, w in edges:\n",
    "            if dist[u] + w < dist[v]:\n",
    "                dist[v] = dist[u] + w\n",
    "                parents[v] = u\n",
    "                last_node_updated = v\n",
    "    print(parents)\n",
    "    if last_node_updated is None: return 'NO'\n",
    "    cycle = []\n",
    "    for _ in range(n):\n",
    "        last_node_updated = parents[last_node_updated]\n",
    "    node = last_node_updated\n",
    "    while True:\n",
    "        if node == last_node_updated and cycle: break\n",
    "        cycle.append(node)\n",
    "        node = parents[node]\n",
    "    print('YES')\n",
    "    return print(*reversed(cycle))"
   ]
  },
  {
   "cell_type": "code",
   "execution_count": 14,
   "metadata": {},
   "outputs": [
    {
     "name": "stdout",
     "output_type": "stream",
     "text": [
      "[4, 0, 1, 2, 3]\n",
      "YES\n",
      "1 2 3 4 0\n"
     ]
    }
   ],
   "source": [
    "n = 5\n",
    "edges = [(0, 1, 1), (1, 2, 1), (2, 3, 3), (3, 4, -3), (4, 0, -3)]\n",
    "bellmanFord(n, 0, edges)"
   ]
  },
  {
   "cell_type": "code",
   "execution_count": null,
   "metadata": {},
   "outputs": [],
   "source": []
  }
 ],
 "metadata": {
  "kernelspec": {
   "display_name": "programming",
   "language": "python",
   "name": "python3"
  },
  "language_info": {
   "codemirror_mode": {
    "name": "ipython",
    "version": 3
   },
   "file_extension": ".py",
   "mimetype": "text/x-python",
   "name": "python",
   "nbconvert_exporter": "python",
   "pygments_lexer": "ipython3",
   "version": "3.10.0"
  },
  "orig_nbformat": 4,
  "vscode": {
   "interpreter": {
    "hash": "05a440cbc0a4d5663111a9b3b9ea59349399813ac6e64ad16052767f7ba4c947"
   }
  }
 },
 "nbformat": 4,
 "nbformat_minor": 2
}
