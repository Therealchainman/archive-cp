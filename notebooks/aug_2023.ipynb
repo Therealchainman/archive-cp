{
 "cells": [
  {
   "cell_type": "code",
   "execution_count": 10,
   "metadata": {},
   "outputs": [
    {
     "name": "stdout",
     "output_type": "stream",
     "text": [
      "2529\n"
     ]
    }
   ],
   "source": [
    "arr = list(range(1, 21))\n",
    "arr[-1], arr[-2], arr[-3], arr[-4], arr[-5], arr[-6] = arr[-6], arr[-5], arr[-4], arr[-3], arr[-2], arr[-1]\n",
    "v = sum(p * i for i, p in enumerate(arr, start = 1))\n",
    "u = max(p * i for i, p in enumerate(arr, start = 1))\n",
    "print(v - u)"
   ]
  },
  {
   "cell_type": "code",
   "execution_count": 7,
   "metadata": {},
   "outputs": [
    {
     "data": {
      "text/plain": [
       "303"
      ]
     },
     "execution_count": 7,
     "metadata": {},
     "output_type": "execute_result"
    }
   ],
   "source": [
    "v - u + 18"
   ]
  },
  {
   "cell_type": "code",
   "execution_count": 11,
   "metadata": {},
   "outputs": [
    {
     "data": {
      "text/plain": [
       "125000000"
      ]
     },
     "execution_count": 11,
     "metadata": {},
     "output_type": "execute_result"
    }
   ],
   "source": [
    "500*500*500"
   ]
  },
  {
   "cell_type": "code",
   "execution_count": 1,
   "metadata": {},
   "outputs": [
    {
     "data": {
      "text/plain": [
       "(3.75, 7.0)"
      ]
     },
     "execution_count": 1,
     "metadata": {},
     "output_type": "execute_result"
    }
   ],
   "source": [
    "x = 1/4 + 2/4 + 4/4 + 8/4\n",
    "y = 5/2 + 9/2\n",
    "x, y"
   ]
  },
  {
   "cell_type": "code",
   "execution_count": 2,
   "metadata": {},
   "outputs": [
    {
     "data": {
      "text/plain": [
       "14.5"
      ]
     },
     "execution_count": 2,
     "metadata": {},
     "output_type": "execute_result"
    }
   ],
   "source": [
    "2*x + y"
   ]
  },
  {
   "cell_type": "code",
   "execution_count": 4,
   "metadata": {},
   "outputs": [
    {
     "data": {
      "text/plain": [
       "2900.0"
      ]
     },
     "execution_count": 4,
     "metadata": {},
     "output_type": "execute_result"
    }
   ],
   "source": [
    "14.5*200"
   ]
  },
  {
   "cell_type": "code",
   "execution_count": 18,
   "metadata": {},
   "outputs": [
    {
     "name": "stdout",
     "output_type": "stream",
     "text": [
      "2\n",
      "2\n"
     ]
    },
    {
     "data": {
      "text/html": [
       "<div>\n",
       "<style scoped>\n",
       "    .dataframe tbody tr th:only-of-type {\n",
       "        vertical-align: middle;\n",
       "    }\n",
       "\n",
       "    .dataframe tbody tr th {\n",
       "        vertical-align: top;\n",
       "    }\n",
       "\n",
       "    .dataframe thead th {\n",
       "        text-align: right;\n",
       "    }\n",
       "</style>\n",
       "<table border=\"1\" class=\"dataframe\">\n",
       "  <thead>\n",
       "    <tr style=\"text-align: right;\">\n",
       "      <th></th>\n",
       "      <th>sell_date</th>\n",
       "      <th>num_sold</th>\n",
       "      <th>products</th>\n",
       "    </tr>\n",
       "  </thead>\n",
       "  <tbody>\n",
       "    <tr>\n",
       "      <th>0</th>\n",
       "      <td>2023-08-01</td>\n",
       "      <td>2</td>\n",
       "      <td>a,b</td>\n",
       "    </tr>\n",
       "    <tr>\n",
       "      <th>1</th>\n",
       "      <td>2023-08-02</td>\n",
       "      <td>2</td>\n",
       "      <td>a,c</td>\n",
       "    </tr>\n",
       "  </tbody>\n",
       "</table>\n",
       "</div>"
      ],
      "text/plain": [
       "    sell_date  num_sold products\n",
       "0  2023-08-01         2      a,b\n",
       "1  2023-08-02         2      a,c"
      ]
     },
     "execution_count": 18,
     "metadata": {},
     "output_type": "execute_result"
    }
   ],
   "source": [
    "import pandas as pd\n",
    "\n",
    "def categorize_products(activities: pd.DataFrame) -> pd.DataFrame:\n",
    "  def productionalization(group):\n",
    "    # dataframe\n",
    "    num_unique = group.agg({\"product\": \"nunique\"})[0]\n",
    "    products = \",\".join(sorted(set(group[\"product\"])))\n",
    "    return pd.Series({\"num_sold\": num_unique, \"products\": products})\n",
    "  df = (\n",
    "    activities\n",
    "    .groupby(\"sell_date\", sort = False)\n",
    "    .apply(lambda row: productionalization(row))\n",
    "    .reset_index()\n",
    "    # .rename(columns = {\"product\": \"products\"})\n",
    "\n",
    "    # .agg({\"product\": \"nunique\"})\n",
    "    # .rename(columns = {\"product\": \"num_sold\"})\n",
    "  )\n",
    "  return df\n",
    "\n",
    "categorize_products(pd.DataFrame(\n",
    "  [{\"sell_date\": \"2023-08-01\", \"product\": \"a\"}, {\"sell_date\": \"2023-08-01\", \"product\": \"b\"}, \n",
    "   {\"sell_date\": \"2023-08-02\", \"product\": \"a\"}, {\"sell_date\": \"2023-08-02\", \"product\": \"c\"}]))"
   ]
  },
  {
   "cell_type": "code",
   "execution_count": 1,
   "metadata": {},
   "outputs": [
    {
     "name": "stdout",
     "output_type": "stream",
     "text": [
      "16\n",
      "32\n",
      "48\n",
      "64\n",
      "80\n",
      "96\n",
      "112\n",
      "128\n",
      "144\n",
      "160\n",
      "176\n",
      "192\n",
      "208\n",
      "224\n",
      "240\n",
      "256\n",
      "272\n",
      "288\n",
      "304\n",
      "320\n",
      "336\n",
      "352\n",
      "368\n",
      "384\n",
      "400\n",
      "416\n",
      "432\n",
      "448\n",
      "464\n",
      "480\n",
      "496\n",
      "512\n",
      "528\n",
      "544\n",
      "560\n",
      "576\n",
      "592\n",
      "608\n",
      "624\n",
      "640\n",
      "656\n",
      "672\n",
      "688\n",
      "704\n",
      "720\n",
      "736\n",
      "752\n",
      "768\n",
      "784\n",
      "800\n",
      "816\n",
      "832\n",
      "848\n",
      "864\n",
      "880\n",
      "896\n",
      "912\n",
      "928\n",
      "944\n",
      "960\n",
      "976\n",
      "992\n",
      "1008\n",
      "1024\n",
      "1040\n",
      "1056\n",
      "1072\n",
      "1088\n",
      "1104\n",
      "1120\n",
      "1136\n",
      "1152\n",
      "1168\n",
      "1184\n",
      "1200\n",
      "1216\n",
      "1232\n",
      "1248\n",
      "1264\n",
      "1280\n",
      "1296\n",
      "1312\n",
      "1328\n",
      "1344\n",
      "1360\n",
      "1376\n",
      "1392\n",
      "1408\n",
      "1424\n",
      "1440\n",
      "1456\n",
      "1472\n",
      "1488\n",
      "1504\n",
      "1520\n",
      "1536\n",
      "1552\n",
      "1568\n",
      "1584\n",
      "1600\n",
      "1616\n",
      "1632\n",
      "1648\n",
      "1664\n",
      "1680\n",
      "1696\n",
      "1712\n",
      "1728\n",
      "1744\n",
      "1760\n",
      "1776\n",
      "1792\n",
      "1808\n",
      "1824\n",
      "1840\n",
      "1856\n",
      "1872\n",
      "1888\n",
      "1904\n",
      "1920\n",
      "1936\n",
      "1952\n",
      "1968\n",
      "1984\n",
      "2000\n",
      "2016\n",
      "2032\n",
      "2048\n",
      "2064\n",
      "2080\n",
      "2096\n",
      "2112\n",
      "2128\n",
      "2144\n",
      "2160\n",
      "2176\n",
      "2192\n",
      "2208\n",
      "2224\n",
      "2240\n",
      "2256\n",
      "2272\n",
      "2288\n",
      "2304\n",
      "2320\n",
      "2336\n",
      "2352\n",
      "2368\n",
      "2384\n",
      "2400\n",
      "2416\n",
      "2432\n",
      "2448\n",
      "2464\n",
      "2480\n",
      "2496\n",
      "2512\n",
      "2528\n",
      "2544\n",
      "2560\n",
      "2576\n",
      "2592\n",
      "2608\n",
      "2624\n",
      "2640\n",
      "2656\n",
      "2672\n",
      "2688\n",
      "2704\n",
      "2720\n",
      "2736\n",
      "2752\n",
      "2768\n",
      "2784\n",
      "2800\n",
      "2816\n",
      "2832\n",
      "2848\n",
      "2864\n",
      "2880\n",
      "2896\n",
      "2912\n",
      "2928\n",
      "2944\n",
      "2960\n",
      "2976\n",
      "2992\n",
      "3008\n",
      "3024\n",
      "3040\n",
      "3056\n",
      "3072\n",
      "3088\n",
      "3104\n",
      "3120\n",
      "3136\n",
      "3152\n",
      "3168\n",
      "3184\n",
      "3200\n",
      "3216\n",
      "3232\n",
      "3248\n",
      "3264\n",
      "3280\n",
      "3296\n",
      "3312\n",
      "3328\n",
      "3344\n",
      "3360\n",
      "3376\n",
      "3392\n",
      "3408\n",
      "3424\n",
      "3440\n",
      "3456\n",
      "3472\n",
      "3488\n",
      "3504\n",
      "3520\n",
      "3536\n",
      "3552\n",
      "3568\n",
      "3584\n",
      "3600\n",
      "3616\n",
      "3632\n",
      "3648\n",
      "3664\n",
      "3680\n",
      "3696\n",
      "3712\n",
      "3728\n",
      "3744\n",
      "3760\n",
      "3776\n",
      "3792\n",
      "3808\n",
      "3824\n",
      "3840\n",
      "3856\n",
      "3872\n",
      "3888\n",
      "3904\n",
      "3920\n",
      "3936\n",
      "3952\n",
      "3968\n",
      "3984\n",
      "4000\n",
      "4016\n",
      "4032\n",
      "4048\n",
      "4064\n",
      "4080\n",
      "4096\n",
      "4112\n",
      "4128\n",
      "4144\n",
      "4160\n",
      "4176\n",
      "4192\n",
      "4208\n",
      "4224\n",
      "4240\n",
      "4256\n",
      "4272\n",
      "4288\n",
      "4304\n",
      "4320\n",
      "4336\n",
      "4352\n",
      "4368\n",
      "4384\n",
      "4400\n",
      "4416\n",
      "4432\n",
      "4448\n",
      "4464\n",
      "4480\n",
      "4496\n",
      "4512\n",
      "4528\n",
      "4544\n",
      "4560\n",
      "4576\n",
      "4592\n",
      "4608\n",
      "4624\n",
      "4640\n",
      "4656\n",
      "4672\n",
      "4688\n",
      "4704\n",
      "4720\n",
      "4736\n",
      "4752\n",
      "4768\n",
      "4784\n",
      "4800\n",
      "4816\n",
      "4832\n",
      "4848\n",
      "4864\n",
      "4880\n",
      "4896\n",
      "4912\n",
      "4928\n",
      "4944\n",
      "4960\n",
      "4976\n",
      "4992\n",
      "5008\n",
      "5024\n",
      "5040\n",
      "5056\n",
      "5072\n",
      "5088\n",
      "5104\n",
      "5120\n",
      "5136\n",
      "5152\n",
      "5168\n",
      "5184\n",
      "5200\n",
      "5216\n",
      "5232\n",
      "5248\n",
      "5264\n",
      "5280\n",
      "5296\n",
      "5312\n",
      "5328\n",
      "5344\n",
      "5360\n",
      "5376\n",
      "5392\n",
      "5408\n",
      "5424\n",
      "5440\n",
      "5456\n",
      "5472\n",
      "5488\n",
      "5504\n",
      "5520\n",
      "5536\n",
      "5552\n",
      "5568\n",
      "5584\n",
      "5600\n",
      "5616\n",
      "5632\n",
      "5648\n",
      "5664\n",
      "5680\n",
      "5696\n",
      "5712\n",
      "5728\n",
      "5744\n",
      "5760\n",
      "5776\n",
      "5792\n",
      "5808\n",
      "5824\n",
      "5840\n",
      "5856\n",
      "5872\n",
      "5888\n",
      "5904\n",
      "5920\n",
      "5936\n",
      "5952\n",
      "5968\n",
      "5984\n",
      "6000\n",
      "6016\n",
      "6032\n",
      "6048\n",
      "6064\n",
      "6080\n",
      "6096\n",
      "6112\n",
      "6128\n",
      "6144\n",
      "6160\n",
      "6176\n",
      "6192\n",
      "6208\n",
      "6224\n",
      "6240\n",
      "6256\n",
      "6272\n",
      "6288\n",
      "6304\n",
      "6320\n",
      "6336\n",
      "6352\n",
      "6368\n",
      "6384\n",
      "6400\n",
      "6416\n",
      "6432\n",
      "6448\n",
      "6464\n",
      "6480\n",
      "6496\n",
      "6512\n",
      "6528\n",
      "6544\n",
      "6560\n",
      "6576\n",
      "6592\n",
      "6608\n",
      "6624\n",
      "6640\n",
      "6656\n",
      "6672\n",
      "6688\n",
      "6704\n",
      "6720\n",
      "6736\n",
      "6752\n",
      "6768\n",
      "6784\n",
      "6800\n",
      "6816\n",
      "6832\n",
      "6848\n",
      "6864\n",
      "6880\n",
      "6896\n",
      "6912\n",
      "6928\n",
      "6944\n",
      "6960\n",
      "6976\n",
      "6992\n",
      "7008\n",
      "7024\n",
      "7040\n",
      "7056\n",
      "7072\n",
      "7088\n",
      "7104\n",
      "7120\n",
      "7136\n",
      "7152\n",
      "7168\n",
      "7184\n",
      "7200\n",
      "7216\n",
      "7232\n",
      "7248\n",
      "7264\n",
      "7280\n",
      "7296\n",
      "7312\n",
      "7328\n",
      "7344\n",
      "7360\n",
      "7376\n",
      "7392\n",
      "7408\n",
      "7424\n",
      "7440\n",
      "7456\n",
      "7472\n",
      "7488\n",
      "7504\n",
      "7520\n",
      "7536\n",
      "7552\n",
      "7568\n",
      "7584\n",
      "7600\n",
      "7616\n",
      "7632\n",
      "7648\n",
      "7664\n",
      "7680\n",
      "7696\n",
      "7712\n",
      "7728\n",
      "7744\n",
      "7760\n",
      "7776\n",
      "7792\n",
      "7808\n",
      "7824\n",
      "7840\n",
      "7856\n",
      "7872\n",
      "7888\n",
      "7904\n",
      "7920\n",
      "7936\n",
      "7952\n",
      "7968\n",
      "7984\n",
      "8000\n",
      "8016\n",
      "8032\n",
      "8048\n",
      "8064\n",
      "8080\n",
      "8096\n",
      "8112\n",
      "8128\n",
      "8144\n",
      "8160\n",
      "8176\n",
      "8192\n",
      "8208\n",
      "8224\n",
      "8240\n",
      "8256\n",
      "8272\n",
      "8288\n",
      "8304\n",
      "8320\n",
      "8336\n",
      "8352\n",
      "8368\n",
      "8384\n",
      "8400\n",
      "8416\n",
      "8432\n",
      "8448\n",
      "8464\n",
      "8480\n",
      "8496\n",
      "8512\n",
      "8528\n",
      "8544\n",
      "8560\n",
      "8576\n",
      "8592\n",
      "8608\n",
      "8624\n",
      "8640\n",
      "8656\n",
      "8672\n",
      "8688\n",
      "8704\n",
      "8720\n",
      "8736\n",
      "8752\n",
      "8768\n",
      "8784\n",
      "8800\n",
      "8816\n",
      "8832\n",
      "8848\n",
      "8864\n",
      "8880\n",
      "8896\n",
      "8912\n",
      "8928\n",
      "8944\n",
      "8960\n",
      "8976\n",
      "8992\n",
      "9008\n",
      "9024\n",
      "9040\n",
      "9056\n",
      "9072\n",
      "9088\n",
      "9104\n",
      "9120\n",
      "9136\n",
      "9152\n",
      "9168\n",
      "9184\n",
      "9200\n",
      "9216\n",
      "9232\n",
      "9248\n",
      "9264\n",
      "9280\n",
      "9296\n",
      "9312\n",
      "9328\n",
      "9344\n",
      "9360\n",
      "9376\n",
      "9392\n",
      "9408\n",
      "9424\n",
      "9440\n",
      "9456\n",
      "9472\n",
      "9488\n",
      "9504\n",
      "9520\n",
      "9536\n",
      "9552\n",
      "9568\n",
      "9584\n",
      "9600\n",
      "9616\n",
      "9632\n",
      "9648\n",
      "9664\n",
      "9680\n",
      "9696\n",
      "9712\n",
      "9728\n",
      "9744\n",
      "9760\n",
      "9776\n",
      "9792\n",
      "9808\n",
      "9824\n",
      "9840\n",
      "9856\n",
      "9872\n",
      "9888\n",
      "9904\n",
      "9920\n",
      "9936\n",
      "9952\n",
      "9968\n",
      "9984\n"
     ]
    }
   ],
   "source": [
    "i = 16\n",
    "for j in range(i, 10_000, i):\n",
    "    print(j)"
   ]
  },
  {
   "cell_type": "code",
   "execution_count": 6,
   "metadata": {},
   "outputs": [],
   "source": []
  },
  {
   "cell_type": "code",
   "execution_count": 19,
   "metadata": {},
   "outputs": [
    {
     "name": "stdout",
     "output_type": "stream",
     "text": [
      "19010\n",
      "731\n",
      "28\n",
      "1\n",
      "0\n",
      "[4, 3, 2, 1, 0]\n"
     ]
    }
   ],
   "source": [
    "x = 494_265\n",
    "base = 26\n",
    "vals = []\n",
    "while x > 0:\n",
    "    x -= 1\n",
    "    cur = x % base\n",
    "    vals.append(cur)\n",
    "    x //= base\n",
    "    print(x)\n",
    "print(vals)"
   ]
  },
  {
   "cell_type": "markdown",
   "metadata": {},
   "source": []
  },
  {
   "cell_type": "code",
   "execution_count": 22,
   "metadata": {},
   "outputs": [
    {
     "name": "stdout",
     "output_type": "stream",
     "text": [
      "26\n",
      "0\n",
      "[24, 25]\n"
     ]
    }
   ],
   "source": [
    "x = 701\n",
    "base = 26\n",
    "vals = []\n",
    "while x > 0:\n",
    "    x -= 1\n",
    "    cur = x % base\n",
    "    vals.append(cur)\n",
    "    x //= base\n",
    "    print(x)\n",
    "print(vals)\n"
   ]
  },
  {
   "cell_type": "code",
   "execution_count": 23,
   "metadata": {},
   "outputs": [
    {
     "data": {
      "text/plain": [
       "26"
      ]
     },
     "execution_count": 23,
     "metadata": {},
     "output_type": "execute_result"
    }
   ],
   "source": [
    "700//26"
   ]
  },
  {
   "cell_type": "code",
   "execution_count": 27,
   "metadata": {},
   "outputs": [
    {
     "data": {
      "text/plain": [
       "6.595127660011333"
      ]
     },
     "execution_count": 27,
     "metadata": {},
     "output_type": "execute_result"
    }
   ],
   "source": [
    "import math\n",
    "math.log(2**31 - 1, 26)"
   ]
  },
  {
   "cell_type": "code",
   "execution_count": 2,
   "metadata": {},
   "outputs": [
    {
     "name": "stdout",
     "output_type": "stream",
     "text": [
      "351\n"
     ]
    }
   ],
   "source": [
    "import math\n",
    "print(math.comb(27, 2))"
   ]
  },
  {
   "cell_type": "code",
   "execution_count": 1,
   "metadata": {},
   "outputs": [
    {
     "data": {
      "text/plain": [
       "3628800"
      ]
     },
     "execution_count": 1,
     "metadata": {},
     "output_type": "execute_result"
    }
   ],
   "source": [
    "import math \n",
    "math.factorial(10)"
   ]
  },
  {
   "cell_type": "code",
   "execution_count": 11,
   "metadata": {},
   "outputs": [
    {
     "name": "stdout",
     "output_type": "stream",
     "text": [
      "340,282,366,920,938,463,463,374,607,431,768,211,456\n"
     ]
    }
   ],
   "source": [
    "print(f\"{4**64:,}\")"
   ]
  },
  {
   "cell_type": "code",
   "execution_count": 18,
   "metadata": {},
   "outputs": [
    {
     "name": "stdout",
     "output_type": "stream",
     "text": [
      "[1, 2, 7]\n",
      "1023\n"
     ]
    }
   ],
   "source": [
    "n = 14\n",
    "def divisors(v):\n",
    "    yield 1\n",
    "    for i in range(2, int(math.sqrt(v)) + 1):\n",
    "        if v % i == 0:\n",
    "            yield i\n",
    "            yield v // i\n",
    "print(list(divisors(n)))\n",
    "thres = 1_000_000_000\n",
    "mx = 0\n",
    "for i in range(thres - 2000, thres + 1):\n",
    "    # print('i', i, 'num unique divisors', len(set(divisors(i))))\n",
    "    mx = max(mx, len(set(divisors(i))))\n",
    "print(mx)"
   ]
  },
  {
   "cell_type": "code",
   "execution_count": 19,
   "metadata": {},
   "outputs": [
    {
     "data": {
      "text/plain": [
       "32"
      ]
     },
     "execution_count": 19,
     "metadata": {},
     "output_type": "execute_result"
    }
   ],
   "source": [
    "2**5"
   ]
  },
  {
   "cell_type": "code",
   "execution_count": 22,
   "metadata": {},
   "outputs": [
    {
     "data": {
      "text/plain": [
       "'0b1100'"
      ]
     },
     "execution_count": 22,
     "metadata": {},
     "output_type": "execute_result"
    }
   ],
   "source": [
    "bin(12)"
   ]
  },
  {
   "cell_type": "code",
   "execution_count": 27,
   "metadata": {},
   "outputs": [
    {
     "data": {
      "text/plain": [
       "5"
      ]
     },
     "execution_count": 27,
     "metadata": {},
     "output_type": "execute_result"
    }
   ],
   "source": [
    "bin(32)[2:][::-1].index(\"1\")"
   ]
  },
  {
   "cell_type": "code",
   "execution_count": 6,
   "metadata": {},
   "outputs": [
    {
     "name": "stdout",
     "output_type": "stream",
     "text": [
      "17,179,869,184\n"
     ]
    }
   ],
   "source": [
    "print(f\"{2**34:,}\")"
   ]
  },
  {
   "cell_type": "code",
   "execution_count": 32,
   "metadata": {},
   "outputs": [
    {
     "data": {
      "text/plain": [
       "True"
      ]
     },
     "execution_count": 32,
     "metadata": {},
     "output_type": "execute_result"
    }
   ],
   "source": [
    "2**34 > 10**10"
   ]
  },
  {
   "cell_type": "code",
   "execution_count": 1,
   "metadata": {},
   "outputs": [
    {
     "data": {
      "text/plain": [
       "1307674368000"
      ]
     },
     "execution_count": 1,
     "metadata": {},
     "output_type": "execute_result"
    }
   ],
   "source": [
    "import math\n",
    "math.factorial(15)"
   ]
  },
  {
   "cell_type": "code",
   "execution_count": 3,
   "metadata": {},
   "outputs": [
    {
     "data": {
      "text/plain": [
       "120"
      ]
     },
     "execution_count": 3,
     "metadata": {},
     "output_type": "execute_result"
    }
   ],
   "source": [
    "f = lambda x: (x - 1) * x // 2\n",
    "f(16)"
   ]
  },
  {
   "cell_type": "code",
   "execution_count": 4,
   "metadata": {},
   "outputs": [
    {
     "name": "stdout",
     "output_type": "stream",
     "text": [
      "[1, 1, 3, 15, 105, 945, 10395, 135135, 2027025]\n"
     ]
    }
   ],
   "source": [
    "dp = [0] * 9\n",
    "dp[0] = 1\n",
    "for i in range(1, 9):\n",
    "    dp[i] = (2 * i - 1) * dp[i - 1]\n",
    "print(dp)"
   ]
  },
  {
   "cell_type": "code",
   "execution_count": 8,
   "metadata": {},
   "outputs": [
    {
     "name": "stdout",
     "output_type": "stream",
     "text": [
      "i 1 26\n",
      "i 2 325\n",
      "i 3 2600\n",
      "i 4 14950\n",
      "i 5 65780\n",
      "i 6 230230\n",
      "i 7 657800\n",
      "i 8 1562275\n",
      "i 9 3124550\n",
      "i 10 5311735\n",
      "i 11 7726160\n",
      "i 12 9657700\n",
      "i 13 10400600\n",
      "i 14 9657700\n",
      "i 15 7726160\n",
      "i 16 5311735\n",
      "i 17 3124550\n",
      "i 18 1562275\n",
      "i 19 657800\n",
      "i 20 230230\n",
      "i 21 65780\n",
      "i 22 14950\n",
      "i 23 2600\n",
      "i 24 325\n",
      "i 25 26\n",
      "i 26 1\n"
     ]
    }
   ],
   "source": [
    "for i in range(1, 27):\n",
    "    print(\"i\", i, math.comb(26, i))"
   ]
  },
  {
   "cell_type": "code",
   "execution_count": 12,
   "metadata": {},
   "outputs": [
    {
     "data": {
      "text/plain": [
       "10400600"
      ]
     },
     "execution_count": 12,
     "metadata": {},
     "output_type": "execute_result"
    }
   ],
   "source": [
    "import string\n",
    "s = string.ascii_lowercase\n",
    "from itertools import combinations\n",
    "len(list(combinations(s, 13)))"
   ]
  },
  {
   "cell_type": "code",
   "execution_count": 13,
   "metadata": {},
   "outputs": [
    {
     "data": {
      "text/plain": [
       "67108864"
      ]
     },
     "execution_count": 13,
     "metadata": {},
     "output_type": "execute_result"
    }
   ],
   "source": [
    "2**26"
   ]
  },
  {
   "cell_type": "code",
   "execution_count": 1,
   "metadata": {},
   "outputs": [
    {
     "data": {
      "text/plain": [
       "13.28771237954945"
      ]
     },
     "execution_count": 1,
     "metadata": {},
     "output_type": "execute_result"
    }
   ],
   "source": [
    "x = 10_000\n",
    "import math\n",
    "math.log(x, 2)"
   ]
  },
  {
   "cell_type": "code",
   "execution_count": null,
   "metadata": {},
   "outputs": [],
   "source": []
  }
 ],
 "metadata": {
  "kernelspec": {
   "display_name": "programming",
   "language": "python",
   "name": "python3"
  },
  "language_info": {
   "codemirror_mode": {
    "name": "ipython",
    "version": 3
   },
   "file_extension": ".py",
   "mimetype": "text/x-python",
   "name": "python",
   "nbconvert_exporter": "python",
   "pygments_lexer": "ipython3",
   "version": "3.11.3"
  },
  "orig_nbformat": 4
 },
 "nbformat": 4,
 "nbformat_minor": 2
}
