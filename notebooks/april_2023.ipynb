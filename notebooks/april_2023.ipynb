{
 "cells": [
  {
   "cell_type": "code",
   "execution_count": null,
   "metadata": {},
   "outputs": [],
   "source": [
    "for i in range(1, 5):\n",
    "    print(2%i)"
   ]
  },
  {
   "cell_type": "code",
   "execution_count": 8,
   "metadata": {},
   "outputs": [],
   "source": [
    "def main(N, L, R, piles):\n",
    "    total = sum(piles)\n",
    "    def grundy(idx, remaining, num_piles):\n",
    "        # winning state for player\n",
    "        if num_piles == 1 and L <= remaining <= R: return 1 \n",
    "        # losing state for player\n",
    "        if num_piles == 1 and remaining < L: return 0\n",
    "        grundy_numbers = set()\n",
    "        for i in range(N):\n",
    "            for take in range(L, min(R, piles[i]) + 1):\n",
    "                piles[i] -= take\n",
    "                new_num_piles = num_piles - (1 if piles[i] < L else 0)\n",
    "                grundy_numbers.add(grundy(idx + 1, remaining - take, new_num_piles))\n",
    "                piles[i] += take\n",
    "        res = next(dropwhile(lambda i: i in grundy_numbers, range(100_000)))\n",
    "        return res\n",
    "    num_piles = sum((1 for p in piles if p >= L))\n",
    "    grundy_number = grundy(0, total, num_piles)\n",
    "    return \"First\" if grundy_number > 0 else \"Second\""
   ]
  },
  {
   "cell_type": "code",
   "execution_count": 17,
   "metadata": {},
   "outputs": [],
   "source": [
    "piles = [30]\n",
    "# mat = [[-1 for _ in range(32)] for _ in range(32)]\n",
    "from itertools import product, dropwhile\n",
    "for left in range(1, 32):\n",
    "    for right in range(left, 32):\n",
    "        # mat[left][right] = main(len(piles), left, right, piles)\n",
    "        # print(f\"left: {left}, right: {right}, res: {main(len(piles), left, right, piles)}\")\n",
    "    "
   ]
  },
  {
   "cell_type": "markdown",
   "metadata": {},
   "source": [
    "# POINT IN CONVEX POLYGON"
   ]
  },
  {
   "cell_type": "code",
   "execution_count": null,
   "metadata": {},
   "outputs": [],
   "source": []
  },
  {
   "cell_type": "code",
   "execution_count": null,
   "metadata": {},
   "outputs": [],
   "source": []
  },
  {
   "cell_type": "code",
   "execution_count": null,
   "metadata": {},
   "outputs": [],
   "source": []
  },
  {
   "cell_type": "code",
   "execution_count": null,
   "metadata": {},
   "outputs": [],
   "source": []
  }
 ],
 "metadata": {
  "kernelspec": {
   "display_name": "programming",
   "language": "python",
   "name": "python3"
  },
  "language_info": {
   "codemirror_mode": {
    "name": "ipython",
    "version": 3
   },
   "file_extension": ".py",
   "mimetype": "text/x-python",
   "name": "python",
   "nbconvert_exporter": "python",
   "pygments_lexer": "ipython3",
   "version": "3.10.0"
  },
  "orig_nbformat": 4,
  "vscode": {
   "interpreter": {
    "hash": "05a440cbc0a4d5663111a9b3b9ea59349399813ac6e64ad16052767f7ba4c947"
   }
  }
 },
 "nbformat": 4,
 "nbformat_minor": 2
}
