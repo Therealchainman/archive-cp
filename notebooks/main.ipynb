{
 "cells": [
  {
   "cell_type": "code",
   "execution_count": 2,
   "metadata": {},
   "outputs": [],
   "source": [
    "from collections import *\n",
    "from functools import *\n",
    "from itertools import *\n",
    "import operator\n",
    "import sys\n",
    "import re\n",
    "import math\n",
    "import string\n",
    "import bisect\n",
    "import parse\n",
    "import matplotlib.pyplot as plt\n",
    "import numpy as np\n",
    "import heapq\n",
    "from matplotlib.path import Path\n",
    "import ast\n",
    "import hashlib\n",
    "import unittest\n",
    "import copy\n",
    "from dataclasses import dataclass, field\n",
    "import sympy\n",
    "import networkx as nx\n",
    "from pyvis.network import Network\n",
    "from typing import *\n",
    "from shapely.geometry import Polygon\n",
    "import random"
   ]
  },
  {
   "cell_type": "code",
   "execution_count": 3,
   "metadata": {},
   "outputs": [],
   "source": [
    "def print_(x):\n",
    "    print(f\"{x:,}\")"
   ]
  },
  {
   "cell_type": "code",
   "execution_count": 36,
   "metadata": {},
   "outputs": [
    {
     "name": "stdout",
     "output_type": "stream",
     "text": [
      "15\n"
     ]
    }
   ],
   "source": [
    "arr = list(range(1, 7))\n",
    "partitions = []\n",
    "cnt = 0\n",
    "seen = set()\n",
    "seen2 = set()\n",
    "for p in map(list, permutations(arr)):\n",
    "    arr = []\n",
    "    i = p.index(1)\n",
    "    for _ in range(6):\n",
    "        arr.append(p[i])\n",
    "        i = (i + 1) % 6\n",
    "    if tuple(arr) in seen2:\n",
    "        continue\n",
    "    seen2.add(tuple(arr))\n",
    "    arrays = sorted([tuple(sorted(p[i : i + 2])) for i in range(0, 6, 2)])\n",
    "    if tuple(arrays) in seen:\n",
    "        continue\n",
    "    partitions.append(arrays)\n",
    "    seen.add(tuple(arrays))\n",
    "print(len(seen))"
   ]
  },
  {
   "cell_type": "code",
   "execution_count": 37,
   "metadata": {},
   "outputs": [
    {
     "data": {
      "text/plain": [
       "[[(1, 2), (3, 4), (5, 6)],\n",
       " [(1, 2), (3, 5), (4, 6)],\n",
       " [(1, 2), (3, 6), (4, 5)],\n",
       " [(1, 3), (2, 4), (5, 6)],\n",
       " [(1, 3), (2, 5), (4, 6)],\n",
       " [(1, 3), (2, 6), (4, 5)],\n",
       " [(1, 4), (2, 3), (5, 6)],\n",
       " [(1, 4), (2, 5), (3, 6)],\n",
       " [(1, 4), (2, 6), (3, 5)],\n",
       " [(1, 5), (2, 3), (4, 6)],\n",
       " [(1, 5), (2, 4), (3, 6)],\n",
       " [(1, 5), (2, 6), (3, 4)],\n",
       " [(1, 6), (2, 3), (4, 5)],\n",
       " [(1, 6), (2, 4), (3, 5)],\n",
       " [(1, 6), (2, 5), (3, 4)]]"
      ]
     },
     "execution_count": 37,
     "metadata": {},
     "output_type": "execute_result"
    }
   ],
   "source": [
    "partitions"
   ]
  },
  {
   "cell_type": "code",
   "execution_count": 41,
   "metadata": {},
   "outputs": [
    {
     "name": "stdout",
     "output_type": "stream",
     "text": [
      "45\n"
     ]
    }
   ],
   "source": [
    "x = 720 // (6 * 2 ** 3)\n",
    "print(x * 3)"
   ]
  },
  {
   "cell_type": "code",
   "execution_count": 8,
   "metadata": {},
   "outputs": [
    {
     "name": "stdout",
     "output_type": "stream",
     "text": [
      "DP with all elements: 1 1 0 1 1 1 1 0 2 2 0 1 1 1 1 0 1 1\n",
      "DP excluding 3: 1 1 0 0 0 1 1 0 1 1 0 0 0 1 1 0 0 0\n",
      "DP excluding 5: 1 1 0 1 1 0 0 0 1 1 0 1 1 0 0 0 0 0\n",
      "DP excluding 8: 1 1 0 1 1 1 1 0 1 1 0 0 0 0 0 0 0 0\n",
      "DP excluding 1: 1 0 0 1 0 1 0 0 2 0 0 1 0 1 0 0 1 0\n"
     ]
    }
   ],
   "source": [
    "arr = [3, 5, 8, 1]\n",
    "n = sum(arr)\n",
    "\n",
    "# Function to compute dp array\n",
    "def compute_dp(exclude_index=None):\n",
    "    dp = [0] * (n + 1)\n",
    "    dp[0] = 1\n",
    "    for index, x in enumerate(arr):\n",
    "        if index == exclude_index:\n",
    "            continue  # Skip the excluded element\n",
    "        for i in range(n, x - 1, -1):\n",
    "            dp[i] += dp[i - x]\n",
    "    return dp\n",
    "\n",
    "# Compute the dp array with all elements included\n",
    "original_dp = compute_dp()\n",
    "print(\"DP with all elements:\", *original_dp)\n",
    "\n",
    "# Compute dp excluding each element and print\n",
    "for index, x in enumerate(arr):\n",
    "    dp_without_x = compute_dp(exclude_index=index)\n",
    "    print(f\"DP excluding {x}:\", *dp_without_x)"
   ]
  },
  {
   "cell_type": "code",
   "execution_count": 65,
   "metadata": {},
   "outputs": [],
   "source": [
    "class Tarjans:\n",
    "    def __init__(self, n: int, edges: List[int]):\n",
    "        self.bridges = []\n",
    "        self.unvisited = math.inf\n",
    "        self.disc = [self.unvisited]*n \n",
    "        self.low = [self.unvisited]*n\n",
    "        self.cnt = 0\n",
    "        self.adjList = [[] for _ in range(n)]\n",
    "        for u, v in edges:\n",
    "            self.adjList[u].append(v)\n",
    "            self.adjList[v].append(u)\n",
    "    def run(self):\n",
    "        for x in range(len(self.adjList)):\n",
    "            if self.disc[x] != self.unvisited: continue \n",
    "            self.dfs(x)\n",
    "    def dfs(self, node: int, parent_node: Optional[int] = None) -> None:\n",
    "        if self.disc[node] != self.unvisited:\n",
    "            return\n",
    "        self.disc[node] = self.low[node] = self.cnt\n",
    "        self.cnt += 1\n",
    "        for nei_node in self.adjList[node]:\n",
    "            if nei_node == parent_node: continue\n",
    "            self.dfs(nei_node, node)\n",
    "            if self.disc[node] < self.low[nei_node]:\n",
    "                print(\"disc, low, u, v\", self.disc[node], self.low[nei_node], node, nei_node)\n",
    "                self.bridges.append([node, nei_node])\n",
    "            self.low[node] = min(self.low[node], self.low[nei_node])\n",
    "    def get_bridges(self) -> List[int]:\n",
    "        return self.bridges"
   ]
  },
  {
   "cell_type": "code",
   "execution_count": 62,
   "metadata": {},
   "outputs": [],
   "source": [
    "n = 50\n",
    "m = 52\n",
    "edges = set()\n",
    "for i in range(m):\n",
    "    while True:\n",
    "        u, v = random.randint(0, n - 1), random.randint(0, n - 1)\n",
    "        if u > v: u, v = v, u\n",
    "        if u != v and (u, v) not in edges:\n",
    "            edges.add((u, v))\n",
    "            break\n",
    "edges = list(edges)"
   ]
  },
  {
   "cell_type": "code",
   "execution_count": 69,
   "metadata": {},
   "outputs": [],
   "source": [
    "n, m = 6, 6\n",
    "edges = [(0, 3), (1, 4), (2, 5), (0, 4), (2, 4), (5, 4)]"
   ]
  },
  {
   "cell_type": "code",
   "execution_count": 72,
   "metadata": {},
   "outputs": [
    {
     "name": "stdout",
     "output_type": "stream",
     "text": [
      "disc, low, u, v 0 1 0 3\n",
      "disc, low, u, v 2 3 4 1\n",
      "disc, low, u, v 0 2 0 4\n"
     ]
    },
    {
     "ename": "TypeError",
     "evalue": "unhashable type: 'list'",
     "output_type": "error",
     "traceback": [
      "\u001b[1;31m---------------------------------------------------------------------------\u001b[0m",
      "\u001b[1;31mTypeError\u001b[0m                                 Traceback (most recent call last)",
      "Cell \u001b[1;32mIn[72], line 3\u001b[0m\n\u001b[0;32m      1\u001b[0m graph \u001b[38;5;241m=\u001b[39m Tarjans(n, edges)\n\u001b[0;32m      2\u001b[0m graph\u001b[38;5;241m.\u001b[39mrun()\n\u001b[1;32m----> 3\u001b[0m bridges \u001b[38;5;241m=\u001b[39m \u001b[38;5;28;43mset\u001b[39;49m\u001b[43m(\u001b[49m\u001b[43mgraph\u001b[49m\u001b[38;5;241;43m.\u001b[39;49m\u001b[43mget_bridges\u001b[49m\u001b[43m(\u001b[49m\u001b[43m)\u001b[49m\u001b[43m)\u001b[49m\n\u001b[0;32m      4\u001b[0m \u001b[38;5;28mprint\u001b[39m(\u001b[38;5;28mlen\u001b[39m(bridges))\n\u001b[0;32m      5\u001b[0m \u001b[38;5;28mprint\u001b[39m(bridges)\n",
      "\u001b[1;31mTypeError\u001b[0m: unhashable type: 'list'"
     ]
    }
   ],
   "source": [
    "graph = Tarjans(n, edges)\n",
    "graph.run()\n",
    "bridges = graph.get_bridges()\n",
    "print(len(bridges))\n",
    "print(bridges)"
   ]
  },
  {
   "cell_type": "code",
   "execution_count": 64,
   "metadata": {},
   "outputs": [
    {
     "name": "stdout",
     "output_type": "stream",
     "text": [
      "Counter({1: 37, 2: 5, 3: 1, 4: 1, 5: 1, 6: 1, 7: 1, 8: 1, 9: 1, 10: 1})\n"
     ]
    }
   ],
   "source": [
    "adj = [[] for _ in range(n)]\n",
    "for u, v in edges:\n",
    "    adj[u].append(v)\n",
    "    adj[v].append(u)\n",
    "vis = [0] * n\n",
    "cnt = 0\n",
    "def dfs(u):\n",
    "    if vis[u]: return\n",
    "    vis[u] = cnt\n",
    "    for v in adj[u]:\n",
    "        dfs(v)\n",
    "for x in range(n):\n",
    "    if not vis[x]:\n",
    "        cnt += 1\n",
    "        dfs(x)\n",
    "sizes = Counter()\n",
    "for x in vis:\n",
    "    sizes[x] += 1\n",
    "print(sizes)"
   ]
  },
  {
   "cell_type": "code",
   "execution_count": null,
   "metadata": {},
   "outputs": [],
   "source": []
  },
  {
   "cell_type": "code",
   "execution_count": null,
   "metadata": {},
   "outputs": [],
   "source": []
  }
 ],
 "metadata": {
  "kernelspec": {
   "display_name": "programming",
   "language": "python",
   "name": "python3"
  },
  "language_info": {
   "codemirror_mode": {
    "name": "ipython",
    "version": 3
   },
   "file_extension": ".py",
   "mimetype": "text/x-python",
   "name": "python",
   "nbconvert_exporter": "python",
   "pygments_lexer": "ipython3",
   "version": "3.11.3"
  }
 },
 "nbformat": 4,
 "nbformat_minor": 2
}
