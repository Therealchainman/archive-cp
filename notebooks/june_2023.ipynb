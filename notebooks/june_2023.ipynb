{
 "cells": [
  {
   "cell_type": "code",
   "execution_count": 3,
   "metadata": {},
   "outputs": [
    {
     "name": "stdout",
     "output_type": "stream",
     "text": [
      "stopping\n"
     ]
    }
   ],
   "source": [
    "# what is the maximum unique hash that can be generated in this manner? obviously it has less than mod2, but what if I increase these can I generate more\n",
    "\n",
    "mod1 = 1_000_000_007\n",
    "mod2 = 998_244_353\n",
    "vis = set()\n",
    "bit = 1\n",
    "while bit not in vis:\n",
    "  if len(vis) == 1_000_000: \n",
    "    print('stopping')\n",
    "    break\n",
    "  vis.add(bit)\n",
    "  bit = bit * mod1 % mod2"
   ]
  },
  {
   "cell_type": "code",
   "execution_count": 11,
   "metadata": {},
   "outputs": [],
   "source": [
    "def f():\n",
    "  vis2 = sorted(vis)\n",
    "  for i, x in enumerate(vis):\n",
    "      for j, y in enumerate(vis):\n",
    "          if x + y in vis:\n",
    "              print(i, j, x, y, x + y)\n",
    "              return vis2.index(x + y)\n",
    "  return -1"
   ]
  },
  {
   "cell_type": "code",
   "execution_count": 12,
   "metadata": {},
   "outputs": [
    {
     "name": "stdout",
     "output_type": "stream",
     "text": [
      "0 1891 413138944 130027398 543166342\n"
     ]
    },
    {
     "data": {
      "text/plain": [
       "544827"
      ]
     },
     "execution_count": 12,
     "metadata": {},
     "output_type": "execute_result"
    }
   ],
   "source": [
    "f()"
   ]
  },
  {
   "cell_type": "code",
   "execution_count": 5,
   "metadata": {},
   "outputs": [],
   "source": []
  },
  {
   "cell_type": "code",
   "execution_count": 6,
   "metadata": {},
   "outputs": [
    {
     "name": "stdout",
     "output_type": "stream",
     "text": [
      "[1, 1688, 6986, 8159, 8989, 9121, 9145, 10123, 11473, 11572, 11656, 12773, 13070, 13633, 13777, 13893, 14342, 14362, 14508, 14827, 17847, 18536, 19633, 20808, 22360, 25895, 26719, 28320, 28872, 29090, 30955, 31185, 31259, 34338, 34679, 35090, 35792, 36096, 36443, 38657, 40682, 41069, 42156, 42464, 43301, 44928, 45061, 46720, 47078, 48488, 48734, 49437, 50155, 51371, 52441, 53155, 54001, 54216, 54572, 54852, 55886, 56648, 58016, 59870, 60414, 62194, 63418, 64534, 65513, 69343, 69850, 71524, 73126, 73540, 73993, 74118, 74789, 75319, 75503, 76663, 80965, 81059, 82663, 82766, 83010, 83510, 84762, 86568, 87424, 88179, 88700, 88862, 90551, 92232, 92728, 92751, 92790, 94501, 94550, 95987]\n"
     ]
    }
   ],
   "source": [
    "print(vis2[:100])"
   ]
  },
  {
   "cell_type": "code",
   "execution_count": null,
   "metadata": {},
   "outputs": [],
   "source": []
  }
 ],
 "metadata": {
  "kernelspec": {
   "display_name": "programming",
   "language": "python",
   "name": "python3"
  },
  "language_info": {
   "codemirror_mode": {
    "name": "ipython",
    "version": 3
   },
   "file_extension": ".py",
   "mimetype": "text/x-python",
   "name": "python",
   "nbconvert_exporter": "python",
   "pygments_lexer": "ipython3",
   "version": "3.11.3"
  },
  "orig_nbformat": 4
 },
 "nbformat": 4,
 "nbformat_minor": 2
}
