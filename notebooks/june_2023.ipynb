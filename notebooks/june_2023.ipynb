{
 "cells": [
  {
   "cell_type": "code",
   "execution_count": 21,
   "metadata": {},
   "outputs": [],
   "source": [
    "import tabulate\n",
    "from itertools import product"
   ]
  },
  {
   "cell_type": "code",
   "execution_count": 17,
   "metadata": {},
   "outputs": [],
   "source": [
    "def display(board):\n",
    "  print(tabulate.tabulate(board, tablefmt = 'grid'))"
   ]
  },
  {
   "cell_type": "code",
   "execution_count": 63,
   "metadata": {},
   "outputs": [
    {
     "name": "stdout",
     "output_type": "stream",
     "text": [
      "23.120740\n"
     ]
    }
   ],
   "source": [
    "k = 10\n",
    "n = 8\n",
    "board = [[[0] * n for _ in range(n)] for _ in range(n * n)]\n",
    "neighborhood = lambda r, c: [(r - 1, c), (r + 1, c), (r, c - 1), (r, c + 1)]\n",
    "in_bounds = lambda r, c: 0 <= r < n and 0 <= c < n\n",
    "for i in range(n * n):\n",
    "    r, c = i // n, i % n\n",
    "    board[i][r][c] = 1\n",
    "on_corner = lambda r, c: (r == 0 and c == 0) or (r == 0 and c == n - 1) or (r == n - 1 and c == 0) or (r == n - 1 and c == n - 1)\n",
    "on_boundary = lambda r, c: r == 0 or r == n - 1 or c == 0 or c == n - 1\n",
    "# print(board)\n",
    "for i in range(1, k + 1):\n",
    "    # print('steps: ', i)\n",
    "    nboard = [[[0] * n for _ in range(n)] for _ in range(n * n)]\n",
    "    for j, r, c in product(range(n * n), range(n), range(n)):\n",
    "        p = 3 if on_boundary(r, c) else 4\n",
    "        p = 2 if on_corner(r, c) else p\n",
    "        for nr, nc in neighborhood(r, c):\n",
    "            if in_bounds(nr, nc):\n",
    "                nboard[j][nr][nc] += board[j][r][c] / p\n",
    "    board = nboard\n",
    "    # display(board[0])\n",
    "\"\"\"\n",
    "probability that first robot is not in that cell at kth step, 1 - probability robot exists in that cell at kth step\n",
    "so it should be multiplied, because you want the probability of the sequence that robot1, robot2, robot3 are all not at that cell\n",
    "so how to do this for all.\n",
    "low*high = low \n",
    "low*low = low\n",
    "high*high = high\n",
    "\"\"\"\n",
    "res = [[1] * n for _ in range(n)]\n",
    "for i, r, c in product(range(n * n), range(n), range(n)):\n",
    "    res[r][c] *= (1 - board[i][r][c])\n",
    "sum_ = sum(sum(row) for row in res)\n",
    "print(f\"{sum_:0.6f}\")"
   ]
  },
  {
   "cell_type": "code",
   "execution_count": 59,
   "metadata": {},
   "outputs": [
    {
     "ename": "ValueError",
     "evalue": "too many values to unpack (expected 3)",
     "output_type": "error",
     "traceback": [
      "\u001b[1;31m---------------------------------------------------------------------------\u001b[0m",
      "\u001b[1;31mValueError\u001b[0m                                Traceback (most recent call last)",
      "Cell \u001b[1;32mIn[59], line 1\u001b[0m\n\u001b[1;32m----> 1\u001b[0m \u001b[39mfor\u001b[39;00m i, j, k \u001b[39min\u001b[39;00m product(\u001b[39mrange\u001b[39m(\u001b[39m4\u001b[39m), \u001b[39mrange\u001b[39m(\u001b[39m2\u001b[39m), repeat \u001b[39m=\u001b[39m \u001b[39m2\u001b[39m):\n\u001b[0;32m      2\u001b[0m     \u001b[39mprint\u001b[39m(i,j,k)\n",
      "\u001b[1;31mValueError\u001b[0m: too many values to unpack (expected 3)"
     ]
    }
   ],
   "source": [
    "for i, j, k in product(range(4), ):\n",
    "    print(i,j,k)"
   ]
  },
  {
   "cell_type": "code",
   "execution_count": 60,
   "metadata": {},
   "outputs": [],
   "source": [
    "from itertools import chain"
   ]
  },
  {
   "cell_type": "code",
   "execution_count": 62,
   "metadata": {},
   "outputs": [
    {
     "name": "stdout",
     "output_type": "stream",
     "text": [
      "[0, 1, 0, 1]\n"
     ]
    }
   ],
   "source": [
    "print(list(chain(range(2), range(2))))"
   ]
  },
  {
   "cell_type": "code",
   "execution_count": 7,
   "metadata": {},
   "outputs": [
    {
     "name": "stdout",
     "output_type": "stream",
     "text": [
      "1,073,741,824\n"
     ]
    }
   ],
   "source": [
    "print(f\"{2**30:,}\")"
   ]
  },
  {
   "cell_type": "code",
   "execution_count": 18,
   "metadata": {},
   "outputs": [],
   "source": [
    "\n",
    "from collections import deque\n",
    "def makeTheIntegerZero(num1: int, num2: int) -> int:\n",
    "    queue = deque([0])\n",
    "    vis = set([0])\n",
    "    steps = 0\n",
    "    limit = 10 * max(abs(num2), num1)\n",
    "    while queue:\n",
    "        print('steps', steps)\n",
    "        print('queue', sorted(queue))\n",
    "        for _ in range(len(queue)):\n",
    "            cur = queue.popleft()\n",
    "            if cur == num1:\n",
    "                return steps\n",
    "            for i in range(30):\n",
    "                num = cur + (1 << i) + num2\n",
    "                if num > limit or num < -limit: continue\n",
    "                if num in vis: continue\n",
    "                vis.add(num)\n",
    "                queue.append(num)\n",
    "        steps += 1\n",
    "    return -1"
   ]
  },
  {
   "cell_type": "code",
   "execution_count": 19,
   "metadata": {},
   "outputs": [
    {
     "name": "stdout",
     "output_type": "stream",
     "text": [
      "steps 0\n",
      "queue [0]\n",
      "steps 1\n",
      "queue [-49, -48, -46, -42, -34, -18, 14, 78, 206, 462]\n",
      "steps 2\n",
      "queue [-98, -97, -96, -95, -94, -92, -91, -90, -88, -84, -83, -82, -80, -76, -68, -67, -66, -64, -60, -52, -36, -35, -32, -28, -20, -4, 28, 29, 30, 32, 36, 44, 60, 92, 156, 157, 158, 160, 164, 172, 188, 220, 284, 412, 413, 414, 416, 420, 428, 444, 476]\n",
      "steps 3\n",
      "queue [-147, -146, -145, -144, -143, -142, -141, -140, -139, -138, -137, -136, -134, -133, -132, -131, -130, -129, -128, -126, -125, -124, -122, -118, -117, -116, -115, -114, -113, -112, -110, -109, -108, -106, -102, -101, -100, -86, -85, -81, -78, -77, -74, -70, -69, -62, -54, -53, -50, -38, -22, -21, -19, -17, -16, -14, -13, -12, -10, -6, -5, -2, 2, 10, 11, 12, 18, 26, 42, 43, 46, 50, 58, 74, 106, 107, 108, 109, 110, 111, 112, 114, 115, 116, 118, 122, 123, 124, 126, 130, 138, 139, 140, 142, 146, 154, 170, 171, 174, 178, 186, 202, 234, 235, 236, 238, 242, 250, 266, 298, 362, 363, 364, 365, 366, 367, 368, 370, 371, 372, 374, 378, 379, 380, 382, 386, 394, 395, 396, 398, 402, 410, 426, 427, 430, 434, 442, 458, 490, 491, 492, 494, 498]\n",
      "steps 4\n",
      "queue [-196, -195, -194, -193, -192, -191, -190, -189, -188, -187, -186, -185, -184, -183, -182, -181, -180, -179, -178, -177, -176, -175, -174, -173, -172, -171, -170, -168, -167, -166, -165, -164, -163, -162, -161, -160, -159, -158, -157, -156, -155, -154, -152, -151, -150, -149, -148, -135, -127, -123, -120, -119, -111, -104, -103, -99, -87, -72, -71, -65, -63, -61, -59, -58, -56, -55, -51, -47, -44, -40, -39, -37, -31, -30, -24, -23, -8, -7, -3, 1, 4, 8, 9, 16, 24, 25, 40, 56, 57, 59, 61, 62, 63, 64, 65, 66, 67, 68, 69, 70, 72, 73, 75, 76, 77, 80, 81, 82, 84, 88, 89, 90, 91, 93, 94, 96, 97, 98, 100, 104, 105, 120, 121, 125, 128, 129, 132, 136, 137, 144, 152, 153, 168, 184, 185, 187, 189, 190, 192, 193, 194, 196, 200, 201, 204, 208, 216, 217, 218, 224, 232, 248, 249, 252, 256, 264, 280, 312, 313, 314, 315, 316, 317, 318, 319, 320, 321, 322, 323, 324, 325, 326, 328, 329, 330, 331, 332, 333, 334, 336, 337, 338, 340, 344, 345, 346, 347, 348, 349, 350, 352, 353, 354, 356, 360, 361, 376, 377, 381, 384, 385, 388, 392, 393, 400, 408, 409, 424, 440, 441, 443, 445, 446, 448, 449, 450, 452, 456, 457, 460, 464, 472, 473, 474, 480, 488]\n",
      "steps 5\n",
      "queue [-245, -244, -243, -242, -241, -240, -239, -238, -237, -236, -235, -234, -233, -232, -231, -230, -229, -228, -227, -226, -225, -224, -223, -222, -221, -220, -219, -218, -217, -216, -215, -214, -213, -212, -211, -210, -209, -208, -207, -206, -205, -204, -203, -202, -201, -200, -199, -198, -197, -169, -153, -121, -107, -105, -93, -89, -79, -73, -57, -45, -41, -33, -26, -25, -9, 6, 7, 13, 15, 17, 19, 20, 21, 22, 23, 27, 31, 33, 34, 35, 38, 39, 41, 45, 47, 48, 49, 51, 52, 54, 55, 71, 79, 83, 86, 87, 95, 102, 103, 119, 134, 135, 141, 143, 145, 147, 148, 150, 151, 155, 159, 162, 166, 167, 169, 175, 176, 182, 183, 198, 199, 203, 207, 210, 214, 215, 222, 230, 231, 246, 262, 263, 265, 267, 268, 269, 270, 271, 272, 273, 274, 275, 276, 277, 278, 279, 281, 282, 283, 285, 286, 287, 288, 289, 290, 291, 292, 294, 295, 296, 297, 299, 300, 301, 302, 303, 304, 305, 306, 307, 308, 310, 311, 327, 335, 339, 342, 343, 351, 358, 359, 375, 390, 391, 397, 399, 401, 403, 404, 406, 407, 411, 415, 418, 422, 423, 425, 431, 432, 438, 439, 454, 455, 459, 463, 466, 470, 471, 478, 486, 487]\n"
     ]
    },
    {
     "data": {
      "text/plain": [
       "5"
      ]
     },
     "execution_count": 19,
     "metadata": {},
     "output_type": "execute_result"
    }
   ],
   "source": [
    "makeTheIntegerZero(33, -50)"
   ]
  },
  {
   "cell_type": "code",
   "execution_count": null,
   "metadata": {},
   "outputs": [],
   "source": []
  }
 ],
 "metadata": {
  "kernelspec": {
   "display_name": "programming",
   "language": "python",
   "name": "python3"
  },
  "language_info": {
   "codemirror_mode": {
    "name": "ipython",
    "version": 3
   },
   "file_extension": ".py",
   "mimetype": "text/x-python",
   "name": "python",
   "nbconvert_exporter": "python",
   "pygments_lexer": "ipython3",
   "version": "3.11.3"
  },
  "orig_nbformat": 4
 },
 "nbformat": 4,
 "nbformat_minor": 2
}
