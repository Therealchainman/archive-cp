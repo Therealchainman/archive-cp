{
 "cells": [
  {
   "cell_type": "code",
   "execution_count": 21,
   "metadata": {},
   "outputs": [],
   "source": [
    "import tabulate\n",
    "from itertools import product"
   ]
  },
  {
   "cell_type": "code",
   "execution_count": 17,
   "metadata": {},
   "outputs": [],
   "source": [
    "def display(board):\n",
    "  print(tabulate.tabulate(board, tablefmt = 'grid'))"
   ]
  },
  {
   "cell_type": "code",
   "execution_count": 63,
   "metadata": {},
   "outputs": [
    {
     "name": "stdout",
     "output_type": "stream",
     "text": [
      "23.120740\n"
     ]
    }
   ],
   "source": [
    "k = 10\n",
    "n = 8\n",
    "board = [[[0] * n for _ in range(n)] for _ in range(n * n)]\n",
    "neighborhood = lambda r, c: [(r - 1, c), (r + 1, c), (r, c - 1), (r, c + 1)]\n",
    "in_bounds = lambda r, c: 0 <= r < n and 0 <= c < n\n",
    "for i in range(n * n):\n",
    "    r, c = i // n, i % n\n",
    "    board[i][r][c] = 1\n",
    "on_corner = lambda r, c: (r == 0 and c == 0) or (r == 0 and c == n - 1) or (r == n - 1 and c == 0) or (r == n - 1 and c == n - 1)\n",
    "on_boundary = lambda r, c: r == 0 or r == n - 1 or c == 0 or c == n - 1\n",
    "# print(board)\n",
    "for i in range(1, k + 1):\n",
    "    # print('steps: ', i)\n",
    "    nboard = [[[0] * n for _ in range(n)] for _ in range(n * n)]\n",
    "    for j, r, c in product(range(n * n), range(n), range(n)):\n",
    "        p = 3 if on_boundary(r, c) else 4\n",
    "        p = 2 if on_corner(r, c) else p\n",
    "        for nr, nc in neighborhood(r, c):\n",
    "            if in_bounds(nr, nc):\n",
    "                nboard[j][nr][nc] += board[j][r][c] / p\n",
    "    board = nboard\n",
    "    # display(board[0])\n",
    "\"\"\"\n",
    "probability that first robot is not in that cell at kth step, 1 - probability robot exists in that cell at kth step\n",
    "so it should be multiplied, because you want the probability of the sequence that robot1, robot2, robot3 are all not at that cell\n",
    "so how to do this for all.\n",
    "low*high = low \n",
    "low*low = low\n",
    "high*high = high\n",
    "\"\"\"\n",
    "res = [[1] * n for _ in range(n)]\n",
    "for i, r, c in product(range(n * n), range(n), range(n)):\n",
    "    res[r][c] *= (1 - board[i][r][c])\n",
    "sum_ = sum(sum(row) for row in res)\n",
    "print(f\"{sum_:0.6f}\")"
   ]
  },
  {
   "cell_type": "code",
   "execution_count": 59,
   "metadata": {},
   "outputs": [
    {
     "ename": "ValueError",
     "evalue": "too many values to unpack (expected 3)",
     "output_type": "error",
     "traceback": [
      "\u001b[1;31m---------------------------------------------------------------------------\u001b[0m",
      "\u001b[1;31mValueError\u001b[0m                                Traceback (most recent call last)",
      "Cell \u001b[1;32mIn[59], line 1\u001b[0m\n\u001b[1;32m----> 1\u001b[0m \u001b[39mfor\u001b[39;00m i, j, k \u001b[39min\u001b[39;00m product(\u001b[39mrange\u001b[39m(\u001b[39m4\u001b[39m), \u001b[39mrange\u001b[39m(\u001b[39m2\u001b[39m), repeat \u001b[39m=\u001b[39m \u001b[39m2\u001b[39m):\n\u001b[0;32m      2\u001b[0m     \u001b[39mprint\u001b[39m(i,j,k)\n",
      "\u001b[1;31mValueError\u001b[0m: too many values to unpack (expected 3)"
     ]
    }
   ],
   "source": [
    "for i, j, k in product(range(4), ):\n",
    "    print(i,j,k)"
   ]
  },
  {
   "cell_type": "code",
   "execution_count": 60,
   "metadata": {},
   "outputs": [],
   "source": [
    "from itertools import chain"
   ]
  },
  {
   "cell_type": "code",
   "execution_count": 62,
   "metadata": {},
   "outputs": [
    {
     "name": "stdout",
     "output_type": "stream",
     "text": [
      "[0, 1, 0, 1]\n"
     ]
    }
   ],
   "source": [
    "print(list(chain(range(2), range(2))))"
   ]
  },
  {
   "cell_type": "code",
   "execution_count": 5,
   "metadata": {},
   "outputs": [
    {
     "name": "stdout",
     "output_type": "stream",
     "text": [
      "59,049\n"
     ]
    }
   ],
   "source": [
    "print(f\"{3**10:,}\")"
   ]
  },
  {
   "cell_type": "code",
   "execution_count": null,
   "metadata": {},
   "outputs": [],
   "source": []
  }
 ],
 "metadata": {
  "kernelspec": {
   "display_name": "programming",
   "language": "python",
   "name": "python3"
  },
  "language_info": {
   "codemirror_mode": {
    "name": "ipython",
    "version": 3
   },
   "file_extension": ".py",
   "mimetype": "text/x-python",
   "name": "python",
   "nbconvert_exporter": "python",
   "pygments_lexer": "ipython3",
   "version": "3.11.3"
  },
  "orig_nbformat": 4
 },
 "nbformat": 4,
 "nbformat_minor": 2
}
