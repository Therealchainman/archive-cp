{
 "cells": [
  {
   "cell_type": "code",
   "execution_count": 21,
   "metadata": {},
   "outputs": [],
   "source": [
    "import tabulate\n",
    "from itertools import product"
   ]
  },
  {
   "cell_type": "code",
   "execution_count": 17,
   "metadata": {},
   "outputs": [],
   "source": [
    "def display(board):\n",
    "  print(tabulate.tabulate(board, tablefmt = 'grid'))"
   ]
  },
  {
   "cell_type": "code",
   "execution_count": 63,
   "metadata": {},
   "outputs": [
    {
     "name": "stdout",
     "output_type": "stream",
     "text": [
      "23.120740\n"
     ]
    }
   ],
   "source": [
    "k = 10\n",
    "n = 8\n",
    "board = [[[0] * n for _ in range(n)] for _ in range(n * n)]\n",
    "neighborhood = lambda r, c: [(r - 1, c), (r + 1, c), (r, c - 1), (r, c + 1)]\n",
    "in_bounds = lambda r, c: 0 <= r < n and 0 <= c < n\n",
    "for i in range(n * n):\n",
    "    r, c = i // n, i % n\n",
    "    board[i][r][c] = 1\n",
    "on_corner = lambda r, c: (r == 0 and c == 0) or (r == 0 and c == n - 1) or (r == n - 1 and c == 0) or (r == n - 1 and c == n - 1)\n",
    "on_boundary = lambda r, c: r == 0 or r == n - 1 or c == 0 or c == n - 1\n",
    "# print(board)\n",
    "for i in range(1, k + 1):\n",
    "    # print('steps: ', i)\n",
    "    nboard = [[[0] * n for _ in range(n)] for _ in range(n * n)]\n",
    "    for j, r, c in product(range(n * n), range(n), range(n)):\n",
    "        p = 3 if on_boundary(r, c) else 4\n",
    "        p = 2 if on_corner(r, c) else p\n",
    "        for nr, nc in neighborhood(r, c):\n",
    "            if in_bounds(nr, nc):\n",
    "                nboard[j][nr][nc] += board[j][r][c] / p\n",
    "    board = nboard\n",
    "    # display(board[0])\n",
    "\"\"\"\n",
    "probability that first robot is not in that cell at kth step, 1 - probability robot exists in that cell at kth step\n",
    "so it should be multiplied, because you want the probability of the sequence that robot1, robot2, robot3 are all not at that cell\n",
    "so how to do this for all.\n",
    "low*high = low \n",
    "low*low = low\n",
    "high*high = high\n",
    "\"\"\"\n",
    "res = [[1] * n for _ in range(n)]\n",
    "for i, r, c in product(range(n * n), range(n), range(n)):\n",
    "    res[r][c] *= (1 - board[i][r][c])\n",
    "sum_ = sum(sum(row) for row in res)\n",
    "print(f\"{sum_:0.6f}\")"
   ]
  },
  {
   "cell_type": "code",
   "execution_count": 2,
   "metadata": {},
   "outputs": [],
   "source": [
    "from collections import defaultdict\n",
    "snow = defaultdict(list)\n",
    "for k in range(2, 20):\n",
    "    nodes = 0\n",
    "    delta = 1\n",
    "    for _ in range(20):\n",
    "        delta *= k\n",
    "        nodes += delta\n",
    "        snow[k].append(nodes)"
   ]
  },
  {
   "cell_type": "code",
   "execution_count": 4,
   "metadata": {},
   "outputs": [
    {
     "name": "stdout",
     "output_type": "stream",
     "text": [
      "k 2\n",
      "values [2, 6, 14, 30, 62, 126, 254, 510, 1022, 2046, 4094, 8190, 16382, 32766, 65534, 131070, 262142, 524286, 1048574, 2097150]\n",
      "k 3\n",
      "values [3, 12, 39, 120, 363, 1092, 3279, 9840, 29523, 88572, 265719, 797160, 2391483, 7174452, 21523359, 64570080, 193710243, 581130732, 1743392199, 5230176600]\n",
      "k 4\n",
      "values [4, 20, 84, 340, 1364, 5460, 21844, 87380, 349524, 1398100, 5592404, 22369620, 89478484, 357913940, 1431655764, 5726623060, 22906492244, 91625968980, 366503875924, 1466015503700]\n",
      "k 5\n",
      "values [5, 30, 155, 780, 3905, 19530, 97655, 488280, 2441405, 12207030, 61035155, 305175780, 1525878905, 7629394530, 38146972655, 190734863280, 953674316405, 4768371582030, 23841857910155, 119209289550780]\n",
      "k 6\n",
      "values [6, 42, 258, 1554, 9330, 55986, 335922, 2015538, 12093234, 72559410, 435356466, 2612138802, 15672832818, 94036996914, 564221981490, 3385331888946, 20311991333682, 121871948002098, 731231688012594, 4387390128075570]\n",
      "k 7\n",
      "values [7, 56, 399, 2800, 19607, 137256, 960799, 6725600, 47079207, 329554456, 2306881199, 16148168400, 113037178807, 791260251656, 5538821761599, 38771752331200, 271402266318407, 1899815864228856, 13298711049601999, 93090977347214000]\n",
      "k 8\n",
      "values [8, 72, 584, 4680, 37448, 299592, 2396744, 19173960, 153391688, 1227133512, 9817068104, 78536544840, 628292358728, 5026338869832, 40210710958664, 321685687669320, 2573485501354568, 20587884010836552, 164703072086692424, 1317624576693539400]\n",
      "k 9\n",
      "values [9, 90, 819, 7380, 66429, 597870, 5380839, 48427560, 435848049, 3922632450, 35303692059, 317733228540, 2859599056869, 25736391511830, 231627523606479, 2084647712458320, 18761829412124889, 168856464709124010, 1519708182382116099, 13677373641439044900]\n",
      "k 10\n",
      "values [10, 110, 1110, 11110, 111110, 1111110, 11111110, 111111110, 1111111110, 11111111110, 111111111110, 1111111111110, 11111111111110, 111111111111110, 1111111111111110, 11111111111111110, 111111111111111110, 1111111111111111110, 11111111111111111110, 111111111111111111110]\n",
      "k 11\n",
      "values [11, 132, 1463, 16104, 177155, 1948716, 21435887, 235794768, 2593742459, 28531167060, 313842837671, 3452271214392, 37974983358323, 417724816941564, 4594972986357215, 50544702849929376, 555991731349223147, 6115909044841454628, 67274999493256000919, 740024994425816010120]\n",
      "k 12\n",
      "values [12, 156, 1884, 22620, 271452, 3257436, 39089244, 469070940, 5628851292, 67546215516, 810554586204, 9726655034460, 116719860413532, 1400638324962396, 16807659899548764, 201691918794585180, 2420303025535022172, 29043636306420266076, 348523635677043192924, 4182283628124518315100]\n",
      "k 13\n",
      "values [13, 182, 2379, 30940, 402233, 5229042, 67977559, 883708280, 11488207653, 149346699502, 1941507093539, 25239592216020, 328114698808273, 4265491084507562, 55451384098598319, 720867993281778160, 9371283912663116093, 121826690864620509222, 1583746981240066619899, 20588710756120866058700]\n",
      "k 14\n",
      "values [14, 210, 2954, 41370, 579194, 8108730, 113522234, 1589311290, 22250358074, 311505013050, 4361070182714, 61054982558010, 854769755812154, 11966776581370170, 167534872139182394, 2345488209948553530, 32836834939279749434, 459715689149916492090, 6436019648098830889274, 90104275073383632449850]\n",
      "k 15\n",
      "values [15, 240, 3615, 54240, 813615, 12204240, 183063615, 2745954240, 41189313615, 617839704240, 9267595563615, 139013933454240, 2085209001813615, 31278135027204240, 469172025408063615, 7037580381120954240, 105563705716814313615, 1583455585752214704240, 23751833786283220563615, 356277506794248308454240]\n",
      "k 16\n",
      "values [16, 272, 4368, 69904, 1118480, 17895696, 286331152, 4581298448, 73300775184, 1172812402960, 18764998447376, 300239975158032, 4803839602528528, 76861433640456464, 1229782938247303440, 19676527011956855056, 314824432191309680912, 5037190915060954894608, 80595054640975278313744, 1289520874255604453019920]\n",
      "k 17\n",
      "values [17, 306, 5219, 88740, 1508597, 25646166, 435984839, 7411742280, 125999618777, 2141993519226, 36413889826859, 619036127056620, 10523614159962557, 178901440719363486, 3041324492229179279, 51702516367896047760, 878942778254232811937, 14942027230321957802946, 254014462915473282650099, 4318245869563045805051700]\n",
      "k 18\n",
      "values [18, 342, 6174, 111150, 2000718, 36012942, 648232974, 11668193550, 210027483918, 3780494710542, 68048904789774, 1224880286215950, 22047845151887118, 396861212733968142, 7143501829211426574, 128583032925805678350, 2314494592664502210318, 41660902667961039785742, 749896248023298716143374, 13498132464419376890580750]\n",
      "k 19\n",
      "values [19, 380, 7239, 137560, 2613659, 49659540, 943531279, 17927094320, 340614792099, 6471681049900, 122961939948119, 2336276859014280, 44389260321271339, 843395946104155460, 16024522975978953759, 304465936543600121440, 5784852794328402307379, 109912203092239643840220, 2088331858752553232964199, 39678305316298511426319800]\n"
     ]
    }
   ],
   "source": [
    "for k in range(2, 20):\n",
    "    print('k', k)\n",
    "    print('values', snow[k])"
   ]
  },
  {
   "cell_type": "code",
   "execution_count": 6,
   "metadata": {},
   "outputs": [],
   "source": [
    "import math\n",
    "from typing import *\n",
    "def prime_factors(num: int) -> List[int]:\n",
    "    factors = []\n",
    "    while num % 2 == 0:\n",
    "        factors.append(2)\n",
    "        num //= 2\n",
    "    for i in range(3, math.isqrt(num) + 1, 2):\n",
    "        while num % i == 0:\n",
    "            factors.append(i)\n",
    "            num //= i\n",
    "    if num > 2:\n",
    "        factors.append(num)\n",
    "    return factors"
   ]
  },
  {
   "cell_type": "code",
   "execution_count": 7,
   "metadata": {},
   "outputs": [
    {
     "name": "stdout",
     "output_type": "stream",
     "text": [
      "k 2\n",
      "2 [2]\n",
      "6 [2, 3]\n",
      "14 [2, 7]\n",
      "30 [2, 3, 5]\n",
      "62 [2, 31]\n",
      "126 [2, 3, 3, 7]\n",
      "254 [2, 127]\n",
      "510 [2, 3, 5, 17]\n",
      "1022 [2, 7, 73]\n",
      "2046 [2, 3, 11, 31]\n",
      "4094 [2, 23, 89]\n",
      "8190 [2, 3, 3, 5, 7, 13]\n",
      "16382 [2, 8191]\n",
      "32766 [2, 3, 43, 127]\n",
      "65534 [2, 7, 31, 151]\n",
      "131070 [2, 3, 5, 17, 257]\n",
      "262142 [2, 131071]\n",
      "524286 [2, 3, 3, 3, 7, 19, 73]\n",
      "1048574 [2, 524287]\n",
      "2097150 [2, 3, 5, 5, 11, 31, 41]\n",
      "k 3\n",
      "3 [3]\n",
      "12 [2, 2, 3]\n",
      "39 [3, 13]\n",
      "120 [2, 2, 2, 3, 5]\n",
      "363 [3, 11, 11]\n",
      "1092 [2, 2, 3, 7, 13]\n",
      "3279 [3, 1093]\n",
      "9840 [2, 2, 2, 2, 3, 5, 41]\n",
      "29523 [3, 13, 757]\n",
      "88572 [2, 2, 3, 11, 11, 61]\n",
      "265719 [3, 23, 3851]\n",
      "797160 [2, 2, 2, 3, 5, 7, 13, 73]\n",
      "2391483 [3, 797161]\n",
      "7174452 [2, 2, 3, 547, 1093]\n",
      "21523359 [3, 11, 11, 13, 4561]\n",
      "64570080 [2, 2, 2, 2, 2, 3, 5, 17, 41, 193]\n",
      "193710243 [3, 1871, 34511]\n",
      "581130732 [2, 2, 3, 7, 13, 19, 37, 757]\n",
      "1743392199 [3, 1597, 363889]\n",
      "5230176600 [2, 2, 2, 3, 5, 5, 11, 11, 61, 1181]\n",
      "k 4\n",
      "4 [2, 2]\n",
      "20 [2, 2, 5]\n",
      "84 [2, 2, 3, 7]\n",
      "340 [2, 2, 5, 17]\n",
      "1364 [2, 2, 11, 31]\n",
      "5460 [2, 2, 3, 5, 7, 13]\n",
      "21844 [2, 2, 43, 127]\n",
      "87380 [2, 2, 5, 17, 257]\n",
      "349524 [2, 2, 3, 3, 7, 19, 73]\n",
      "1398100 [2, 2, 5, 5, 11, 31, 41]\n",
      "5592404 [2, 2, 23, 89, 683]\n",
      "22369620 [2, 2, 3, 5, 7, 13, 17, 241]\n",
      "89478484 [2, 2, 2731, 8191]\n",
      "357913940 [2, 2, 5, 29, 43, 113, 127]\n",
      "1431655764 [2, 2, 3, 7, 11, 31, 151, 331]\n",
      "5726623060 [2, 2, 5, 17, 257, 65537]\n",
      "22906492244 [2, 2, 43691, 131071]\n",
      "91625968980 [2, 2, 3, 3, 5, 7, 13, 19, 37, 73, 109]\n",
      "366503875924 [2, 2, 174763, 524287]\n",
      "1466015503700 [2, 2, 5, 5, 11, 17, 31, 41, 61681]\n",
      "k 5\n",
      "5 [5]\n",
      "30 [2, 3, 5]\n",
      "155 [5, 31]\n",
      "780 [2, 2, 3, 5, 13]\n",
      "3905 [5, 11, 71]\n",
      "19530 [2, 3, 3, 5, 7, 31]\n",
      "97655 [5, 19531]\n",
      "488280 [2, 2, 2, 3, 5, 13, 313]\n",
      "2441405 [5, 19, 31, 829]\n",
      "12207030 [2, 3, 5, 11, 71, 521]\n",
      "61035155 [5, 12207031]\n",
      "305175780 [2, 2, 3, 3, 5, 7, 13, 31, 601]\n",
      "1525878905 [5, 305175781]\n",
      "7629394530 [2, 3, 5, 29, 449, 19531]\n",
      "38146972655 [5, 11, 31, 71, 181, 1741]\n",
      "190734863280 [2, 2, 2, 2, 3, 5, 13, 17, 313, 11489]\n",
      "953674316405 [5, 409, 466344409]\n",
      "4768371582030 [2, 3, 3, 3, 5, 7, 19, 31, 829, 5167]\n",
      "23841857910155 [5, 191, 6271, 3981071]\n",
      "119209289550780 [2, 2, 3, 5, 11, 13, 41, 71, 521, 9161]\n",
      "k 6\n",
      "6 [2, 3]\n",
      "42 [2, 3, 7]\n",
      "258 [2, 3, 43]\n",
      "1554 [2, 3, 7, 37]\n",
      "9330 [2, 3, 5, 311]\n",
      "55986 [2, 3, 7, 31, 43]\n",
      "335922 [2, 3, 55987]\n",
      "2015538 [2, 3, 7, 37, 1297]\n",
      "12093234 [2, 3, 19, 43, 2467]\n",
      "72559410 [2, 3, 5, 7, 11, 101, 311]\n",
      "435356466 [2, 3, 23, 3154757]\n",
      "2612138802 [2, 3, 7, 13, 31, 37, 43, 97]\n",
      "15672832818 [2, 3, 3433, 760891]\n",
      "94036996914 [2, 3, 7, 7, 29, 197, 55987]\n",
      "564221981490 [2, 3, 5, 43, 311, 1171, 1201]\n",
      "3385331888946 [2, 3, 7, 17, 37, 1297, 98801]\n",
      "20311991333682 [2, 3, 239, 409, 1123, 30839]\n",
      "121871948002098 [2, 3, 7, 19, 31, 43, 2467, 46441]\n",
      "731231688012594 [2, 3, 191, 638073026189]\n",
      "4387390128075570 [2, 3, 5, 7, 11, 37, 101, 241, 311, 6781]\n",
      "k 7\n",
      "7 [7]\n",
      "56 [2, 2, 2, 7]\n",
      "399 [3, 7, 19]\n",
      "2800 [2, 2, 2, 2, 5, 5, 7]\n",
      "19607 [7, 2801]\n",
      "137256 [2, 2, 2, 3, 7, 19, 43]\n",
      "960799 [7, 29, 4733]\n",
      "6725600 [2, 2, 2, 2, 2, 5, 5, 7, 1201]\n",
      "47079207 [3, 3, 7, 19, 37, 1063]\n",
      "329554456 [2, 2, 2, 7, 11, 191, 2801]\n",
      "2306881199 [7, 1123, 293459]\n",
      "16148168400 [2, 2, 2, 2, 3, 5, 5, 7, 13, 19, 43, 181]\n",
      "113037178807 [7, 16148168401]\n",
      "791260251656 [2, 2, 2, 7, 29, 113, 911, 4733]\n",
      "5538821761599 [3, 7, 19, 31, 2801, 159871]\n",
      "38771752331200 [2, 2, 2, 2, 2, 2, 5, 5, 7, 17, 1201, 169553]\n",
      "271402266318407 [7, 14009, 2767631689]\n",
      "1899815864228856 [2, 2, 2, 3, 3, 7, 19, 37, 43, 1063, 117307]\n",
      "13298711049601999 [7, 419, 4534166740403]\n",
      "93090977347214000 [2, 2, 2, 2, 5, 5, 5, 7, 11, 191, 281, 2801, 4021]\n",
      "k 8\n",
      "8 [2, 2, 2]\n",
      "72 [2, 2, 2, 3, 3]\n",
      "584 [2, 2, 2, 73]\n",
      "4680 [2, 2, 2, 3, 3, 5, 13]\n",
      "37448 [2, 2, 2, 31, 151]\n",
      "299592 [2, 2, 2, 3, 3, 3, 19, 73]\n",
      "2396744 [2, 2, 2, 7, 127, 337]\n",
      "19173960 [2, 2, 2, 3, 3, 5, 13, 17, 241]\n",
      "153391688 [2, 2, 2, 73, 262657]\n",
      "1227133512 [2, 2, 2, 3, 3, 11, 31, 151, 331]\n",
      "9817068104 [2, 2, 2, 23, 89, 599479]\n",
      "78536544840 [2, 2, 2, 3, 3, 3, 5, 13, 19, 37, 73, 109]\n",
      "628292358728 [2, 2, 2, 79, 8191, 121369]\n",
      "5026338869832 [2, 2, 2, 3, 3, 7, 43, 127, 337, 5419]\n",
      "40210710958664 [2, 2, 2, 31, 73, 151, 631, 23311]\n",
      "321685687669320 [2, 2, 2, 3, 3, 5, 13, 17, 97, 241, 257, 673]\n",
      "2573485501354568 [2, 2, 2, 103, 2143, 11119, 131071]\n",
      "20587884010836552 [2, 2, 2, 3, 3, 3, 3, 19, 73, 87211, 262657]\n",
      "164703072086692424 [2, 2, 2, 32377, 524287, 1212847]\n",
      "1317624576693539400 [2, 2, 2, 3, 3, 5, 5, 11, 13, 31, 41, 61, 151, 331, 1321]\n",
      "k 9\n",
      "9 [3, 3]\n",
      "90 [2, 3, 3, 5]\n",
      "819 [3, 3, 7, 13]\n",
      "7380 [2, 2, 3, 3, 5, 41]\n",
      "66429 [3, 3, 11, 11, 61]\n",
      "597870 [2, 3, 3, 5, 7, 13, 73]\n",
      "5380839 [3, 3, 547, 1093]\n",
      "48427560 [2, 2, 2, 3, 3, 5, 17, 41, 193]\n",
      "435848049 [3, 3, 7, 13, 19, 37, 757]\n",
      "3922632450 [2, 3, 3, 5, 5, 11, 11, 61, 1181]\n",
      "35303692059 [3, 3, 23, 67, 661, 3851]\n",
      "317733228540 [2, 2, 3, 3, 5, 7, 13, 41, 73, 6481]\n",
      "2859599056869 [3, 3, 398581, 797161]\n",
      "25736391511830 [2, 3, 3, 5, 29, 547, 1093, 16493]\n",
      "Unexpected exception formatting exception. Falling back to standard exception\n"
     ]
    },
    {
     "name": "stderr",
     "output_type": "stream",
     "text": [
      "Traceback (most recent call last):\n",
      "  File \"c:\\Users\\LZ6RL7\\Miniconda3\\envs\\programming\\Lib\\site-packages\\IPython\\core\\interactiveshell.py\", line 3508, in run_code\n",
      "    exec(code_obj, self.user_global_ns, self.user_ns)\n",
      "  File \"C:\\Users\\LZ6RL7\\AppData\\Local\\Temp\\ipykernel_22916\\1499268513.py\", line 4, in <module>\n",
      "    print(v, prime_factors(v))\n",
      "             ^^^^^^^^^^^^^^^^\n",
      "  File \"C:\\Users\\LZ6RL7\\AppData\\Local\\Temp\\ipykernel_22916\\265160835.py\", line -1, in prime_factors\n",
      "KeyboardInterrupt\n",
      "\n",
      "During handling of the above exception, another exception occurred:\n",
      "\n",
      "Traceback (most recent call last):\n",
      "  File \"c:\\Users\\LZ6RL7\\Miniconda3\\envs\\programming\\Lib\\site-packages\\IPython\\core\\interactiveshell.py\", line 2105, in showtraceback\n",
      "    stb = self.InteractiveTB.structured_traceback(\n",
      "          ^^^^^^^^^^^^^^^^^^^^^^^^^^^^^^^^^^^^^^^^\n",
      "  File \"c:\\Users\\LZ6RL7\\Miniconda3\\envs\\programming\\Lib\\site-packages\\IPython\\core\\ultratb.py\", line 1396, in structured_traceback\n",
      "    return FormattedTB.structured_traceback(\n",
      "           ^^^^^^^^^^^^^^^^^^^^^^^^^^^^^^^^^\n",
      "  File \"c:\\Users\\LZ6RL7\\Miniconda3\\envs\\programming\\Lib\\site-packages\\IPython\\core\\ultratb.py\", line 1287, in structured_traceback\n",
      "    return VerboseTB.structured_traceback(\n",
      "           ^^^^^^^^^^^^^^^^^^^^^^^^^^^^^^^\n",
      "  File \"c:\\Users\\LZ6RL7\\Miniconda3\\envs\\programming\\Lib\\site-packages\\IPython\\core\\ultratb.py\", line 1140, in structured_traceback\n",
      "    formatted_exception = self.format_exception_as_a_whole(etype, evalue, etb, number_of_lines_of_context,\n",
      "                          ^^^^^^^^^^^^^^^^^^^^^^^^^^^^^^^^^^^^^^^^^^^^^^^^^^^^^^^^^^^^^^^^^^^^^^^^^^^^^^^^\n",
      "  File \"c:\\Users\\LZ6RL7\\Miniconda3\\envs\\programming\\Lib\\site-packages\\IPython\\core\\ultratb.py\", line 1055, in format_exception_as_a_whole\n",
      "    frames.append(self.format_record(record))\n",
      "                  ^^^^^^^^^^^^^^^^^^^^^^^^^^\n",
      "  File \"c:\\Users\\LZ6RL7\\Miniconda3\\envs\\programming\\Lib\\site-packages\\IPython\\core\\ultratb.py\", line 955, in format_record\n",
      "    frame_info.lines, Colors, self.has_colors, lvals\n",
      "    ^^^^^^^^^^^^^^^^\n",
      "  File \"c:\\Users\\LZ6RL7\\Miniconda3\\envs\\programming\\Lib\\site-packages\\IPython\\core\\ultratb.py\", line 778, in lines\n",
      "    return self._sd.lines\n",
      "           ^^^^^^^^^^^^^^\n",
      "  File \"c:\\Users\\LZ6RL7\\Miniconda3\\envs\\programming\\Lib\\site-packages\\stack_data\\utils.py\", line 144, in cached_property_wrapper\n",
      "    value = obj.__dict__[self.func.__name__] = self.func(obj)\n",
      "                                               ^^^^^^^^^^^^^^\n",
      "  File \"c:\\Users\\LZ6RL7\\Miniconda3\\envs\\programming\\Lib\\site-packages\\stack_data\\core.py\", line 734, in lines\n",
      "    pieces = self.included_pieces\n",
      "             ^^^^^^^^^^^^^^^^^^^^\n",
      "  File \"c:\\Users\\LZ6RL7\\Miniconda3\\envs\\programming\\Lib\\site-packages\\stack_data\\utils.py\", line 144, in cached_property_wrapper\n",
      "    value = obj.__dict__[self.func.__name__] = self.func(obj)\n",
      "                                               ^^^^^^^^^^^^^^\n",
      "  File \"c:\\Users\\LZ6RL7\\Miniconda3\\envs\\programming\\Lib\\site-packages\\stack_data\\core.py\", line 681, in included_pieces\n",
      "    pos = scope_pieces.index(self.executing_piece)\n",
      "                             ^^^^^^^^^^^^^^^^^^^^\n",
      "  File \"c:\\Users\\LZ6RL7\\Miniconda3\\envs\\programming\\Lib\\site-packages\\stack_data\\utils.py\", line 144, in cached_property_wrapper\n",
      "    value = obj.__dict__[self.func.__name__] = self.func(obj)\n",
      "                                               ^^^^^^^^^^^^^^\n",
      "  File \"c:\\Users\\LZ6RL7\\Miniconda3\\envs\\programming\\Lib\\site-packages\\stack_data\\core.py\", line 660, in executing_piece\n",
      "    return only(\n",
      "           ^^^^^\n",
      "  File \"c:\\Users\\LZ6RL7\\Miniconda3\\envs\\programming\\Lib\\site-packages\\executing\\executing.py\", line 190, in only\n",
      "    raise NotOneValueFound('Expected one value, found 0')\n",
      "executing.executing.NotOneValueFound: Expected one value, found 0\n"
     ]
    }
   ],
   "source": [
    "for k in range(2, 20):\n",
    "    print('k', k)\n",
    "    for v in snow[k]:\n",
    "        print(v, prime_factors(v))"
   ]
  },
  {
   "cell_type": "code",
   "execution_count": 14,
   "metadata": {},
   "outputs": [
    {
     "name": "stdout",
     "output_type": "stream",
     "text": [
      "100,000,000,000,000,000,000\n"
     ]
    }
   ],
   "source": [
    "print(f\"{10**20:,}\")"
   ]
  },
  {
   "cell_type": "code",
   "execution_count": 25,
   "metadata": {},
   "outputs": [
    {
     "name": "stdout",
     "output_type": "stream",
     "text": [
      "n 3 k 1000001\n",
      "n 4 k 31623\n",
      "n 5 k 3982\n",
      "n 6 k 1001\n",
      "n 7 k 373\n",
      "n 8 k 178\n",
      "n 9 k 101\n",
      "n 10 k 64\n",
      "n 11 k 44\n",
      "n 12 k 32\n",
      "n 13 k 25\n",
      "n 14 k 20\n",
      "n 15 k 16\n",
      "n 16 k 14\n",
      "n 17 k 12\n",
      "n 18 k 11\n",
      "n 19 k 9\n",
      "n 20 k 8\n",
      "n 21 k 8\n",
      "n 22 k 7\n",
      "n 23 k 7\n",
      "n 24 k 6\n",
      "n 25 k 6\n",
      "n 26 k 5\n",
      "n 27 k 5\n",
      "n 28 k 5\n",
      "n 29 k 5\n",
      "n 30 k 4\n",
      "n 31 k 4\n",
      "n 32 k 4\n",
      "n 33 k 4\n",
      "n 34 k 4\n",
      "n 35 k 4\n",
      "n 36 k 4\n",
      "n 37 k 4\n",
      "n 38 k 3\n",
      "n 39 k 3\n",
      "n 40 k 3\n",
      "n 41 k 3\n",
      "n 42 k 3\n",
      "n 43 k 3\n",
      "n 44 k 3\n",
      "n 45 k 3\n",
      "n 46 k 3\n",
      "n 47 k 3\n",
      "n 48 k 3\n",
      "n 49 k 3\n",
      "n 50 k 3\n",
      "n 51 k 3\n",
      "n 52 k 3\n",
      "n 53 k 3\n",
      "n 54 k 3\n",
      "n 55 k 3\n",
      "n 56 k 3\n",
      "n 57 k 3\n",
      "n 58 k 3\n",
      "n 59 k 3\n",
      "n 60 k 2\n",
      "n 61 k 2\n",
      "n 62 k 2\n",
      "n 63 k 2\n"
     ]
    }
   ],
   "source": [
    "for n in range(3, 64):\n",
    "    for k in range(2, 1_000_000_000):\n",
    "        if k**n > 10**18:\n",
    "            print('n', n, 'k', k)\n",
    "            break\n"
   ]
  },
  {
   "cell_type": "code",
   "execution_count": 28,
   "metadata": {},
   "outputs": [
    {
     "data": {
      "text/plain": [
       "2"
      ]
     },
     "execution_count": 28,
     "metadata": {},
     "output_type": "execute_result"
    }
   ],
   "source": [
    "n = 10**18\n",
    "int(pow(n, 1 / 63)) + 1"
   ]
  },
  {
   "cell_type": "code",
   "execution_count": 18,
   "metadata": {},
   "outputs": [
    {
     "data": {
      "text/plain": [
       "7"
      ]
     },
     "execution_count": 18,
     "metadata": {},
     "output_type": "execute_result"
    }
   ],
   "source": [
    "2**3 - 1"
   ]
  },
  {
   "cell_type": "code",
   "execution_count": 62,
   "metadata": {},
   "outputs": [
    {
     "name": "stdout",
     "output_type": "stream",
     "text": [
      "[0, 1, 0, 1]\n"
     ]
    }
   ],
   "source": [
    "print(list(chain(range(2), range(2))))"
   ]
  },
  {
   "cell_type": "code",
   "execution_count": 7,
   "metadata": {},
   "outputs": [
    {
     "name": "stdout",
     "output_type": "stream",
     "text": [
      "1,073,741,824\n"
     ]
    }
   ],
   "source": [
    "print(f\"{2**30:,}\")"
   ]
  },
  {
   "cell_type": "code",
   "execution_count": 2,
   "metadata": {},
   "outputs": [
    {
     "name": "stdout",
     "output_type": "stream",
     "text": [
      "1\n",
      "1\n",
      "101\n",
      "5\n",
      "11001\n",
      "25\n",
      "1111101\n",
      "125\n",
      "1001110001\n",
      "625\n",
      "110000110101\n",
      "3125\n",
      "11110100001001\n",
      "15625\n"
     ]
    }
   ],
   "source": [
    "for i in range(10):\n",
    "    x = 5**i\n",
    "    if len(bin(x)[2:]) > 15: break\n",
    "    print(bin(x)[2:])\n",
    "    print(x)\n",
    "\n",
    "[1, 5, 25, 125, 625, 3125, 15625]"
   ]
  },
  {
   "cell_type": "code",
   "execution_count": 2,
   "metadata": {},
   "outputs": [
    {
     "data": {
      "text/plain": [
       "1668.74"
      ]
     },
     "execution_count": 2,
     "metadata": {},
     "output_type": "execute_result"
    }
   ],
   "source": [
    "721.94+946.80"
   ]
  },
  {
   "cell_type": "code",
   "execution_count": 22,
   "metadata": {},
   "outputs": [
    {
     "data": {
      "text/plain": [
       "-1"
      ]
     },
     "execution_count": 22,
     "metadata": {},
     "output_type": "execute_result"
    }
   ],
   "source": [
    "-3//5"
   ]
  },
  {
   "cell_type": "code",
   "execution_count": 26,
   "metadata": {},
   "outputs": [
    {
     "data": {
      "text/plain": [
       "2"
      ]
     },
     "execution_count": 26,
     "metadata": {},
     "output_type": "execute_result"
    }
   ],
   "source": [
    "(-3)%5"
   ]
  },
  {
   "cell_type": "code",
   "execution_count": 10,
   "metadata": {},
   "outputs": [
    {
     "data": {
      "text/plain": [
       "(0.6931471805599453, 0.5)"
      ]
     },
     "execution_count": 10,
     "metadata": {},
     "output_type": "execute_result"
    }
   ],
   "source": [
    "import math\n",
    "p = 0.5\n",
    "x = -math.log(p)\n",
    "x, math.exp(-x)"
   ]
  },
  {
   "cell_type": "code",
   "execution_count": 28,
   "metadata": {},
   "outputs": [
    {
     "data": {
      "text/plain": [
       "2"
      ]
     },
     "execution_count": 28,
     "metadata": {},
     "output_type": "execute_result"
    }
   ],
   "source": [
    "13//5"
   ]
  },
  {
   "cell_type": "code",
   "execution_count": 30,
   "metadata": {},
   "outputs": [
    {
     "data": {
      "text/plain": [
       "13"
      ]
     },
     "execution_count": 30,
     "metadata": {},
     "output_type": "execute_result"
    }
   ],
   "source": [
    "2+2+3+3+3"
   ]
  },
  {
   "cell_type": "code",
   "execution_count": 21,
   "metadata": {},
   "outputs": [],
   "source": [
    "from itertools import accumulate\n",
    "arr = [2, 3, 1, -6, -1, 1, 2, 3, 2, -5, -5, -1, -1, 5, 1, 2]\n",
    "psum = list(accumulate(arr, initial = 0))"
   ]
  },
  {
   "cell_type": "code",
   "execution_count": 66,
   "metadata": {},
   "outputs": [
    {
     "data": {
      "text/plain": [
       "([-100000, 0, 6, 7, 3],\n",
       " [0, 2, 5, 6, 0, -1, 0, 2, 5, 7, 2, -3, -4, -5, 0, 1, 3],\n",
       " [2, 3, 1, -6, -1, 1, 2, 3, 2, -5, -5, -1, -1, 5, 1, 2])"
      ]
     },
     "execution_count": 66,
     "metadata": {},
     "output_type": "execute_result"
    }
   ],
   "source": [
    "cands = [-100_000, 0]\n",
    "cur = 0\n",
    "for x in psum[1:]:\n",
    "    if x < 0:\n",
    "        if cur > 0:\n",
    "          cands.append(cur)\n",
    "        cur = 0\n",
    "    else:\n",
    "        cur = max(cur, x)\n",
    "if cur > 0:\n",
    "    cands.append(cur)\n",
    "cands, psum, arr"
   ]
  },
  {
   "cell_type": "code",
   "execution_count": 57,
   "metadata": {},
   "outputs": [],
   "source": [
    "import matplotlib.pyplot as plt\n",
    "def graph(i):\n",
    "  x = list(range(len(arr)))\n",
    "  y = []\n",
    "  cur = 0\n",
    "  flag = False\n",
    "  for n in arr:\n",
    "      if cur >= cands[i]:\n",
    "         flag = True\n",
    "      cur += n\n",
    "      if flag and cur < cands[i]:\n",
    "          cur = cands[i]\n",
    "      y.append(cur)\n",
    "  # Creating the scatter plot\n",
    "  plt.plot(x, y, marker = 'o', linestyle = '-')\n",
    "  plt.grid(True)\n",
    "\n",
    "  # Adding labels and title\n",
    "  plt.xlabel('X-axis')\n",
    "  plt.ylabel('Y-axis')\n",
    "  plt.title('Scatter Plot Example')\n",
    "\n",
    "  # Displaying the plot\n",
    "  plt.show()"
   ]
  },
  {
   "cell_type": "code",
   "execution_count": 60,
   "metadata": {},
   "outputs": [
    {
     "data": {
      "image/png": "[encoded data removed]",
      "text/plain": [
       "<Figure size 640x480 with 1 Axes>"
      ]
     },
     "metadata": {},
     "output_type": "display_data"
    }
   ],
   "source": [
    "graph(0)"
   ]
  },
  {
   "cell_type": "code",
   "execution_count": 61,
   "metadata": {},
   "outputs": [
    {
     "data": {
      "image/png": "[encoded data removed]",
      "text/plain": [
       "<Figure size 640x480 with 1 Axes>"
      ]
     },
     "metadata": {},
     "output_type": "display_data"
    }
   ],
   "source": [
    "graph(1)"
   ]
  },
  {
   "cell_type": "code",
   "execution_count": 62,
   "metadata": {},
   "outputs": [
    {
     "data": {
      "image/png": "[encoded data removed]",
      "text/plain": [
       "<Figure size 640x480 with 1 Axes>"
      ]
     },
     "metadata": {},
     "output_type": "display_data"
    }
   ],
   "source": [
    "graph(2)"
   ]
  },
  {
   "cell_type": "code",
   "execution_count": 63,
   "metadata": {},
   "outputs": [
    {
     "data": {
      "image/png": "[encoded data removed]",
      "text/plain": [
       "<Figure size 640x480 with 1 Axes>"
      ]
     },
     "metadata": {},
     "output_type": "display_data"
    }
   ],
   "source": [
    "graph(3)"
   ]
  },
  {
   "cell_type": "code",
   "execution_count": 64,
   "metadata": {},
   "outputs": [
    {
     "data": {
      "image/png": "[encoded data removed]",
      "text/plain": [
       "<Figure size 640x480 with 1 Axes>"
      ]
     },
     "metadata": {},
     "output_type": "display_data"
    }
   ],
   "source": [
    "graph(4)"
   ]
  },
  {
   "cell_type": "code",
   "execution_count": 1,
   "metadata": {},
   "outputs": [
    {
     "name": "stdout",
     "output_type": "stream",
     "text": [
      "1,144,561,273,430,837,494,885,949,696,427\n"
     ]
    }
   ],
   "source": [
    "k = 3\n",
    "v = 3**63\n",
    "print(f\"{v:,}\")"
   ]
  },
  {
   "cell_type": "code",
   "execution_count": 4,
   "metadata": {},
   "outputs": [
    {
     "data": {
      "text/plain": [
       "255"
      ]
     },
     "execution_count": 4,
     "metadata": {},
     "output_type": "execute_result"
    }
   ],
   "source": [
    "1+2+2**2+2**3+2**4+2**5+2**6+2**7"
   ]
  },
  {
   "cell_type": "code",
   "execution_count": 9,
   "metadata": {},
   "outputs": [
    {
     "name": "stdout",
     "output_type": "stream",
     "text": [
      "1,000,001,000,001,000,001\n"
     ]
    }
   ],
   "source": [
    "for i in range(2, 1_000_001):\n",
    "    v = 1 + i + i**2 + i**3\n",
    "    if v >= 10**18:\n",
    "        print(f'{v:,}')"
   ]
  },
  {
   "cell_type": "code",
   "execution_count": 12,
   "metadata": {},
   "outputs": [
    {
     "name": "stdout",
     "output_type": "stream",
     "text": [
      "63\n"
     ]
    }
   ],
   "source": [
    "p = 2\n",
    "for _ in range(61):\n",
    "    p += 1\n",
    "print(p)"
   ]
  },
  {
   "cell_type": "code",
   "execution_count": 22,
   "metadata": {},
   "outputs": [
    {
     "name": "stdout",
     "output_type": "stream",
     "text": [
      "59\n",
      "1,152,921,504,606,846,975\n"
     ]
    }
   ],
   "source": [
    "v = 0\n",
    "for i in range(60):\n",
    "    v += 2**i\n",
    "    if v > 10**18:\n",
    "        print(i)\n",
    "print(f\"{v:,}\")"
   ]
  },
  {
   "cell_type": "code",
   "execution_count": 27,
   "metadata": {},
   "outputs": [
    {
     "name": "stdout",
     "output_type": "stream",
     "text": [
      "1,000,000,000 1,000,000,001,000,000,001\n"
     ]
    }
   ],
   "source": [
    "for k in range(999_999_980, 1_000_500_000):\n",
    "    v = 1 + k + k**2\n",
    "    if v > 10**18:\n",
    "        print(f\"{k:,}\", f\"{v:,}\")\n",
    "        break"
   ]
  },
  {
   "cell_type": "code",
   "execution_count": null,
   "metadata": {},
   "outputs": [],
   "source": []
  }
 ],
 "metadata": {
  "kernelspec": {
   "display_name": "programming",
   "language": "python",
   "name": "python3"
  },
  "language_info": {
   "codemirror_mode": {
    "name": "ipython",
    "version": 3
   },
   "file_extension": ".py",
   "mimetype": "text/x-python",
   "name": "python",
   "nbconvert_exporter": "python",
   "pygments_lexer": "ipython3",
   "version": "3.11.3"
  },
  "orig_nbformat": 4
 },
 "nbformat": 4,
 "nbformat_minor": 2
}
