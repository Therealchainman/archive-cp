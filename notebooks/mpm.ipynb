{
 "cells": [
  {
   "cell_type": "markdown",
   "metadata": {},
   "source": [
    "# MPM ALGORITHM FOR MAX FLOW"
   ]
  },
  {
   "cell_type": "markdown",
   "metadata": {},
   "source": [
    "# IMPORTS"
   ]
  },
  {
   "cell_type": "code",
   "execution_count": 12,
   "metadata": {},
   "outputs": [],
   "source": [
    "import networkx as nx\n",
    "import random\n",
    "from pyvis.network import Network"
   ]
  },
  {
   "cell_type": "code",
   "execution_count": 26,
   "metadata": {},
   "outputs": [],
   "source": [
    "G = nx.DiGraph()"
   ]
  },
  {
   "cell_type": "code",
   "execution_count": 9,
   "metadata": {},
   "outputs": [
    {
     "name": "stdout",
     "output_type": "stream",
     "text": [
      "DiGraph named 'LCF_graph' with 20 nodes and 60 edges\n"
     ]
    }
   ],
   "source": [
    "c = {}\n",
    "for e in sorted(G.edges(data = True)):\n",
    "    capacity = random.randint(1, 20)\n",
    "    e[2]['capacity'] = capacity\n",
    "    c[(e[0], e[1])] = capacity"
   ]
  },
  {
   "cell_type": "code",
   "execution_count": null,
   "metadata": {},
   "outputs": [],
   "source": [
    "net = Network(notebook = True)\n",
    "net.from_nx(G)\n",
    "net.show('example.html')\n",
    "print('done')"
   ]
  },
  {
   "cell_type": "code",
   "execution_count": 19,
   "metadata": {},
   "outputs": [
    {
     "name": "stdout",
     "output_type": "stream",
     "text": [
      "[]\n"
     ]
    }
   ],
   "source": [
    "print(G.nodes)"
   ]
  },
  {
   "cell_type": "code",
   "execution_count": 27,
   "metadata": {},
   "outputs": [],
   "source": [
    "# can I add nodes with like associated variables\n",
    "G.add_node(0, attr_dict = {'pin': 0, 'pout': 0, 'in': [], 'out': []})\n",
    "G.add_node(1, attr_dict = {'pin': 0, 'pout': 0, 'in': [], 'out': []})\n",
    "G.add_node(2, attr_dict = {'pin': 0, 'pout': 0, 'in': [], 'out': []})\n",
    "G.add_node(3, attr_dict = {'pin': 0, 'pout': 0, 'in': [], 'out': []})\n",
    "G.add_node(4, attr_dict = {'pin': 0, 'pout': 0, 'in': [], 'out': []})\n",
    "G.add_node(5, attr_dict = {'pin': 0, 'pout': 0, 'in': [], 'out': []})"
   ]
  },
  {
   "cell_type": "code",
   "execution_count": 28,
   "metadata": {},
   "outputs": [
    {
     "name": "stdout",
     "output_type": "stream",
     "text": [
      "[0, 1, 2, 3, 4, 5]\n"
     ]
    }
   ],
   "source": [
    "print(G.nodes)"
   ]
  },
  {
   "cell_type": "code",
   "execution_count": 33,
   "metadata": {},
   "outputs": [
    {
     "name": "stdout",
     "output_type": "stream",
     "text": [
      "[(0, {'attr_dict': {'pin': 0, 'pout': 0, 'in': [], 'out': []}}), (1, {'attr_dict': {'pin': 0, 'pout': 0, 'in': [], 'out': []}}), (2, {'attr_dict': {'pin': 0, 'pout': 0, 'in': [], 'out': []}}), (3, {'attr_dict': {'pin': 0, 'pout': 0, 'in': [], 'out': []}}), (4, {'attr_dict': {'pin': 0, 'pout': 0, 'in': [], 'out': []}}), (5, {'attr_dict': {'pin': 0, 'pout': 0, 'in': [], 'out': []}})]\n"
     ]
    }
   ],
   "source": [
    "print(G.nodes.data())"
   ]
  },
  {
   "cell_type": "code",
   "execution_count": 32,
   "metadata": {},
   "outputs": [
    {
     "data": {
      "text/plain": [
       "['__abstractmethods__',\n",
       " '__and__',\n",
       " '__call__',\n",
       " '__class__',\n",
       " '__class_getitem__',\n",
       " '__contains__',\n",
       " '__delattr__',\n",
       " '__dir__',\n",
       " '__doc__',\n",
       " '__eq__',\n",
       " '__format__',\n",
       " '__ge__',\n",
       " '__getattribute__',\n",
       " '__getitem__',\n",
       " '__getstate__',\n",
       " '__gt__',\n",
       " '__hash__',\n",
       " '__init__',\n",
       " '__init_subclass__',\n",
       " '__iter__',\n",
       " '__le__',\n",
       " '__len__',\n",
       " '__lt__',\n",
       " '__module__',\n",
       " '__ne__',\n",
       " '__new__',\n",
       " '__or__',\n",
       " '__rand__',\n",
       " '__reduce__',\n",
       " '__reduce_ex__',\n",
       " '__repr__',\n",
       " '__reversed__',\n",
       " '__ror__',\n",
       " '__rsub__',\n",
       " '__rxor__',\n",
       " '__setattr__',\n",
       " '__setstate__',\n",
       " '__sizeof__',\n",
       " '__slots__',\n",
       " '__str__',\n",
       " '__sub__',\n",
       " '__subclasshook__',\n",
       " '__xor__',\n",
       " '_abc_impl',\n",
       " '_from_iterable',\n",
       " '_hash',\n",
       " '_nodes',\n",
       " 'data',\n",
       " 'get',\n",
       " 'isdisjoint',\n",
       " 'items',\n",
       " 'keys',\n",
       " 'values']"
      ]
     },
     "execution_count": 32,
     "metadata": {},
     "output_type": "execute_result"
    }
   ],
   "source": [
    "G.add_edge(0, 1, attr_dict = {'capacity': 5, 'flow': 0})\n",
    "G.add_edge(1, 2, attr_dict = {'capacity': 4, 'flow': 0})\n",
    "G.add_edge(2, 3, attr_dict = {'capacity': 3, 'flow': 0})\n",
    "G.add_edge(3, 4, attr_dict = {'capacity': 5, 'flow': 0})\n",
    "G.add_edge(4, 5, attr_dict = {'capacity': 10, 'flow': 0})"
   ]
  },
  {
   "cell_type": "code",
   "execution_count": null,
   "metadata": {},
   "outputs": [],
   "source": []
  }
 ],
 "metadata": {
  "kernelspec": {
   "display_name": "programming",
   "language": "python",
   "name": "python3"
  },
  "language_info": {
   "codemirror_mode": {
    "name": "ipython",
    "version": 3
   },
   "file_extension": ".py",
   "mimetype": "text/x-python",
   "name": "python",
   "nbconvert_exporter": "python",
   "pygments_lexer": "ipython3",
   "version": "3.10.0"
  },
  "orig_nbformat": 4,
  "vscode": {
   "interpreter": {
    "hash": "05a440cbc0a4d5663111a9b3b9ea59349399813ac6e64ad16052767f7ba4c947"
   }
  }
 },
 "nbformat": 4,
 "nbformat_minor": 2
}
