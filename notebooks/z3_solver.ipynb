{
 "cells": [
  {
   "cell_type": "markdown",
   "id": "bdfd026b-c11f-468e-9ce5-18434523e7a7",
   "metadata": {},
   "source": [
    "# What is the Z3 Solver "
   ]
  },
  {
   "cell_type": "code",
   "execution_count": 1,
   "id": "93392e4c-ee46-46f9-9fbc-49ee76c333e5",
   "metadata": {},
   "outputs": [],
   "source": [
    "# IMPORTS"
   ]
  },
  {
   "cell_type": "code",
   "execution_count": 4,
   "id": "02c366bf-2ed2-4699-b359-9354f55e31a2",
   "metadata": {},
   "outputs": [],
   "source": [
    "import z3\n",
    "import pkgutil\n",
    "import os"
   ]
  },
  {
   "cell_type": "code",
   "execution_count": 15,
   "id": "2ada184d-4d78-4904-b522-9456b0276e18",
   "metadata": {},
   "outputs": [
    {
     "name": "stdout",
     "output_type": "stream",
     "text": [
      "z3\n",
      "z3consts\n",
      "z3core\n",
      "z3num\n",
      "z3poly\n",
      "z3printer\n",
      "z3rcf\n",
      "z3types\n",
      "z3util\n"
     ]
    }
   ],
   "source": [
    "for importer, modname, ispkg in pkgutil.iter_modules(z3.__path__):\n",
    "    print(modname)"
   ]
  },
  {
   "cell_type": "code",
   "execution_count": 1,
   "id": "fb2e76af-3de2-4ea6-a8d1-88dbe5630de2",
   "metadata": {},
   "outputs": [],
   "source": [
    "from z3.z3 import *"
   ]
  },
  {
   "cell_type": "code",
   "execution_count": 44,
   "id": "62e1e10f-1103-4fb7-a1a1-e08897a508dd",
   "metadata": {},
   "outputs": [
    {
     "data": {
      "text/html": [
       "[Tie = False, Shirt = True]"
      ],
      "text/plain": [
       "[Tie = False, Shirt = True]"
      ]
     },
     "execution_count": 44,
     "metadata": {},
     "output_type": "execute_result"
    }
   ],
   "source": [
    "Tie, Shirt = Bools('Tie Shirt')\n",
    "s = Solver()\n",
    "s.add(Or(Tie, Shirt), Or(Not(Tie), Shirt), Or(Not(Tie), Not(Shirt)))\n",
    "s.check() # sat = satisfying assignment for the formulas\n",
    "s.model()"
   ]
  },
  {
   "cell_type": "code",
   "execution_count": 6,
   "id": "13bd4eea-a6cc-4ff7-9006-c016f286c964",
   "metadata": {},
   "outputs": [
    {
     "name": "stdout",
     "output_type": "stream",
     "text": [
      "[y = -2, x = 1, z = -2]\n"
     ]
    }
   ],
   "source": [
    "\"\"\"\n",
    "solve system of equations\n",
    "3x+2y-z=1\n",
    "2x-2y+4z=-2\n",
    "-x+1/2y-z=0\n",
    "\"\"\"\n",
    "x = Real('x')\n",
    "y = Real('y')\n",
    "z = Real('z')\n",
    "s = Solver()\n",
    "s.add(3*x+2*y-z==1, 2*x-2*y+4*z==-2, -x+0.5*y-z==0)\n",
    "while s.check() == sat:\n",
    "    print(s.model())\n",
    "    s.add(Or(x != s.model()[x], y != s.model()[y], z != s.model()[z]))"
   ]
  },
  {
   "cell_type": "code",
   "execution_count": 59,
   "id": "ef737121-b007-4678-b999-b5c94e84900d",
   "metadata": {
    "tags": []
   },
   "outputs": [
    {
     "name": "stdout",
     "output_type": "stream",
     "text": [
      "sat\n",
      "[circle = 5, square = 2, triangle = 1]\n"
     ]
    }
   ],
   "source": [
    "circle, square, triangle = Ints('circle square triangle')\n",
    "s = Solver()\n",
    "s.add(circle+circle==10)\n",
    "s.add(circle*square+square==12)\n",
    "s.add(circle*square-triangle*circle==circle)\n",
    "print(s.check())\n",
    "print(s.model())"
   ]
  },
  {
   "cell_type": "code",
   "execution_count": null,
   "id": "7b6c8909-55ad-4ce8-b3e6-7c9ed6c8b74c",
   "metadata": {
    "collapsed": true,
    "jupyter": {
     "outputs_hidden": true
    },
    "tags": []
   },
   "outputs": [
    {
     "ename": "AttributeError",
     "evalue": "'BoolRef' object has no attribute 'assert_exprs'",
     "output_type": "error",
     "traceback": [
      "\u001b[0;31m---------------------------------------------------------------------------\u001b[0m",
      "\u001b[0;31mAttributeError\u001b[0m                            Traceback (most recent call last)",
      "Input \u001b[0;32mIn [3]\u001b[0m, in \u001b[0;36m<module>\u001b[0;34m\u001b[0m\n\u001b[1;32m      7\u001b[0m s \u001b[38;5;241m=\u001b[39m Solver\n\u001b[1;32m      8\u001b[0m a, b, c, d, e, f \u001b[38;5;241m=\u001b[39m BitVec(\u001b[38;5;124m'\u001b[39m\u001b[38;5;124ma\u001b[39m\u001b[38;5;124m'\u001b[39m, \u001b[38;5;241m16\u001b[39m), BitVec(\u001b[38;5;124m'\u001b[39m\u001b[38;5;124mb\u001b[39m\u001b[38;5;124m'\u001b[39m, \u001b[38;5;241m16\u001b[39m), BitVec(\u001b[38;5;124m'\u001b[39m\u001b[38;5;124mc\u001b[39m\u001b[38;5;124m'\u001b[39m, \u001b[38;5;241m16\u001b[39m), BitVec(\u001b[38;5;124m'\u001b[39m\u001b[38;5;124md\u001b[39m\u001b[38;5;124m'\u001b[39m, \u001b[38;5;241m16\u001b[39m), BitVec(\u001b[38;5;124m'\u001b[39m\u001b[38;5;124me\u001b[39m\u001b[38;5;124m'\u001b[39m, \u001b[38;5;241m16\u001b[39m), BitVec(\u001b[38;5;124m'\u001b[39m\u001b[38;5;124mf\u001b[39m\u001b[38;5;124m'\u001b[39m, \u001b[38;5;241m16\u001b[39m)\n\u001b[0;32m----> 9\u001b[0m \u001b[43ms\u001b[49m\u001b[38;5;241;43m.\u001b[39;49m\u001b[43madd\u001b[49m\u001b[43m(\u001b[49m\u001b[43ma\u001b[49m\u001b[38;5;241;43m<\u001b[39;49m\u001b[38;5;241;43m=\u001b[39;49m\u001b[38;5;241;43m10\u001b[39;49m\u001b[43m,\u001b[49m\u001b[43m \u001b[49m\u001b[43mb\u001b[49m\u001b[38;5;241;43m<\u001b[39;49m\u001b[38;5;241;43m=\u001b[39;49m\u001b[38;5;241;43m10\u001b[39;49m\u001b[43m,\u001b[49m\u001b[43m \u001b[49m\u001b[43mc\u001b[49m\u001b[38;5;241;43m<\u001b[39;49m\u001b[38;5;241;43m=\u001b[39;49m\u001b[38;5;241;43m10\u001b[39;49m\u001b[43m,\u001b[49m\u001b[43m \u001b[49m\u001b[43md\u001b[49m\u001b[38;5;241;43m<\u001b[39;49m\u001b[38;5;241;43m=\u001b[39;49m\u001b[38;5;241;43m10\u001b[39;49m\u001b[43m,\u001b[49m\u001b[43m \u001b[49m\u001b[43me\u001b[49m\u001b[38;5;241;43m<\u001b[39;49m\u001b[38;5;241;43m=\u001b[39;49m\u001b[38;5;241;43m10\u001b[39;49m\u001b[43m,\u001b[49m\u001b[43m \u001b[49m\u001b[43mf\u001b[49m\u001b[38;5;241;43m<\u001b[39;49m\u001b[38;5;241;43m=\u001b[39;49m\u001b[38;5;241;43m10\u001b[39;49m\u001b[43m)\u001b[49m\n\u001b[1;32m     10\u001b[0m s\u001b[38;5;241m.\u001b[39madd(a\u001b[38;5;241m*\u001b[39m\u001b[38;5;241m215\u001b[39m\u001b[38;5;241m+\u001b[39mb\u001b[38;5;241m*\u001b[39m\u001b[38;5;241m275\u001b[39m\u001b[38;5;241m+\u001b[39mc\u001b[38;5;241m*\u001b[39m\u001b[38;5;241m335\u001b[39m\u001b[38;5;241m+\u001b[39md\u001b[38;5;241m*\u001b[39m\u001b[38;5;241m355\u001b[39m\u001b[38;5;241m+\u001b[39me\u001b[38;5;241m*\u001b[39m\u001b[38;5;241m420\u001b[39m\u001b[38;5;241m+\u001b[39mf\u001b[38;5;241m*\u001b[39m\u001b[38;5;241m580\u001b[39m\u001b[38;5;241m==\u001b[39m\u001b[38;5;241m1505\u001b[39m)\n\u001b[1;32m     11\u001b[0m \u001b[38;5;28;01mwhile\u001b[39;00m s\u001b[38;5;241m.\u001b[39mcheck():\n",
      "File \u001b[0;32m~/miniconda3/envs/programming/lib/python3.10/site-packages/z3/z3.py:7028\u001b[0m, in \u001b[0;36mSolver.add\u001b[0;34m(self, *args)\u001b[0m\n\u001b[1;32m   7019\u001b[0m \u001b[38;5;28;01mdef\u001b[39;00m \u001b[38;5;21madd\u001b[39m(\u001b[38;5;28mself\u001b[39m, \u001b[38;5;241m*\u001b[39margs):\n\u001b[1;32m   7020\u001b[0m     \u001b[38;5;124;03m\"\"\"Assert constraints into the solver.\u001b[39;00m\n\u001b[1;32m   7021\u001b[0m \n\u001b[1;32m   7022\u001b[0m \u001b[38;5;124;03m    >>> x = Int('x')\u001b[39;00m\n\u001b[0;32m   (...)\u001b[0m\n\u001b[1;32m   7026\u001b[0m \u001b[38;5;124;03m    [x > 0, x < 2]\u001b[39;00m\n\u001b[1;32m   7027\u001b[0m \u001b[38;5;124;03m    \"\"\"\u001b[39;00m\n\u001b[0;32m-> 7028\u001b[0m     \u001b[38;5;28;43mself\u001b[39;49m\u001b[38;5;241;43m.\u001b[39;49m\u001b[43massert_exprs\u001b[49m(\u001b[38;5;241m*\u001b[39margs)\n",
      "\u001b[0;31mAttributeError\u001b[0m: 'BoolRef' object has no attribute 'assert_exprs'"
     ]
    }
   ],
   "source": [
    "\"\"\"\n",
    "linear diophantine equations\n",
    "2 or more integer unknowns, each integer unknown is of degree 1\n",
    "ax+by=d, \n",
    "this doesn't work, you need mk85\n",
    "\"\"\"\n",
    "s = Solver\n",
    "a, b, c, d, e, f = BitVec('a', 16), BitVec('b', 16), BitVec('c', 16), BitVec('d', 16), BitVec('e', 16), BitVec('f', 16)\n",
    "s.add(a<=10, b<=10, c<=10, d<=10, e<=10, f<=10)\n",
    "s.add(a*215+b*275+c*335+d*355+e*420+f*580==1505)\n",
    "while s.check():\n",
    "    m = s.model()\n",
    "    print(m)\n",
    "    s.add(Not(And(a==m[\"a\"], b==m[\"b\"], c==m[\"c\"], d==m[\"d\"], e==m[\"e\"], f==m[\"f\"])))"
   ]
  },
  {
   "cell_type": "code",
   "execution_count": 72,
   "id": "dd656d40-ff6a-4a5a-b8b0-3378f029c0c1",
   "metadata": {
    "tags": []
   },
   "outputs": [
    {
     "name": "stdout",
     "output_type": "stream",
     "text": [
      "[y = 1/3, x = 1]\n",
      "answer 4\n"
     ]
    }
   ],
   "source": [
    "\"\"\"\n",
    "The sum of two nonzero real numbers is 4 times their product.\n",
    "What is the sum of the reciprocals of the two numbers?\n",
    "\"\"\"\n",
    "x, y = Reals('x y')\n",
    "s = Solver()\n",
    "s.add(x>0)\n",
    "s.add(y>0)\n",
    "s.add(x+y==4*x*y)\n",
    "s.check()\n",
    "m = s.model()\n",
    "print(m)\n",
    "print('answer', m.evaluate(1/x+1/y))"
   ]
  },
  {
   "cell_type": "code",
   "execution_count": 6,
   "id": "228dc0c1-420a-4825-8886-18a5b3a5fbdd",
   "metadata": {},
   "outputs": [
    {
     "name": "stdout",
     "output_type": "stream",
     "text": [
      "[x = 2939043, y = 2628223]\n",
      "CPU times: user 214 ms, sys: 49.8 ms, total: 264 ms\n",
      "Wall time: 845 ms\n"
     ]
    }
   ],
   "source": [
    "%%time\n",
    "\"\"\"\n",
    "Solving equation in advent of code\n",
    "These are the first constraints\n",
    "0<=x<=4000000\n",
    "0<=y<=4000000\n",
    "The additional constraints are the following\n",
    "\n",
    "\"\"\"\n",
    "\n",
    "def z3abs(x: int) -> int:\n",
    "    return If(x>=0, x, -x)\n",
    "manhattan = lambda x1, y1, x2, y2: abs(x1 - x2) + abs(y1 - y2)\n",
    "sensors = [(13820, 3995710), (3286002, 2959504), (3654160, 2649422), (3702414, 2602790), (375280, 2377181), (3875726, 2708666), (3786107, 2547075), (2334266, 3754737), (1613400, 1057722), (3305964, 2380628), (1744420, 3927424), (3696849, 2604845), (2357787, 401688), (2127900, 1984887), (3705551, 2604421), (1783014, 2978242), (2536648, 2910642), (3999189, 2989409), (3939169, 2382534), (2792378, 2002602), (3520934, 3617637), (2614525, 1628105), (2828931, 3996545), (2184699, 2161391), (2272873, 1816621), (1630899, 3675405), (3683190, 2619409), (180960, 185390), (1528472, 3321640), (3993470, 2905566), (1684313, 20931), (2547761, 2464195), (3711518, 845968), (3925049, 2897039), (1590740, 3586256), (1033496, 3762565)]\n",
    "beacons = [(1532002, 3577287), (3931431, 2926694), (3702627, 2598480), (3702627, 2598480), (2120140, 2591883), (3931431, 2926694), (3702627, 2598480), (2707879, 3424224), (1686376, -104303), (3702627, 2598480), (1532002, 3577287), (3702627, 2598480), (1686376, -104303), (2332340, 2000000), (3702627, 2598480), (2120140, 2591883), (2707879, 3424224), (3931431, 2926694), (3702627, 2598480), (2332340, 2000000), (2707879, 3424224), (2332340, 2000000), (2707879, 3424224), (2332340, 2000000), (2332340, 2000000), (1532002, 3577287), (3702627, 2598480), (187063, -1440697), (1532002, 3577287), (3931431, 2926694), (1686376, -104303), (2120140, 2591883), (3702627, 2598480), (3931431, 2926694), (1532002, 3577287), (1532002, 3577287)]\n",
    "s = Solver()\n",
    "x, y = Ints('x y')\n",
    "s.add(x>=0, x<=4000000, y>=0, y<=4000000)\n",
    "for sensor, beacon in zip(sensors, beacons):\n",
    "    xs, ys = sensor\n",
    "    xb, yb = beacon\n",
    "    dist = manhattan(xs, ys, xb, yb)\n",
    "    s.add(z3abs(x-xs) + z3abs(y-ys) > dist)\n",
    "if s.check():\n",
    "    model = s.model()\n",
    "    print(model)"
   ]
  },
  {
   "cell_type": "code",
   "execution_count": 2,
   "id": "eb8c2e07-30da-44f5-8779-2e31af209d4b",
   "metadata": {},
   "outputs": [],
   "source": [
    "\n",
    "\"\"\"\n",
    "constraint problem with bfs\n",
    "\n",
    "Blueprint 1: Each ore robot costsgeore 4 ore. Each clay robot costs 2 ore. Each obsidian robot costs 3 ore and 14 clay. Each geode robot costs 2 ore and 7 obsidian.\n",
    "\"\"\"\n",
    "from parse import compile\n",
    "\n",
    "pat = compile(\"Blueprint {:d}: Each ore robot costs {:d} ore. Each clay robot costs {:d} ore. Each obsidian robot costs {:d} ore and {:d} clay. Each geode robot costs {:d} ore and {:d} obsidian.\")\n",
    "class Blueprint:\n",
    "    def __init__(self, id, oreore, clayore, obore, obclay, geore, geob):\n",
    "        self.id = id\n",
    "        self.oreore = oreore\n",
    "        self.clayore = clayore\n",
    "        self.obore = obore\n",
    "        self.obclay = obclay\n",
    "        self.geore = geore\n",
    "        self.geob = geob\n",
    "        \n",
    "    def __repr__(self):\n",
    "        return f'blueprint id: {self.id}, oreore: {self.oreore}, clayore: {self.clayore}, obore: {self.obore}, obclay: {self.obclay}, geore: {self.geore}, geob: {self.geob}'\n",
    "\n",
    "s = \"Blueprint 1: Each ore robot costs 4 ore. Each clay robot costs 2 ore. Each obsidian robot costs 3 ore and 14 clay. Each geode robot costs 2 ore and 7 obsidian.\"\n",
    "blueprint = Blueprint(*pat.parse(s))"
   ]
  },
  {
   "cell_type": "code",
   "execution_count": 11,
   "id": "f0b18acb-e545-4f14-9dfa-f371d1f00412",
   "metadata": {
    "collapsed": true,
    "jupyter": {
     "outputs_hidden": true
    },
    "tags": []
   },
   "outputs": [
    {
     "name": "stdout",
     "output_type": "stream",
     "text": [
      "1 0 0\n",
      "2 0 0\n",
      "3 1 0\n",
      "4 2 0\n",
      "5 6 0\n",
      "6 11 0\n",
      "7 28 0\n",
      "8 56 0\n",
      "9 139 0\n",
      "10 304 0\n",
      "11 725 0\n",
      "12 1474 0\n",
      "13 2822 0\n",
      "14 4345 0\n",
      "15 6056 0\n",
      "16 11070 0\n"
     ]
    },
    {
     "ename": "KeyboardInterrupt",
     "evalue": "",
     "output_type": "error",
     "traceback": [
      "\u001b[0;31m---------------------------------------------------------------------------\u001b[0m",
      "\u001b[0;31mKeyboardInterrupt\u001b[0m                         Traceback (most recent call last)",
      "Input \u001b[0;32mIn [11]\u001b[0m, in \u001b[0;36m<module>\u001b[0;34m\u001b[0m\n\u001b[1;32m     39\u001b[0m s\u001b[38;5;241m.\u001b[39madd(obsidian_robot_req)\n\u001b[1;32m     42\u001b[0m \u001b[38;5;28;01mwhile\u001b[39;00m s\u001b[38;5;241m.\u001b[39mcheck() \u001b[38;5;241m==\u001b[39m sat:\n\u001b[1;32m     43\u001b[0m     next_geods, next_obsidian, next_clay, next_ore, next_geod_robots, next_obsidian_robots, next_clay_robots, next_ore_robots, next_time \u001b[38;5;241m=\u001b[39m geods \u001b[38;5;241m+\u001b[39m geod_robots, obsidian \u001b[38;5;241m+\u001b[39m obsidian_robots \u001b[38;5;241m-\u001b[39m s\u001b[38;5;241m.\u001b[39mmodel()[obsidian_count]\u001b[38;5;241m.\u001b[39mas_long(), clay \u001b[38;5;241m+\u001b[39m \\\n\u001b[0;32m---> 44\u001b[0m     clay_robots \u001b[38;5;241m-\u001b[39m s\u001b[38;5;241m.\u001b[39mmodel()[clay_count]\u001b[38;5;241m.\u001b[39mas_long(), ore \u001b[38;5;241m+\u001b[39m ore_robots \u001b[38;5;241m-\u001b[39m s\u001b[38;5;241m.\u001b[39mmodel()[ore_count]\u001b[38;5;241m.\u001b[39mas_long(), geod_robots \u001b[38;5;241m+\u001b[39m s\u001b[38;5;241m.\u001b[39mmodel()[geod_robot_count]\u001b[38;5;241m.\u001b[39mas_long(), obsidian_robots \u001b[38;5;241m+\u001b[39m s\u001b[38;5;241m.\u001b[39mmodel()[obsidian_robot_count]\u001b[38;5;241m.\u001b[39mas_long(), clay_robots \u001b[38;5;241m+\u001b[39m \u001b[43ms\u001b[49m\u001b[38;5;241;43m.\u001b[39;49m\u001b[43mmodel\u001b[49m\u001b[43m(\u001b[49m\u001b[43m)\u001b[49m\u001b[43m[\u001b[49m\u001b[43mclay_robot_count\u001b[49m\u001b[43m]\u001b[49m\u001b[38;5;241m.\u001b[39mas_long(), ore_robots \u001b[38;5;241m+\u001b[39m \\\n\u001b[1;32m     45\u001b[0m     s\u001b[38;5;241m.\u001b[39mmodel()[ore_robot_count]\u001b[38;5;241m.\u001b[39mas_long(), time \u001b[38;5;241m+\u001b[39m \u001b[38;5;241m1\u001b[39m\n\u001b[1;32m     46\u001b[0m     s\u001b[38;5;241m.\u001b[39madd(Or(obsidian_count \u001b[38;5;241m!=\u001b[39m s\u001b[38;5;241m.\u001b[39mmodel()[obsidian_count], clay_count \u001b[38;5;241m!=\u001b[39m s\u001b[38;5;241m.\u001b[39mmodel()[clay_count], ore_count \u001b[38;5;241m!=\u001b[39m s\u001b[38;5;241m.\u001b[39mmodel()[ore_count], geod_robot_count \u001b[38;5;241m!=\u001b[39m s\u001b[38;5;241m.\u001b[39mmodel()[geod_robot_count], obsidian_robot_count \u001b[38;5;241m!=\u001b[39m s\u001b[38;5;241m.\u001b[39mmodel()[obsidian_robot_count], clay_robot_count \u001b[38;5;241m!=\u001b[39m s\u001b[38;5;241m.\u001b[39mmodel()[clay_robot_count], ore_robot_count \u001b[38;5;241m!=\u001b[39m s\u001b[38;5;241m.\u001b[39mmodel()[ore_robot_count]))\n\u001b[1;32m     47\u001b[0m     next_state \u001b[38;5;241m=\u001b[39m (next_geods, next_obsidian, next_clay, next_ore, next_geod_robots, next_obsidian_robots, next_clay_robots, next_ore_robots, next_time)\n",
      "File \u001b[0;32m~/miniconda3/envs/programming/lib/python3.10/site-packages/z3/z3.py:6617\u001b[0m, in \u001b[0;36mModelRef.__getitem__\u001b[0;34m(self, idx)\u001b[0m\n\u001b[1;32m   6615\u001b[0m     \u001b[38;5;28;01mreturn\u001b[39;00m \u001b[38;5;28mself\u001b[39m\u001b[38;5;241m.\u001b[39mget_interp(idx)\n\u001b[1;32m   6616\u001b[0m \u001b[38;5;28;01mif\u001b[39;00m is_const(idx):\n\u001b[0;32m-> 6617\u001b[0m     \u001b[38;5;28;01mreturn\u001b[39;00m \u001b[38;5;28mself\u001b[39m\u001b[38;5;241m.\u001b[39mget_interp(\u001b[43midx\u001b[49m\u001b[38;5;241;43m.\u001b[39;49m\u001b[43mdecl\u001b[49m\u001b[43m(\u001b[49m\u001b[43m)\u001b[49m)\n\u001b[1;32m   6618\u001b[0m \u001b[38;5;28;01mif\u001b[39;00m \u001b[38;5;28misinstance\u001b[39m(idx, SortRef):\n\u001b[1;32m   6619\u001b[0m     \u001b[38;5;28;01mreturn\u001b[39;00m \u001b[38;5;28mself\u001b[39m\u001b[38;5;241m.\u001b[39mget_universe(idx)\n",
      "File \u001b[0;32m~/miniconda3/envs/programming/lib/python3.10/site-packages/z3/z3.py:1056\u001b[0m, in \u001b[0;36mExprRef.decl\u001b[0;34m(self)\u001b[0m\n\u001b[1;32m   1054\u001b[0m \u001b[38;5;28;01mif\u001b[39;00m z3_debug():\n\u001b[1;32m   1055\u001b[0m     _z3_assert(is_app(\u001b[38;5;28mself\u001b[39m), \u001b[38;5;124m\"\u001b[39m\u001b[38;5;124mZ3 application expected\u001b[39m\u001b[38;5;124m\"\u001b[39m)\n\u001b[0;32m-> 1056\u001b[0m \u001b[38;5;28;01mreturn\u001b[39;00m \u001b[43mFuncDeclRef\u001b[49m\u001b[43m(\u001b[49m\u001b[43mZ3_get_app_decl\u001b[49m\u001b[43m(\u001b[49m\u001b[38;5;28;43mself\u001b[39;49m\u001b[38;5;241;43m.\u001b[39;49m\u001b[43mctx_ref\u001b[49m\u001b[43m(\u001b[49m\u001b[43m)\u001b[49m\u001b[43m,\u001b[49m\u001b[43m \u001b[49m\u001b[38;5;28;43mself\u001b[39;49m\u001b[38;5;241;43m.\u001b[39;49m\u001b[43mas_ast\u001b[49m\u001b[43m(\u001b[49m\u001b[43m)\u001b[49m\u001b[43m)\u001b[49m\u001b[43m,\u001b[49m\u001b[43m \u001b[49m\u001b[38;5;28;43mself\u001b[39;49m\u001b[38;5;241;43m.\u001b[39;49m\u001b[43mctx\u001b[49m\u001b[43m)\u001b[49m\n",
      "File \u001b[0;32m~/miniconda3/envs/programming/lib/python3.10/site-packages/z3/z3.py:347\u001b[0m, in \u001b[0;36mAstRef.__init__\u001b[0;34m(self, ast, ctx)\u001b[0m\n\u001b[1;32m    345\u001b[0m \u001b[38;5;28;01mdef\u001b[39;00m \u001b[38;5;21m__init__\u001b[39m(\u001b[38;5;28mself\u001b[39m, ast, ctx\u001b[38;5;241m=\u001b[39m\u001b[38;5;28;01mNone\u001b[39;00m):\n\u001b[1;32m    346\u001b[0m     \u001b[38;5;28mself\u001b[39m\u001b[38;5;241m.\u001b[39mast \u001b[38;5;241m=\u001b[39m ast\n\u001b[0;32m--> 347\u001b[0m     \u001b[38;5;28mself\u001b[39m\u001b[38;5;241m.\u001b[39mctx \u001b[38;5;241m=\u001b[39m \u001b[43m_get_ctx\u001b[49m\u001b[43m(\u001b[49m\u001b[43mctx\u001b[49m\u001b[43m)\u001b[49m\n\u001b[1;32m    348\u001b[0m     Z3_inc_ref(\u001b[38;5;28mself\u001b[39m\u001b[38;5;241m.\u001b[39mctx\u001b[38;5;241m.\u001b[39mref(), \u001b[38;5;28mself\u001b[39m\u001b[38;5;241m.\u001b[39mas_ast())\n",
      "File \u001b[0;32m~/miniconda3/envs/programming/lib/python3.10/site-packages/z3/z3.py:260\u001b[0m, in \u001b[0;36m_get_ctx\u001b[0;34m(ctx)\u001b[0m\n\u001b[1;32m    256\u001b[0m         _main_ctx \u001b[38;5;241m=\u001b[39m Context()\n\u001b[1;32m    257\u001b[0m     \u001b[38;5;28;01mreturn\u001b[39;00m _main_ctx\n\u001b[0;32m--> 260\u001b[0m \u001b[38;5;28;01mdef\u001b[39;00m \u001b[38;5;21m_get_ctx\u001b[39m(ctx):\n\u001b[1;32m    261\u001b[0m     \u001b[38;5;28;01mif\u001b[39;00m ctx \u001b[38;5;129;01mis\u001b[39;00m \u001b[38;5;28;01mNone\u001b[39;00m:\n\u001b[1;32m    262\u001b[0m         \u001b[38;5;28;01mreturn\u001b[39;00m main_ctx()\n",
      "\u001b[0;31mKeyboardInterrupt\u001b[0m: "
     ]
    }
   ],
   "source": [
    "from collections import deque\n",
    "import sys\n",
    "# sys.stdout = open('output.txt', 'w')\n",
    "initial_state = (0, 0, 0, 0, 0, 0, 0, 1, 0) # geods count, geod robots count, obsidian robots count, clay robots count, \n",
    "# initial_state = (0, 8, 13, 3, 0, 2, 4, 1, 18)\n",
    "queue = deque([initial_state]) # geods count, obisidan count, clay count, ore count, geod robots count, obsidian robots count, clay robots count, ore robots count, time \n",
    "best = 0\n",
    "prev_time = 0\n",
    "needed_ore = max(blueprint.oreore, blueprint.clayore, blueprint.obore, blueprint.geore)\n",
    "needed_clay = blueprint.obclay\n",
    "needed_obsidian = blueprint.geob\n",
    "sol = []\n",
    "cnt = 2\n",
    "while queue:\n",
    "    geods, obsidian, clay, ore, geod_robots, obsidian_robots, clay_robots, ore_robots, time = queue.popleft()\n",
    "    state = (geods, obsidian, clay, ore, geod_robots, obsidian_robots, clay_robots, ore_robots, time)\n",
    "    if (0, 3, 17, 2, 1, 2, 4, 1, 18) == state:\n",
    "        sol.append(state)\n",
    "    if time == 19: break\n",
    "    if time > prev_time:\n",
    "        print(time, len(queue), best)\n",
    "        prev_time = time\n",
    "    if time == 24:\n",
    "        best = max(best, geods)\n",
    "        continue\n",
    "    if ore >= cnt*needed_ore or ore_robots >= needed_ore or clay_robots >= needed_clay or obsidian_robots >= needed_obsidian or clay > 8*needed_clay: \n",
    "        continue \n",
    "    s = Solver()\n",
    "    obsidian_count, clay_count, ore_count, geod_robot_count, obsidian_robot_count, clay_robot_count, ore_robot_count = Ints('obsidian_count clay_count ore_count geod_robot_count obsidian_robot_count clay_robot_count ore_robot_count')\n",
    "    s.add(obsidian_count <= obsidian, clay_count <= clay, ore_count <= ore)\n",
    "    s.add(ore_robot_count >= 0, clay_robot_count >= 0, obsidian_robot_count >= 0, geod_robot_count >= 0)\n",
    "    s.add(blueprint.oreore*ore_robot_count + blueprint.clayore*clay_robot_count + blueprint.obore*obsidian_robot_count + blueprint.geore*geod_robot_count == ore_count)\n",
    "    s.add(blueprint.obclay*obsidian_robot_count == clay_count)\n",
    "    s.add(blueprint.geob*geod_robot_count == obsidian_count)\n",
    "    s.add(ore_robot_count + clay_robot_count + obsidian_robot_count + geod_robot_count <= 1)\n",
    "    geod_robot_req = If(And(obsidian >= blueprint.geob, ore >= blueprint.geore), geod_robot_count == 1, geod_robot_count == 0)\n",
    "    s.add(geod_robot_req)\n",
    "    obsidian_robot_req = If(And(Or(obsidian < blueprint.geob, ore < blueprint.geore), clay >= blueprint.obclay, ore >= blueprint.obore), obsidian_robot_count == 1, obsidian_robot_count == 0)\n",
    "    s.add(obsidian_robot_req)\n",
    "\n",
    "    \n",
    "    while s.check() == sat:\n",
    "        next_geods, next_obsidian, next_clay, next_ore, next_geod_robots, next_obsidian_robots, next_clay_robots, next_ore_robots, next_time = geods + geod_robots, obsidian + obsidian_robots - s.model()[obsidian_count].as_long(), clay + \\\n",
    "        clay_robots - s.model()[clay_count].as_long(), ore + ore_robots - s.model()[ore_count].as_long(), geod_robots + s.model()[geod_robot_count].as_long(), obsidian_robots + s.model()[obsidian_robot_count].as_long(), clay_robots + s.model()[clay_robot_count].as_long(), ore_robots + \\\n",
    "        s.model()[ore_robot_count].as_long(), time + 1\n",
    "        s.add(Or(obsidian_count != s.model()[obsidian_count], clay_count != s.model()[clay_count], ore_count != s.model()[ore_count], geod_robot_count != s.model()[geod_robot_count], obsidian_robot_count != s.model()[obsidian_robot_count], clay_robot_count != s.model()[clay_robot_count], ore_robot_count != s.model()[ore_robot_count]))\n",
    "        next_state = (next_geods, next_obsidian, next_clay, next_ore, next_geod_robots, next_obsidian_robots, next_clay_robots, next_ore_robots, next_time)\n",
    "        queue.append(next_state)\n"
   ]
  },
  {
   "cell_type": "code",
   "execution_count": null,
   "id": "9e020bde-0bd2-499a-9977-1b5953f535a5",
   "metadata": {
    "tags": []
   },
   "outputs": [],
   "source": [
    "sol"
   ]
  },
  {
   "cell_type": "code",
   "execution_count": 8,
   "id": "705f2b90-9715-4e33-89ce-bdb85177241b",
   "metadata": {},
   "outputs": [
    {
     "data": {
      "text/plain": [
       "250880"
      ]
     },
     "execution_count": 8,
     "metadata": {},
     "output_type": "execute_result"
    }
   ],
   "source": [
    "8*4*14*7"
   ]
  },
  {
   "cell_type": "code",
   "execution_count": 13,
   "id": "fed5085c-0fbc-4484-9818-33ad35a7eb42",
   "metadata": {},
   "outputs": [
    {
     "name": "stdout",
     "output_type": "stream",
     "text": [
      "If(And(True, True), False, False)\n"
     ]
    }
   ],
   "source": [
    "# how to use the z3 solver and statement and if\n",
    "geod_robot_count = Ints('geod_robot_count')\n",
    "obsidian = blueprint.geob\n",
    "ore = blueprint.geore \n",
    "geod_robot_req = If(And(obsidian >= blueprint.geob, ore >= blueprint.geore), geod_robot_count == 1, geod_robot_count == 0)\n",
    "print(geod_robot_req)"
   ]
  },
  {
   "cell_type": "code",
   "execution_count": 14,
   "id": "382840ff-60ed-43f4-8e1e-c68ca3b119ce",
   "metadata": {
    "collapsed": true,
    "jupyter": {
     "outputs_hidden": true
    },
    "tags": []
   },
   "outputs": [
    {
     "data": {
      "text/plain": [
       "['__bool__',\n",
       " '__class__',\n",
       " '__copy__',\n",
       " '__deepcopy__',\n",
       " '__del__',\n",
       " '__delattr__',\n",
       " '__dict__',\n",
       " '__dir__',\n",
       " '__doc__',\n",
       " '__eq__',\n",
       " '__format__',\n",
       " '__ge__',\n",
       " '__getattribute__',\n",
       " '__gt__',\n",
       " '__hash__',\n",
       " '__init__',\n",
       " '__init_subclass__',\n",
       " '__le__',\n",
       " '__lt__',\n",
       " '__module__',\n",
       " '__mul__',\n",
       " '__ne__',\n",
       " '__new__',\n",
       " '__nonzero__',\n",
       " '__reduce__',\n",
       " '__reduce_ex__',\n",
       " '__repr__',\n",
       " '__rmul__',\n",
       " '__setattr__',\n",
       " '__sizeof__',\n",
       " '__str__',\n",
       " '__subclasshook__',\n",
       " '__weakref__',\n",
       " '_repr_html_',\n",
       " 'arg',\n",
       " 'as_ast',\n",
       " 'ast',\n",
       " 'children',\n",
       " 'ctx',\n",
       " 'ctx_ref',\n",
       " 'decl',\n",
       " 'eq',\n",
       " 'from_string',\n",
       " 'get_id',\n",
       " 'hash',\n",
       " 'num_args',\n",
       " 'params',\n",
       " 'serialize',\n",
       " 'sexpr',\n",
       " 'sort',\n",
       " 'sort_kind',\n",
       " 'translate',\n",
       " 'use_pp']"
      ]
     },
     "execution_count": 14,
     "metadata": {},
     "output_type": "execute_result"
    }
   ],
   "source": [
    "dir(geod_robot_req)"
   ]
  },
  {
   "cell_type": "code",
   "execution_count": 15,
   "id": "3bd86c8f-6b03-4653-9482-05f797ce6974",
   "metadata": {},
   "outputs": [
    {
     "data": {
      "text/html": [
       "False"
      ],
      "text/plain": [
       "False"
      ]
     },
     "execution_count": 15,
     "metadata": {},
     "output_type": "execute_result"
    }
   ],
   "source": [
    "simplify(geod_robot_req)"
   ]
  },
  {
   "cell_type": "code",
   "execution_count": null,
   "id": "3e56d907-a679-45c4-8b37-57ce10254b07",
   "metadata": {},
   "outputs": [],
   "source": [
    "sys.stdout.close()"
   ]
  },
  {
   "cell_type": "code",
   "execution_count": 22,
   "id": "08feb936-036a-4c95-8835-71aea98a7e53",
   "metadata": {
    "collapsed": true,
    "jupyter": {
     "outputs_hidden": true
    },
    "tags": []
   },
   "outputs": [
    {
     "data": {
      "text/plain": [
       "63403380965376"
      ]
     },
     "execution_count": 22,
     "metadata": {},
     "output_type": "execute_result"
    }
   ],
   "source": [
    "24**10"
   ]
  },
  {
   "cell_type": "code",
   "execution_count": 112,
   "id": "2b5a6ad7-afb9-4b30-89d1-79a80374c842",
   "metadata": {},
   "outputs": [],
   "source": [
    "x, y = Ints('x y')\n",
    "# x.eq = 2\n",
    "# y.eq = 3\n",
    "req = If(x==2, y > 0, y > 0)\n",
    "req2 = If(And(Not(req), y == 3), y > 0, y > 0)\n"
   ]
  },
  {
   "cell_type": "code",
   "execution_count": 113,
   "id": "138f0288-e2dd-4469-bbb6-52386aae99a5",
   "metadata": {},
   "outputs": [],
   "source": [
    "ss = Solver()"
   ]
  },
  {
   "cell_type": "code",
   "execution_count": 114,
   "id": "9ae12de1-0c59-4a8b-b9b3-2c1f3bd42228",
   "metadata": {
    "tags": []
   },
   "outputs": [],
   "source": [
    "ss.add(x == 3, y == 3)\n",
    "ss.add(req)\n",
    "ss.add(req2)"
   ]
  },
  {
   "cell_type": "code",
   "execution_count": 115,
   "id": "cd6c305f-5969-4725-b0d5-24f6b24337b0",
   "metadata": {},
   "outputs": [
    {
     "data": {
      "text/html": [
       "[y = 3, x = 3]"
      ],
      "text/plain": [
       "[y = 3, x = 3]"
      ]
     },
     "execution_count": 115,
     "metadata": {},
     "output_type": "execute_result"
    }
   ],
   "source": [
    "ss.check()\n",
    "ss.model()"
   ]
  },
  {
   "cell_type": "code",
   "execution_count": null,
   "id": "fa75f85b-73ac-401a-896a-f841d5518ffd",
   "metadata": {},
   "outputs": [],
   "source": []
  }
 ],
 "metadata": {
  "kernelspec": {
   "display_name": "Python 3 (ipykernel)",
   "language": "python",
   "name": "python3"
  },
  "language_info": {
   "codemirror_mode": {
    "name": "ipython",
    "version": 3
   },
   "file_extension": ".py",
   "mimetype": "text/x-python",
   "name": "python",
   "nbconvert_exporter": "python",
   "pygments_lexer": "ipython3",
   "version": "3.10.0"
  },
  "vscode": {
   "interpreter": {
    "hash": "05a440cbc0a4d5663111a9b3b9ea59349399813ac6e64ad16052767f7ba4c947"
   }
  }
 },
 "nbformat": 4,
 "nbformat_minor": 5
}
