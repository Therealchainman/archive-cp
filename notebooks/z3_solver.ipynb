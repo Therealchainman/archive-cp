{
 "cells": [
  {
   "cell_type": "markdown",
   "id": "bdfd026b-c11f-468e-9ce5-18434523e7a7",
   "metadata": {},
   "source": [
    "# What is the Z3 Solver "
   ]
  },
  {
   "cell_type": "code",
   "execution_count": null,
   "id": "93392e4c-ee46-46f9-9fbc-49ee76c333e5",
   "metadata": {},
   "outputs": [],
   "source": [
    "# IMPORTS"
   ]
  },
  {
   "cell_type": "code",
   "execution_count": 14,
   "id": "02c366bf-2ed2-4699-b359-9354f55e31a2",
   "metadata": {},
   "outputs": [],
   "source": [
    "import z3\n",
    "import pkgutil\n",
    "import os"
   ]
  },
  {
   "cell_type": "code",
   "execution_count": 15,
   "id": "2ada184d-4d78-4904-b522-9456b0276e18",
   "metadata": {},
   "outputs": [
    {
     "name": "stdout",
     "output_type": "stream",
     "text": [
      "z3\n",
      "z3consts\n",
      "z3core\n",
      "z3num\n",
      "z3poly\n",
      "z3printer\n",
      "z3rcf\n",
      "z3types\n",
      "z3util\n"
     ]
    }
   ],
   "source": [
    "for importer, modname, ispkg in pkgutil.iter_modules(z3.__path__):\n",
    "    print(modname)"
   ]
  },
  {
   "cell_type": "code",
   "execution_count": 36,
   "id": "fb2e76af-3de2-4ea6-a8d1-88dbe5630de2",
   "metadata": {},
   "outputs": [],
   "source": [
    "from z3.z3 import *"
   ]
  },
  {
   "cell_type": "code",
   "execution_count": 44,
   "id": "62e1e10f-1103-4fb7-a1a1-e08897a508dd",
   "metadata": {},
   "outputs": [
    {
     "data": {
      "text/html": [
       "[Tie = False, Shirt = True]"
      ],
      "text/plain": [
       "[Tie = False, Shirt = True]"
      ]
     },
     "execution_count": 44,
     "metadata": {},
     "output_type": "execute_result"
    }
   ],
   "source": [
    "Tie, Shirt = Bools('Tie Shirt')\n",
    "s = Solver()\n",
    "s.add(Or(Tie, Shirt), Or(Not(Tie), Shirt), Or(Not(Tie), Not(Shirt)))\n",
    "s.check() # sat = satisfying assignment for the formulas\n",
    "s.model()"
   ]
  },
  {
   "cell_type": "code",
   "execution_count": 58,
   "id": "13bd4eea-a6cc-4ff7-9006-c016f286c964",
   "metadata": {},
   "outputs": [
    {
     "name": "stdout",
     "output_type": "stream",
     "text": [
      "sat\n",
      "[y = -2, x = 1, z = -2]\n"
     ]
    }
   ],
   "source": [
    "\"\"\"\n",
    "solve system of equations\n",
    "3x+2y-z=1\n",
    "2x-2y+4z=-2\n",
    "-x+1/2y-z=0\n",
    "\"\"\"\n",
    "x = Real('x')\n",
    "y = Real('y')\n",
    "z = Real('z')\n",
    "s = Solver()\n",
    "s.add(3*x+2*y-z==1, 2*x-2*y+4*z==-2, -x+0.5*y-z==0)\n",
    "print(s.check())\n",
    "print(s.model())"
   ]
  },
  {
   "cell_type": "code",
   "execution_count": 59,
   "id": "ef737121-b007-4678-b999-b5c94e84900d",
   "metadata": {
    "tags": []
   },
   "outputs": [
    {
     "name": "stdout",
     "output_type": "stream",
     "text": [
      "sat\n",
      "[circle = 5, square = 2, triangle = 1]\n"
     ]
    }
   ],
   "source": [
    "circle, square, triangle = Ints('circle square triangle')\n",
    "s = Solver()\n",
    "s.add(circle+circle==10)\n",
    "s.add(circle*square+square==12)\n",
    "s.add(circle*square-triangle*circle==circle)\n",
    "print(s.check())\n",
    "print(s.model())"
   ]
  },
  {
   "cell_type": "code",
   "execution_count": 63,
   "id": "7b6c8909-55ad-4ce8-b3e6-7c9ed6c8b74c",
   "metadata": {
    "collapsed": true,
    "jupyter": {
     "outputs_hidden": true
    },
    "tags": []
   },
   "outputs": [
    {
     "ename": "AttributeError",
     "evalue": "'BoolRef' object has no attribute 'assert_exprs'",
     "output_type": "error",
     "traceback": [
      "\u001b[0;31m---------------------------------------------------------------------------\u001b[0m",
      "\u001b[0;31mAttributeError\u001b[0m                            Traceback (most recent call last)",
      "Input \u001b[0;32mIn [63]\u001b[0m, in \u001b[0;36m<module>\u001b[0;34m\u001b[0m\n\u001b[1;32m      6\u001b[0m s \u001b[38;5;241m=\u001b[39m Solver\n\u001b[1;32m      7\u001b[0m a, b, c, d, e, f \u001b[38;5;241m=\u001b[39m BitVec(\u001b[38;5;124m'\u001b[39m\u001b[38;5;124ma\u001b[39m\u001b[38;5;124m'\u001b[39m, \u001b[38;5;241m16\u001b[39m), BitVec(\u001b[38;5;124m'\u001b[39m\u001b[38;5;124mb\u001b[39m\u001b[38;5;124m'\u001b[39m, \u001b[38;5;241m16\u001b[39m), BitVec(\u001b[38;5;124m'\u001b[39m\u001b[38;5;124mc\u001b[39m\u001b[38;5;124m'\u001b[39m, \u001b[38;5;241m16\u001b[39m), BitVec(\u001b[38;5;124m'\u001b[39m\u001b[38;5;124md\u001b[39m\u001b[38;5;124m'\u001b[39m, \u001b[38;5;241m16\u001b[39m), BitVec(\u001b[38;5;124m'\u001b[39m\u001b[38;5;124me\u001b[39m\u001b[38;5;124m'\u001b[39m, \u001b[38;5;241m16\u001b[39m), BitVec(\u001b[38;5;124m'\u001b[39m\u001b[38;5;124mf\u001b[39m\u001b[38;5;124m'\u001b[39m, \u001b[38;5;241m16\u001b[39m)\n\u001b[0;32m----> 8\u001b[0m \u001b[43ms\u001b[49m\u001b[38;5;241;43m.\u001b[39;49m\u001b[43madd\u001b[49m\u001b[43m(\u001b[49m\u001b[43ma\u001b[49m\u001b[38;5;241;43m<\u001b[39;49m\u001b[38;5;241;43m=\u001b[39;49m\u001b[38;5;241;43m10\u001b[39;49m\u001b[43m,\u001b[49m\u001b[43m \u001b[49m\u001b[43mb\u001b[49m\u001b[38;5;241;43m<\u001b[39;49m\u001b[38;5;241;43m=\u001b[39;49m\u001b[38;5;241;43m10\u001b[39;49m\u001b[43m,\u001b[49m\u001b[43m \u001b[49m\u001b[43mc\u001b[49m\u001b[38;5;241;43m<\u001b[39;49m\u001b[38;5;241;43m=\u001b[39;49m\u001b[38;5;241;43m10\u001b[39;49m\u001b[43m,\u001b[49m\u001b[43m \u001b[49m\u001b[43md\u001b[49m\u001b[38;5;241;43m<\u001b[39;49m\u001b[38;5;241;43m=\u001b[39;49m\u001b[38;5;241;43m10\u001b[39;49m\u001b[43m,\u001b[49m\u001b[43m \u001b[49m\u001b[43me\u001b[49m\u001b[38;5;241;43m<\u001b[39;49m\u001b[38;5;241;43m=\u001b[39;49m\u001b[38;5;241;43m10\u001b[39;49m\u001b[43m,\u001b[49m\u001b[43m \u001b[49m\u001b[43mf\u001b[49m\u001b[38;5;241;43m<\u001b[39;49m\u001b[38;5;241;43m=\u001b[39;49m\u001b[38;5;241;43m10\u001b[39;49m\u001b[43m)\u001b[49m\n\u001b[1;32m      9\u001b[0m s\u001b[38;5;241m.\u001b[39madd(a\u001b[38;5;241m*\u001b[39m\u001b[38;5;241m215\u001b[39m\u001b[38;5;241m+\u001b[39mb\u001b[38;5;241m*\u001b[39m\u001b[38;5;241m275\u001b[39m\u001b[38;5;241m+\u001b[39mc\u001b[38;5;241m*\u001b[39m\u001b[38;5;241m335\u001b[39m\u001b[38;5;241m+\u001b[39md\u001b[38;5;241m*\u001b[39m\u001b[38;5;241m355\u001b[39m\u001b[38;5;241m+\u001b[39me\u001b[38;5;241m*\u001b[39m\u001b[38;5;241m420\u001b[39m\u001b[38;5;241m+\u001b[39mf\u001b[38;5;241m*\u001b[39m\u001b[38;5;241m580\u001b[39m\u001b[38;5;241m==\u001b[39m\u001b[38;5;241m1505\u001b[39m)\n\u001b[1;32m     10\u001b[0m \u001b[38;5;28;01mwhile\u001b[39;00m s\u001b[38;5;241m.\u001b[39mcheck():\n",
      "File \u001b[0;32m~/miniconda3/envs/programming/lib/python3.10/site-packages/z3/z3.py:7028\u001b[0m, in \u001b[0;36mSolver.add\u001b[0;34m(self, *args)\u001b[0m\n\u001b[1;32m   7019\u001b[0m \u001b[38;5;28;01mdef\u001b[39;00m \u001b[38;5;21madd\u001b[39m(\u001b[38;5;28mself\u001b[39m, \u001b[38;5;241m*\u001b[39margs):\n\u001b[1;32m   7020\u001b[0m     \u001b[38;5;124;03m\"\"\"Assert constraints into the solver.\u001b[39;00m\n\u001b[1;32m   7021\u001b[0m \n\u001b[1;32m   7022\u001b[0m \u001b[38;5;124;03m    >>> x = Int('x')\u001b[39;00m\n\u001b[0;32m   (...)\u001b[0m\n\u001b[1;32m   7026\u001b[0m \u001b[38;5;124;03m    [x > 0, x < 2]\u001b[39;00m\n\u001b[1;32m   7027\u001b[0m \u001b[38;5;124;03m    \"\"\"\u001b[39;00m\n\u001b[0;32m-> 7028\u001b[0m     \u001b[38;5;28;43mself\u001b[39;49m\u001b[38;5;241;43m.\u001b[39;49m\u001b[43massert_exprs\u001b[49m(\u001b[38;5;241m*\u001b[39margs)\n",
      "\u001b[0;31mAttributeError\u001b[0m: 'BoolRef' object has no attribute 'assert_exprs'"
     ]
    }
   ],
   "source": [
    "\"\"\"\n",
    "linear diophantine equations\n",
    "2 or more integer unknowns, each integer unknown is of degree 1\n",
    "ax+by=d, \n",
    "this doesn't work, you need mk85\n",
    "\"\"\"\n",
    "s = Solver\n",
    "a, b, c, d, e, f = BitVec('a', 16), BitVec('b', 16), BitVec('c', 16), BitVec('d', 16), BitVec('e', 16), BitVec('f', 16)\n",
    "s.add(a<=10, b<=10, c<=10, d<=10, e<=10, f<=10)\n",
    "s.add(a*215+b*275+c*335+d*355+e*420+f*580==1505)\n",
    "while s.check():\n",
    "    m = s.model()\n",
    "    print(m)\n",
    "    s.add(Not(And(a==m[\"a\"], b==m[\"b\"], c==m[\"c\"], d==m[\"d\"], e==m[\"e\"], f==m[\"f\"])))"
   ]
  },
  {
   "cell_type": "code",
   "execution_count": 72,
   "id": "dd656d40-ff6a-4a5a-b8b0-3378f029c0c1",
   "metadata": {
    "tags": []
   },
   "outputs": [
    {
     "name": "stdout",
     "output_type": "stream",
     "text": [
      "[y = 1/3, x = 1]\n",
      "answer 4\n"
     ]
    }
   ],
   "source": [
    "\"\"\"\n",
    "The sum of two nonzero real numbers is 4 times their product.\n",
    "What is the sum of the reciprocals of the two numbers?\n",
    "\"\"\"\n",
    "x, y = Reals('x y')\n",
    "s = Solver()\n",
    "s.add(x>0)\n",
    "s.add(y>0)\n",
    "s.add(x+y==4*x*y)\n",
    "s.check()\n",
    "m = s.model()\n",
    "print(m)\n",
    "print('answer', m.evaluate(1/x+1/y))"
   ]
  },
  {
   "cell_type": "code",
   "execution_count": 75,
   "id": "228dc0c1-420a-4825-8886-18a5b3a5fbdd",
   "metadata": {},
   "outputs": [
    {
     "name": "stdout",
     "output_type": "stream",
     "text": [
      "sat\n",
      "[x = 2939043, y = 2628223]\n"
     ]
    }
   ],
   "source": [
    "\"\"\"\n",
    "Solving equation in advent of code\n",
    "These are the first constraints\n",
    "0<=x<=4000000\n",
    "0<=y<=4000000\n",
    "The additional constraints are the following\n",
    "\n",
    "\"\"\"\n",
    "def z3abs(x: int) -> int:\n",
    "    return If(x>=0, x, -x)\n",
    "manhattan = lambda x1, y1, x2, y2: abs(x1 - x2) + abs(y1 - y2)\n",
    "sensors = [(13820, 3995710), (3286002, 2959504), (3654160, 2649422), (3702414, 2602790), (375280, 2377181), (3875726, 2708666), (3786107, 2547075), (2334266, 3754737), (1613400, 1057722), (3305964, 2380628), (1744420, 3927424), (3696849, 2604845), (2357787, 401688), (2127900, 1984887), (3705551, 2604421), (1783014, 2978242), (2536648, 2910642), (3999189, 2989409), (3939169, 2382534), (2792378, 2002602), (3520934, 3617637), (2614525, 1628105), (2828931, 3996545), (2184699, 2161391), (2272873, 1816621), (1630899, 3675405), (3683190, 2619409), (180960, 185390), (1528472, 3321640), (3993470, 2905566), (1684313, 20931), (2547761, 2464195), (3711518, 845968), (3925049, 2897039), (1590740, 3586256), (1033496, 3762565)]\n",
    "beacons = [(1532002, 3577287), (3931431, 2926694), (3702627, 2598480), (3702627, 2598480), (2120140, 2591883), (3931431, 2926694), (3702627, 2598480), (2707879, 3424224), (1686376, -104303), (3702627, 2598480), (1532002, 3577287), (3702627, 2598480), (1686376, -104303), (2332340, 2000000), (3702627, 2598480), (2120140, 2591883), (2707879, 3424224), (3931431, 2926694), (3702627, 2598480), (2332340, 2000000), (2707879, 3424224), (2332340, 2000000), (2707879, 3424224), (2332340, 2000000), (2332340, 2000000), (1532002, 3577287), (3702627, 2598480), (187063, -1440697), (1532002, 3577287), (3931431, 2926694), (1686376, -104303), (2120140, 2591883), (3702627, 2598480), (3931431, 2926694), (1532002, 3577287), (1532002, 3577287)]\n",
    "s = Solver()\n",
    "x, y = Ints('x y')\n",
    "s.add(x>=0, x<=4000000, y>=0, y<=4000000)\n",
    "for sensor, beacon in zip(sensors, beacons):\n",
    "    xs, ys = sensor\n",
    "    xb, yb = beacon\n",
    "    dist = manhattan(xs, ys, xb, yb)\n",
    "    s.add(z3abs(x-xs) + z3abs(y-ys) > dist)\n",
    "if s.check():\n",
    "    model = s.model()\n",
    "    print(model)"
   ]
  },
  {
   "cell_type": "code",
   "execution_count": null,
   "id": "340e762e-544e-4e64-b063-2ae71dda0754",
   "metadata": {},
   "outputs": [],
   "source": []
  }
 ],
 "metadata": {
  "kernelspec": {
   "display_name": "Python 3 (ipykernel)",
   "language": "python",
   "name": "python3"
  },
  "language_info": {
   "codemirror_mode": {
    "name": "ipython",
    "version": 3
   },
   "file_extension": ".py",
   "mimetype": "text/x-python",
   "name": "python",
   "nbconvert_exporter": "python",
   "pygments_lexer": "ipython3",
   "version": "3.10.0"
  }
 },
 "nbformat": 4,
 "nbformat_minor": 5
}
