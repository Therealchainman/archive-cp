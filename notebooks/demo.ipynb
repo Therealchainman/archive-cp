{
 "cells": [
  {
   "cell_type": "code",
   "execution_count": 7,
   "metadata": {},
   "outputs": [],
   "source": [
    "from pyvis.network import Network\n",
    "from typing import List, Tuple\n",
    "import math\n",
    "from collections import Counter, deque, defaultdict\n",
    "import urllib.request\n",
    "import time\n",
    "from pathlib import Path\n",
    "import shutil"
   ]
  },
  {
   "cell_type": "code",
   "execution_count": 14,
   "metadata": {},
   "outputs": [],
   "source": [
    "class FlowVisualizer:\n",
    "    def open(self, edges, directory = 'flow_network_vis'):\n",
    "        self.net = Network('1024px', '600px', notebook = True, directed = False)\n",
    "        self.net.toggle_physics(False)\n",
    "        self.net.set_edge_smooth('dynamic') # deals with parallel edges?\n",
    "        # self.net.show_buttons(filter_ = ['physics', 'nodes', 'edges'])\n",
    "        options = \"\"\"\n",
    "const options = {\n",
    "  \"nodes\": {\n",
    "    \"borderWidth\": 4,\n",
    "    \"borderWidthSelected\": null,\n",
    "    \"opacity\": null,\n",
    "    \"size\": null\n",
    "  },\n",
    "  \"edges\": {\n",
    "    \"color\": {\n",
    "      \"inherit\": true\n",
    "    },\n",
    "    \"selfReferenceSize\": null,\n",
    "    \"selfReference\": {\n",
    "      \"angle\": 0.7853981633974483\n",
    "    },\n",
    "    \"smooth\": {\n",
    "      \"forceDirection\": \"none\"\n",
    "    }\n",
    "  },\n",
    "  \"physics\": {\n",
    "    \"barnesHut\": {\n",
    "      \"springConstant\": 0.005,\n",
    "      \"damping\": 1\n",
    "    },\n",
    "    \"minVelocity\": 0.75\n",
    "  }\n",
    "}\n",
    "        \"\"\"\n",
    "        self.net.set_options(options)\n",
    "        self.cnt = 0\n",
    "        shutil.rmtree(directory, ignore_errors = True)\n",
    "        Path(directory).mkdir(parents = True, exist_ok = True)\n",
    "        self.directory = directory\n",
    "        self.build(edges)\n",
    "\n",
    "    def node_adder(self, node: int):\n",
    "        if node not in self.nodes:\n",
    "            self.net.add_node(node, title = f'{node}', size = 20, label = f'{node}')\n",
    "            self.nodes.add(node)\n",
    "\n",
    "    def build(self, edges):\n",
    "        self.nodes = set()\n",
    "        for i, (src, dst) in enumerate(edges):\n",
    "            self.node_adder(src)\n",
    "            self.node_adder(dst)\n",
    "            self.net.add_edge(src, dst)\n",
    "        self.net.show(f'{self.directory}/iteration_{self.cnt:04}.html')\n",
    "\n",
    "    \"\"\"\n",
    "    This takes in flow edge class to update the flow network\n",
    "    \"\"\"\n",
    "    def update(self, flowedges):\n",
    "        self.cnt += 1\n",
    "        for flowedge in flowedges:\n",
    "            src, dst, cap, flow = flowedge.src, flowedge.dst, flowedge.cap, flowedge.flow\n",
    "            edge_index = self.edges_index.get((src, dst, cap), None)\n",
    "        self.net.show(f'{self.directory}/iteration_{self.cnt:04}.html')\n",
    "    \n",
    "    \"\"\"\n",
    "    Does nothing, at this point do not need to close it.  But I just want to use this functions, and doesn't make sense to not have open without close\n",
    "    \"\"\"\n",
    "    def close(self):\n",
    "        passs\n",
    "    \n"
   ]
  },
  {
   "cell_type": "code",
   "execution_count": 46,
   "metadata": {},
   "outputs": [],
   "source": [
    "\n",
    "from typing import List\n",
    "n, edges, price = 6, [[0,1],[1,2],[1,3],[3,4],[3,5]], [9,8,7,6,10,5]\n",
    "\n",
    "def maxOutput(n: int, edges: List[List[int]], price: List[int]) -> int:\n",
    "    adj_list = [[] for _ in range(n)]\n",
    "    for u, v in edges:\n",
    "        adj_list[u].append(v)\n",
    "        adj_list[v].append(u)\n",
    "    p = Counter()\n",
    "    def dfs(node: int, parent: int) -> int:\n",
    "        path_sum = price[node]\n",
    "        for nei in adj_list[node]:\n",
    "            if nei == parent: continue\n",
    "            path_sum = max(path_sum, price[node] + dfs(nei, node))\n",
    "        p[node] = path_sum\n",
    "        return path_sum\n",
    "    root = 0\n",
    "    path_sums = Counter()\n",
    "    for child in adj_list[root]:\n",
    "        print(child)\n",
    "        path_sums[child] = dfs(child, root)\n",
    "        p[root] = max(p[root], path_sums[child] + price[root])\n",
    "    print(path_sums, p)\n",
    "    parent_sums = Counter()\n",
    "    def dfs2(node: int, parent: int) -> int:\n",
    "        path_sums[node] += price[node]\n",
    "        for nei in adj_list[node]:\n",
    "            if nei == parent: continue\n",
    "            print('node', node, 'nei', nei) \n",
    "            parent_sums[nei] = max(parent_sums[nei], parent_sums[node] + price[node], path_sums[node] + price[node])\n",
    "            print(parent_sums)\n",
    "            dfs2(nei, node)\n",
    "\n",
    "    dfs2(root, -1)\n",
    "    \n",
    "    #     print('node', node, 'path_sum', path_sum)\n",
    "    #     return path_sum\n",
    "    # for i in range(n):\n",
    "    #     print('============================================================')\n",
    "    #     print('root node', i)\n",
    "    #     cur = dfs(i, -1)\n",
    "    #     res = max(res, cur - price[i])\n",
    "    res = 0\n",
    "    return res"
   ]
  },
  {
   "cell_type": "code",
   "execution_count": 47,
   "metadata": {},
   "outputs": [
    {
     "name": "stdout",
     "output_type": "stream",
     "text": [
      "1\n",
      "Counter({1: 24}) Counter({0: 33, 1: 24, 3: 16, 4: 10, 2: 7, 5: 5})\n",
      "node 0 nei 1\n",
      "Counter({1: 18})\n",
      "node 1 nei 2\n",
      "Counter({2: 40, 1: 18})\n",
      "node 1 nei 3\n",
      "Counter({2: 40, 3: 40, 1: 18})\n",
      "node 3 nei 4\n",
      "Counter({4: 46, 2: 40, 3: 40, 1: 18})\n",
      "node 3 nei 5\n",
      "Counter({4: 46, 5: 46, 2: 40, 3: 40, 1: 18})\n"
     ]
    },
    {
     "data": {
      "text/plain": [
       "0"
      ]
     },
     "execution_count": 47,
     "metadata": {},
     "output_type": "execute_result"
    }
   ],
   "source": [
    "maxOutput(n, edges, price)"
   ]
  },
  {
   "cell_type": "code",
   "execution_count": 17,
   "metadata": {},
   "outputs": [
    {
     "name": "stdout",
     "output_type": "stream",
     "text": [
      "Local cdn resources have problems on chrome/safari when used in jupyter-notebook. \n"
     ]
    }
   ],
   "source": [
    "n, edges, price = 6, [[0,1],[1,2],[1,3],[3,4],[3,5]], [9,8,7,6,10,5]\n",
    "flowvis = FlowVisualizer()\n",
    "flowvis.open(edges, directory = 'tree_vis')"
   ]
  },
  {
   "cell_type": "code",
   "execution_count": 1,
   "metadata": {},
   "outputs": [
    {
     "data": {
      "text/plain": [
       "6"
      ]
     },
     "execution_count": 1,
     "metadata": {},
     "output_type": "execute_result"
    }
   ],
   "source": [
    "3*(3+1)//2"
   ]
  },
  {
   "cell_type": "code",
   "execution_count": 16,
   "metadata": {},
   "outputs": [],
   "source": []
  },
  {
   "cell_type": "code",
   "execution_count": 7,
   "metadata": {},
   "outputs": [],
   "source": [
    "from z3 import *"
   ]
  },
  {
   "cell_type": "code",
   "execution_count": 31,
   "metadata": {},
   "outputs": [
    {
     "data": {
      "text/html": [
       "[n = 446]"
      ],
      "text/plain": [
       "[n = 446]"
      ]
     },
     "execution_count": 31,
     "metadata": {},
     "output_type": "execute_result"
    }
   ],
   "source": [
    "\"\"\"\n",
    "I have an equation \n",
    "n*(n+1)/2 <= 100_000, and I want to find the maximum n that satisfies this equation\n",
    "can use the Optimize in z3 \n",
    "specifiy maximize and the variable to maximize, and want the upper bound.  \n",
    "\"\"\"\n",
    "equation = lambda n: n*(n+1)/2\n",
    "opt = Optimize()\n",
    "n = Int('n')\n",
    "opt.add(equation(n) <= 100_000)\n",
    "h = opt.maximize(n)\n",
    "opt.check()\n",
    "# this doesn't seem needed, but yeah I don't know\n",
    "# opt.upper(h)\n",
    "opt.model()"
   ]
  },
  {
   "cell_type": "code",
   "execution_count": 38,
   "metadata": {},
   "outputs": [],
   "source": [
    "\"\"\"\n",
    "Proving the level design problem\n",
    "\"\"\"\n",
    "arr = [3, 5, 11, 2, 2, 2]\n",
    "dp = [math.inf]*26\n",
    "dp[0] = 0"
   ]
  },
  {
   "cell_type": "code",
   "execution_count": 39,
   "metadata": {},
   "outputs": [],
   "source": [
    "for size in arr[:2]:\n",
    "    for i in range(25 - size, -1, -1):\n",
    "        dp[i + size] = min(dp[i + size], dp[i] + 1)\n",
    "    for i in range(1, size):\n",
    "        dp[i] = min(dp[i], 1)\n",
    "    dp[size] = 0\n"
   ]
  },
  {
   "cell_type": "code",
   "execution_count": 40,
   "metadata": {},
   "outputs": [
    {
     "name": "stdout",
     "output_type": "stream",
     "text": [
      "[0, 1, 1, 0, 1, 0, 2, 2, 1, inf, inf, inf, inf, inf, inf, inf, inf, inf, inf, inf, inf, inf, inf, inf, inf, inf]\n"
     ]
    }
   ],
   "source": [
    "print(dp)"
   ]
  },
  {
   "cell_type": "code",
   "execution_count": 41,
   "metadata": {},
   "outputs": [
    {
     "data": {
      "text/plain": [
       "14"
      ]
     },
     "execution_count": 41,
     "metadata": {},
     "output_type": "execute_result"
    }
   ],
   "source": [
    "i = 8\n",
    "8 + 6"
   ]
  },
  {
   "cell_type": "code",
   "execution_count": 44,
   "metadata": {},
   "outputs": [],
   "source": [
    "dp[13] = dp[7] + 1"
   ]
  },
  {
   "cell_type": "code",
   "execution_count": 45,
   "metadata": {},
   "outputs": [
    {
     "name": "stdout",
     "output_type": "stream",
     "text": [
      "[0, 1, 1, 0, 1, 0, 2, 2, 1, inf, inf, inf, inf, 3, 2, inf, inf, inf, inf, inf, inf, inf, inf, inf, inf, inf]\n"
     ]
    }
   ],
   "source": [
    "print(dp)"
   ]
  },
  {
   "cell_type": "code",
   "execution_count": 46,
   "metadata": {},
   "outputs": [],
   "source": [
    "s = '123'"
   ]
  },
  {
   "cell_type": "code",
   "execution_count": 77,
   "metadata": {},
   "outputs": [],
   "source": [
    "from collections import deque\n",
    "import math\n",
    "\n",
    "def count_of_cycle_length(P):\n",
    "    lookup = [False]*len(P)\n",
    "    cnt = [0]*(len(P)+1)\n",
    "    for i in range(len(P)):\n",
    "        l = 0\n",
    "        while not lookup[i]:\n",
    "            lookup[i] = True\n",
    "            i = P[i]\n",
    "            l += 1\n",
    "        if l:\n",
    "            cnt[l] += 1\n",
    "    return cnt\n",
    "\n",
    "def level_design():\n",
    "    N = 25\n",
    "    cnt = [0]*(N + 1)\n",
    "    cnt[2] = 2\n",
    "    cnt[3] = 2\n",
    "    cnt[5] = 1\n",
    "    cnt[10] = 1\n",
    "    dp = [math.inf]*(N+1)\n",
    "    dp[0] = 0\n",
    "    for l in range(1, N+1):\n",
    "        if not cnt[l]:\n",
    "            continue\n",
    "        print('valid length', l)\n",
    "        for i in range(l):\n",
    "            dq = deque()\n",
    "            for j in range((N-i)//l+1):\n",
    "                if dq and j-dq[0][1] == cnt[l]+1:\n",
    "                    dq.popleft()\n",
    "                while dq and dq[-1][0] >= dp[i+j*l]-j:\n",
    "                    dq.pop()\n",
    "                dq.append((dp[i+j*l]-j, j))\n",
    "                dp[i+j*l] = dq[0][0]+j\n",
    "        print(' '.join(map(str, dp)))\n",
    "    mn = math.inf\n",
    "    for l in reversed(range(1, N+1)):\n",
    "        dp[l] = min(dp[l], mn+1)\n",
    "        mn = min(mn, dp[l])\n",
    "    return \" \".join(map(str, (dp[l]-1 for l in range(1, N+1))))"
   ]
  },
  {
   "cell_type": "code",
   "execution_count": 78,
   "metadata": {},
   "outputs": [
    {
     "name": "stdout",
     "output_type": "stream",
     "text": [
      "valid length 2\n",
      "0 inf 1 inf 2 inf inf inf inf inf inf inf inf inf inf inf inf inf inf inf inf inf inf inf inf inf\n",
      "valid length 3\n",
      "0 inf 1 1 2 2 2 3 3 inf 4 inf inf inf inf inf inf inf inf inf inf inf inf inf inf inf\n",
      "valid length 5\n",
      "0 inf 1 1 2 1 2 2 2 3 3 3 4 4 inf 5 inf inf inf inf inf inf inf inf inf inf\n",
      "valid length 10\n",
      "0 inf 1 1 2 1 2 2 2 3 1 3 2 2 3 2 3 3 3 4 4 4 5 5 inf 6\n"
     ]
    },
    {
     "data": {
      "text/plain": [
       "'1 0 0 1 0 1 1 1 1 0 2 1 1 2 1 2 2 2 3 3 3 4 4 6 5'"
      ]
     },
     "execution_count": 78,
     "metadata": {},
     "output_type": "execute_result"
    }
   ],
   "source": [
    "level_design()"
   ]
  },
  {
   "cell_type": "code",
   "execution_count": 101,
   "metadata": {},
   "outputs": [],
   "source": [
    "from math import *\n",
    "from collections import deque\n",
    "class UnionFind:\n",
    "    def __init__(self):\n",
    "        self.size = dict()\n",
    "        self.parent = dict()\n",
    "    \n",
    "    def find(self,i: int) -> int:\n",
    "        if i not in self.parent:\n",
    "            self.size[i] = 1\n",
    "            self.parent[i] = i\n",
    "        while i != self.parent[i]:\n",
    "            self.parent[i] = self.parent[self.parent[i]]\n",
    "            i = self.parent[i]\n",
    "        return i\n",
    "\n",
    "    def union(self,i: int,j: int) -> bool:\n",
    "        i, j = self.find(i), self.find(j)\n",
    "        if i!=j:\n",
    "            if self.size[i] < self.size[j]:\n",
    "                i,j=j,i\n",
    "            self.parent[j] = i\n",
    "            self.size[i] += self.size[j]\n",
    "            return True\n",
    "        return False\n",
    "    \n",
    "    @property\n",
    "    def root_count(self):\n",
    "        return sum(node == self.find(node) for node in self.parent)\n",
    "\n",
    "    def __repr__(self) -> str:\n",
    "        return f'parents: {[(i, parent) for i, parent in enumerate(self.parent)]}, sizes: {self.size}'\n",
    "        \n",
    "def main():\n",
    "    N = 4\n",
    "    arr = [4, 2, 1, 3]\n",
    "    # N = int(input())\n",
    "    # arr = list(map(int, input().split()))\n",
    "    dsu = UnionFind()\n",
    "    for i, num in enumerate(arr, start = 1):\n",
    "        dsu.union(i, num)\n",
    "    cycleSizes = [0]*(N+1)\n",
    "    for i in range(1, N+1):\n",
    "        # i is a representative (root) node for a connected component\n",
    "        if i == dsu.find(i):\n",
    "            cycleSizes[dsu.size[i]] += 1\n",
    "    # bounded knapsack problem\n",
    "    dp = [inf]*(N+1)\n",
    "    dp[0] = 0\n",
    "    for cycle_len in range(1, N + 1):\n",
    "        cnt = cycleSizes[cycle_len]\n",
    "        if cnt == 0: continue\n",
    "        # simulates adding to existing solutions\n",
    "        # this will be ran approximatley sqrt(N) times\n",
    "        # sliding window for each gap\n",
    "        for i in range(N, N - cycle_len, -1):\n",
    "            min_window = deque()\n",
    "            for right in range(i, -1, -cycle_len):\n",
    "                left = right - cnt*cycle_len\n",
    "                if min_window and min_window[0][1] >= right:\n",
    "                    min_window.popleft()\n",
    "                while min_window and dp[left] + cnt <= min_window[-1][0] + (right - min_window[-1][1])//cycle_len:\n",
    "                    min_window.pop()\n",
    "                min_window.append((dp[left], left))\n",
    "                dp[right] = min(dp[right], min_window[0][0] + (right - min_window[0][1])//cycle_len)\n",
    "    # simulates breaking, can always perform minimum swaps and then you can always break to get something smaller so that requires 1 extra move\n",
    "    min_swaps = math.inf\n",
    "    for i in reversed(range(1, N+1)):\n",
    "        dp[i] = min(dp[i], min_swaps+1) # +1 for breaking\n",
    "        min_swaps = min(min_swaps, dp[i])\n",
    "    return ' '.join(map(str, [x -1 for x in dp[1:]]))"
   ]
  },
  {
   "cell_type": "code",
   "execution_count": 102,
   "metadata": {},
   "outputs": [
    {
     "name": "stdout",
     "output_type": "stream",
     "text": [
      "cycle_len 1 dp [0, 1, inf, inf, inf]\n",
      "cycle_len 3 dp [0, 1, 3, 1, 2]\n"
     ]
    },
    {
     "data": {
      "text/plain": [
       "'0 1 0 1'"
      ]
     },
     "execution_count": 102,
     "metadata": {},
     "output_type": "execute_result"
    }
   ],
   "source": [
    "main()"
   ]
  },
  {
   "cell_type": "code",
   "execution_count": null,
   "metadata": {},
   "outputs": [],
   "source": []
  }
 ],
 "metadata": {
  "kernelspec": {
   "display_name": "programming",
   "language": "python",
   "name": "python3"
  },
  "language_info": {
   "codemirror_mode": {
    "name": "ipython",
    "version": 3
   },
   "file_extension": ".py",
   "mimetype": "text/x-python",
   "name": "python",
   "nbconvert_exporter": "python",
   "pygments_lexer": "ipython3",
   "version": "3.10.0"
  },
  "orig_nbformat": 4,
  "vscode": {
   "interpreter": {
    "hash": "05a440cbc0a4d5663111a9b3b9ea59349399813ac6e64ad16052767f7ba4c947"
   }
  }
 },
 "nbformat": 4,
 "nbformat_minor": 2
}
