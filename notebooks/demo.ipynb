{
 "cells": [
  {
   "cell_type": "code",
   "execution_count": 7,
   "metadata": {},
   "outputs": [],
   "source": [
    "from pyvis.network import Network\n",
    "from typing import List, Tuple\n",
    "import math\n",
    "from collections import Counter, deque, defaultdict\n",
    "import urllib.request\n",
    "import time\n",
    "from pathlib import Path\n",
    "import shutil"
   ]
  },
  {
   "cell_type": "code",
   "execution_count": 14,
   "metadata": {},
   "outputs": [],
   "source": [
    "class FlowVisualizer:\n",
    "    def open(self, edges, directory = 'flow_network_vis'):\n",
    "        self.net = Network('1024px', '600px', notebook = True, directed = False)\n",
    "        self.net.toggle_physics(False)\n",
    "        self.net.set_edge_smooth('dynamic') # deals with parallel edges?\n",
    "        # self.net.show_buttons(filter_ = ['physics', 'nodes', 'edges'])\n",
    "        options = \"\"\"\n",
    "const options = {\n",
    "  \"nodes\": {\n",
    "    \"borderWidth\": 4,\n",
    "    \"borderWidthSelected\": null,\n",
    "    \"opacity\": null,\n",
    "    \"size\": null\n",
    "  },\n",
    "  \"edges\": {\n",
    "    \"color\": {\n",
    "      \"inherit\": true\n",
    "    },\n",
    "    \"selfReferenceSize\": null,\n",
    "    \"selfReference\": {\n",
    "      \"angle\": 0.7853981633974483\n",
    "    },\n",
    "    \"smooth\": {\n",
    "      \"forceDirection\": \"none\"\n",
    "    }\n",
    "  },\n",
    "  \"physics\": {\n",
    "    \"barnesHut\": {\n",
    "      \"springConstant\": 0.005,\n",
    "      \"damping\": 1\n",
    "    },\n",
    "    \"minVelocity\": 0.75\n",
    "  }\n",
    "}\n",
    "        \"\"\"\n",
    "        self.net.set_options(options)\n",
    "        self.cnt = 0\n",
    "        shutil.rmtree(directory, ignore_errors = True)\n",
    "        Path(directory).mkdir(parents = True, exist_ok = True)\n",
    "        self.directory = directory\n",
    "        self.build(edges)\n",
    "\n",
    "    def node_adder(self, node: int):\n",
    "        if node not in self.nodes:\n",
    "            self.net.add_node(node, title = f'{node}', size = 20, label = f'{node}')\n",
    "            self.nodes.add(node)\n",
    "\n",
    "    def build(self, edges):\n",
    "        self.nodes = set()\n",
    "        for i, (src, dst) in enumerate(edges):\n",
    "            self.node_adder(src)\n",
    "            self.node_adder(dst)\n",
    "            self.net.add_edge(src, dst)\n",
    "        self.net.show(f'{self.directory}/iteration_{self.cnt:04}.html')\n",
    "\n",
    "    \"\"\"\n",
    "    This takes in flow edge class to update the flow network\n",
    "    \"\"\"\n",
    "    def update(self, flowedges):\n",
    "        self.cnt += 1\n",
    "        for flowedge in flowedges:\n",
    "            src, dst, cap, flow = flowedge.src, flowedge.dst, flowedge.cap, flowedge.flow\n",
    "            edge_index = self.edges_index.get((src, dst, cap), None)\n",
    "        self.net.show(f'{self.directory}/iteration_{self.cnt:04}.html')\n",
    "    \n",
    "    \"\"\"\n",
    "    Does nothing, at this point do not need to close it.  But I just want to use this functions, and doesn't make sense to not have open without close\n",
    "    \"\"\"\n",
    "    def close(self):\n",
    "        passs\n",
    "    \n"
   ]
  },
  {
   "cell_type": "code",
   "execution_count": 46,
   "metadata": {},
   "outputs": [],
   "source": [
    "\n",
    "from typing import List\n",
    "n, edges, price = 6, [[0,1],[1,2],[1,3],[3,4],[3,5]], [9,8,7,6,10,5]\n",
    "\n",
    "def maxOutput(n: int, edges: List[List[int]], price: List[int]) -> int:\n",
    "    adj_list = [[] for _ in range(n)]\n",
    "    for u, v in edges:\n",
    "        adj_list[u].append(v)\n",
    "        adj_list[v].append(u)\n",
    "    p = Counter()\n",
    "    def dfs(node: int, parent: int) -> int:\n",
    "        path_sum = price[node]\n",
    "        for nei in adj_list[node]:\n",
    "            if nei == parent: continue\n",
    "            path_sum = max(path_sum, price[node] + dfs(nei, node))\n",
    "        p[node] = path_sum\n",
    "        return path_sum\n",
    "    root = 0\n",
    "    path_sums = Counter()\n",
    "    for child in adj_list[root]:\n",
    "        print(child)\n",
    "        path_sums[child] = dfs(child, root)\n",
    "        p[root] = max(p[root], path_sums[child] + price[root])\n",
    "    print(path_sums, p)\n",
    "    parent_sums = Counter()\n",
    "    def dfs2(node: int, parent: int) -> int:\n",
    "        path_sums[node] += price[node]\n",
    "        for nei in adj_list[node]:\n",
    "            if nei == parent: continue\n",
    "            print('node', node, 'nei', nei) \n",
    "            parent_sums[nei] = max(parent_sums[nei], parent_sums[node] + price[node], path_sums[node] + price[node])\n",
    "            print(parent_sums)\n",
    "            dfs2(nei, node)\n",
    "\n",
    "    dfs2(root, -1)\n",
    "    \n",
    "    #     print('node', node, 'path_sum', path_sum)\n",
    "    #     return path_sum\n",
    "    # for i in range(n):\n",
    "    #     print('============================================================')\n",
    "    #     print('root node', i)\n",
    "    #     cur = dfs(i, -1)\n",
    "    #     res = max(res, cur - price[i])\n",
    "    res = 0\n",
    "    return res"
   ]
  },
  {
   "cell_type": "code",
   "execution_count": 47,
   "metadata": {},
   "outputs": [
    {
     "name": "stdout",
     "output_type": "stream",
     "text": [
      "1\n",
      "Counter({1: 24}) Counter({0: 33, 1: 24, 3: 16, 4: 10, 2: 7, 5: 5})\n",
      "node 0 nei 1\n",
      "Counter({1: 18})\n",
      "node 1 nei 2\n",
      "Counter({2: 40, 1: 18})\n",
      "node 1 nei 3\n",
      "Counter({2: 40, 3: 40, 1: 18})\n",
      "node 3 nei 4\n",
      "Counter({4: 46, 2: 40, 3: 40, 1: 18})\n",
      "node 3 nei 5\n",
      "Counter({4: 46, 5: 46, 2: 40, 3: 40, 1: 18})\n"
     ]
    },
    {
     "data": {
      "text/plain": [
       "0"
      ]
     },
     "execution_count": 47,
     "metadata": {},
     "output_type": "execute_result"
    }
   ],
   "source": [
    "maxOutput(n, edges, price)"
   ]
  },
  {
   "cell_type": "code",
   "execution_count": 17,
   "metadata": {},
   "outputs": [
    {
     "name": "stdout",
     "output_type": "stream",
     "text": [
      "Local cdn resources have problems on chrome/safari when used in jupyter-notebook. \n"
     ]
    }
   ],
   "source": [
    "n, edges, price = 6, [[0,1],[1,2],[1,3],[3,4],[3,5]], [9,8,7,6,10,5]\n",
    "flowvis = FlowVisualizer()\n",
    "flowvis.open(edges, directory = 'tree_vis')"
   ]
  },
  {
   "cell_type": "code",
   "execution_count": 1,
   "metadata": {},
   "outputs": [
    {
     "data": {
      "text/plain": [
       "6"
      ]
     },
     "execution_count": 1,
     "metadata": {},
     "output_type": "execute_result"
    }
   ],
   "source": [
    "3*(3+1)//2"
   ]
  },
  {
   "cell_type": "code",
   "execution_count": 16,
   "metadata": {},
   "outputs": [],
   "source": []
  },
  {
   "cell_type": "code",
   "execution_count": 7,
   "metadata": {},
   "outputs": [],
   "source": [
    "from z3 import *"
   ]
  },
  {
   "cell_type": "code",
   "execution_count": 31,
   "metadata": {},
   "outputs": [
    {
     "data": {
      "text/html": [
       "[n = 446]"
      ],
      "text/plain": [
       "[n = 446]"
      ]
     },
     "execution_count": 31,
     "metadata": {},
     "output_type": "execute_result"
    }
   ],
   "source": [
    "\"\"\"\n",
    "I have an equation \n",
    "n*(n+1)/2 <= 100_000, and I want to find the maximum n that satisfies this equation\n",
    "can use the Optimize in z3 \n",
    "specifiy maximize and the variable to maximize, and want the upper bound.  \n",
    "\"\"\"\n",
    "equation = lambda n: n*(n+1)/2\n",
    "opt = Optimize()\n",
    "n = Int('n')\n",
    "opt.add(equation(n) <= 100_000)\n",
    "h = opt.maximize(n)\n",
    "opt.check()\n",
    "# this doesn't seem needed, but yeah I don't know\n",
    "# opt.upper(h)\n",
    "opt.model()"
   ]
  },
  {
   "cell_type": "code",
   "execution_count": 38,
   "metadata": {},
   "outputs": [],
   "source": [
    "\"\"\"\n",
    "Proving the level design problem\n",
    "\"\"\"\n",
    "arr = [3, 5, 11, 2, 2, 2]\n",
    "dp = [math.inf]*26\n",
    "dp[0] = 0"
   ]
  },
  {
   "cell_type": "code",
   "execution_count": 39,
   "metadata": {},
   "outputs": [],
   "source": [
    "for size in arr[:2]:\n",
    "    for i in range(25 - size, -1, -1):\n",
    "        dp[i + size] = min(dp[i + size], dp[i] + 1)\n",
    "    for i in range(1, size):\n",
    "        dp[i] = min(dp[i], 1)\n",
    "    dp[size] = 0\n"
   ]
  },
  {
   "cell_type": "code",
   "execution_count": 40,
   "metadata": {},
   "outputs": [
    {
     "name": "stdout",
     "output_type": "stream",
     "text": [
      "[0, 1, 1, 0, 1, 0, 2, 2, 1, inf, inf, inf, inf, inf, inf, inf, inf, inf, inf, inf, inf, inf, inf, inf, inf, inf]\n"
     ]
    }
   ],
   "source": [
    "print(dp)"
   ]
  },
  {
   "cell_type": "code",
   "execution_count": 41,
   "metadata": {},
   "outputs": [
    {
     "data": {
      "text/plain": [
       "14"
      ]
     },
     "execution_count": 41,
     "metadata": {},
     "output_type": "execute_result"
    }
   ],
   "source": [
    "i = 8\n",
    "8 + 6"
   ]
  },
  {
   "cell_type": "code",
   "execution_count": 44,
   "metadata": {},
   "outputs": [],
   "source": [
    "dp[13] = dp[7] + 1"
   ]
  },
  {
   "cell_type": "code",
   "execution_count": 45,
   "metadata": {},
   "outputs": [
    {
     "name": "stdout",
     "output_type": "stream",
     "text": [
      "[0, 1, 1, 0, 1, 0, 2, 2, 1, inf, inf, inf, inf, 3, 2, inf, inf, inf, inf, inf, inf, inf, inf, inf, inf, inf]\n"
     ]
    }
   ],
   "source": [
    "print(dp)"
   ]
  },
  {
   "cell_type": "code",
   "execution_count": 46,
   "metadata": {},
   "outputs": [],
   "source": [
    "s = '123'"
   ]
  },
  {
   "cell_type": "code",
   "execution_count": 77,
   "metadata": {},
   "outputs": [],
   "source": [
    "from collections import deque\n",
    "import math\n",
    "\n",
    "def count_of_cycle_length(P):\n",
    "    lookup = [False]*len(P)\n",
    "    cnt = [0]*(len(P)+1)\n",
    "    for i in range(len(P)):\n",
    "        l = 0\n",
    "        while not lookup[i]:\n",
    "            lookup[i] = True\n",
    "            i = P[i]\n",
    "            l += 1\n",
    "        if l:\n",
    "            cnt[l] += 1\n",
    "    return cnt\n",
    "\n",
    "def level_design():\n",
    "    N = 25\n",
    "    cnt = [0]*(N + 1)\n",
    "    cnt[2] = 2\n",
    "    cnt[3] = 2\n",
    "    cnt[5] = 1\n",
    "    cnt[10] = 1\n",
    "    dp = [math.inf]*(N+1)\n",
    "    dp[0] = 0\n",
    "    for l in range(1, N+1):\n",
    "        if not cnt[l]:\n",
    "            continue\n",
    "        print('valid length', l)\n",
    "        for i in range(l):\n",
    "            dq = deque()\n",
    "            for j in range((N-i)//l+1):\n",
    "                if dq and j-dq[0][1] == cnt[l]+1:\n",
    "                    dq.popleft()\n",
    "                while dq and dq[-1][0] >= dp[i+j*l]-j:\n",
    "                    dq.pop()\n",
    "                dq.append((dp[i+j*l]-j, j))\n",
    "                dp[i+j*l] = dq[0][0]+j\n",
    "        print(' '.join(map(str, dp)))\n",
    "    mn = math.inf\n",
    "    for l in reversed(range(1, N+1)):\n",
    "        dp[l] = min(dp[l], mn+1)\n",
    "        mn = min(mn, dp[l])\n",
    "    return \" \".join(map(str, (dp[l]-1 for l in range(1, N+1))))"
   ]
  },
  {
   "cell_type": "code",
   "execution_count": 78,
   "metadata": {},
   "outputs": [
    {
     "name": "stdout",
     "output_type": "stream",
     "text": [
      "valid length 2\n",
      "0 inf 1 inf 2 inf inf inf inf inf inf inf inf inf inf inf inf inf inf inf inf inf inf inf inf inf\n",
      "valid length 3\n",
      "0 inf 1 1 2 2 2 3 3 inf 4 inf inf inf inf inf inf inf inf inf inf inf inf inf inf inf\n",
      "valid length 5\n",
      "0 inf 1 1 2 1 2 2 2 3 3 3 4 4 inf 5 inf inf inf inf inf inf inf inf inf inf\n",
      "valid length 10\n",
      "0 inf 1 1 2 1 2 2 2 3 1 3 2 2 3 2 3 3 3 4 4 4 5 5 inf 6\n"
     ]
    },
    {
     "data": {
      "text/plain": [
       "'1 0 0 1 0 1 1 1 1 0 2 1 1 2 1 2 2 2 3 3 3 4 4 6 5'"
      ]
     },
     "execution_count": 78,
     "metadata": {},
     "output_type": "execute_result"
    }
   ],
   "source": [
    "level_design()"
   ]
  },
  {
   "cell_type": "code",
   "execution_count": 101,
   "metadata": {},
   "outputs": [],
   "source": [
    "from math import *\n",
    "from collections import deque\n",
    "class UnionFind:\n",
    "    def __init__(self):\n",
    "        self.size = dict()\n",
    "        self.parent = dict()\n",
    "    \n",
    "    def find(self,i: int) -> int:\n",
    "        if i not in self.parent:\n",
    "            self.size[i] = 1\n",
    "            self.parent[i] = i\n",
    "        while i != self.parent[i]:\n",
    "            self.parent[i] = self.parent[self.parent[i]]\n",
    "            i = self.parent[i]\n",
    "        return i\n",
    "\n",
    "    def union(self,i: int,j: int) -> bool:\n",
    "        i, j = self.find(i), self.find(j)\n",
    "        if i!=j:\n",
    "            if self.size[i] < self.size[j]:\n",
    "                i,j=j,i\n",
    "            self.parent[j] = i\n",
    "            self.size[i] += self.size[j]\n",
    "            return True\n",
    "        return False\n",
    "    \n",
    "    @property\n",
    "    def root_count(self):\n",
    "        return sum(node == self.find(node) for node in self.parent)\n",
    "\n",
    "    def __repr__(self) -> str:\n",
    "        return f'parents: {[(i, parent) for i, parent in enumerate(self.parent)]}, sizes: {self.size}'\n",
    "        \n",
    "def main():\n",
    "    N = 4\n",
    "    arr = [4, 2, 1, 3]\n",
    "    # N = int(input())\n",
    "    # arr = list(map(int, input().split()))\n",
    "    dsu = UnionFind()\n",
    "    for i, num in enumerate(arr, start = 1):\n",
    "        dsu.union(i, num)\n",
    "    cycleSizes = [0]*(N+1)\n",
    "    for i in range(1, N+1):\n",
    "        # i is a representative (root) node for a connected component\n",
    "        if i == dsu.find(i):\n",
    "            cycleSizes[dsu.size[i]] += 1\n",
    "    # bounded knapsack problem\n",
    "    dp = [inf]*(N+1)\n",
    "    dp[0] = 0\n",
    "    for cycle_len in range(1, N + 1):\n",
    "        cnt = cycleSizes[cycle_len]\n",
    "        if cnt == 0: continue\n",
    "        # simulates adding to existing solutions\n",
    "        # this will be ran approximatley sqrt(N) times\n",
    "        # sliding window for each gap\n",
    "        for i in range(N, N - cycle_len, -1):\n",
    "            min_window = deque()\n",
    "            for right in range(i, -1, -cycle_len):\n",
    "                left = right - cnt*cycle_len\n",
    "                if min_window and min_window[0][1] >= right:\n",
    "                    min_window.popleft()\n",
    "                while min_window and dp[left] + cnt <= min_window[-1][0] + (right - min_window[-1][1])//cycle_len:\n",
    "                    min_window.pop()\n",
    "                min_window.append((dp[left], left))\n",
    "                dp[right] = min(dp[right], min_window[0][0] + (right - min_window[0][1])//cycle_len)\n",
    "    # simulates breaking, can always perform minimum swaps and then you can always break to get something smaller so that requires 1 extra move\n",
    "    min_swaps = math.inf\n",
    "    for i in reversed(range(1, N+1)):\n",
    "        dp[i] = min(dp[i], min_swaps+1) # +1 for breaking\n",
    "        min_swaps = min(min_swaps, dp[i])\n",
    "    return ' '.join(map(str, [x -1 for x in dp[1:]]))"
   ]
  },
  {
   "cell_type": "code",
   "execution_count": 102,
   "metadata": {},
   "outputs": [
    {
     "name": "stdout",
     "output_type": "stream",
     "text": [
      "cycle_len 1 dp [0, 1, inf, inf, inf]\n",
      "cycle_len 3 dp [0, 1, 3, 1, 2]\n"
     ]
    },
    {
     "data": {
      "text/plain": [
       "'0 1 0 1'"
      ]
     },
     "execution_count": 102,
     "metadata": {},
     "output_type": "execute_result"
    }
   ],
   "source": [
    "main()"
   ]
  },
  {
   "cell_type": "code",
   "execution_count": 46,
   "metadata": {},
   "outputs": [],
   "source": [
    "from collections import deque\n",
    "transitions = lambda x, y: ((x, y - x), (x - y, y), (2 * x, y), (x, 2 * y))\n",
    "def bfs(tx, ty):\n",
    "    queue = deque([(1, 1)])\n",
    "    visited = {(1, 1)}\n",
    "    thres = 100_000\n",
    "    while queue:\n",
    "        x, y = queue.popleft()\n",
    "        # print(x, y)\n",
    "        if len(visited) > thres: return sorted([(x, y) for x, y in visited])\n",
    "        if x == tx and y == ty:\n",
    "            return True\n",
    "        for x, y in transitions(x, y):\n",
    "            if (x, y) not in visited and x >= 1 and y >= 1:\n",
    "                visited.add((x, y))\n",
    "                queue.append((x, y))"
   ]
  },
  {
   "cell_type": "code",
   "execution_count": 47,
   "metadata": {},
   "outputs": [],
   "source": [
    "res = bfs(6, 9)"
   ]
  },
  {
   "cell_type": "code",
   "execution_count": null,
   "metadata": {},
   "outputs": [],
   "source": [
    "print([(x, y) for x, y in res if x == 3])"
   ]
  },
  {
   "cell_type": "code",
   "execution_count": 77,
   "metadata": {},
   "outputs": [],
   "source": [
    "import math\n",
    "def isReachable(targetX: int, targetY: int) -> bool:\n",
    "    def get_non_two_factors(num: int):\n",
    "        factors = set()\n",
    "        for i in range(3, int(math.sqrt(num))+1, 2):\n",
    "            if num % i == 0:\n",
    "                factors.update((i, num//i))\n",
    "        return factors\n",
    "    f1, f2 = get_non_two_factors(targetX), get_non_two_factors(targetY)\n",
    "    print(f1, f2)\n",
    "    return len(f1 & f2) == 0"
   ]
  },
  {
   "cell_type": "code",
   "execution_count": 78,
   "metadata": {},
   "outputs": [
    {
     "name": "stdout",
     "output_type": "stream",
     "text": [
      "{252390979, 3} {12253016, 71}\n"
     ]
    },
    {
     "data": {
      "text/plain": [
       "True"
      ]
     },
     "execution_count": 78,
     "metadata": {},
     "output_type": "execute_result"
    }
   ],
   "source": [
    "isReachable(757172937, 869964136)"
   ]
  },
  {
   "cell_type": "code",
   "execution_count": null,
   "metadata": {},
   "outputs": [],
   "source": [
    "def prime_factors(num: int):\n",
    "    factors = set()\n",
    "    while num % 2 == 0:\n",
    "        factors.add(2)\n",
    "        num //= 2\n",
    "    for i in range(3, int(math.sqrt(num))+1, 2):\n",
    "        print(i)\n",
    "        while num % i == 0:\n",
    "            factors.add(i)\n",
    "            num //= i\n",
    "    if num > 2:\n",
    "        factors.add(num)\n",
    "    return factors\n",
    "prime_factors(15*7*9)"
   ]
  },
  {
   "cell_type": "code",
   "execution_count": 23,
   "metadata": {},
   "outputs": [],
   "source": [
    "import math\n",
    "def main():\n",
    "    N, K, X, D = 3, 2, 1, 6\n",
    "    # N, K, X, D = map(int, input().split())\n",
    "    # M = int(input())\n",
    "    M = 5\n",
    "    meeting_starts = [(3, 1), (1, 2), (2, 2), (0, 3), (3, 3)]\n",
    "    meeting_ends = [(5, 1), (3, 2), (6, 2), (1, 3), (6, 3)]\n",
    "    # meeting_starts, meeting_ends = [None] * M, [None] * M\n",
    "    # for i in range(M):\n",
    "    #     P, L, R = map(int, input().split())\n",
    "    #     meeting_starts[i] = (L, P)\n",
    "    #     meeting_ends[i] = (R, P)\n",
    "    meeting_starts.sort()\n",
    "    meeting_ends.sort()\n",
    "    print(meeting_starts, meeting_ends)\n",
    "    tech_lead_meeting_counts = [0] * (N+1) # The count of meetings for each tech lead in the window\n",
    "    meeting_counts = [0] * (M + 1) # The count of tech leads with this many meetings in the window\n",
    "    meeting_counts[0] = N # Initially, all tech leads have 0 meetings\n",
    "    start = end = cur_count = 0\n",
    "    prefix_count_meetings = N\n",
    "    window_meeting_count = 0 # The number of meetings in the window for K tech leads\n",
    "    res = math.inf\n",
    "    # sliding window of size X\n",
    "    for right in range(D + 1):\n",
    "        # PROCESS MEETINGS THAT END FOR CURRENT WINDOW\n",
    "        left = right - X\n",
    "        print('==========================================================================================')\n",
    "        print('left', left, 'right', right)\n",
    "        while left >= 0 and end < M and meeting_ends[end][0] == left:\n",
    "            tech_lead = meeting_ends[end][1]\n",
    "            prev_count = tech_lead_meeting_counts[tech_lead]\n",
    "            meeting_counts[prev_count] -= 1\n",
    "            tech_lead_meeting_counts[tech_lead] -= 1\n",
    "            meeting_counts[prev_count - 1] += 1\n",
    "            if prev_count <= cur_count:\n",
    "                window_meeting_count -= 1\n",
    "            if prev_count == cur_count and prefix_count_meetings - meeting_counts[cur_count] == K:\n",
    "                cur_count -= 1\n",
    "                prefix_count_meetings = K\n",
    "            elif prev_count == cur_count + 1:\n",
    "                prefix_count_meetings += 1\n",
    "            end += 1\n",
    "        print('meeting_counts', meeting_counts, 'tech_lead_meeting_counts', tech_lead_meeting_counts)\n",
    "        print('after processing end prefix_count', prefix_count_meetings, 'cur_count', cur_count, 'window_meeting_count', window_meeting_count)\n",
    "        # PERFORM ACTION TO UPDATE RESULTS\n",
    "        if left >= 0:\n",
    "            res = min(res, window_meeting_count)\n",
    "\n",
    "        # PROCESS NEW MEETINGS THAT START FOR NEXT WINDOW\n",
    "        while start < M and meeting_starts[start][0] == right:\n",
    "            tech_lead = meeting_starts[start][1]\n",
    "            prev_count = tech_lead_meeting_counts[tech_lead]\n",
    "            meeting_counts[prev_count] -= 1\n",
    "            tech_lead_meeting_counts[tech_lead] += 1\n",
    "            meeting_counts[prev_count + 1] += 1\n",
    "            if prev_count < cur_count:\n",
    "                window_meeting_count += 1\n",
    "            elif prev_count == cur_count: # if this tech lead was at the border of the window\n",
    "                prefix_count_meetings -= 1 # The number of tech leads with this many meetings in the window\n",
    "            if prefix_count_meetings < K: # the prefix has become too small so that means this tech lead was pivotal, so you need to increment window meeting to include this meeting this person added\n",
    "                window_meeting_count += 1\n",
    "                prefix_count_meetings += meeting_counts[prev_count + 1] # add the number of tech leads with this many meetings in the window\n",
    "                cur_count += 1 # increment the current count\n",
    "            start += 1\n",
    "        print('meeting_counts', meeting_counts, 'tech_lead_meeting_counts', tech_lead_meeting_counts)\n",
    "        print('after processing end prefix_count', prefix_count_meetings, 'cur_count', cur_count, 'window_meeting_count', window_meeting_count)\n",
    "        \n",
    "    return res"
   ]
  },
  {
   "cell_type": "code",
   "execution_count": null,
   "metadata": {},
   "outputs": [],
   "source": [
    "# ANOTHER GAME\n",
    "def coin_game(n, heaps):\n",
    "    grundy_numbers = set()\n",
    "    for mask in range(1, 1 << n):\n",
    "        nei_heaps = heaps[:]\n",
    "        for i in range(n):\n",
    "            if (mask>>i)&1:\n",
    "                nei_heaps[i] -= 1\n",
    "        grundy_numbers.add(coin_game(n, nei_heaps))\n",
    "    # mex function implementation\n",
    "    grundy_number = 0\n",
    "    while grundy_number in grundy_numbers:\n",
    "        grundy_number += 1\n",
    "    return grundy_number\n",
    "\n",
    "\n",
    "\n",
    "\n",
    "\n"
   ]
  },
  {
   "cell_type": "code",
   "execution_count": null,
   "metadata": {},
   "outputs": [],
   "source": [
    "n = 4\n",
    "heaps = [5, 5, 4, 5]\n",
    "coin_game(n, heaps)"
   ]
  },
  {
   "cell_type": "code",
   "execution_count": 1,
   "metadata": {},
   "outputs": [
    {
     "data": {
      "text/plain": [
       "118"
      ]
     },
     "execution_count": 1,
     "metadata": {},
     "output_type": "execute_result"
    }
   ],
   "source": [
    "119^1"
   ]
  },
  {
   "cell_type": "code",
   "execution_count": null,
   "metadata": {},
   "outputs": [],
   "source": []
  }
 ],
 "metadata": {
  "kernelspec": {
   "display_name": "programming",
   "language": "python",
   "name": "python3"
  },
  "language_info": {
   "codemirror_mode": {
    "name": "ipython",
    "version": 3
   },
   "file_extension": ".py",
   "mimetype": "text/x-python",
   "name": "python",
   "nbconvert_exporter": "python",
   "pygments_lexer": "ipython3",
   "version": "3.10.0"
  },
  "orig_nbformat": 4,
  "vscode": {
   "interpreter": {
    "hash": "05a440cbc0a4d5663111a9b3b9ea59349399813ac6e64ad16052767f7ba4c947"
   }
  }
 },
 "nbformat": 4,
 "nbformat_minor": 2
}
