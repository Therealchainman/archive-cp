{
 "cells": [
  {
   "cell_type": "code",
   "execution_count": 7,
   "metadata": {},
   "outputs": [],
   "source": [
    "from pyvis.network import Network\n",
    "from typing import List, Tuple\n",
    "import math\n",
    "from collections import Counter, deque, defaultdict\n",
    "import urllib.request\n",
    "import time\n",
    "from pathlib import Path\n",
    "import shutil"
   ]
  },
  {
   "cell_type": "code",
   "execution_count": 14,
   "metadata": {},
   "outputs": [],
   "source": [
    "class FlowVisualizer:\n",
    "    def open(self, edges, directory = 'flow_network_vis'):\n",
    "        self.net = Network('1024px', '600px', notebook = True, directed = False)\n",
    "        self.net.toggle_physics(False)\n",
    "        self.net.set_edge_smooth('dynamic') # deals with parallel edges?\n",
    "        # self.net.show_buttons(filter_ = ['physics', 'nodes', 'edges'])\n",
    "        options = \"\"\"\n",
    "const options = {\n",
    "  \"nodes\": {\n",
    "    \"borderWidth\": 4,\n",
    "    \"borderWidthSelected\": null,\n",
    "    \"opacity\": null,\n",
    "    \"size\": null\n",
    "  },\n",
    "  \"edges\": {\n",
    "    \"color\": {\n",
    "      \"inherit\": true\n",
    "    },\n",
    "    \"selfReferenceSize\": null,\n",
    "    \"selfReference\": {\n",
    "      \"angle\": 0.7853981633974483\n",
    "    },\n",
    "    \"smooth\": {\n",
    "      \"forceDirection\": \"none\"\n",
    "    }\n",
    "  },\n",
    "  \"physics\": {\n",
    "    \"barnesHut\": {\n",
    "      \"springConstant\": 0.005,\n",
    "      \"damping\": 1\n",
    "    },\n",
    "    \"minVelocity\": 0.75\n",
    "  }\n",
    "}\n",
    "        \"\"\"\n",
    "        self.net.set_options(options)\n",
    "        self.cnt = 0\n",
    "        shutil.rmtree(directory, ignore_errors = True)\n",
    "        Path(directory).mkdir(parents = True, exist_ok = True)\n",
    "        self.directory = directory\n",
    "        self.build(edges)\n",
    "\n",
    "    def node_adder(self, node: int):\n",
    "        if node not in self.nodes:\n",
    "            self.net.add_node(node, title = f'{node}', size = 20, label = f'{node}')\n",
    "            self.nodes.add(node)\n",
    "\n",
    "    def build(self, edges):\n",
    "        self.nodes = set()\n",
    "        for i, (src, dst) in enumerate(edges):\n",
    "            self.node_adder(src)\n",
    "            self.node_adder(dst)\n",
    "            self.net.add_edge(src, dst)\n",
    "        self.net.show(f'{self.directory}/iteration_{self.cnt:04}.html')\n",
    "\n",
    "    \"\"\"\n",
    "    This takes in flow edge class to update the flow network\n",
    "    \"\"\"\n",
    "    def update(self, flowedges):\n",
    "        self.cnt += 1\n",
    "        for flowedge in flowedges:\n",
    "            src, dst, cap, flow = flowedge.src, flowedge.dst, flowedge.cap, flowedge.flow\n",
    "            edge_index = self.edges_index.get((src, dst, cap), None)\n",
    "        self.net.show(f'{self.directory}/iteration_{self.cnt:04}.html')\n",
    "    \n",
    "    \"\"\"\n",
    "    Does nothing, at this point do not need to close it.  But I just want to use this functions, and doesn't make sense to not have open without close\n",
    "    \"\"\"\n",
    "    def close(self):\n",
    "        passs\n",
    "    \n"
   ]
  },
  {
   "cell_type": "code",
   "execution_count": 46,
   "metadata": {},
   "outputs": [],
   "source": [
    "\n",
    "from typing import List\n",
    "n, edges, price = 6, [[0,1],[1,2],[1,3],[3,4],[3,5]], [9,8,7,6,10,5]\n",
    "\n",
    "def maxOutput(n: int, edges: List[List[int]], price: List[int]) -> int:\n",
    "    adj_list = [[] for _ in range(n)]\n",
    "    for u, v in edges:\n",
    "        adj_list[u].append(v)\n",
    "        adj_list[v].append(u)\n",
    "    p = Counter()\n",
    "    def dfs(node: int, parent: int) -> int:\n",
    "        path_sum = price[node]\n",
    "        for nei in adj_list[node]:\n",
    "            if nei == parent: continue\n",
    "            path_sum = max(path_sum, price[node] + dfs(nei, node))\n",
    "        p[node] = path_sum\n",
    "        return path_sum\n",
    "    root = 0\n",
    "    path_sums = Counter()\n",
    "    for child in adj_list[root]:\n",
    "        print(child)\n",
    "        path_sums[child] = dfs(child, root)\n",
    "        p[root] = max(p[root], path_sums[child] + price[root])\n",
    "    print(path_sums, p)\n",
    "    parent_sums = Counter()\n",
    "    def dfs2(node: int, parent: int) -> int:\n",
    "        path_sums[node] += price[node]\n",
    "        for nei in adj_list[node]:\n",
    "            if nei == parent: continue\n",
    "            print('node', node, 'nei', nei) \n",
    "            parent_sums[nei] = max(parent_sums[nei], parent_sums[node] + price[node], path_sums[node] + price[node])\n",
    "            print(parent_sums)\n",
    "            dfs2(nei, node)\n",
    "\n",
    "    dfs2(root, -1)\n",
    "    \n",
    "    #     print('node', node, 'path_sum', path_sum)\n",
    "    #     return path_sum\n",
    "    # for i in range(n):\n",
    "    #     print('============================================================')\n",
    "    #     print('root node', i)\n",
    "    #     cur = dfs(i, -1)\n",
    "    #     res = max(res, cur - price[i])\n",
    "    res = 0\n",
    "    return res"
   ]
  },
  {
   "cell_type": "code",
   "execution_count": 47,
   "metadata": {},
   "outputs": [
    {
     "name": "stdout",
     "output_type": "stream",
     "text": [
      "1\n",
      "Counter({1: 24}) Counter({0: 33, 1: 24, 3: 16, 4: 10, 2: 7, 5: 5})\n",
      "node 0 nei 1\n",
      "Counter({1: 18})\n",
      "node 1 nei 2\n",
      "Counter({2: 40, 1: 18})\n",
      "node 1 nei 3\n",
      "Counter({2: 40, 3: 40, 1: 18})\n",
      "node 3 nei 4\n",
      "Counter({4: 46, 2: 40, 3: 40, 1: 18})\n",
      "node 3 nei 5\n",
      "Counter({4: 46, 5: 46, 2: 40, 3: 40, 1: 18})\n"
     ]
    },
    {
     "data": {
      "text/plain": [
       "0"
      ]
     },
     "execution_count": 47,
     "metadata": {},
     "output_type": "execute_result"
    }
   ],
   "source": [
    "maxOutput(n, edges, price)"
   ]
  },
  {
   "cell_type": "code",
   "execution_count": 17,
   "metadata": {},
   "outputs": [
    {
     "name": "stdout",
     "output_type": "stream",
     "text": [
      "Local cdn resources have problems on chrome/safari when used in jupyter-notebook. \n"
     ]
    }
   ],
   "source": [
    "n, edges, price = 6, [[0,1],[1,2],[1,3],[3,4],[3,5]], [9,8,7,6,10,5]\n",
    "flowvis = FlowVisualizer()\n",
    "flowvis.open(edges, directory = 'tree_vis')"
   ]
  },
  {
   "cell_type": "code",
   "execution_count": 53,
   "metadata": {},
   "outputs": [],
   "source": [
    "x = 5\n"
   ]
  },
  {
   "cell_type": "code",
   "execution_count": 54,
   "metadata": {},
   "outputs": [
    {
     "data": {
      "text/plain": [
       "5"
      ]
     },
     "execution_count": 54,
     "metadata": {},
     "output_type": "execute_result"
    }
   ],
   "source": [
    "x"
   ]
  },
  {
   "cell_type": "code",
   "execution_count": 55,
   "metadata": {},
   "outputs": [
    {
     "data": {
      "text/plain": [
       "-6"
      ]
     },
     "execution_count": 55,
     "metadata": {},
     "output_type": "execute_result"
    }
   ],
   "source": [
    "~x"
   ]
  },
  {
   "cell_type": "code",
   "execution_count": null,
   "metadata": {},
   "outputs": [],
   "source": []
  }
 ],
 "metadata": {
  "kernelspec": {
   "display_name": "programming",
   "language": "python",
   "name": "python3"
  },
  "language_info": {
   "codemirror_mode": {
    "name": "ipython",
    "version": 3
   },
   "file_extension": ".py",
   "mimetype": "text/x-python",
   "name": "python",
   "nbconvert_exporter": "python",
   "pygments_lexer": "ipython3",
   "version": "3.10.0"
  },
  "orig_nbformat": 4,
  "vscode": {
   "interpreter": {
    "hash": "05a440cbc0a4d5663111a9b3b9ea59349399813ac6e64ad16052767f7ba4c947"
   }
  }
 },
 "nbformat": 4,
 "nbformat_minor": 2
}
