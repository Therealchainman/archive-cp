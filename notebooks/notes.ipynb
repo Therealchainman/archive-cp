{
 "cells": [
  {
   "cell_type": "code",
   "execution_count": 1,
   "metadata": {},
   "outputs": [],
   "source": [
    "import math"
   ]
  },
  {
   "cell_type": "code",
   "execution_count": 21,
   "metadata": {},
   "outputs": [
    {
     "name": "stdout",
     "output_type": "stream",
     "text": [
      "5\n"
     ]
    }
   ],
   "source": [
    "i = 1\n",
    "squares = []\n",
    "while i * i <= 10**4:\n",
    "    squares.append(i * i)\n",
    "    i += 1\n",
    "def prime_sieve(upper_bound):\n",
    "    prime_factorizations = [[] for _ in range(upper_bound + 1)]\n",
    "    for i in range(2, upper_bound + 1):\n",
    "        if len(prime_factorizations[i]) > 0: continue # not a prime\n",
    "        for j in range(i, upper_bound + 1, i):\n",
    "            prime_factorizations[j].append(i)\n",
    "    return prime_factorizations\n",
    "p = prime_sieve(10**4)\n",
    "print(max(len(x) for x in p))\n",
    "def prime_sieve(lim):\n",
    "    sieve,primes = [[] for _ in range(lim + 1)], []\n",
    "    for integer in range(2,lim + 1):\n",
    "        if not len(sieve[integer]):\n",
    "            primes.append(integer)\n",
    "            for possibly_divisible_integer in range(integer,lim + 1,integer):\n",
    "                current_integer = possibly_divisible_integer\n",
    "                while not current_integer%integer:\n",
    "                    sieve[possibly_divisible_integer].append(integer)\n",
    "                    current_integer //= integer\n",
    "    return primes, sieve\n",
    "primes, factors = prime_sieve(10**4)"
   ]
  },
  {
   "cell_type": "code",
   "execution_count": 4,
   "metadata": {},
   "outputs": [
    {
     "data": {
      "text/plain": [
       "100"
      ]
     },
     "execution_count": 4,
     "metadata": {},
     "output_type": "execute_result"
    }
   ],
   "source": [
    "len(squares)"
   ]
  },
  {
   "cell_type": "code",
   "execution_count": 13,
   "metadata": {},
   "outputs": [
    {
     "name": "stdout",
     "output_type": "stream",
     "text": [
      "1 []\n",
      "4 [2, 2]\n",
      "9 [3, 3]\n",
      "16 [2, 2, 2, 2]\n",
      "25 [5, 5]\n",
      "36 [2, 2, 3, 3]\n",
      "49 [7, 7]\n",
      "64 [2, 2, 2, 2, 2, 2]\n",
      "81 [3, 3, 3, 3]\n",
      "100 [2, 2, 5, 5]\n",
      "121 [11, 11]\n",
      "144 [2, 2, 2, 2, 3, 3]\n",
      "169 [13, 13]\n",
      "196 [2, 2, 7, 7]\n",
      "225 [3, 3, 5, 5]\n",
      "256 [2, 2, 2, 2, 2, 2, 2, 2]\n",
      "289 [17, 17]\n",
      "324 [2, 2, 3, 3, 3, 3]\n",
      "361 [19, 19]\n",
      "400 [2, 2, 2, 2, 5, 5]\n",
      "441 [3, 3, 7, 7]\n",
      "484 [2, 2, 11, 11]\n",
      "529 [23, 23]\n",
      "576 [2, 2, 2, 2, 2, 2, 3, 3]\n",
      "625 [5, 5, 5, 5]\n",
      "676 [2, 2, 13, 13]\n",
      "729 [3, 3, 3, 3, 3, 3]\n",
      "784 [2, 2, 2, 2, 7, 7]\n",
      "841 [29, 29]\n",
      "900 [2, 2, 3, 3, 5, 5]\n",
      "961 [31, 31]\n",
      "1024 [2, 2, 2, 2, 2, 2, 2, 2, 2, 2]\n",
      "1089 [3, 3, 11, 11]\n",
      "1156 [2, 2, 17, 17]\n",
      "1225 [5, 5, 7, 7]\n",
      "1296 [2, 2, 2, 2, 3, 3, 3, 3]\n",
      "1369 [37, 37]\n",
      "1444 [2, 2, 19, 19]\n",
      "1521 [3, 3, 13, 13]\n",
      "1600 [2, 2, 2, 2, 2, 2, 5, 5]\n",
      "1681 [41, 41]\n",
      "1764 [2, 2, 3, 3, 7, 7]\n",
      "1849 [43, 43]\n",
      "1936 [2, 2, 2, 2, 11, 11]\n",
      "2025 [3, 3, 3, 3, 5, 5]\n",
      "2116 [2, 2, 23, 23]\n",
      "2209 [47, 47]\n",
      "2304 [2, 2, 2, 2, 2, 2, 2, 2, 3, 3]\n",
      "2401 [7, 7, 7, 7]\n",
      "2500 [2, 2, 5, 5, 5, 5]\n",
      "2601 [3, 3, 17, 17]\n",
      "2704 [2, 2, 2, 2, 13, 13]\n",
      "2809 [53, 53]\n",
      "2916 [2, 2, 3, 3, 3, 3, 3, 3]\n",
      "3025 [5, 5, 11, 11]\n",
      "3136 [2, 2, 2, 2, 2, 2, 7, 7]\n",
      "3249 [3, 3, 19, 19]\n",
      "3364 [2, 2, 29, 29]\n",
      "3481 [59, 59]\n",
      "3600 [2, 2, 2, 2, 3, 3, 5, 5]\n",
      "3721 [61, 61]\n",
      "3844 [2, 2, 31, 31]\n",
      "3969 [3, 3, 3, 3, 7, 7]\n",
      "4096 [2, 2, 2, 2, 2, 2, 2, 2, 2, 2, 2, 2]\n",
      "4225 [5, 5, 13, 13]\n",
      "4356 [2, 2, 3, 3, 11, 11]\n",
      "4489 [67, 67]\n",
      "4624 [2, 2, 2, 2, 17, 17]\n",
      "4761 [3, 3, 23, 23]\n",
      "4900 [2, 2, 5, 5, 7, 7]\n",
      "5041 [71, 71]\n",
      "5184 [2, 2, 2, 2, 2, 2, 3, 3, 3, 3]\n",
      "5329 [73, 73]\n",
      "5476 [2, 2, 37, 37]\n",
      "5625 [3, 3, 5, 5, 5, 5]\n",
      "5776 [2, 2, 2, 2, 19, 19]\n",
      "5929 [7, 7, 11, 11]\n",
      "6084 [2, 2, 3, 3, 13, 13]\n",
      "6241 [79, 79]\n",
      "6400 [2, 2, 2, 2, 2, 2, 2, 2, 5, 5]\n",
      "6561 [3, 3, 3, 3, 3, 3, 3, 3]\n",
      "6724 [2, 2, 41, 41]\n",
      "6889 [83, 83]\n",
      "7056 [2, 2, 2, 2, 3, 3, 7, 7]\n",
      "7225 [5, 5, 17, 17]\n",
      "7396 [2, 2, 43, 43]\n",
      "7569 [3, 3, 29, 29]\n",
      "7744 [2, 2, 2, 2, 2, 2, 11, 11]\n",
      "7921 [89, 89]\n",
      "8100 [2, 2, 3, 3, 3, 3, 5, 5]\n",
      "8281 [7, 7, 13, 13]\n",
      "8464 [2, 2, 2, 2, 23, 23]\n",
      "8649 [3, 3, 31, 31]\n",
      "8836 [2, 2, 47, 47]\n",
      "9025 [5, 5, 19, 19]\n",
      "9216 [2, 2, 2, 2, 2, 2, 2, 2, 2, 2, 3, 3]\n",
      "9409 [97, 97]\n",
      "9604 [2, 2, 7, 7, 7, 7]\n",
      "9801 [3, 3, 3, 3, 11, 11]\n",
      "10000 [2, 2, 2, 2, 5, 5, 5, 5]\n"
     ]
    }
   ],
   "source": [
    "for v in squares:\n",
    "    print(v, factors[v])"
   ]
  },
  {
   "cell_type": "code",
   "execution_count": 17,
   "metadata": {},
   "outputs": [
    {
     "data": {
      "text/plain": [
       "1229"
      ]
     },
     "execution_count": 17,
     "metadata": {},
     "output_type": "execute_result"
    }
   ],
   "source": [
    "len(primes)"
   ]
  },
  {
   "cell_type": "code",
   "execution_count": 24,
   "metadata": {},
   "outputs": [
    {
     "data": {
      "text/plain": [
       "367"
      ]
     },
     "execution_count": 24,
     "metadata": {},
     "output_type": "execute_result"
    }
   ],
   "source": [
    "pr = [p for p in primes if 2 * 2 * p <= 10**4]\n",
    "len(pr)"
   ]
  },
  {
   "cell_type": "code",
   "execution_count": 3,
   "metadata": {},
   "outputs": [
    {
     "data": {
      "text/plain": [
       "15.609640474436812"
      ]
     },
     "execution_count": 3,
     "metadata": {},
     "output_type": "execute_result"
    }
   ],
   "source": [
    "import math\n",
    "math.log(50_000, 2)"
   ]
  },
  {
   "cell_type": "code",
   "execution_count": null,
   "metadata": {},
   "outputs": [],
   "source": []
  }
 ],
 "metadata": {
  "kernelspec": {
   "display_name": "programming",
   "language": "python",
   "name": "python3"
  },
  "language_info": {
   "codemirror_mode": {
    "name": "ipython",
    "version": 3
   },
   "file_extension": ".py",
   "mimetype": "text/x-python",
   "name": "python",
   "nbconvert_exporter": "python",
   "pygments_lexer": "ipython3",
   "version": "3.11.3"
  },
  "orig_nbformat": 4
 },
 "nbformat": 4,
 "nbformat_minor": 2
}
