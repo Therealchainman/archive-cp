{
 "cells": [
  {
   "cell_type": "code",
   "execution_count": null,
   "metadata": {},
   "outputs": [],
   "source": [
    "import math"
   ]
  },
  {
   "cell_type": "code",
   "execution_count": 3,
   "metadata": {},
   "outputs": [
    {
     "data": {
      "text/plain": [
       "18.194602975157967"
      ]
     },
     "execution_count": 3,
     "metadata": {},
     "output_type": "execute_result"
    }
   ],
   "source": [
    "import math\n",
    "n = 300_000\n",
    "math.log(n, 2)"
   ]
  },
  {
   "cell_type": "code",
   "execution_count": 10,
   "metadata": {},
   "outputs": [],
   "source": [
    "import random\n",
    "n = 100\n",
    "arr = [random.randint(1, 10**9) for _ in range(n)]\n",
    "pand = [2**31 - 1] * (n + 1)\n",
    "for i in range(n):\n",
    "    pand[i + 1] = pand[i] & arr[i]"
   ]
  },
  {
   "cell_type": "code",
   "execution_count": 11,
   "metadata": {},
   "outputs": [
    {
     "name": "stdout",
     "output_type": "stream",
     "text": [
      "[16885548, 557158775, 448766314, 864534822, 467364633, 802368087, 394123296, 874521462, 526163039, 31876251, 924441395, 565579094, 930461436, 825812592, 479986488, 188606620, 711368693, 81212690, 902330392, 337211735, 426126281, 941524549, 175592566, 709450672, 774209662, 742389659, 858528376, 926082639, 399699997, 666180863, 395200719, 612134779, 862042376, 103373369, 42360899, 832717680, 627026923, 791539748, 414618818, 603703710, 277532051, 796807050, 81842123, 869050507, 121783033, 893956255, 224060838, 172903106, 343414277, 364528881, 811418720, 65846681, 791699406, 208016247, 169621122, 306372017, 329372782, 609831637, 520074343, 442399160, 572646298, 257433100, 124623602, 618505539, 76639393, 528986820, 668632730, 378592364, 810452422, 13318860, 669912411, 656104454, 504811726, 538842270, 925575037, 165201478, 48808604, 51474411, 351893218, 981320070, 730168022, 630069073, 365317917, 20840462, 923381580, 654258589, 245637284, 339229458, 717423403, 281137932, 944065019, 114504912, 440443903, 237733700, 504585062, 326454572, 488938337, 962988184, 533761832, 422656115]\n"
     ]
    }
   ],
   "source": [
    "print(arr)"
   ]
  },
  {
   "cell_type": "code",
   "execution_count": 12,
   "metadata": {},
   "outputs": [
    {
     "name": "stdout",
     "output_type": "stream",
     "text": [
      "[2147483647, 16885548, 16875812, 98592, 98592, 65792, 65536, 65536, 0, 0, 0, 0, 0, 0, 0, 0, 0, 0, 0, 0, 0, 0, 0, 0, 0, 0, 0, 0, 0, 0, 0, 0, 0, 0, 0, 0, 0, 0, 0, 0, 0, 0, 0, 0, 0, 0, 0, 0, 0, 0, 0, 0, 0, 0, 0, 0, 0, 0, 0, 0, 0, 0, 0, 0, 0, 0, 0, 0, 0, 0, 0, 0, 0, 0, 0, 0, 0, 0, 0, 0, 0, 0, 0, 0, 0, 0, 0, 0, 0, 0, 0, 0, 0, 0, 0, 0, 0, 0, 0, 0, 0]\n"
     ]
    }
   ],
   "source": [
    "print(pand)"
   ]
  },
  {
   "cell_type": "code",
   "execution_count": 15,
   "metadata": {},
   "outputs": [
    {
     "name": "stdout",
     "output_type": "stream",
     "text": [
      "933,262,154,439,441,526,816,992,388,562,667,004,907,159,682,643,816,214,685,929,638,952,175,999,932,299,156,089,414,639,761,565,182,862,536,979,208,272,237,582,511,852,109,168,640,000,000,000,000,000,000,000\n"
     ]
    }
   ],
   "source": [
    "import math\n",
    "print(f\"{math.prod(range(1, 1)):,}\")"
   ]
  },
  {
   "cell_type": "code",
   "execution_count": 18,
   "metadata": {},
   "outputs": [],
   "source": [
    "def prime_factors(num: int):\n",
    "    factors = []\n",
    "    while num % 2 == 0:\n",
    "        factors.append(2)\n",
    "        num //= 2\n",
    "    for i in range(3, math.isqrt(num) + 1, 2):\n",
    "        while num % i == 0:\n",
    "            factors.append(i)\n",
    "            num //= i\n",
    "    if num > 2:\n",
    "        factors.append(num)\n",
    "    return factors\n"
   ]
  },
  {
   "cell_type": "code",
   "execution_count": 43,
   "metadata": {},
   "outputs": [],
   "source": [
    "pf = prime_factors(16)\n",
    "pf2 = prime_factors(637)\n",
    "pf3 = prime_factors(72*637)"
   ]
  },
  {
   "cell_type": "code",
   "execution_count": 44,
   "metadata": {},
   "outputs": [
    {
     "data": {
      "text/plain": [
       "([2, 2, 2, 2], [7, 7, 13], [2, 2, 2, 3, 3, 7, 7, 13])"
      ]
     },
     "execution_count": 44,
     "metadata": {},
     "output_type": "execute_result"
    }
   ],
   "source": [
    "pf, pf2, pf3"
   ]
  },
  {
   "cell_type": "code",
   "execution_count": 30,
   "metadata": {},
   "outputs": [
    {
     "data": {
      "text/plain": [
       "72"
      ]
     },
     "execution_count": 30,
     "metadata": {},
     "output_type": "execute_result"
    }
   ],
   "source": [
    "4*3*3*2"
   ]
  },
  {
   "cell_type": "code",
   "execution_count": 42,
   "metadata": {},
   "outputs": [],
   "source": [
    "def prime_sieve(upper_bound):\n",
    "    prime_factorizations = [[] for _ in range(upper_bound + 1)]\n",
    "    for i in range(2, upper_bound + 1):\n",
    "        if len(prime_factorizations[i]) > 0: continue # not a prime\n",
    "        for j in range(i, upper_bound + 1, i):\n",
    "            prime_factorizations[j].append(i)\n",
    "    return prime_factorizations\n",
    "ps = prime_sieve(10**6+3)"
   ]
  },
  {
   "cell_type": "code",
   "execution_count": 33,
   "metadata": {},
   "outputs": [
    {
     "data": {
      "text/plain": [
       "6"
      ]
     },
     "execution_count": 33,
     "metadata": {},
     "output_type": "execute_result"
    }
   ],
   "source": [
    "72//12"
   ]
  },
  {
   "cell_type": "code",
   "execution_count": 34,
   "metadata": {},
   "outputs": [],
   "source": [
    "pf = prime_factors(60)"
   ]
  },
  {
   "cell_type": "code",
   "execution_count": 35,
   "metadata": {},
   "outputs": [
    {
     "data": {
      "text/plain": [
       "[2, 2, 3, 5]"
      ]
     },
     "execution_count": 35,
     "metadata": {},
     "output_type": "execute_result"
    }
   ],
   "source": [
    "pf"
   ]
  },
  {
   "cell_type": "code",
   "execution_count": 36,
   "metadata": {},
   "outputs": [
    {
     "data": {
      "text/plain": [
       "12"
      ]
     },
     "execution_count": 36,
     "metadata": {},
     "output_type": "execute_result"
    }
   ],
   "source": [
    "3*2*2"
   ]
  },
  {
   "cell_type": "code",
   "execution_count": 47,
   "metadata": {},
   "outputs": [
    {
     "data": {
      "text/plain": [
       "5.0"
      ]
     },
     "execution_count": 47,
     "metadata": {},
     "output_type": "execute_result"
    }
   ],
   "source": [
    "60/12"
   ]
  },
  {
   "cell_type": "code",
   "execution_count": 45,
   "metadata": {},
   "outputs": [
    {
     "data": {
      "text/plain": [
       "[2, 2, 5, 7]"
      ]
     },
     "execution_count": 45,
     "metadata": {},
     "output_type": "execute_result"
    }
   ],
   "source": [
    "pf = prime_factors(140)\n",
    "pf"
   ]
  },
  {
   "cell_type": "code",
   "execution_count": 46,
   "metadata": {},
   "outputs": [
    {
     "data": {
      "text/plain": [
       "12"
      ]
     },
     "execution_count": 46,
     "metadata": {},
     "output_type": "execute_result"
    }
   ],
   "source": [
    "3 * 2 *2"
   ]
  },
  {
   "cell_type": "code",
   "execution_count": 40,
   "metadata": {},
   "outputs": [
    {
     "data": {
      "text/plain": [
       "11.666666666666666"
      ]
     },
     "execution_count": 40,
     "metadata": {},
     "output_type": "execute_result"
    }
   ],
   "source": [
    "140/12"
   ]
  },
  {
   "cell_type": "code",
   "execution_count": null,
   "metadata": {},
   "outputs": [],
   "source": []
  }
 ],
 "metadata": {
  "kernelspec": {
   "display_name": "programming",
   "language": "python",
   "name": "python3"
  },
  "language_info": {
   "codemirror_mode": {
    "name": "ipython",
    "version": 3
   },
   "file_extension": ".py",
   "mimetype": "text/x-python",
   "name": "python",
   "nbconvert_exporter": "python",
   "pygments_lexer": "ipython3",
   "version": "3.11.3"
  },
  "orig_nbformat": 4
 },
 "nbformat": 4,
 "nbformat_minor": 2
}
