{
 "cells": [
  {
   "cell_type": "code",
   "execution_count": 4,
   "metadata": {},
   "outputs": [],
   "source": [
    "from itertools import dropwhile\n",
    "from functools import cache"
   ]
  },
  {
   "cell_type": "code",
   "execution_count": 2,
   "metadata": {},
   "outputs": [],
   "source": [
    "def main(n, segments):\n",
    "    \"\"\"\n",
    "    It is half interval, so [start, end)\n",
    "    \"\"\"\n",
    "    @cache\n",
    "    def dp(start: int, end: int) -> int:\n",
    "        if start >= end: return 0\n",
    "        nimbers = [False]*101\n",
    "        for left_seg, right_seg in segments:\n",
    "            if start <= left_seg and right_seg <= end:\n",
    "                nimbers[dp(start, left_seg) ^ dp(right_seg, end)] = True\n",
    "        return next(dropwhile(lambda i: nimbers[i], range(len(nimbers))))\n",
    "    outcome = dp(1, 100)\n",
    "    if outcome:\n",
    "        return 'Alice'\n",
    "    return 'Bob'"
   ]
  },
  {
   "cell_type": "code",
   "execution_count": 5,
   "metadata": {},
   "outputs": [
    {
     "data": {
      "text/plain": [
       "'Alice'"
      ]
     },
     "execution_count": 5,
     "metadata": {},
     "output_type": "execute_result"
    }
   ],
   "source": [
    "main(6, [(1, 3), (2, 4), (3, 5)])"
   ]
  },
  {
   "cell_type": "code",
   "execution_count": 14,
   "metadata": {},
   "outputs": [],
   "source": [
    "a, k = 121, 10\n",
    "@cache\n",
    "def grundy(x, k):\n",
    "    if k == 1: return x\n",
    "    if k > x: return 0\n",
    "    nimbers = set()\n",
    "    for i in range(1, x//k + 1):\n",
    "        nimbers.add(grundy(x - i, k))\n",
    "    mex = 0\n",
    "    while mex in nimbers: mex += 1\n",
    "    print('x', x, 'k', 'mex', mex)\n",
    "    return mex"
   ]
  },
  {
   "cell_type": "code",
   "execution_count": 15,
   "metadata": {},
   "outputs": [
    {
     "name": "stdout",
     "output_type": "stream",
     "text": [
      "x 10 k mex 1\n",
      "x 11 k mex 0\n",
      "x 12 k mex 1\n",
      "x 13 k mex 0\n",
      "x 14 k mex 1\n",
      "x 15 k mex 0\n",
      "x 16 k mex 1\n",
      "x 17 k mex 0\n",
      "x 18 k mex 1\n",
      "x 19 k mex 0\n",
      "x 20 k mex 2\n",
      "x 21 k mex 1\n",
      "x 22 k mex 0\n",
      "x 23 k mex 2\n",
      "x 24 k mex 1\n",
      "x 25 k mex 0\n",
      "x 26 k mex 2\n",
      "x 27 k mex 1\n",
      "x 28 k mex 0\n",
      "x 29 k mex 2\n",
      "x 30 k mex 3\n",
      "x 31 k mex 1\n",
      "x 32 k mex 0\n",
      "x 33 k mex 2\n",
      "x 34 k mex 3\n",
      "x 35 k mex 1\n",
      "x 36 k mex 0\n",
      "x 37 k mex 2\n",
      "x 38 k mex 3\n",
      "x 39 k mex 1\n",
      "x 40 k mex 4\n",
      "x 41 k mex 0\n",
      "x 42 k mex 2\n",
      "x 43 k mex 3\n",
      "x 44 k mex 1\n",
      "x 45 k mex 4\n",
      "x 46 k mex 0\n",
      "x 47 k mex 2\n",
      "x 48 k mex 3\n",
      "x 49 k mex 1\n",
      "x 50 k mex 5\n",
      "x 51 k mex 4\n",
      "x 52 k mex 0\n",
      "x 53 k mex 2\n",
      "x 54 k mex 3\n",
      "x 55 k mex 1\n",
      "x 56 k mex 5\n",
      "x 57 k mex 4\n",
      "x 58 k mex 0\n",
      "x 59 k mex 2\n",
      "x 60 k mex 6\n",
      "x 61 k mex 3\n",
      "x 62 k mex 1\n",
      "x 63 k mex 5\n",
      "x 64 k mex 4\n",
      "x 65 k mex 0\n",
      "x 66 k mex 2\n",
      "x 67 k mex 6\n",
      "x 68 k mex 3\n",
      "x 69 k mex 1\n",
      "x 70 k mex 7\n",
      "x 71 k mex 5\n",
      "x 72 k mex 4\n",
      "x 73 k mex 0\n",
      "x 74 k mex 2\n",
      "x 75 k mex 6\n",
      "x 76 k mex 3\n",
      "x 77 k mex 1\n",
      "x 78 k mex 7\n",
      "x 79 k mex 5\n",
      "x 80 k mex 8\n",
      "x 81 k mex 4\n",
      "x 82 k mex 0\n",
      "x 83 k mex 2\n",
      "x 84 k mex 6\n",
      "x 85 k mex 3\n",
      "x 86 k mex 1\n",
      "x 87 k mex 7\n",
      "x 88 k mex 5\n",
      "x 89 k mex 8\n",
      "x 90 k mex 9\n",
      "x 91 k mex 4\n",
      "x 92 k mex 0\n",
      "x 93 k mex 2\n",
      "x 94 k mex 6\n",
      "x 95 k mex 3\n",
      "x 96 k mex 1\n",
      "x 97 k mex 7\n",
      "x 98 k mex 5\n",
      "x 99 k mex 8\n",
      "x 100 k mex 10\n",
      "x 101 k mex 9\n",
      "x 102 k mex 4\n",
      "x 103 k mex 0\n",
      "x 104 k mex 2\n",
      "x 105 k mex 6\n",
      "x 106 k mex 3\n",
      "x 107 k mex 1\n",
      "x 108 k mex 7\n",
      "x 109 k mex 5\n",
      "x 110 k mex 11\n",
      "x 111 k mex 8\n",
      "x 112 k mex 10\n",
      "x 113 k mex 9\n",
      "x 114 k mex 4\n",
      "x 115 k mex 0\n",
      "x 116 k mex 2\n",
      "x 117 k mex 6\n",
      "x 118 k mex 3\n",
      "x 119 k mex 1\n",
      "x 120 k mex 12\n",
      "x 121 k mex 7\n"
     ]
    },
    {
     "data": {
      "text/plain": [
       "7"
      ]
     },
     "execution_count": 15,
     "metadata": {},
     "output_type": "execute_result"
    }
   ],
   "source": [
    "grundy(a, k)"
   ]
  },
  {
   "cell_type": "code",
   "execution_count": 19,
   "metadata": {},
   "outputs": [],
   "source": [
    "from math import ceil\n",
    "def grundy(a, k):\n",
    "    print('a', a, 'k', k)\n",
    "    if a < k:\n",
    "        return 0\n",
    "    d, m = divmod(a, k)\n",
    "    if m == 0:\n",
    "        return d\n",
    "    d1 = d + 1\n",
    "    if d > k:\n",
    "        return grundy(a - d1, k)\n",
    "    e = ceil(m / d1) * d1\n",
    "    return grundy(a - e, k)"
   ]
  },
  {
   "cell_type": "code",
   "execution_count": 20,
   "metadata": {},
   "outputs": [
    {
     "name": "stdout",
     "output_type": "stream",
     "text": [
      "a 121 k 10\n",
      "a 108 k 10\n",
      "a 97 k 10\n",
      "a 87 k 10\n",
      "a 78 k 10\n",
      "a 70 k 10\n"
     ]
    },
    {
     "data": {
      "text/plain": [
       "7"
      ]
     },
     "execution_count": 20,
     "metadata": {},
     "output_type": "execute_result"
    }
   ],
   "source": [
    "grundy(a, k)"
   ]
  },
  {
   "cell_type": "code",
   "execution_count": null,
   "metadata": {},
   "outputs": [],
   "source": []
  }
 ],
 "metadata": {
  "kernelspec": {
   "display_name": "programming",
   "language": "python",
   "name": "python3"
  },
  "language_info": {
   "codemirror_mode": {
    "name": "ipython",
    "version": 3
   },
   "file_extension": ".py",
   "mimetype": "text/x-python",
   "name": "python",
   "nbconvert_exporter": "python",
   "pygments_lexer": "ipython3",
   "version": "3.10.0"
  },
  "orig_nbformat": 4,
  "vscode": {
   "interpreter": {
    "hash": "05a440cbc0a4d5663111a9b3b9ea59349399813ac6e64ad16052767f7ba4c947"
   }
  }
 },
 "nbformat": 4,
 "nbformat_minor": 2
}
