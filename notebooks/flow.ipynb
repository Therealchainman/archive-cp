{
 "cells": [
  {
   "cell_type": "markdown",
   "metadata": {},
   "source": [
    "# Flow Theory"
   ]
  },
  {
   "attachments": {},
   "cell_type": "markdown",
   "metadata": {},
   "source": [
    "# IMPORTS"
   ]
  },
  {
   "cell_type": "code",
   "execution_count": null,
   "metadata": {},
   "outputs": [],
   "source": [
    "from typing import List, Tuple\n",
    "import math\n",
    "from collections import Counter, deque\n",
    "import urllib.request\n",
    "import time"
   ]
  },
  {
   "cell_type": "markdown",
   "metadata": {},
   "source": [
    "# UTILS"
   ]
  },
  {
   "cell_type": "code",
   "execution_count": 123,
   "metadata": {},
   "outputs": [],
   "source": [
    "def conv_seconds_milliseconds(seconds: float) -> float:\n",
    "    return seconds * 1000\n",
    "\n",
    "def duration(start: float, end: float) -> float:\n",
    "    return end - start\n"
   ]
  },
  {
   "attachments": {},
   "cell_type": "markdown",
   "metadata": {},
   "source": [
    "# Max Flow"
   ]
  },
  {
   "cell_type": "markdown",
   "metadata": {},
   "source": [
    "## [Download Speed](https://cses.fi/problemset/task/1694)"
   ]
  },
  {
   "cell_type": "code",
   "execution_count": 118,
   "metadata": {},
   "outputs": [],
   "source": [
    "class MaxFlow:\n",
    "    def __init__(self, n: int, edges: List[Tuple[int, int, int]]):\n",
    "        self.size = n\n",
    "        self.edges = edges\n",
    "\n",
    "    def build(self, n: int, edges: List[Tuple[int, int, int]]) -> None:\n",
    "        self.adj_list = {}\n",
    "        for u, v, cap in edges:\n",
    "            if u not in self.adj_list:\n",
    "                self.adj_list[u] = Counter()\n",
    "            self.adj_list[u][v] += cap\n",
    "            if v not in self.adj_list:\n",
    "                self.adj_list[v] = Counter()\n",
    "\n",
    "    def main_dfs(self, source: int, sink: int) -> int:\n",
    "        self.build(self.size, self.edges)\n",
    "        maxflow = 0\n",
    "        while True:\n",
    "            self.reset()\n",
    "            cur_flow = self.dfs(source, sink, math.inf)\n",
    "            if cur_flow == 0:\n",
    "                break\n",
    "            maxflow += cur_flow\n",
    "        return maxflow\n",
    "\n",
    "    def reset(self) -> None:\n",
    "        self.parents = [-1] * self.size\n",
    "\n",
    "    def dfs(self, node: int, sink: int, flow: int) -> int:\n",
    "        if node == sink:\n",
    "            return flow\n",
    "        self.parents[node] = 1\n",
    "        cap = self.adj_list[node]\n",
    "        for nei, cap in cap.items():\n",
    "            if self.parents[nei] == -1 and cap > 0:\n",
    "                cur_flow = self.dfs(nei, sink, min(flow, cap))\n",
    "                if cur_flow > 0:\n",
    "                    self.adj_list[node][nei] -= cur_flow\n",
    "                    self.adj_list[nei][node] += cur_flow\n",
    "                    return cur_flow\n",
    "        return 0\n",
    "    \n",
    "    def main_edmonds_karp(self, source: int, sink: int) -> int:\n",
    "        self.build(self.size, self.edges)\n",
    "        maxflow = 0\n",
    "        while True:\n",
    "            self.reset()\n",
    "            cur_flow = self.edmonds_karp(source, sink)\n",
    "            if cur_flow == 0:\n",
    "                break\n",
    "            maxflow += cur_flow\n",
    "        return maxflow\n",
    "\n",
    "    def edmonds_karp(self, source: int, sink: int) -> int:\n",
    "        queue = deque([(source, math.inf)])\n",
    "        self.parents[source] = -2\n",
    "        while queue:\n",
    "            node, flow = queue.popleft()\n",
    "            if node == sink:\n",
    "                break\n",
    "            capacity = self.adj_list[node]\n",
    "            for nei, cap in capacity.items():\n",
    "                if self.parents[nei] == -1 and cap > 0:\n",
    "                    self.parents[nei] = node\n",
    "                    queue.append((nei, min(flow, cap)))\n",
    "        if node == sink:\n",
    "            while node != source:\n",
    "                parent = self.parents[node]\n",
    "                self.adj_list[parent][node] -= flow\n",
    "                self.adj_list[node][parent] += flow # residual edge\n",
    "                node = parent\n",
    "            return flow\n",
    "        return 0\n"
   ]
  },
  {
   "cell_type": "code",
   "execution_count": 119,
   "metadata": {},
   "outputs": [],
   "source": [
    "urls = ['https://cses.fi/file/acec992e42fe3462f07114ad2d5f7ce9ff27434922e9b52f39006310ca79d019/1/1/', \\\n",
    "    'https://cses.fi/file/558f035a5dce8931e19371bda522b5a81d28a9a1a1835a6205e566ca9de324c8/1/1/', \\\n",
    "    'https://cses.fi/file/9201642e4901d251a2c18f26429a67089a018a07cd3aa6025cb5fd12d4f88126/1/1/', \\\n",
    "    'https://cses.fi/file/654fbbbac2b61ff15187c1d399394ea7e27b05b3dddf32bdba1bb1c6708e3593/1/1/', \\\n",
    "    'https://cses.fi/file/8286fe339a5312417d20620138dec793deb78cd8960f33ddc4f521982e71f046/1/1/', \\\n",
    "    'https://cses.fi/file/297a2fce46a4102cbd86bea796751acd566fcae258aa00b62d34f5436e441b27/1/1/', \\\n",
    "    'https://cses.fi/file/f1cb0fbf03699e8e91a47846d49e084dae8ec899186d7766461383b5bf562452/1/1/', \\\n",
    "    'https://cses.fi/file/d31400a9196af8d78037127201e471353fcd1f5aaecc9939ea4740a054559c0f/1/1/', \\\n",
    "    'https://cses.fi/file/963201f693af2a27f8d43a78a6213b938576971e71fd5270ad62b538cae9cd47/1/1/', \\\n",
    "    'https://cses.fi/file/9b1a8c894a16cc3228c663a38b764156f7f47183b2f7b206866f935d693dbae7/1/1/', \\\n",
    "    'https://cses.fi/file/e27523c04940efd4cddc19cb7ad99a65635c2fb88cf1c86a7492e08089e8c942/1/1/', \\\n",
    "    'https://cses.fi/file/a09e3665a05e05a0f4e6d590b271ba889bed02c5aae69522d38d8bf1c62aa371/1/1/', \\\n",
    "    'https://cses.fi/file/ec19840ed099c8e55fd77bf40b1cf4f6fdbd43c0a63c74dfe736de4d38cb67cd/1/1/']"
   ]
  },
  {
   "cell_type": "code",
   "execution_count": null,
   "metadata": {},
   "outputs": [],
   "source": [
    "\"\"\"\n",
    "Using the dfs implementation as the base case, it was tested to work in the online judge.\n",
    "\"\"\"\n",
    "results = [0]*len(urls)\n",
    "for i, url in enumerate(urls):\n",
    "    data = urllib.request.urlopen(url)\n",
    "    for j, line in enumerate(map(lambda line: line.decode('utf-8').strip('\\n'), data)):\n",
    "        if j == 0:\n",
    "            n, m = map(int, line.split())\n",
    "            edges = []\n",
    "        else:\n",
    "            u, v, cap = map(int, line.split())\n",
    "            edges.append((u - 1, v - 1, cap))\n",
    "    start_time = time.perf_counter()\n",
    "    mf = MaxFlow(n, edges).main_dfs(0, n - 1)\n",
    "    end_time = time.perf_counter()\n",
    "    results[i] = mf\n",
    "    print(f'Finished testcase: {i} in {end_time - start_time} seconds')"
   ]
  },
  {
   "cell_type": "code",
   "execution_count": null,
   "metadata": {},
   "outputs": [],
   "source": [
    "%%time\n",
    "for i, url in enumerate(urls):\n",
    "    data = urllib.request.urlopen(url)\n",
    "    for j, line in enumerate(map(lambda line: line.decode('utf-8').strip('\\n'), data)):\n",
    "        if j == 0:\n",
    "            n, m = map(int, line.split())\n",
    "            edges = []\n",
    "        else:\n",
    "            u, v, cap = map(int, line.split())\n",
    "            edges.append((u - 1, v - 1, cap))\n",
    "    start_time = time.perf_counter()\n",
    "    mf = MaxFlow(n, edges).main_dfs(0, n - 1)\n",
    "    end_time = time.perf_counter()\n",
    "    assert mf == results[i], f'Failed on testcase: {i}'\n",
    "    print(f'Finished testcase: {i} in {end_time - start_time} seconds')\n"
   ]
  },
  {
   "cell_type": "code",
   "execution_count": 124,
   "metadata": {},
   "outputs": [
    {
     "name": "stdout",
     "output_type": "stream",
     "text": [
      "Test case 0 passed\n",
      "dfs: 0.15285199879144784 milliseconds\n",
      "edmonds-karp: 0.027812000553240068 milliseconds\n",
      "Test case 1 passed\n",
      "dfs: 0.13514599959307816 milliseconds\n",
      "edmonds-karp: 0.038557998777832836 milliseconds\n",
      "Test case 2 passed\n",
      "dfs: 0.042644000131986104 milliseconds\n",
      "edmonds-karp: 0.02200800008722581 milliseconds\n",
      "Test case 3 passed\n",
      "dfs: 0.05922600030316971 milliseconds\n",
      "edmonds-karp: 0.022959000489208847 milliseconds\n",
      "Test case 4 passed\n",
      "dfs: 1.222647000759025 milliseconds\n",
      "edmonds-karp: 1.0794099998747697 milliseconds\n",
      "Test case 5 passed\n",
      "dfs: 2.9189720007707365 milliseconds\n",
      "edmonds-karp: 2.7333910002198536 milliseconds\n",
      "Test case 6 passed\n",
      "dfs: 15.551608999885502 milliseconds\n",
      "edmonds-karp: 5.754584000897012 milliseconds\n",
      "Test case 7 passed\n",
      "dfs: 0.07178200030466542 milliseconds\n",
      "edmonds-karp: 0.04002900095656514 milliseconds\n",
      "Test case 8 passed\n",
      "dfs: 0.11093200009781867 milliseconds\n",
      "edmonds-karp: 0.08192099994630553 milliseconds\n",
      "Test case 9 passed\n",
      "dfs: 0.12475500079744961 milliseconds\n",
      "edmonds-karp: 0.09906099876388907 milliseconds\n",
      "Test case 10 passed\n",
      "dfs: 0.8353139983228175 milliseconds\n",
      "edmonds-karp: 1.1915470004169038 milliseconds\n",
      "Test case 11 passed\n",
      "dfs: 0.11912500121979974 milliseconds\n",
      "edmonds-karp: 0.0358320012310287 milliseconds\n",
      "Test case 12 passed\n",
      "dfs: 24.36155099894677 milliseconds\n",
      "edmonds-karp: 118.13399499988009 milliseconds\n",
      "CPU times: user 476 ms, sys: 24.2 ms, total: 500 ms\n",
      "Wall time: 7.53 s\n"
     ]
    }
   ],
   "source": [
    "%%time\n",
    "for i, url in enumerate(urls):\n",
    "    data = urllib.request.urlopen(url)\n",
    "    for j, line in enumerate(map(lambda line: line.decode('utf-8').strip('\\n'), data)):\n",
    "        if j == 0:\n",
    "            n, m = map(int, line.split())\n",
    "            edges = []\n",
    "        else:\n",
    "            u, v, cap = map(int, line.split())\n",
    "            edges.append((u - 1, v - 1, cap))\n",
    "    start_time = time.perf_counter()\n",
    "    mf = MaxFlow(n, edges).main_dfs(0, n - 1)\n",
    "    end_time = time.perf_counter()\n",
    "    duration_dfs = duration(start_time, end_time)\n",
    "    start_time = time.perf_counter()\n",
    "    mf = MaxFlow(n, edges).main_edmonds_karp(0, n - 1)\n",
    "    end_time = time.perf_counter()\n",
    "    duration_edmonds_karp = duration(start_time, end_time)\n",
    "    assert mf == results[i], f'Failed on testcase: {i}, output: {mf}, expected: {results[i]}'\n",
    "    print(f'Test case {i} passed')\n",
    "    print(f'dfs: {conv_seconds_milliseconds(duration_dfs)} milliseconds')\n",
    "    print(f'edmonds-karp: {conv_seconds_milliseconds(duration_edmonds_karp)} milliseconds')\n"
   ]
  },
  {
   "cell_type": "code",
   "execution_count": null,
   "metadata": {},
   "outputs": [],
   "source": []
  },
  {
   "cell_type": "code",
   "execution_count": null,
   "metadata": {},
   "outputs": [],
   "source": []
  },
  {
   "cell_type": "code",
   "execution_count": null,
   "metadata": {},
   "outputs": [],
   "source": []
  },
  {
   "cell_type": "code",
   "execution_count": null,
   "metadata": {},
   "outputs": [],
   "source": []
  },
  {
   "cell_type": "code",
   "execution_count": null,
   "metadata": {},
   "outputs": [],
   "source": []
  },
  {
   "cell_type": "code",
   "execution_count": null,
   "metadata": {},
   "outputs": [],
   "source": []
  },
  {
   "cell_type": "code",
   "execution_count": null,
   "metadata": {},
   "outputs": [],
   "source": []
  }
 ],
 "metadata": {
  "kernelspec": {
   "display_name": "programming",
   "language": "python",
   "name": "python3"
  },
  "language_info": {
   "codemirror_mode": {
    "name": "ipython",
    "version": 3
   },
   "file_extension": ".py",
   "mimetype": "text/x-python",
   "name": "python",
   "nbconvert_exporter": "python",
   "pygments_lexer": "ipython3",
   "version": "3.10.0"
  },
  "orig_nbformat": 4,
  "vscode": {
   "interpreter": {
    "hash": "05a440cbc0a4d5663111a9b3b9ea59349399813ac6e64ad16052767f7ba4c947"
   }
  }
 },
 "nbformat": 4,
 "nbformat_minor": 2
}
