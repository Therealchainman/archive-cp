{
 "cells": [
  {
   "cell_type": "code",
   "execution_count": null,
   "metadata": {},
   "outputs": [],
   "source": [
    "\"\"\"\n",
    "bucket sort for an array of integers\n",
    "n = len(nums)\n",
    "m = max(nums)\n",
    "time complexity = O(n + m)\n",
    "It is efficient when the maximum value of integer is small cause can perform a sort in linear time and linear extra space\n",
    "\"\"\"\n",
    "from typing import List\n",
    "def bucket_sort(nums: List[int]) -> List[int]:\n",
    "    m = max(nums)\n",
    "    bucket = [0] * (m + 1)\n",
    "    for num in nums:\n",
    "        bucket[num] += 1\n",
    "    return bucket"
   ]
  },
  {
   "cell_type": "code",
   "execution_count": null,
   "metadata": {},
   "outputs": [],
   "source": [
    "from itertools import dropwhile\n",
    "def wiggleSort(nums: List[int]) -> None:\n",
    "    \"\"\"\n",
    "    Do not return anything, modify nums in-place instead.\n",
    "    \"\"\"\n",
    "    for i in range(len(nums) - 1):\n",
    "        if i%2 == 0 and nums[i] > nums[i + 1]:\n",
    "            nums[i], nums[i + 1] = nums[i + 1], nums[i]\n",
    "        elif i%2 == 1 and nums[i] < nums[i + 1]:\n",
    "            nums[i], nums[i + 1] = nums[i + 1], nums[i]"
   ]
  },
  {
   "cell_type": "code",
   "execution_count": null,
   "metadata": {},
   "outputs": [],
   "source": [
    "# creating dummy dataset of integers\n",
    "import random\n",
    "low, high = 0, 10_000\n",
    "nums = [random.randint(low, high) for _ in range(50_000)]"
   ]
  },
  {
   "cell_type": "code",
   "execution_count": null,
   "metadata": {},
   "outputs": [],
   "source": [
    "%%timeit\n",
    "low, high = 0, 10_000\n",
    "nums = [random.randint(low, high) for _ in range(50_000)]\n",
    "wiggleSort(nums)"
   ]
  },
  {
   "cell_type": "code",
   "execution_count": null,
   "metadata": {},
   "outputs": [],
   "source": [
    "%%timeit\n",
    "low, high = 0, 10_000\n",
    "nums = [random.randint(low, high) for _ in range(50_000)]\n",
    "wiggleSort(nums)"
   ]
  },
  {
   "cell_type": "code",
   "execution_count": null,
   "metadata": {},
   "outputs": [],
   "source": [
    "for n in range(1, 100_000):\n",
    "    x = n//2\n",
    "    y = n - n//2\n",
    "    sum_x_digits = sum(map(int, str(x)))\n",
    "    sum_y_digits = sum(map(int, str(y)))\n",
    "    delta = sum_x_digits - sum_y_digits\n",
    "    x_digits = list(map(int, str(x)))\n",
    "    y_digits = list(map(int, str(y)))\n",
    "    for i in range(len(x_digits)):\n",
    "        if delta <= 1: break\n",
    "        x_val = x_digits[~i]\n",
    "        y_val = y_digits[~i]\n",
    "        incr = min(delta//2, x_val, 9 - y_val)\n",
    "        x_digits[~i] -= incr\n",
    "        y_digits[~i] += incr\n",
    "        delta -= 2*incr\n",
    "    print(f\"n: {n}, {''.join(map(str, x_digits))} {''.join(map(str, y_digits))}\")"
   ]
  },
  {
   "cell_type": "code",
   "execution_count": null,
   "metadata": {},
   "outputs": [],
   "source": [
    "for n in range(1,14):\n",
    "    def main():\n",
    "        print('====================================================================================')\n",
    "        print('n', n)\n",
    "        end_mask = (1 << (2*n)) - 1\n",
    "        pairs = []\n",
    "        def check(pais):\n",
    "            res = []\n",
    "            for x, y in pais:\n",
    "                res.append(x + y)\n",
    "            res.sort()\n",
    "            for i in range(1, len(res)):\n",
    "                if res[i] != res[i-1] + 1: return False\n",
    "            return True\n",
    "        def backtrack(mask):\n",
    "            if mask == end_mask: \n",
    "                if check(pairs): print(sorted(pairs))\n",
    "                return\n",
    "            for i in range(2*n):\n",
    "                if (mask>>i)&1: continue\n",
    "                for j in range(i + 1, 2*n):\n",
    "                    if (mask>>j)&1: continue\n",
    "                    if len(pairs) > 0 and i + 1 + j + 1 != sum(pairs[-1]) + 1: continue\n",
    "                    pairs.append((i + 1, j + 1))\n",
    "                    backtrack(mask | (1<<i) | (1<<j))\n",
    "                    pairs.pop()\n",
    "        backtrack(0)\n",
    "    main()"
   ]
  },
  {
   "cell_type": "code",
   "execution_count": null,
   "metadata": {},
   "outputs": [],
   "source": [
    "import math\n",
    "for i in range(1000):\n",
    "    print('i', i, math.comb(i, 2))"
   ]
  },
  {
   "cell_type": "code",
   "execution_count": null,
   "metadata": {},
   "outputs": [],
   "source": [
    "import math\n",
    "for i in range(1000):\n",
    "    print('i', i, math.comb(i, 3))"
   ]
  },
  {
   "cell_type": "code",
   "execution_count": null,
   "metadata": {},
   "outputs": [],
   "source": [
    "import math\n",
    "for i in range(1000):\n",
    "    print('i', i, math.comb(i, 4))"
   ]
  },
  {
   "cell_type": "code",
   "execution_count": null,
   "metadata": {},
   "outputs": [],
   "source": [
    "mod = 1000000007\n",
    "n = 10\n",
    "x = [1,5,10,15,33,34,35,40,45,50]\n",
    "pw = [pow(2, i, mod) for i in range(n)]\n",
    "ans = 0\n",
    "for i in range(n):\n",
    "    l = i - 1\n",
    "    r = i + 1\n",
    "    for j in range(i + 1, n):\n",
    "        print('i', i, 'l', l, 'r', r, 'j', j)\n",
    "        while l >= 0 and x[i] - x[l] <= x[j] - x[i]:\n",
    "            l -= 1\n",
    "        while r < n and x[r] - x[j] < x[j] - x[i]:\n",
    "            r += 1\n",
    "        print(l+1+n-r)\n",
    "        ans += pw[l + 1 + n - r]\n",
    "print(ans % mod)"
   ]
  },
  {
   "cell_type": "code",
   "execution_count": null,
   "metadata": {},
   "outputs": [],
   "source": []
  },
  {
   "cell_type": "markdown",
   "metadata": {},
   "source": [
    "# VISUALIZATION OF AN INTERESTING PROBLEM ON XY PLANE"
   ]
  },
  {
   "cell_type": "code",
   "execution_count": null,
   "metadata": {},
   "outputs": [],
   "source": [
    "import matplotlib.pyplot as plt\n",
    "import matplotlib.patches as mpatches\n",
    "from typing import *\n",
    "from collections import deque\n",
    "from itertools import product"
   ]
  },
  {
   "cell_type": "code",
   "execution_count": null,
   "metadata": {},
   "outputs": [],
   "source": [
    "def main(n: int, start: Tuple[int, int], rect: List[int]) -> Set[Tuple[int,int]]:\n",
    "    queue = deque([start])\n",
    "    vis = set([start])\n",
    "    def neighbors(x: int, y: int) -> Iterable[Tuple[int,int]]:\n",
    "        for px, py in product(range(rect[0], rect[1] + 1), range(rect[2], rect[3] + 1)):\n",
    "            dx, dy = px - x, py - y\n",
    "            yield px + dx, py + dy\n",
    "    for _ in range(n):\n",
    "        for _ in range(len(queue)):\n",
    "            x, y = queue.popleft()\n",
    "            for nx, ny in neighbors(x, y):\n",
    "                if (nx, ny) not in vis:\n",
    "                    vis.add((nx, ny))\n",
    "                    queue.append((nx, ny))\n",
    "    return vis\n",
    "\n",
    "def plot(coords: Set[Tuple[int,int]], rect: List[int]) -> None:\n",
    "    width, height = rect[1] - rect[0], rect[3] - rect[2]\n",
    "    rectangle = mpatches.Rectangle((rect[0], rect[2]), width, height, linewidth=1, fill = True, edgecolor='r', facecolor='red')\n",
    "    x, y = zip(*coords)\n",
    "    plt.figure(figsize=(40,20))\n",
    "    plt.plot(x, y, 'ko')\n",
    "    plt.grid(True)\n",
    "    plt.xticks(range(min(x), max(x) + 1))\n",
    "    plt.yticks(range(min(y), max(y) + 1))\n",
    "    plt.gca().add_patch(rectangle)\n",
    "    plt.show()"
   ]
  },
  {
   "cell_type": "code",
   "execution_count": null,
   "metadata": {},
   "outputs": [],
   "source": [
    "\"\"\"\n",
    "n = 10\n",
    "start (0, 0)\n",
    "\"\"\"\n",
    "coords = main(10, (0,0), [7, 9, 0, 3])\n",
    "plot(coords)"
   ]
  },
  {
   "cell_type": "code",
   "execution_count": null,
   "metadata": {},
   "outputs": [],
   "source": [
    "coords = main(10, (1, 3), [7, 9, 0, 3])\n",
    "plot(coords)"
   ]
  },
  {
   "cell_type": "code",
   "execution_count": null,
   "metadata": {},
   "outputs": [],
   "source": [
    "coords = main(10, (5, 3), [7, 9, 0, 3])\n",
    "plot(coords)"
   ]
  },
  {
   "cell_type": "code",
   "execution_count": null,
   "metadata": {},
   "outputs": [],
   "source": [
    "\"\"\"\n",
    "x_width = 2\n",
    "y_width = 3\n",
    "(0, 0) => (odd, odd)\n",
    "(0, 1) => (odd, even)\n",
    "(1, 1) => (even, even)\n",
    "(1, 0) => (even, odd) \n",
    "(1, 2) => (even, odd)\n",
    "(2, 2) => (odd, odd)\n",
    "\n",
    "\n",
    "x_width = 6\n",
    "y_width = 3\n",
    "\n",
    "\n",
    " \"\"\"\n",
    "rect = [4, 5, 3, 4]\n",
    "coords = main(3, (0, 0), rect)\n",
    "plot(coords, rect)"
   ]
  },
  {
   "cell_type": "code",
   "execution_count": null,
   "metadata": {},
   "outputs": [],
   "source": []
  },
  {
   "cell_type": "markdown",
   "metadata": {},
   "source": [
    "# CONVOLUTIONS USED FOR TREE DP PROBLEM"
   ]
  },
  {
   "cell_type": "code",
   "execution_count": null,
   "metadata": {},
   "outputs": [],
   "source": [
    "from collections import deque\n",
    "\n",
    "N= 4\n",
    "G=[[] for i in range(N)]\n",
    "for a, b in [(1, 2), (2, 3), (3, 4)]:\n",
    "    G[a-1].append(b-1)\n",
    "    G[b-1].append(a-1)\n",
    "\n",
    "mod=998_244_353\n",
    "def convolution(f1,f2):\n",
    "    m1=len(f1)\n",
    "    m2=len(f2)\n",
    "    res=[0 for i in range(m1+m2-1)]\n",
    "    for i,x in enumerate(f1):\n",
    "        for j,y in enumerate(f2):\n",
    "            res[i+j]+=x*y\n",
    "            res[i+j]%=mod\n",
    "    return res\n",
    "q=deque([0])\n",
    "dist=[-1 for i in range(N)]\n",
    "dist[0]=0\n",
    "prev=[-1 for i in range(N)]\n",
    "child=[[] for i in range(N)]\n",
    "while(q):\n",
    "    r=q.popleft()\n",
    "    for p in G[r]:\n",
    "        if dist[p]==-1:\n",
    "            dist[p]=dist[r]+1\n",
    "            prev[p]=r\n",
    "            child[r].append(p)\n",
    "            q.append(p)\n",
    "# print('dist', dist, 'prev', prev, 'child', child)\n",
    "def all_prod_func(list_of_func):\n",
    "    res=[1]\n",
    "    if len(list_of_func)==0:\n",
    "        return res\n",
    "    deq=deque(list_of_func)\n",
    "    while(len(deq)>=2):\n",
    "        f1=deq.popleft()\n",
    "        f2=deq.popleft()\n",
    "        deq.append(convolution(f1,f2))\n",
    "    return deq[0]\n",
    "def add_func(f1,f2):\n",
    "    k=max(len(f1),len(f2))\n",
    "    res=[0 for i in range(k)]\n",
    "    for i,x in enumerate(f1):\n",
    "        res[i]+=x\n",
    "        res[i]%=mod\n",
    "    for i,x in enumerate(f2):\n",
    "        res[i]+=x\n",
    "        res[i]%=mod\n",
    "    return res\n",
    "vertex=sorted(list(range(N)),key=lambda i:dist[i])\n",
    "dp=[[[],[]] for i in range(N)]\n",
    "for v in vertex[::-1]:\n",
    "    print('vertex', v)\n",
    "    dp[v][0]=all_prod_func([add_func(dp[u][0],dp[u][1]) for u in child[v]])\n",
    "    dp[v][1]=[0]+all_prod_func([add_func(dp[u][0],dp[u][1][1:]) for u in child[v]])\n",
    "    print('dp[v]', dp[v])\n",
    "ans=[0 for i in range(N+1)]\n",
    "for c in [0,1]:\n",
    "    for i,x in enumerate(dp[v][c]):\n",
    "        print('i', i, 'x', x, 'c', c)\n",
    "        ans[i]+=x\n",
    "        ans[i]%=mod\n",
    "print(*ans[1:],sep=\"\\n\")\n"
   ]
  },
  {
   "cell_type": "code",
   "execution_count": null,
   "metadata": {},
   "outputs": [],
   "source": [
    "from itertools import product\n",
    "import pandas as pd\n",
    "\n",
    "def main():\n",
    "    n, h = 10, 10\n",
    "    dp = [[0]*(n + 1) for _ in range(n + 1)]\n",
    "    for i in range(n + 1):\n",
    "        dp[0][i] = 1\n",
    "    for height, i in product(range(1, n + 1), repeat = 2):\n",
    "        print('height', height, 'i', i)\n",
    "        for j in range(i):\n",
    "            dp[i][height] += dp[j][height - 1] * dp[i - j - 1][height - 1]\n",
    "        print(dp)\n",
    "    data = []\n",
    "    for i, j in product(range(n + 1), repeat = 2):\n",
    "        data.append([i, j, dp[i][j]])\n",
    "    \n",
    "    return pd.DataFrame(data, columns = ['nth catalan number', 'height', 'number of trees'])\n"
   ]
  },
  {
   "cell_type": "code",
   "execution_count": null,
   "metadata": {},
   "outputs": [],
   "source": [
    "df = main()"
   ]
  },
  {
   "cell_type": "code",
   "execution_count": null,
   "metadata": {},
   "outputs": [],
   "source": [
    "df.head(20)"
   ]
  },
  {
   "cell_type": "code",
   "execution_count": 11,
   "metadata": {},
   "outputs": [
    {
     "name": "stdout",
     "output_type": "stream",
     "text": [
      "2.77 µs ± 229 ns per loop (mean ± std. dev. of 7 runs, 100,000 loops each)\n"
     ]
    }
   ],
   "source": [
    "%%timeit\n",
    "max_n = 32\n",
    "lg = [0] * (max_n + 1)\n",
    "lg[1] = 0\n",
    "for i in range(2, max_n + 1):\n",
    "    lg[i] = lg[i//2] + 1"
   ]
  },
  {
   "cell_type": "code",
   "execution_count": 12,
   "metadata": {},
   "outputs": [
    {
     "name": "stdout",
     "output_type": "stream",
     "text": [
      "The slowest run took 4.26 times longer than the fastest. This could mean that an intermediate result is being cached.\n",
      "12.7 µs ± 7.05 µs per loop (mean ± std. dev. of 7 runs, 100,000 loops each)\n"
     ]
    }
   ],
   "source": [
    "%%timeit\n",
    "lg = [0] * (max_n + 1)\n",
    "for i in range(1, max_n + 1):\n",
    "    lg[i] = int(math.log(i, 2))"
   ]
  },
  {
   "cell_type": "code",
   "execution_count": 13,
   "metadata": {},
   "outputs": [
    {
     "data": {
      "text/plain": [
       "17.609640474436812"
      ]
     },
     "execution_count": 13,
     "metadata": {},
     "output_type": "execute_result"
    }
   ],
   "source": [
    "math.log(200_000, 2)"
   ]
  },
  {
   "cell_type": "code",
   "execution_count": null,
   "metadata": {},
   "outputs": [],
   "source": []
  },
  {
   "cell_type": "code",
   "execution_count": null,
   "metadata": {},
   "outputs": [],
   "source": []
  }
 ],
 "metadata": {
  "kernelspec": {
   "display_name": "programming",
   "language": "python",
   "name": "python3"
  },
  "language_info": {
   "codemirror_mode": {
    "name": "ipython",
    "version": 3
   },
   "file_extension": ".py",
   "mimetype": "text/x-python",
   "name": "python",
   "nbconvert_exporter": "python",
   "pygments_lexer": "ipython3",
   "version": "3.10.0"
  },
  "orig_nbformat": 4,
  "vscode": {
   "interpreter": {
    "hash": "05a440cbc0a4d5663111a9b3b9ea59349399813ac6e64ad16052767f7ba4c947"
   }
  }
 },
 "nbformat": 4,
 "nbformat_minor": 2
}
