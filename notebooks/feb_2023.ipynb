{
 "cells": [
  {
   "cell_type": "code",
   "execution_count": null,
   "metadata": {},
   "outputs": [],
   "source": [
    "\"\"\"\n",
    "bucket sort for an array of integers\n",
    "n = len(nums)\n",
    "m = max(nums)\n",
    "time complexity = O(n + m)\n",
    "It is efficient when the maximum value of integer is small cause can perform a sort in linear time and linear extra space\n",
    "\"\"\"\n",
    "from typing import List\n",
    "def bucket_sort(nums: List[int]) -> List[int]:\n",
    "    m = max(nums)\n",
    "    bucket = [0] * (m + 1)\n",
    "    for num in nums:\n",
    "        bucket[num] += 1\n",
    "    return bucket"
   ]
  },
  {
   "cell_type": "code",
   "execution_count": null,
   "metadata": {},
   "outputs": [],
   "source": [
    "from itertools import dropwhile\n",
    "def wiggleSort(nums: List[int]) -> None:\n",
    "    \"\"\"\n",
    "    Do not return anything, modify nums in-place instead.\n",
    "    \"\"\"\n",
    "    for i in range(len(nums) - 1):\n",
    "        if i%2 == 0 and nums[i] > nums[i + 1]:\n",
    "            nums[i], nums[i + 1] = nums[i + 1], nums[i]\n",
    "        elif i%2 == 1 and nums[i] < nums[i + 1]:\n",
    "            nums[i], nums[i + 1] = nums[i + 1], nums[i]"
   ]
  },
  {
   "cell_type": "code",
   "execution_count": null,
   "metadata": {},
   "outputs": [],
   "source": [
    "# creating dummy dataset of integers\n",
    "import random\n",
    "low, high = 0, 10_000\n",
    "nums = [random.randint(low, high) for _ in range(50_000)]"
   ]
  },
  {
   "cell_type": "code",
   "execution_count": null,
   "metadata": {},
   "outputs": [],
   "source": [
    "%%timeit\n",
    "low, high = 0, 10_000\n",
    "nums = [random.randint(low, high) for _ in range(50_000)]\n",
    "wiggleSort(nums)"
   ]
  },
  {
   "cell_type": "code",
   "execution_count": null,
   "metadata": {},
   "outputs": [],
   "source": [
    "%%timeit\n",
    "low, high = 0, 10_000\n",
    "nums = [random.randint(low, high) for _ in range(50_000)]\n",
    "wiggleSort(nums)"
   ]
  },
  {
   "cell_type": "code",
   "execution_count": null,
   "metadata": {},
   "outputs": [],
   "source": [
    "for n in range(1, 100_000):\n",
    "    x = n//2\n",
    "    y = n - n//2\n",
    "    sum_x_digits = sum(map(int, str(x)))\n",
    "    sum_y_digits = sum(map(int, str(y)))\n",
    "    delta = sum_x_digits - sum_y_digits\n",
    "    x_digits = list(map(int, str(x)))\n",
    "    y_digits = list(map(int, str(y)))\n",
    "    for i in range(len(x_digits)):\n",
    "        if delta <= 1: break\n",
    "        x_val = x_digits[~i]\n",
    "        y_val = y_digits[~i]\n",
    "        incr = min(delta//2, x_val, 9 - y_val)\n",
    "        x_digits[~i] -= incr\n",
    "        y_digits[~i] += incr\n",
    "        delta -= 2*incr\n",
    "    print(f\"n: {n}, {''.join(map(str, x_digits))} {''.join(map(str, y_digits))}\")"
   ]
  },
  {
   "cell_type": "code",
   "execution_count": null,
   "metadata": {},
   "outputs": [],
   "source": [
    "for n in range(1,14):\n",
    "    def main():\n",
    "        print('====================================================================================')\n",
    "        print('n', n)\n",
    "        end_mask = (1 << (2*n)) - 1\n",
    "        pairs = []\n",
    "        def check(pais):\n",
    "            res = []\n",
    "            for x, y in pais:\n",
    "                res.append(x + y)\n",
    "            res.sort()\n",
    "            for i in range(1, len(res)):\n",
    "                if res[i] != res[i-1] + 1: return False\n",
    "            return True\n",
    "        def backtrack(mask):\n",
    "            if mask == end_mask: \n",
    "                if check(pairs): print(sorted(pairs))\n",
    "                return\n",
    "            for i in range(2*n):\n",
    "                if (mask>>i)&1: continue\n",
    "                for j in range(i + 1, 2*n):\n",
    "                    if (mask>>j)&1: continue\n",
    "                    if len(pairs) > 0 and i + 1 + j + 1 != sum(pairs[-1]) + 1: continue\n",
    "                    pairs.append((i + 1, j + 1))\n",
    "                    backtrack(mask | (1<<i) | (1<<j))\n",
    "                    pairs.pop()\n",
    "        backtrack(0)\n",
    "    main()"
   ]
  },
  {
   "cell_type": "code",
   "execution_count": null,
   "metadata": {},
   "outputs": [],
   "source": [
    "import math\n",
    "for i in range(1000):\n",
    "    print('i', i, math.comb(i, 2))"
   ]
  },
  {
   "cell_type": "code",
   "execution_count": null,
   "metadata": {},
   "outputs": [],
   "source": [
    "import math\n",
    "for i in range(1000):\n",
    "    print('i', i, math.comb(i, 3))"
   ]
  },
  {
   "cell_type": "code",
   "execution_count": null,
   "metadata": {},
   "outputs": [],
   "source": [
    "import math\n",
    "for i in range(1000):\n",
    "    print('i', i, math.comb(i, 4))"
   ]
  },
  {
   "cell_type": "code",
   "execution_count": null,
   "metadata": {},
   "outputs": [],
   "source": [
    "mod = 1000000007\n",
    "n = 10\n",
    "x = [1,5,10,15,33,34,35,40,45,50]\n",
    "pw = [pow(2, i, mod) for i in range(n)]\n",
    "ans = 0\n",
    "for i in range(n):\n",
    "    l = i - 1\n",
    "    r = i + 1\n",
    "    for j in range(i + 1, n):\n",
    "        print('i', i, 'l', l, 'r', r, 'j', j)\n",
    "        while l >= 0 and x[i] - x[l] <= x[j] - x[i]:\n",
    "            l -= 1\n",
    "        while r < n and x[r] - x[j] < x[j] - x[i]:\n",
    "            r += 1\n",
    "        print(l+1+n-r)\n",
    "        ans += pw[l + 1 + n - r]\n",
    "print(ans % mod)"
   ]
  },
  {
   "cell_type": "code",
   "execution_count": null,
   "metadata": {},
   "outputs": [],
   "source": []
  },
  {
   "cell_type": "markdown",
   "metadata": {},
   "source": [
    "# VISUALIZATION OF AN INTERESTING PROBLEM ON XY PLANE"
   ]
  },
  {
   "cell_type": "code",
   "execution_count": null,
   "metadata": {},
   "outputs": [],
   "source": [
    "import matplotlib.pyplot as plt\n",
    "from typing import *\n",
    "from collections import deque\n",
    "from itertools import product"
   ]
  },
  {
   "cell_type": "code",
   "execution_count": null,
   "metadata": {},
   "outputs": [],
   "source": [
    "def main(n: int, start: Tuple[int, int], rect: List[int]) -> Set[Tuple[int,int]]:\n",
    "    queue = deque([start])\n",
    "    vis = set([start])\n",
    "    def neighbors(x: int, y: int) -> Iterable[Tuple[int,int]]:\n",
    "        for px, py in product(range(rect[0], rect[1] + 1), range(rect[2], rect[3] + 1)):\n",
    "            dx, dy = px - x, py - y\n",
    "            yield px + dx, py + dy\n",
    "    for _ in range(n):\n",
    "        for _ in range(len(queue)):\n",
    "            x, y = queue.popleft()\n",
    "            for nx, ny in neighbors(x, y):\n",
    "                if (nx, ny) not in vis:\n",
    "                    vis.add((nx, ny))\n",
    "                    queue.append((nx, ny))\n",
    "    return vis\n",
    "\n",
    "def plot(coords: Set[Tuple[int,int]]) -> None:\n",
    "    x, y = zip(*coords)\n",
    "    plt.figure(figsize=(40,20))\n",
    "    plt.plot(x, y, 'ko')\n",
    "    plt.grid(True)\n",
    "    plt.xticks(range(min(x), max(x) + 1))\n",
    "    plt.yticks(range(min(y), max(y) + 1))\n",
    "    plt.show()"
   ]
  },
  {
   "cell_type": "code",
   "execution_count": null,
   "metadata": {},
   "outputs": [],
   "source": [
    "coords = main(10, (0,0), [7, 9, 0, 3])\n",
    "plot(coords)"
   ]
  },
  {
   "cell_type": "code",
   "execution_count": null,
   "metadata": {},
   "outputs": [],
   "source": [
    "coords = main(10, (1, 3), [7, 9, 0, 3])\n",
    "plot(coords)"
   ]
  },
  {
   "cell_type": "code",
   "execution_count": null,
   "metadata": {},
   "outputs": [],
   "source": [
    "coords = main(10, (5, 3), [7, 9, 0, 3])\n",
    "plot(coords)"
   ]
  },
  {
   "cell_type": "code",
   "execution_count": null,
   "metadata": {},
   "outputs": [],
   "source": []
  },
  {
   "cell_type": "code",
   "execution_count": 1,
   "metadata": {},
   "outputs": [
    {
     "data": {
      "text/plain": [
       "32"
      ]
     },
     "execution_count": 1,
     "metadata": {},
     "output_type": "execute_result"
    }
   ],
   "source": [
    "59-27"
   ]
  },
  {
   "cell_type": "code",
   "execution_count": 2,
   "metadata": {},
   "outputs": [
    {
     "data": {
      "text/plain": [
       "48"
      ]
     },
     "execution_count": 2,
     "metadata": {},
     "output_type": "execute_result"
    }
   ],
   "source": [
    "81-33"
   ]
  },
  {
   "cell_type": "code",
   "execution_count": 3,
   "metadata": {},
   "outputs": [
    {
     "data": {
      "text/plain": [
       "24"
      ]
     },
     "execution_count": 3,
     "metadata": {},
     "output_type": "execute_result"
    }
   ],
   "source": [
    "33-9"
   ]
  },
  {
   "cell_type": "code",
   "execution_count": 4,
   "metadata": {},
   "outputs": [
    {
     "name": "stdout",
     "output_type": "stream",
     "text": [
      "[9, 27, 33, 59, 81]\n"
     ]
    }
   ],
   "source": [
    "arr = [59,27,9,81,33]\n",
    "arr.sort()\n",
    "print(arr)"
   ]
  },
  {
   "cell_type": "code",
   "execution_count": 5,
   "metadata": {},
   "outputs": [
    {
     "data": {
      "text/plain": [
       "18"
      ]
     },
     "execution_count": 5,
     "metadata": {},
     "output_type": "execute_result"
    }
   ],
   "source": [
    "27-9"
   ]
  },
  {
   "cell_type": "code",
   "execution_count": 6,
   "metadata": {},
   "outputs": [
    {
     "data": {
      "text/plain": [
       "72"
      ]
     },
     "execution_count": 6,
     "metadata": {},
     "output_type": "execute_result"
    }
   ],
   "source": [
    "81-9"
   ]
  },
  {
   "cell_type": "code",
   "execution_count": 7,
   "metadata": {},
   "outputs": [
    {
     "data": {
      "text/plain": [
       "32"
      ]
     },
     "execution_count": 7,
     "metadata": {},
     "output_type": "execute_result"
    }
   ],
   "source": [
    "59-27"
   ]
  },
  {
   "cell_type": "code",
   "execution_count": 8,
   "metadata": {},
   "outputs": [
    {
     "data": {
      "text/plain": [
       "48"
      ]
     },
     "execution_count": 8,
     "metadata": {},
     "output_type": "execute_result"
    }
   ],
   "source": [
    "81-33"
   ]
  },
  {
   "cell_type": "code",
   "execution_count": 9,
   "metadata": {},
   "outputs": [
    {
     "name": "stdout",
     "output_type": "stream",
     "text": [
      "['101', '11', '10']\n"
     ]
    }
   ],
   "source": [
    "arr = [5, 3, 2]\n",
    "ar = list(map(lambda x: bin(x)[2:], arr))\n",
    "print(ar)"
   ]
  },
  {
   "cell_type": "code",
   "execution_count": 10,
   "metadata": {},
   "outputs": [
    {
     "data": {
      "text/plain": [
       "110"
      ]
     },
     "execution_count": 10,
     "metadata": {},
     "output_type": "execute_result"
    }
   ],
   "source": [
    "111\n",
    "110"
   ]
  },
  {
   "cell_type": "code",
   "execution_count": 30,
   "metadata": {},
   "outputs": [
    {
     "name": "stdout",
     "output_type": "stream",
     "text": [
      "11\n"
     ]
    }
   ],
   "source": [
    "n = 10\n",
    "arr = list(range(1, n + 1))\n",
    "from functools import reduce\n",
    "import operator\n",
    "val = reduce(operator.xor, arr)\n",
    "print(val)"
   ]
  },
  {
   "cell_type": "code",
   "execution_count": 23,
   "metadata": {},
   "outputs": [
    {
     "name": "stdout",
     "output_type": "stream",
     "text": [
      "[1, 2, 3, 4, 5, 1, 2, 3, 9, 10]\n",
      "['1', '10', '11', '100', '101', '1', '10', '11', '1001', '1010']\n"
     ]
    }
   ],
   "source": [
    "\n",
    "arr[5] = 1\n",
    "arr[6] = 2\n",
    "arr[7] = 3\n",
    "print(arr)\n",
    "ar = list(map(lambda x: bin(x)[2:], arr))\n",
    "print(ar)"
   ]
  },
  {
   "cell_type": "code",
   "execution_count": 31,
   "metadata": {},
   "outputs": [
    {
     "name": "stdout",
     "output_type": "stream",
     "text": [
      "[1, 2, 3, 4, 5, 6, 7, 8, 9, 10, 11, 12, 13, 14, 15]\n"
     ]
    }
   ],
   "source": [
    "seen = set()\n",
    "for i in range(1, 1 << n):\n",
    "    res = 0\n",
    "    for j in range(n):\n",
    "        if (i>>j)&1:\n",
    "            res |= arr[j]\n",
    "    seen.add(res)\n",
    "print(sorted(list(seen)))"
   ]
  },
  {
   "cell_type": "code",
   "execution_count": 32,
   "metadata": {},
   "outputs": [
    {
     "data": {
      "text/plain": [
       "['1', '10', '11', '100', '101', '1', '10', '11', '1001', '1010']"
      ]
     },
     "execution_count": 32,
     "metadata": {},
     "output_type": "execute_result"
    }
   ],
   "source": [
    "ar"
   ]
  },
  {
   "cell_type": "code",
   "execution_count": null,
   "metadata": {},
   "outputs": [],
   "source": []
  }
 ],
 "metadata": {
  "kernelspec": {
   "display_name": "programming",
   "language": "python",
   "name": "python3"
  },
  "language_info": {
   "codemirror_mode": {
    "name": "ipython",
    "version": 3
   },
   "file_extension": ".py",
   "mimetype": "text/x-python",
   "name": "python",
   "nbconvert_exporter": "python",
   "pygments_lexer": "ipython3",
   "version": "3.10.0"
  },
  "orig_nbformat": 4,
  "vscode": {
   "interpreter": {
    "hash": "05a440cbc0a4d5663111a9b3b9ea59349399813ac6e64ad16052767f7ba4c947"
   }
  }
 },
 "nbformat": 4,
 "nbformat_minor": 2
}
