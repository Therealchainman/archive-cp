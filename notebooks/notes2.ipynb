{
 "cells": [
  {
   "cell_type": "code",
   "execution_count": 10,
   "metadata": {},
   "outputs": [
    {
     "name": "stdout",
     "output_type": "stream",
     "text": [
      "9,699,690\n"
     ]
    }
   ],
   "source": [
    "print(f\"{2*3*5*7*11*13*17*19:,}\")"
   ]
  },
  {
   "cell_type": "code",
   "execution_count": 22,
   "metadata": {},
   "outputs": [
    {
     "name": "stdout",
     "output_type": "stream",
     "text": [
      "i 4\n",
      "start = 5 prev_cost = 0 8\n",
      "i 3\n",
      "start = 5 prev_cost = 0 28\n",
      "start = 4 prev_cost = 8 29\n",
      "i 2\n",
      "start = 5 prev_cost = 0 80\n",
      "start = 4 prev_cost = 8 78\n",
      "start = 3 prev_cost = 28 78\n",
      "i 1\n",
      "start = 5 prev_cost = 0 132\n",
      "start = 4 prev_cost = 8 128\n",
      "start = 3 prev_cost = 28 124\n",
      "start = 2 prev_cost = 78 126\n",
      "i 0\n",
      "start = 5 prev_cost = 0 180\n",
      "start = 4 prev_cost = 8 173\n",
      "start = 3 prev_cost = 28 163\n",
      "start = 2 prev_cost = 78 153\n",
      "start = 1 prev_cost = 124 154\n"
     ]
    }
   ],
   "source": [
    "import math\n",
    "T = [1, 3, 4, 2, 1]\n",
    "F = [3, 2, 3, 3, 4]\n",
    "N = 5\n",
    "S = 1\n",
    "sumT = [0] * (len(T) + 1)\n",
    "sumF = [0] * (len(F) + 1)\n",
    "for i in reversed(range(len(T))):\n",
    "    sumT[i] = sumT[i + 1] + T[i]\n",
    "for i in reversed(range(len(F))):\n",
    "    sumF[i] = sumF[i + 1] + F[i]\n",
    "bag = []\n",
    "class State:\n",
    "    def __init__(self, start, prev_cost):\n",
    "        self.start = start\n",
    "        self.prev_cost = prev_cost\n",
    "    def cost(self, end):\n",
    "        # sumT[self.start] = slope = m, rest is just y-intercept?\n",
    "        return (sumT[end] - sumT[self.start] + S) * sumF[end] + self.prev_cost\n",
    "    def __repr__(self):\n",
    "        return f\"start = {self.start} prev_cost = {self.prev_cost}\"\n",
    "bag.append(State(N, 0))\n",
    "for i in reversed(range(N)):\n",
    "    min_prev_cost = math.inf\n",
    "    print(\"i\", i)\n",
    "    for st in bag:\n",
    "        print(st, st.cost(i))\n",
    "        min_prev_cost = min(min_prev_cost, st.cost(i))\n",
    "    bag.append(State(i, min_prev_cost))\n",
    "    # print(bag[-1])"
   ]
  },
  {
   "cell_type": "code",
   "execution_count": 32,
   "metadata": {},
   "outputs": [
    {
     "name": "stdout",
     "output_type": "stream",
     "text": [
      "i 0\n",
      "start = 0 prev_cost = 0\n",
      "delta 0\n",
      "slope 0 0\n",
      "start = 0 prev_cost = -20\n",
      "i 1\n",
      "start = 0 prev_cost = 0\n",
      "delta 2\n",
      "slope 0 0\n",
      "start = 0 prev_cost = -20\n",
      "delta 2\n",
      "slope 0 -20\n",
      "start = 1 prev_cost = -4\n",
      "i 2\n",
      "start = 0 prev_cost = 0\n",
      "delta 4\n",
      "slope 0 0\n",
      "start = 0 prev_cost = -20\n",
      "delta 4\n",
      "slope 0 -20\n",
      "start = 1 prev_cost = -4\n",
      "delta 2\n",
      "slope 4 -28\n",
      "start = 2 prev_cost = 4\n",
      "i 3\n",
      "start = 0 prev_cost = 0\n",
      "delta 7\n",
      "slope 0 0\n",
      "start = 0 prev_cost = -20\n",
      "delta 7\n",
      "slope 0 -20\n",
      "start = 1 prev_cost = -4\n",
      "delta 5\n",
      "slope 4 -28\n",
      "start = 2 prev_cost = 4\n",
      "delta 3\n",
      "slope 8 -52\n",
      "start = 3 prev_cost = 5\n",
      "i 4\n",
      "start = 0 prev_cost = 0\n",
      "delta 11\n",
      "slope 0 0\n",
      "start = 0 prev_cost = -20\n",
      "delta 11\n",
      "slope 0 -20\n",
      "start = 1 prev_cost = -4\n",
      "delta 9\n",
      "slope 4 -28\n",
      "start = 2 prev_cost = 4\n",
      "delta 7\n",
      "slope 8 -52\n",
      "start = 3 prev_cost = 5\n",
      "delta 4\n",
      "slope 14 -114\n",
      "start = 4 prev_cost = 9\n"
     ]
    }
   ],
   "source": [
    "import math\n",
    "X = [2, 2, 3, 4]\n",
    "N = 4\n",
    "a, b, c = -1, 10, -20\n",
    "psum = [0] * (N + 1)\n",
    "for i in range(N):\n",
    "    psum[i + 1] = psum[i] + X[i]\n",
    "bag = []\n",
    "class State:\n",
    "    def __init__(self, start, prev_cost):\n",
    "        self.start = start\n",
    "        self.prev_cost = prev_cost\n",
    "    def cost(self, end):\n",
    "        delta = psum[end] - psum[self.start]\n",
    "        print(\"delta\", delta)\n",
    "        m = -2 * a * psum[self.start]\n",
    "        y_inter = self.prev_cost + a * psum[self.start] ** 2 - b * psum[self.start]\n",
    "        print(\"slope\", m, y_inter)\n",
    "        return delta * delta * a + delta * b + c + self.prev_cost\n",
    "    def __repr__(self):\n",
    "        return f\"start = {self.start} prev_cost = {self.prev_cost}\"\n",
    "bag.append(State(0, 0))\n",
    "for i in range(N + 1):\n",
    "    min_prev_cost = -math.inf\n",
    "    print(\"i\", i)\n",
    "    for st in bag:\n",
    "        print(st)\n",
    "        min_prev_cost = max(min_prev_cost, st.cost(i))\n",
    "    bag.append(State(i, min_prev_cost))\n",
    "    print(bag[-1])"
   ]
  },
  {
   "cell_type": "code",
   "execution_count": 34,
   "metadata": {},
   "outputs": [
    {
     "data": {
      "text/plain": [
       "1"
      ]
     },
     "execution_count": 34,
     "metadata": {},
     "output_type": "execute_result"
    }
   ],
   "source": [
    "def f(x):\n",
    "    return -1 * x * x + 10 * x - 20\n",
    "\n",
    "f(3)"
   ]
  }
 ],
 "metadata": {
  "kernelspec": {
   "display_name": "programming",
   "language": "python",
   "name": "python3"
  },
  "language_info": {
   "codemirror_mode": {
    "name": "ipython",
    "version": 3
   },
   "file_extension": ".py",
   "mimetype": "text/x-python",
   "name": "python",
   "nbconvert_exporter": "python",
   "pygments_lexer": "ipython3",
   "version": "3.11.3"
  }
 },
 "nbformat": 4,
 "nbformat_minor": 2
}
