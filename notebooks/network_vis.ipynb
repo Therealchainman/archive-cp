{
 "cells": [
  {
   "cell_type": "markdown",
   "metadata": {},
   "source": [
    "# MPM ALGORITHM FOR MAX FLOW"
   ]
  },
  {
   "cell_type": "markdown",
   "metadata": {},
   "source": [
    "# IMPORTS"
   ]
  },
  {
   "cell_type": "code",
   "execution_count": null,
   "metadata": {},
   "outputs": [],
   "source": [
    "import networkx as nx\n",
    "import random\n",
    "from pyvis.network import Network"
   ]
  },
  {
   "cell_type": "code",
   "execution_count": null,
   "metadata": {},
   "outputs": [],
   "source": [
    "G = nx.DiGraph()"
   ]
  },
  {
   "cell_type": "code",
   "execution_count": null,
   "metadata": {},
   "outputs": [],
   "source": [
    "c = {}\n",
    "for e in sorted(G.edges(data = True)):\n",
    "    capacity = random.randint(1, 20)\n",
    "    e[2]['capacity'] = capacity\n",
    "    c[(e[0], e[1])] = capacity"
   ]
  },
  {
   "cell_type": "code",
   "execution_count": null,
   "metadata": {},
   "outputs": [],
   "source": [
    "net = Network(notebook = True)\n",
    "net.from_nx(G)\n",
    "net.show('example.html')\n",
    "print('done')"
   ]
  },
  {
   "cell_type": "code",
   "execution_count": null,
   "metadata": {},
   "outputs": [],
   "source": [
    "print(G.nodes)"
   ]
  },
  {
   "cell_type": "code",
   "execution_count": null,
   "metadata": {},
   "outputs": [],
   "source": [
    "# can I add nodes with like associated variables\n",
    "G.add_node(0, attr_dict = {'pin': 0, 'pout': 0, 'in': [], 'out': []})\n",
    "G.add_node(1, attr_dict = {'pin': 0, 'pout': 0, 'in': [], 'out': []})\n",
    "G.add_node(2, attr_dict = {'pin': 0, 'pout': 0, 'in': [], 'out': []})\n",
    "G.add_node(3, attr_dict = {'pin': 0, 'pout': 0, 'in': [], 'out': []})\n",
    "G.add_node(4, attr_dict = {'pin': 0, 'pout': 0, 'in': [], 'out': []})\n",
    "G.add_node(5, attr_dict = {'pin': 0, 'pout': 0, 'in': [], 'out': []})"
   ]
  },
  {
   "cell_type": "code",
   "execution_count": null,
   "metadata": {},
   "outputs": [],
   "source": [
    "print(G.nodes)"
   ]
  },
  {
   "cell_type": "code",
   "execution_count": null,
   "metadata": {},
   "outputs": [],
   "source": [
    "print(G.nodes.data())"
   ]
  },
  {
   "cell_type": "code",
   "execution_count": null,
   "metadata": {},
   "outputs": [],
   "source": [
    "G.add_edge(0, 1, attr_dict = {'capacity': 5, 'flow': 0})\n",
    "G.nodes.get(0)['attr_dict']['out'].append(1)\n",
    "G.nodes.get(1)['attr_dict']['in'].append(0)\n",
    "G.nodes.get(0)['attr_dict']['pout'] += 5\n",
    "G.nodes.get(1)['attr_dict']['pin'] += 5\n",
    "G.add_edge(1, 2, attr_dict = {'capacity': 4, 'flow': 0})\n",
    "G.nodes.get(1)['attr_dict']['out'].append(2)\n",
    "G.nodes.get(2)['attr_dict']['in'].append(1)\n",
    "G.nodes.get(1)['attr_dict']['pout'] += 4\n",
    "G.nodes.get(2)['attr_dict']['pin'] += 4\n",
    "G.add_edge(2, 3, attr_dict = {'capacity': 3, 'flow': 0})\n",
    "G.nodes.get(2)['attr_dict']['out'].append(3)\n",
    "G.nodes.get(3)['attr_dict']['in'].append(2)\n",
    "G.nodes.get(2)['attr_dict']['pout'] += 3\n",
    "G.nodes.get(3)['attr_dict']['pin'] += 3\n",
    "G.add_edge(3, 4, attr_dict = {'capacity': 5, 'flow': 0})\n",
    "G.nodes.get(3)['attr_dict']['out'].append(4)\n",
    "G.nodes.get(4)['attr_dict']['in'].append(3)\n",
    "G.nodes.get(3)['attr_dict']['pout'] += 5\n",
    "G.nodes.get(4)['attr_dict']['pin'] += 5\n",
    "G.add_edge(4, 5, attr_dict = {'capacity': 10, 'flow': 0})\n",
    "G.nodes.get(4)['attr_dict']['out'].append(5)\n",
    "G.nodes.get(5)['attr_dict']['in'].append(4)\n",
    "G.nodes.get(4)['attr_dict']['pout'] += 10\n",
    "G.nodes.get(5)['attr_dict']['pin'] += 10"
   ]
  },
  {
   "cell_type": "code",
   "execution_count": null,
   "metadata": {},
   "outputs": [],
   "source": [
    "print(G.nodes.data())"
   ]
  },
  {
   "cell_type": "code",
   "execution_count": null,
   "metadata": {},
   "outputs": [],
   "source": [
    "print(G.edges.data())"
   ]
  },
  {
   "cell_type": "code",
   "execution_count": null,
   "metadata": {},
   "outputs": [],
   "source": [
    "net = Network(notebook = True, directed = True)\n",
    "net.from_nx(G)\n",
    "net.show('iteration_0.html')\n",
    "print('done')"
   ]
  },
  {
   "cell_type": "code",
   "execution_count": null,
   "metadata": {},
   "outputs": [],
   "source": [
    "# add attr_dict to show in pyvis network\n",
    "display(HTML('iteration_0.html'))"
   ]
  },
  {
   "cell_type": "code",
   "execution_count": null,
   "metadata": {},
   "outputs": [],
   "source": [
    "print(net)"
   ]
  },
  {
   "cell_type": "code",
   "execution_count": 122,
   "metadata": {},
   "outputs": [
    {
     "name": "stdout",
     "output_type": "stream",
     "text": [
      "Local cdn resources have problems on chrome/safari when used in jupyter-notebook. \n"
     ]
    }
   ],
   "source": [
    "# strategy 2, build the pyvis network from scratch instead of converting networkx graph to pyvis network\n",
    "net = Network('1024px', '2048px', notebook = True, directed = True)\n",
    "net.add_node(0, title = '0', size = 10)\n",
    "net.add_node(1, title = '1', size = 10)\n",
    "net.add_node(2, title = '2', size = 10)\n",
    "net.add_node(3, title = '3', size = 10)\n",
    "net.add_node(4, title = '4', size = 10)\n",
    "net.add_node(5, title = '5', size = 10)\n",
    "nodes_data = {i: {'pin': 0, 'pout': 0, 'in': [], 'out': []} for i in range(len(net.nodes))}\n",
    "for i, node in enumerate(net.nodes):\n",
    "    net.nodes[i]['label'] = '\\n'.join(f'{key}: {value}' for key, value in nodes_data[i].items())\n",
    "capacities = [5, 4, 3, 5, 10]\n",
    "net.add_edge(0, 1)\n",
    "net.add_edge(1, 2)\n",
    "net.add_edge(2, 3)\n",
    "net.add_edge(3, 4)\n",
    "net.add_edge(4, 5)\n",
    "edges_data = {i: {'flow': 0, 'capacity': capacities[i]} for i in range(len(net.edges))}\n",
    "for i, edge in enumerate(net.edges):\n",
    "    net.edges[i]['label'] = '/\\n'.join(f'{key}: {value}' for key, value in edges_data[i].items())\n",
    "net.toggle_physics(True)"
   ]
  },
  {
   "cell_type": "code",
   "execution_count": 123,
   "metadata": {},
   "outputs": [
    {
     "name": "stdout",
     "output_type": "stream",
     "text": [
      "done\n"
     ]
    }
   ],
   "source": [
    "net.show('iteration_0.html')\n",
    "print('done')"
   ]
  },
  {
   "cell_type": "code",
   "execution_count": 86,
   "metadata": {},
   "outputs": [
    {
     "data": {
      "text/plain": [
       "[{'from': 0, 'to': 1, 'arrows': 'to'},\n",
       " {'from': 1, 'to': 2, 'arrows': 'to'},\n",
       " {'from': 2, 'to': 3, 'arrows': 'to'},\n",
       " {'from': 3, 'to': 4, 'arrows': 'to'},\n",
       " {'from': 4, 'to': 5, 'arrows': 'to'}]"
      ]
     },
     "execution_count": 86,
     "metadata": {},
     "output_type": "execute_result"
    }
   ],
   "source": [
    "net.edges"
   ]
  },
  {
   "cell_type": "code",
   "execution_count": null,
   "metadata": {},
   "outputs": [],
   "source": [
    "print(net)"
   ]
  },
  {
   "cell_type": "code",
   "execution_count": null,
   "metadata": {},
   "outputs": [],
   "source": []
  }
 ],
 "metadata": {
  "kernelspec": {
   "display_name": "programming",
   "language": "python",
   "name": "python3"
  },
  "language_info": {
   "codemirror_mode": {
    "name": "ipython",
    "version": 3
   },
   "file_extension": ".py",
   "mimetype": "text/x-python",
   "name": "python",
   "nbconvert_exporter": "python",
   "pygments_lexer": "ipython3",
   "version": "3.10.0 (default, Nov 10 2021, 19:16:14) [GCC 7.5.0]"
  },
  "orig_nbformat": 4,
  "vscode": {
   "interpreter": {
    "hash": "05a440cbc0a4d5663111a9b3b9ea59349399813ac6e64ad16052767f7ba4c947"
   }
  }
 },
 "nbformat": 4,
 "nbformat_minor": 2
}
