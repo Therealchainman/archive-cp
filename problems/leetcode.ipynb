{
 "cells": [
  {
   "cell_type": "markdown",
   "id": "66950de8-632c-4e76-bf8c-9c39d7e89a75",
   "metadata": {},
   "source": [
    "# Leetcode"
   ]
  },
  {
   "cell_type": "code",
   "execution_count": 6,
   "id": "e048ff2d-4fe8-4d41-9f8a-65981ed57e9c",
   "metadata": {},
   "outputs": [],
   "source": [
    "numSlots = 9"
   ]
  },
  {
   "cell_type": "code",
   "execution_count": 7,
   "id": "9cbbefb0-ea41-4d48-94bf-e9c389181c0b",
   "metadata": {},
   "outputs": [
    {
     "data": {
      "text/plain": [
       "512"
      ]
     },
     "execution_count": 7,
     "metadata": {},
     "output_type": "execute_result"
    }
   ],
   "source": [
    "2**numSlots"
   ]
  },
  {
   "cell_type": "code",
   "execution_count": 8,
   "id": "02afc21f-bfa5-4ec9-ab1b-8a2a66fec00f",
   "metadata": {},
   "outputs": [],
   "source": [
    "n = 18"
   ]
  },
  {
   "cell_type": "code",
   "execution_count": 9,
   "id": "89e607bf-4f8e-44e1-a7bd-24ecd62d378a",
   "metadata": {},
   "outputs": [
    {
     "data": {
      "text/plain": [
       "162"
      ]
     },
     "execution_count": 9,
     "metadata": {},
     "output_type": "execute_result"
    }
   ],
   "source": [
    "9*18"
   ]
  },
  {
   "cell_type": "code",
   "execution_count": 10,
   "id": "38851fe3-9d85-4fe4-b5d8-cd489c43f55c",
   "metadata": {},
   "outputs": [],
   "source": [
    "n = 17*(17+1)//2"
   ]
  },
  {
   "cell_type": "code",
   "execution_count": 11,
   "id": "bb703078-669a-43fe-ae61-35bfb1252629",
   "metadata": {},
   "outputs": [
    {
     "data": {
      "text/plain": [
       "153"
      ]
     },
     "execution_count": 11,
     "metadata": {},
     "output_type": "execute_result"
    }
   ],
   "source": [
    "n"
   ]
  },
  {
   "cell_type": "code",
   "execution_count": 12,
   "id": "6e67077f-6e49-45a4-ad63-465a3e0c881c",
   "metadata": {},
   "outputs": [
    {
     "data": {
      "text/plain": [
       "172"
      ]
     },
     "execution_count": 12,
     "metadata": {},
     "output_type": "execute_result"
    }
   ],
   "source": [
    "153+18+1"
   ]
  },
  {
   "cell_type": "code",
   "execution_count": 13,
   "id": "6933b63f-51f7-43a6-89d1-41d3d4750a88",
   "metadata": {},
   "outputs": [],
   "source": [
    "states = 172 "
   ]
  },
  {
   "cell_type": "code",
   "execution_count": 40,
   "id": "dcfe30cf-0b07-4b89-bd4f-4b530709d4b0",
   "metadata": {},
   "outputs": [],
   "source": [
    "\"\"\"\n",
    "The states for each slots\n",
    "\"\"\"\n",
    "\n",
    "512*172\n",
    "from collections import defaultdict\n",
    "import math\n",
    "from functools import cache"
   ]
  },
  {
   "cell_type": "code",
   "execution_count": 75,
   "id": "18f84a7a-26d7-432f-a91a-e6d042546af0",
   "metadata": {},
   "outputs": [],
   "source": [
    "def maximumANDSum(nums, numSlots):\n",
    "    states = defaultdict(list)\n",
    "    n = len(nums)\n",
    "    for slot in range(1,numSlots+1):\n",
    "        mask = 0\n",
    "        sum_ = 0\n",
    "        states[slot].append((mask,sum_))\n",
    "        for i in range(n):\n",
    "            sum_ += (slot&nums[i])\n",
    "            mask|=(1<<i)\n",
    "            states[slot].append((mask,sum_))\n",
    "            for j in range(i+1,n):\n",
    "                sum_ += (slot&nums[j])\n",
    "                mask|=(1<<j)\n",
    "                states[slot].append((mask,sum_))\n",
    "                sum_ -= (slot&nums[j])\n",
    "                mask^=(1<<j)\n",
    "            sum_ -= (slot&nums[i])\n",
    "            mask^=(1<<i)\n",
    "    for slot in range(1,numSlots+1):\n",
    "        states[slot].sort(key=lambda p: -p[1])\n",
    "    print(states)\n",
    "    @cache\n",
    "    def dfs(slot,mask, found):\n",
    "        if mask==0: \n",
    "            return 0\n",
    "        if slot>numSlots: return -math.inf\n",
    "        best = -math.inf\n",
    "        for nmask, nsum in states[slot]:\n",
    "            if (nmask&mask)==nmask:\n",
    "                best = max(best, dfs(slot+1, mask^nmask, mask^nmask==0) + nsum)\n",
    "            if found: return best\n",
    "        return best\n",
    "                \n",
    "    return dfs(1,(1<<n)-1, False)\n",
    "    "
   ]
  },
  {
   "cell_type": "code",
   "execution_count": 76,
   "id": "907ae44d-abfa-4c2f-8f6a-ae974f84d79b",
   "metadata": {},
   "outputs": [
    {
     "name": "stdout",
     "output_type": "stream",
     "text": [
      "defaultdict(<class 'list'>, {1: [(5, 2), (17, 2), (20, 2), (1, 1), (3, 1), (9, 1), (33, 1), (6, 1), (18, 1), (4, 1), (12, 1), (36, 1), (24, 1), (16, 1), (48, 1), (0, 0), (2, 0), (10, 0), (34, 0), (8, 0), (40, 0), (32, 0)], 2: [(6, 4), (34, 4), (36, 4), (3, 2), (5, 2), (33, 2), (2, 2), (10, 2), (18, 2), (4, 2), (12, 2), (20, 2), (40, 2), (48, 2), (32, 2), (0, 0), (1, 0), (9, 0), (17, 0), (8, 0), (24, 0), (16, 0)], 3: [(6, 5), (36, 5), (5, 4), (34, 4), (20, 4), (3, 3), (33, 3), (18, 3), (4, 3), (12, 3), (48, 3), (17, 2), (2, 2), (10, 2), (40, 2), (32, 2), (1, 1), (9, 1), (24, 1), (16, 1), (0, 0), (8, 0)]})\n",
      "CPU times: total: 15.6 ms\n",
      "Wall time: 3.28 ms\n"
     ]
    },
    {
     "data": {
      "text/plain": [
       "9"
      ]
     },
     "execution_count": 76,
     "metadata": {},
     "output_type": "execute_result"
    }
   ],
   "source": [
    "%%time\n",
    "maximumANDSum([1,2,3,4,5,6],3)"
   ]
  },
  {
   "cell_type": "code",
   "execution_count": 44,
   "id": "7dc735a6-8081-4775-85a2-9b227927f543",
   "metadata": {},
   "outputs": [
    {
     "data": {
      "text/plain": [
       "2359296"
      ]
     },
     "execution_count": 44,
     "metadata": {},
     "output_type": "execute_result"
    }
   ],
   "source": [
    "2**18*9"
   ]
  },
  {
   "cell_type": "code",
   "execution_count": 77,
   "id": "1d5ca7a4-4da0-4b11-8840-80eb07b909cb",
   "metadata": {},
   "outputs": [
    {
     "data": {
      "text/plain": [
       "225"
      ]
     },
     "execution_count": 77,
     "metadata": {},
     "output_type": "execute_result"
    }
   ],
   "source": [
    "15*15"
   ]
  },
  {
   "cell_type": "code",
   "execution_count": 85,
   "id": "b15d1525-172f-4a72-9425-02e42c9df5b0",
   "metadata": {},
   "outputs": [
    {
     "name": "stdin",
     "output_type": "stream",
     "text": [
      " 1\n",
      " 5 10\n",
      " 5 5 5 5 5\n"
     ]
    },
    {
     "name": "stdout",
     "output_type": "stream",
     "text": [
      "Case #1: 5\n"
     ]
    }
   ],
   "source": [
    "T = int(input())\n",
    "for t in range(1,T+1):\n",
    "    N, M = list(map(int,input().split()))\n",
    "    sum_ = sum(num for num in map(int,input().split()))\n",
    "    res = sum_-(sum_//M)*M\n",
    "    print(f\"Case #{t}: {res}\")"
   ]
  },
  {
   "cell_type": "code",
   "execution_count": null,
   "id": "650e3666-c562-4e88-9dd3-beb4776d4daf",
   "metadata": {},
   "outputs": [],
   "source": [
    "\n",
    "['A', 'E', 'I', 'O', 'U', 'a', 'e', 'i', 'o', 'u']"
   ]
  }
 ],
 "metadata": {
  "kernelspec": {
   "display_name": "Python 3 (ipykernel)",
   "language": "python",
   "name": "python3"
  },
  "language_info": {
   "codemirror_mode": {
    "name": "ipython",
    "version": 3
   },
   "file_extension": ".py",
   "mimetype": "text/x-python",
   "name": "python",
   "nbconvert_exporter": "python",
   "pygments_lexer": "ipython3",
   "version": "3.10.2"
  }
 },
 "nbformat": 4,
 "nbformat_minor": 5
}
