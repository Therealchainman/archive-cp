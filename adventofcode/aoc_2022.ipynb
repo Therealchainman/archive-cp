{
 "cells": [
  {
   "cell_type": "code",
   "execution_count": null,
   "id": "e9c02108-e432-4b1a-b581-7524d4d954c4",
   "metadata": {},
   "outputs": [],
   "source": [
    "with open(\"input.txt\", 'r') as f:\n",
    "    data = f.read()\n",
    "    rocks = [[['#','#','#','#']], [['.','#','.'],['#','#','#'],['.','#','.']], [['.','.','#'],['.','.','#'],['#','#','#']], [['#'],['#'],['#'],['#']], [['#','#'],['#','#']]]\n",
    "    width = 8\n",
    "    index = 0\n",
    "    n = len(data)\n",
    "    # total = 1000000000000\n",
    "    total = 100000\n",
    "    height = 0\n",
    "    heights = [0]\n",
    "    diffs = []\n",
    "    done = set()\n",
    "    for k in range(total):\n",
    "        rock = rocks[k%len(rocks)]\n",
    "        coords = []\n",
    "        R, C = len(rock), len(rock[0])\n",
    "        for r in range(R):\n",
    "            for c in range(C):\n",
    "                if rock[~r][c] == '#':\n",
    "                    coords.append((r + height + 4, c + 3))\n",
    "        while True:\n",
    "            blow = data[index]\n",
    "            if blow == '>':\n",
    "                if not any(c == width-1 or (r, c+1) in done for r, c in coords): \n",
    "                    for i in range(len(coords)):\n",
    "                        r, c = coords[i]\n",
    "                        coords[i] = (r, c+1) # shift right by 1\n",
    "            else:\n",
    "                if not any(c == 1 or (r, c-1) in done for r, c in coords): \n",
    "                    for i in range(len(coords)):\n",
    "                        r, c = coords[i]\n",
    "                        coords[i] = (r, c-1) # shift left by 1\n",
    "            index = (index + 1) % n\n",
    "            if any(r == 1 or (r-1, c) in done for r, c in coords): break # stopped reach ground or another rock\n",
    "            for i in range(len(coords)):\n",
    "                r, c = coords[i]\n",
    "                coords[i] = (r-1, c) # shift down by 1\n",
    "\n",
    "        height = max([height] + [r for r, c in coords])\n",
    "        heights.append(height)\n",
    "        diffs.append(heights[-1] - heights[-2])\n",
    "        done.update(coords)"
   ]
  },
  {
   "cell_type": "code",
   "execution_count": null,
   "id": "e1d5c7ea-0aa2-4334-9343-163d363c937d",
   "metadata": {},
   "outputs": [],
   "source": [
    "len(heights), len(diffs)"
   ]
  },
  {
   "cell_type": "code",
   "execution_count": null,
   "id": "b3c6500b-1c08-4982-861b-ec88077e1134",
   "metadata": {},
   "outputs": [],
   "source": [
    "start = [1,3,2,0,0,1,3,3,2,0,1,3,3,0,2,1,3,2,0,1,1,2,2,2,0,0,3,0,3,0,1,2,1,2,0,0,2,0,2,0,1,3,3,0,2,1,3,0,0,2,1,3,0,2,0,1,3,3,0,2,1,2,3,0,2,1,3,3,4,0,1,3,3,0,0,1,3,2,4,0,1,2,3,2,2,1,3,0,3,2,1,3,3,2,2,1,2,3,2,2,1,2,1,2,0,1,2,1,2,0,1,0,3,1,2,1,3,2,2,0,1,3,2,0,0,0,2,3,2,0,1,3,2,4,2,0,0,0,0,2,1,3,0,4,2,0,3,3,0,2,1,3,3,2,0,1,3,2,4,0,0,2,3,0,0,0,0,3,2,2,1,3,3,0,0,1,3,2,2,0,1,3,0,2,0,1,3,3,4,0,1,3,2,4,2,1,3,2,2,0,1,2,2,0,0,1,3,0,2,2,1,2,3,2,2,1,3,2,2,0,1,3,2,4,2,0,2,3,0,2,1,3,3,2,2,1,3,3,0,0,1,2,2,2,2,1,3,3,2,2,1,3,2,1,1,1,3,3,2,0,1,2,2,2,2,1,2,3,0,1,0,3,3,0,0,1,3,2,2,0,0,2,3,0,0,1,3,3,4,2,0,0,3,2,0,1,3,2,4,0,1,3,2,0,0,1,3,0,3,0,0,1,2,2,2,0,0,1,3,0,0,3,3,0,0,1,0,3,4,2,1,2,3,0,0,1,2,1,2,2,1,3,3,0,0,1,3,2,0,0,1,3,2,2,2,1,3,2,0,0,0,3,3,0,0,0,2,2,0,2,1,2,1,4,0,0,2,2,1,0,1,3,3,0,2,1,2,3,2,0,1,3,2,4,2,1,2,3,0,0,1,3,3,4,0,1,3,3,2,0,1,3,3,2,2,1,0,3,1,0,1,3,3,0,2,1,3,3,0,2,1,0,3,1,1,1,0,3,2,2,1,0,0,0,2,1,3,3,0,0,1,3,2,2,2,1,3,3,2,0,0,2,2,2,2,0,0,3,1,1,1,3,2,0,0,1,3,3,2,0,1,3,3,0,0,1,3,2,0,0,0,2,1,2,2,1,2,1,4,0,1,3,0,2,2,1,0,3,0,0,1,3,3,0,2,1,2,1,0,1,1,3,0,0,2,1,2,2,2,2,1,3,2,0,0,0,3,0,3,0,1,2,1,3,0,0,1,2,1,1,1,1,3,0,0,1,3,3,0,2,1,3,3,4,0,0,2,0,3,0,0,2,2,0,0,0,2,2,2,0,1,3,3,0,0,1,2,3,0,0,1,3,3,0,0,1,3,3,2,2,1,3,3,2,0,1,3,3,0,0,1,3,3,0,0,1,3,3,2,2,1,3,3,0,2,1,3,3,2,0,0,0,3,2,2,1,3,2,0,0,1,3,0,3,2,1,3,3,0,0,1,2,1,3,0,0,1,3,0,0,1,3,2,4,0,1,2,3,4,0,1,3,3,0,0,1,3,3,2,0,1,2,3,0,1,0,1,2,1,1,0,2,2,2,2,1,3,2,2,0,0,2,3,2,0,1,3,0,0,2,1,2,1,3,2,1,3,0,3,2,1,3,2,1,1,1,2,2,2,2,1,2,3,0,0,1,2,2,4,0,0,2,3,0,2,1,2,2,2,2,1,3,3,0,0,1,3,3,0,2,1,3,2,0,0,1,2,3,4,2,1,3,3,4,0,1,3,0,3,0,0,0,3,0,2,1,3,0,1,2,1,3,3,0,0,1,3,3,2,2,1,3,3,0,0,1,3,3,4,0,1,3,3,0,0,1,3,2,0,2,1,3,0,4,2,0,0,3,0,0,0,2,2,2,0,1,3,2,0,0,1,3,0,4,2,1,0,0,4,0,0,0,0,4,0,1,3,3,4,0,1,3,3,4,0,1,3,0,3,0,0,3,2,1,0,1,3,3,2,2,1,2,1,2,0,1,2,3,0,2,0,2,3,2,0,1,3,3,2,0,1,3,2,0,0,1,3,0,4,0,0,2,1,3,0,1,3,3,2,0,1,3,3,2,2,1,3,2,0,0,0,2,2,2,0,1,3,0,1,1,1,2,3,2,2,1,3,3,4,0,1,3,3,0,0,1,3,2,2,2,1,3,2,1,0,1,1,2,2,0,1,3,2,0,2,1,3,3,2,2,1,3,3,2,2,1,3,0,3,0,0,2,2,1,0,1,3,3,4,2,1,2,3,0,2,1,3,3,2,0,1,3,2,2,0,1,2,1,2,0,0,2,2,2,0,1,3,2,2,0,1,2,2,1,1,1,3,3,2,2,1,3,3,4,0,1,2,2,2,0,1,3,3,2,0,1,3,3,4,0,1,3,3,2,0,1,2,2,2,2,1,3,3,0,0,1,2,3,0,2,1,2,1,2,2,1,3,3,4,0,0,0,3,0,2,1,3,2,1,1,1,2,3,2,0,1,3,2,0,0,1,3,3,4,0,1,3,3,2,0,1,2,1,2,2,0,2,2,2,2,1,3,0,2,2,1,3,3,0,2,1,3,2,2,0,1,3,3,0,0,1,3,3,0,0,1,3,2,0,0,1,3,3,4,0,1,2,1,1,0,1,3,3,2,2,1,3,0,0,2,1,3,0,4,2,1,3,2,2,2,0,2,2,2,0,1,3,3,2,0,1,2,1,2,0,1,2,2,2,0,1,3,2,2,0,0,2,2,2,0,0,2,0,3,2,0,0,2,4,0,1,3,2,0,0,1,3,3,0,2,1,3,0,2,2,1,0,3,4,0,0,0,3,0,2,0,2,3,2,2,1,3,2,0,0,1,3,3,0,0,1,3,3,0,0,1,2,1,2,2,1,2,3,0,2,1,3,3,4,0,1,3,2,0,0,1,3,0,2,0,1,2,1,2,2,1,3,0,4,0,0,3,3,0,0,1,3,3,2,2,1,3,3,2,0,1,2,2,1,1,0,3,3,4,0,1,3,3,4,2,1,3,3,2,0,1,3,2,0,0,1,0,3,4,0,0,3,3,2,0,1,3,3,4,0,1,3,0,2,0,1,3,3,0,0,1,2,3,0,0,1,3,3,0,2,1,0,0,0,2,1,2,2,4,0,1,3,2,2,0]\n",
    "len_start = len(start)"
   ]
  },
  {
   "cell_type": "code",
   "execution_count": null,
   "id": "e0c5bfc1-9b53-4b90-b944-0de5369f6c21",
   "metadata": {},
   "outputs": [],
   "source": [
    "h += sum(start)\n"
   ]
  },
  {
   "cell_type": "code",
   "execution_count": null,
   "id": "71a972b6-8a13-463f-b6bf-7e805a2bc352",
   "metadata": {},
   "outputs": [],
   "source": [
    "sum(start)"
   ]
  },
  {
   "cell_type": "code",
   "execution_count": null,
   "id": "88b295be-3dbc-4973-93ea-bdb717e7c676",
   "metadata": {},
   "outputs": [],
   "source": [
    "pat = [0,2,2,2,2,1,2,3,2,0,1,3,3,2,0,0,2,3,0,2,1,3,3,0,0,0,2,3,2,0,1,3,3,2,0,1,3,3,2,2,1,3,2,2,2,0,2,3,2,0,0,2,3,0,0,0,2,2,2,2,1,3,2,1,0,0,3,0,4,0,1,3,3,4,2,1,2,3,2,0,1,2,2,2,2,1,2,1,3,0,1,2,3,2,2,1,2,2,0,2,0,0,3,2,2,1,3,0,3,0,0,2,1,0,0,1,3,3,2,2,1,3,3,2,0,1,3,2,2,0,1,3,2,2,0,1,2,1,2,0,1,2,3,0,0,1,3,2,0,0,1,2,2,2,0,1,3,0,1,2,1,2,2,2,2,1,0,3,0,2,1,3,0,3,2,0,3,0,0,0,0,3,0,1,1,1,3,3,0,2,0,2,2,4,0,1,2,3,0,0,1,3,3,0,0,1,3,3,2,0,1,3,0,2,0,1,3,2,1,2,1,3,3,2,0,0,2,2,2,2,1,2,3,0,1,1,3,3,2,2,1,3,3,2,2,1,3,3,4,0,1,2,2,0,0,1,2,3,4,0,1,3,2,0,0,1,2,1,2,0,1,3,0,3,0,0,2,0,2,0,1,2,3,0,0,1,3,3,0,0,0,0,3,2,2,1,3,2,0,0,1,3,0,0,2,1,3,3,0,0,1,3,3,2,2,1,3,3,0,0,1,3,3,2,2,1,3,3,2,2,0,0,3,2,0,1,3,0,3,0,1,3,3,0,0,1,3,3,4,0,0,2,2,2,2,1,3,3,0,0,1,3,0,2,0,1,3,2,2,0,1,3,2,0,2,1,2,2,2,0,0,2,2,2,2,1,3,3,2,2,1,2,2,0,2,0,3,2,2,2,0,2,2,1,2,1,2,3,2,0,1,2,3,4,2,1,2,1,2,2,1,3,3,2,0,1,2,3,2,0,1,3,0,3,0,0,2,3,2,2,1,3,0,2,0,1,2,3,0,0,1,0,3,0,2,1,3,3,0,2,0,0,3,1,2,0,3,0,0,2,1,3,3,0,0,1,3,2,2,0,1,3,2,0,0,0,3,0,1,2,1,3,2,0,0,1,2,1,1,1,1,3,3,0,0,1,3,2,2,0,1,2,1,2,0,1,2,1,2,0,1,2,1,0,2,1,3,2,0,0,1,3,2,0,0,0,2,1,2,0,1,2,2,0,0,1,3,2,2,0,1,3,0,0,2,1,3,3,0,2,1,3,0,0,2,1,0,3,1,0,0,3,2,4,0,1,3,3,0,0,1,3,2,4,2,1,3,3,2,2,1,2,3,0,0,1,3,2,2,0,1,3,2,1,0,1,3,2,0,2,1,2,3,0,1,1,3,3,0,2,1,3,2,4,0,0,2,2,2,0,1,2,3,0,2,1,3,3,4,2,1,3,3,2,0,1,3,2,2,2,1,2,3,2,0,1,3,3,4,0,1,3,2,2,2,1,3,3,0,0,1,2,3,4,0,1,3,2,0,0,1,2,1,2,0,1,2,2,2,0,1,3,2,2,0,1,3,3,2,0,0,2,3,2,2,1,3,3,2,0,1,3,0,4,0,1,3,2,1,0,0,3,0,1,1,0,3,0,4,2,1,2,1,2,0,1,3,2,4,2,1,3,2,2,0,0,2,3,2,2,1,3,3,0,0,1,2,2,2,0,1,2,2,2,0,0,2,3,0,0,1,2,3,0,1,1,0,3,2,0,1,0,3,4,2,0,2,2,4,2,1,0,0,4,0,0,0,3,0,2,1,3,3,0,0,1,2,1,2,0,0,3,3,4,0,1,3,3,2,0,1,3,2,0,2,1,3,2,0,0,0,3,2,2,0,1,3,2,2,0,1,2,3,0,2,0,2,3,0,0,1,3,3,0,0,1,3,3,4,2,1,3,0,2,2,1,0,3,1,0,1,3,3,2,2,1,2,2,4,0,1,3,3,4,0,1,3,2,2,2,1,3,3,2,0,1,3,3,0,0,1,2,1,2,0,1,3,2,2,0,0,2,3,2,2,1,3,3,0,2,1,2,3,0,2,1,2,3,0,2,1,3,2,0,0,1,3,3,0,0,1,2,1,2,2,1,3,0,1,1,0,3,2,1,0,1,3,3,0,0,1,3,2,4,0,1,2,3,4,0,1,3,3,0,0,1,3,3,2,0,1,2,3,0,1,0,1,2,1,1,0,2,2,2,2,1,3,2,2,0,0,2,3,2,0,1,3,0,0,2,1,2,1,3,2,1,3,0,3,2,1,3,2,1,1,1,2,2,2,2,1,2,3,0,0,1,2,2,4,0,0,2,3,0,2,1,2,2,2,2,1,3,3,0,0,1,3,3,0,2,1,3,2,0,0,1,2,3,4,2,1,3,3,4,0,1,3,0,3,0,0,0,3,0,2,1,3,0,1,2,1,3,3,0,0,1,3,3,2,2,1,3,3,0,0,1,3,3,4,0,1,3,3,0,0,1,3,2,0,2,1,3,0,4,2,0,0,3,0,0,0,2,2,2,0,1,3,2,0,0,1,3,0,4,2,1,0,0,4,0,0,0,0,4,0,1,3,3,4,0,1,3,3,4,0,1,3,0,3,0,0,3,2,1,0,1,3,3,2,2,1,2,1,2,0,1,2,3,0,2,0,2,3,2,0,1,3,3,2,0,1,3,2,0,0,1,3,0,4,0,0,2,1,3,0,1,3,3,2,0,1,3,3,2,2,1,3,2,0,0,0,2,2,2,0,1,3,0,1,1,1,2,3,2,2,1,3,3,4,0,1,3,3,0,0,1,3,2,2,2,1,3,2,1,0,1,1,2,2,0,1,3,2,0,2,1,3,3,2,2,1,3,3,2,2,1,3,0,3,0,0,2,2,1,0,1,3,3,4,2,1,2,3,0,2,1,3,3,2,0,1,3,2,2,0,1,2,1,2,0,0,2,2,2,0,1,3,2,2,0,1,2,2,1,1,1,3,3,2,2,1,3,3,4,0,1,2,2,2,0,1,3,3,2,0,1,3,3,4,0,1,3,3,2,0,1,2,2,2,2,1,3,3,0,0,1,2,3,0,2,1,2,1,2,2,1,3,3,4,0,0,0,3,0,2,1,3,2,1,1,1,2,3,2,0,1,3,2,0,0,1,3,3,4,0,1,3,3,2,0,1,2,1,2,2,0,2,2,2,2,1,3,0,2,2,1,3,3,0,2,1,3,2,2,0,1,3,3,0,0,1,3,3,0,0,1,3,2,0,0,1,3,3,4,0,1,2,1,1,0,1,3,3,2,2,1,3,0,0,2,1,3,0,4,2,1,3,2,2,2,0,2,2,2,0,1,3,3,2,0,1,2,1,2,0,1,2,2,2,0,1,3,2,2,0,0,2,2,2,0,0,2,0,3,2,0,0,2,4,0,1,3,2,0,0,1,3,3,0,2,1,3,0,2,2,1,0,3,4,0,0,0,3,0,2,0,2,3,2,2,1,3,2,0,0,1,3,3,0,0,1,3,3,0,0,1,2,1,2,2,1,2,3,0,2,1,3,3,4,0,1,3,2,0,0,1,3,0,2,0,1,2,1,2,2,1,3,0,4,0,0,3,3,0,0,1,3,3,2,2,1,3,3,2,0,1,2,2,1,1,0,3,3,4,0,1,3,3,4,2,1,3,3,2,0,1,3,2,0,0,1,0,3,4,0,0,3,3,2,0,1,3,3,4,0,1,3,0,2,0,1,3,3,0,0,1,2,3,0,0,1,3,3,0,2,1,0,0,0,2,1,2,2,4,0,1,3,2,2,0]\n",
    "len_ = len(pat)\n",
    "sum_ = sum(pat)\n",
    "len_"
   ]
  },
  {
   "cell_type": "code",
   "execution_count": null,
   "id": "6a24b83b-f9a5-4d98-bf52-2d0819f0fe63",
   "metadata": {},
   "outputs": [],
   "source": [
    "total = 1000000000000 - len_start"
   ]
  },
  {
   "cell_type": "code",
   "execution_count": null,
   "id": "bb3cfa63-f5e0-4c46-bc94-a91fecb819f9",
   "metadata": {},
   "outputs": [],
   "source": [
    "multiplier = total//len_"
   ]
  },
  {
   "cell_type": "code",
   "execution_count": null,
   "id": "60a9a61d-b4c6-4857-8e9b-5261d464d26f",
   "metadata": {},
   "outputs": [],
   "source": [
    "remaining = total%len_"
   ]
  },
  {
   "cell_type": "code",
   "execution_count": null,
   "id": "f1f4d3f9-508f-4b05-89c3-932748312a68",
   "metadata": {},
   "outputs": [],
   "source": [
    "sum(start)"
   ]
  },
  {
   "cell_type": "code",
   "execution_count": null,
   "id": "55e20638-a004-431f-88e9-587f221d3dfd",
   "metadata": {},
   "outputs": [],
   "source": [
    "multiplier"
   ]
  },
  {
   "cell_type": "code",
   "execution_count": null,
   "id": "e15e65ba-404f-4ab8-86ab-f41a3d00b249",
   "metadata": {},
   "outputs": [],
   "source": [
    "sum(pat[:remaining])"
   ]
  },
  {
   "cell_type": "code",
   "execution_count": null,
   "id": "704a0c9d-9496-4771-8deb-2faf77a751b8",
   "metadata": {},
   "outputs": [],
   "source": [
    "sum(start) + multiplier*sum_ + sum(pat[:remaining])"
   ]
  },
  {
   "cell_type": "code",
   "execution_count": null,
   "id": "8a203b3d-6fc2-443d-b254-117b6300e2f0",
   "metadata": {},
   "outputs": [],
   "source": [
    "sum(pat[:17])"
   ]
  },
  {
   "cell_type": "code",
   "execution_count": null,
   "id": "91fe284c-577d-4fd5-9b90-ce357fb085a1",
   "metadata": {},
   "outputs": [],
   "source": [
    "test = 's'"
   ]
  },
  {
   "cell_type": "code",
   "execution_count": null,
   "id": "204b7e8b",
   "metadata": {},
   "outputs": [],
   "source": [
    "test"
   ]
  },
  {
   "attachments": {},
   "cell_type": "markdown",
   "id": "3605bc5a",
   "metadata": {},
   "source": [
    "# Day 21"
   ]
  },
  {
   "cell_type": "code",
   "execution_count": 158,
   "id": "9539b036",
   "metadata": {
    "tags": []
   },
   "outputs": [
    {
     "data": {
      "text/plain": [
       "'\\nanswer the riddle\\n\\njob\\nyell number\\nyell result of math operation\\n\\n\\n'"
      ]
     },
     "execution_count": 158,
     "metadata": {},
     "output_type": "execute_result"
    }
   ],
   "source": [
    "\n",
    "\n",
    "from collections import *\n",
    "from itertools import *\n",
    "from functools import *\n",
    "import math\n",
    "\n",
    "f = open(\"input.txt\", 'r')\n",
    "data = f.read().splitlines()\n",
    "\n",
    "\"\"\"\n",
    "answer the riddle\n",
    "\n",
    "job\n",
    "yell number\n",
    "yell result of math operation\n",
    "\n",
    "\n",
    "\"\"\""
   ]
  },
  {
   "cell_type": "code",
   "execution_count": 178,
   "id": "144247f2",
   "metadata": {},
   "outputs": [],
   "source": [
    "from parse import compile\n",
    "import time\n",
    "\n",
    "def main():\n",
    "    with open('input.txt', 'r') as f:\n",
    "        data = f.read().splitlines()\n",
    "        pat = compile(\"{}: {} {} {}\")\n",
    "        pat2 = compile(\"{}: {:d}\")\n",
    "        adj_list = {}\n",
    "        for line in data:\n",
    "            if isinstance(pat.parse(line), type(None)):\n",
    "                name, num = pat2.parse(line)\n",
    "                adj_list[name] = int(num)\n",
    "            else:\n",
    "                name, left, op, right = pat.parse(line)\n",
    "                adj_list[name] = (left, op, right)\n",
    "        human_value = adj_list['humn']\n",
    "        def dfs(node, val = human_value):\n",
    "            if isinstance(adj_list[node], int): # leaf node\n",
    "                return adj_list[node] if node != 'humn' else val\n",
    "            left, op, right = adj_list[node]\n",
    "            left_val, right_val = dfs(left, val), dfs(right, val)\n",
    "            if node == 'root':\n",
    "                return left_val <= right_val\n",
    "            if op == '+':\n",
    "                return left_val + right_val\n",
    "            elif op == '-':\n",
    "                return left_val - right_val\n",
    "            elif op == '*':\n",
    "                return left_val * right_val\n",
    "            else:\n",
    "                return left_val // right_val\n",
    "        \n",
    "        # I know that the left_result is decreasing function, \n",
    "        # f(x) compared to right_result\n",
    "        # when to less it means you need to move to the left segment\n",
    "        # when greater than it means you need to move to the right segment\n",
    "        # FFFFFFFFFFFFTTTTTTTT, want to return the first T\n",
    "        left, right = 0, 100_000_000_000_000\n",
    "        while left < right:\n",
    "            mid = (left + right)>>1\n",
    "            if dfs('root', val = mid):\n",
    "                right = mid\n",
    "            else:\n",
    "                left = mid + 1\n",
    "        return left"
   ]
  },
  {
   "cell_type": "code",
   "execution_count": 179,
   "id": "da7eb4c1",
   "metadata": {},
   "outputs": [
    {
     "data": {
      "text/plain": [
       "3887609741189"
      ]
     },
     "execution_count": 179,
     "metadata": {},
     "output_type": "execute_result"
    }
   ],
   "source": [
    "main()"
   ]
  },
  {
   "cell_type": "code",
   "execution_count": 157,
   "id": "56f436a2",
   "metadata": {},
   "outputs": [
    {
     "name": "stdout",
     "output_type": "stream",
     "text": [
      "32,310,041,242,752, 32,310,041,242,752\n"
     ]
    },
    {
     "data": {
      "text/plain": [
       "True"
      ]
     },
     "execution_count": 157,
     "metadata": {},
     "output_type": "execute_result"
    }
   ],
   "source": [
    "dfs('root', 3_887_609_741_189)"
   ]
  },
  {
   "cell_type": "code",
   "execution_count": 143,
   "id": "3ef418af",
   "metadata": {},
   "outputs": [
    {
     "name": "stdout",
     "output_type": "stream",
     "text": [
      "3,887,609,741,192\n"
     ]
    },
    {
     "data": {
      "text/plain": [
       "3887609741192"
      ]
     },
     "execution_count": 143,
     "metadata": {},
     "output_type": "execute_result"
    }
   ],
   "source": [
    "print(f'{left:,}')\n",
    "left"
   ]
  },
  {
   "cell_type": "code",
   "execution_count": null,
   "id": "7e0e2137",
   "metadata": {},
   "outputs": [],
   "source": [
    "for i in range(100):\n",
    "    print(f'{i}: {dfs(\"root\", i)}')"
   ]
  },
  {
   "cell_type": "code",
   "execution_count": null,
   "id": "b79625a3",
   "metadata": {},
   "outputs": [],
   "source": [
    "# determine that it is a decreasing function"
   ]
  },
  {
   "cell_type": "code",
   "execution_count": 188,
   "id": "f3f47ff9",
   "metadata": {},
   "outputs": [
    {
     "data": {
      "text/plain": [
       "194501589693264"
      ]
     },
     "execution_count": 188,
     "metadata": {},
     "output_type": "execute_result"
    }
   ],
   "source": [
    "def main():\n",
    "    with open('input.txt', 'r') as f:\n",
    "        data = f.read().splitlines()\n",
    "        pat = compile(\"{}: {} {} {}\")\n",
    "        pat2 = compile(\"{}: {:d}\")\n",
    "        child_nodes = {}\n",
    "        for line in data:\n",
    "            if isinstance(pat.parse(line), type(None)):\n",
    "                name, num = pat2.parse(line)\n",
    "                child_nodes[name] = int(num)\n",
    "            else:\n",
    "                name, left, op, right = pat.parse(line)\n",
    "                child_nodes[name] = (left, op, right)\n",
    "        human_value = child_nodes['humn']\n",
    "        def dfs(node, val = human_value):\n",
    "            if isinstance(child_nodes[node], int): # leaf node\n",
    "                return child_nodes[node] if node != 'humn' else val\n",
    "            left, op, right = child_nodes[node]\n",
    "            left_val, right_val = dfs(left, val), dfs(right, val)\n",
    "            return int(eval(f'{left_val} {op} {right_val}'))\n",
    "        return dfs('root')\n",
    "main()"
   ]
  },
  {
   "cell_type": "code",
   "execution_count": 189,
   "id": "9a6dfda5",
   "metadata": {},
   "outputs": [],
   "source": [
    "from z3.z3 import *"
   ]
  },
  {
   "cell_type": "code",
   "execution_count": 203,
   "id": "d755395e",
   "metadata": {},
   "outputs": [
    {
     "data": {
      "text/html": [
       "194501589693264"
      ],
      "text/plain": [
       "194501589693264"
      ]
     },
     "execution_count": 203,
     "metadata": {},
     "output_type": "execute_result"
    }
   ],
   "source": [
    "def main():\n",
    "    with open('input.txt', 'r') as f:\n",
    "        data = f.read().splitlines()\n",
    "        pat = compile(\"{}: {} {} {}\")\n",
    "        pat2 = compile(\"{}: {:d}\")\n",
    "        child_nodes = {}\n",
    "        s = Solver()\n",
    "        arr = {}\n",
    "        for line in data:\n",
    "            if isinstance(pat.parse(line), type(None)):\n",
    "                name, num = pat2.parse(line)\n",
    "                arr[name] = Int(name)\n",
    "                s.add(arr[name] == num)\n",
    "            else:\n",
    "                name, left, op, right = pat.parse(line)\n",
    "                if name not in arr:\n",
    "                    arr[name] = Int(name)\n",
    "                if left not in arr:\n",
    "                    arr[left] = Int(left)\n",
    "                if right not in arr:\n",
    "                    arr[right] = Int(right)\n",
    "                s.add(arr[name] == eval(f'arr[left] {op} arr[right]'))\n",
    "        s.check()\n",
    "        return s.model()[arr['root']]\n",
    "main()"
   ]
  },
  {
   "cell_type": "code",
   "execution_count": 191,
   "id": "27b54f3b",
   "metadata": {},
   "outputs": [
    {
     "data": {
      "text/plain": [
       "z3.z3.ArithRef"
      ]
     },
     "execution_count": 191,
     "metadata": {},
     "output_type": "execute_result"
    }
   ],
   "source": [
    "name = 'x'\n",
    "name = Int(name)\n",
    "type(name)"
   ]
  },
  {
   "cell_type": "code",
   "execution_count": 192,
   "id": "f6ab719b",
   "metadata": {},
   "outputs": [
    {
     "data": {
      "text/plain": [
       "z3.z3.ArithRef"
      ]
     },
     "execution_count": 192,
     "metadata": {},
     "output_type": "execute_result"
    }
   ],
   "source": [
    "name = 'y'\n",
    "name = Int(name)\n",
    "type(name)"
   ]
  },
  {
   "cell_type": "code",
   "execution_count": 211,
   "id": "7a0d61c3",
   "metadata": {},
   "outputs": [],
   "source": [
    "s = Solver()"
   ]
  },
  {
   "cell_type": "code",
   "execution_count": 206,
   "id": "21d65eb0",
   "metadata": {},
   "outputs": [
    {
     "name": "stdout",
     "output_type": "stream",
     "text": [
      "['__class__', '__copy__', '__deepcopy__', '__del__', '__delattr__', '__dict__', '__dir__', '__doc__', '__eq__', '__format__', '__ge__', '__getattribute__', '__gt__', '__hash__', '__iadd__', '__init__', '__init_subclass__', '__le__', '__lt__', '__module__', '__ne__', '__new__', '__reduce__', '__reduce_ex__', '__repr__', '__setattr__', '__sizeof__', '__str__', '__subclasshook__', '__weakref__', '_repr_html_', 'add', 'append', 'assert_and_track', 'assert_exprs', 'assertions', 'backtrack_level', 'check', 'consequences', 'ctx', 'cube', 'cube_vars', 'dimacs', 'from_file', 'from_string', 'help', 'import_model_converter', 'insert', 'model', 'non_units', 'num_scopes', 'param_descrs', 'pop', 'proof', 'push', 'reason_unknown', 'reset', 'set', 'sexpr', 'solver', 'statistics', 'to_smt2', 'trail', 'trail_levels', 'translate', 'units', 'unsat_core', 'use_pp']\n"
     ]
    }
   ],
   "source": [
    "print(dir(s))"
   ]
  },
  {
   "cell_type": "code",
   "execution_count": 207,
   "id": "efb178c1",
   "metadata": {},
   "outputs": [],
   "source": [
    "s.add(name == 1)\n"
   ]
  },
  {
   "cell_type": "code",
   "execution_count": 212,
   "id": "9ea14900",
   "metadata": {},
   "outputs": [],
   "source": [
    "s.add(name == 4)"
   ]
  },
  {
   "cell_type": "code",
   "execution_count": 213,
   "id": "609bec88",
   "metadata": {},
   "outputs": [
    {
     "data": {
      "text/html": [
       "<b>sat</b>"
      ],
      "text/plain": [
       "sat"
      ]
     },
     "execution_count": 213,
     "metadata": {},
     "output_type": "execute_result"
    }
   ],
   "source": [
    "s.check()"
   ]
  },
  {
   "cell_type": "code",
   "execution_count": 215,
   "id": "c66806c2",
   "metadata": {},
   "outputs": [
    {
     "data": {
      "text/html": [
       "[y = 4]"
      ],
      "text/plain": [
       "[y = 4]"
      ]
     },
     "execution_count": 215,
     "metadata": {},
     "output_type": "execute_result"
    }
   ],
   "source": [
    "s.model()"
   ]
  },
  {
   "cell_type": "code",
   "execution_count": 216,
   "id": "7e82a187",
   "metadata": {},
   "outputs": [],
   "source": [
    "s.add(name != s.model()[name])"
   ]
  },
  {
   "cell_type": "code",
   "execution_count": 217,
   "id": "b6f990bb",
   "metadata": {},
   "outputs": [
    {
     "data": {
      "text/html": [
       "<b>unsat</b>"
      ],
      "text/plain": [
       "unsat"
      ]
     },
     "execution_count": 217,
     "metadata": {},
     "output_type": "execute_result"
    }
   ],
   "source": [
    "s.check()"
   ]
  },
  {
   "cell_type": "code",
   "execution_count": 226,
   "id": "8f94b39a",
   "metadata": {},
   "outputs": [
    {
     "data": {
      "text/html": [
       "<b>sat</b>"
      ],
      "text/plain": [
       "sat"
      ]
     },
     "execution_count": 226,
     "metadata": {},
     "output_type": "execute_result"
    }
   ],
   "source": [
    "s = Solver()\n",
    "x, y = Ints('x y')\n",
    "s.add(x+y==5, x == 2)\n",
    "s.check()"
   ]
  },
  {
   "cell_type": "code",
   "execution_count": 227,
   "id": "1b00e4ca",
   "metadata": {},
   "outputs": [
    {
     "data": {
      "text/html": [
       "[x = 2, y = 3]"
      ],
      "text/plain": [
       "[x = 2, y = 3]"
      ]
     },
     "execution_count": 227,
     "metadata": {},
     "output_type": "execute_result"
    }
   ],
   "source": [
    "s.model()"
   ]
  },
  {
   "cell_type": "code",
   "execution_count": 228,
   "id": "a3bb22f1",
   "metadata": {},
   "outputs": [],
   "source": [
    "s.add(x != s.model()[x])"
   ]
  },
  {
   "cell_type": "code",
   "execution_count": 229,
   "id": "be63651b",
   "metadata": {},
   "outputs": [
    {
     "data": {
      "text/html": [
       "<b>unsat</b>"
      ],
      "text/plain": [
       "unsat"
      ]
     },
     "execution_count": 229,
     "metadata": {},
     "output_type": "execute_result"
    }
   ],
   "source": [
    "s.check()"
   ]
  },
  {
   "cell_type": "code",
   "execution_count": 230,
   "id": "b88fc7f2",
   "metadata": {},
   "outputs": [
    {
     "ename": "Z3Exception",
     "evalue": "model is not available",
     "output_type": "error",
     "traceback": [
      "\u001b[0;31m---------------------------------------------------------------------------\u001b[0m",
      "\u001b[0;31mZ3Exception\u001b[0m                               Traceback (most recent call last)",
      "File \u001b[0;32m~/miniconda3/envs/programming/lib/python3.10/site-packages/z3/z3.py:7130\u001b[0m, in \u001b[0;36mSolver.model\u001b[0;34m(self)\u001b[0m\n\u001b[1;32m   7129\u001b[0m \u001b[39mtry\u001b[39;00m:\n\u001b[0;32m-> 7130\u001b[0m     \u001b[39mreturn\u001b[39;00m ModelRef(Z3_solver_get_model(\u001b[39mself\u001b[39;49m\u001b[39m.\u001b[39;49mctx\u001b[39m.\u001b[39;49mref(), \u001b[39mself\u001b[39;49m\u001b[39m.\u001b[39;49msolver), \u001b[39mself\u001b[39m\u001b[39m.\u001b[39mctx)\n\u001b[1;32m   7131\u001b[0m \u001b[39mexcept\u001b[39;00m Z3Exception:\n",
      "File \u001b[0;32m~/miniconda3/envs/programming/lib/python3.10/site-packages/z3/z3core.py:4065\u001b[0m, in \u001b[0;36mZ3_solver_get_model\u001b[0;34m(a0, a1, _elems)\u001b[0m\n\u001b[1;32m   4064\u001b[0m r \u001b[39m=\u001b[39m _elems\u001b[39m.\u001b[39mf(a0, a1)\n\u001b[0;32m-> 4065\u001b[0m _elems\u001b[39m.\u001b[39;49mCheck(a0)\n\u001b[1;32m   4066\u001b[0m \u001b[39mreturn\u001b[39;00m r\n",
      "File \u001b[0;32m~/miniconda3/envs/programming/lib/python3.10/site-packages/z3/z3core.py:1475\u001b[0m, in \u001b[0;36mElementaries.Check\u001b[0;34m(self, ctx)\u001b[0m\n\u001b[1;32m   1474\u001b[0m \u001b[39mif\u001b[39;00m err \u001b[39m!=\u001b[39m \u001b[39mself\u001b[39m\u001b[39m.\u001b[39mOK:\n\u001b[0;32m-> 1475\u001b[0m     \u001b[39mraise\u001b[39;00m \u001b[39mself\u001b[39m\u001b[39m.\u001b[39mException(\u001b[39mself\u001b[39m\u001b[39m.\u001b[39mget_error_message(ctx, err))\n",
      "\u001b[0;31mZ3Exception\u001b[0m: b'there is no current model'",
      "\nDuring handling of the above exception, another exception occurred:\n",
      "\u001b[0;31mZ3Exception\u001b[0m                               Traceback (most recent call last)",
      "\u001b[1;32m/home/therealchainman/cp/archive-cp/adventofcode/aoc_2022.ipynb Cell 42\u001b[0m in \u001b[0;36m<module>\u001b[0;34m\u001b[0m\n\u001b[0;32m----> <a href='vscode-notebook-cell:/home/therealchainman/cp/archive-cp/adventofcode/aoc_2022.ipynb#X65sZmlsZQ%3D%3D?line=0'>1</a>\u001b[0m s\u001b[39m.\u001b[39;49mmodel()\n",
      "File \u001b[0;32m~/miniconda3/envs/programming/lib/python3.10/site-packages/z3/z3.py:7132\u001b[0m, in \u001b[0;36mSolver.model\u001b[0;34m(self)\u001b[0m\n\u001b[1;32m   7130\u001b[0m     \u001b[39mreturn\u001b[39;00m ModelRef(Z3_solver_get_model(\u001b[39mself\u001b[39m\u001b[39m.\u001b[39mctx\u001b[39m.\u001b[39mref(), \u001b[39mself\u001b[39m\u001b[39m.\u001b[39msolver), \u001b[39mself\u001b[39m\u001b[39m.\u001b[39mctx)\n\u001b[1;32m   7131\u001b[0m \u001b[39mexcept\u001b[39;00m Z3Exception:\n\u001b[0;32m-> 7132\u001b[0m     \u001b[39mraise\u001b[39;00m Z3Exception(\u001b[39m\"\u001b[39m\u001b[39mmodel is not available\u001b[39m\u001b[39m\"\u001b[39m)\n",
      "\u001b[0;31mZ3Exception\u001b[0m: model is not available"
     ]
    }
   ],
   "source": [
    "s.model()"
   ]
  },
  {
   "cell_type": "code",
   "execution_count": null,
   "id": "b863ea40",
   "metadata": {},
   "outputs": [],
   "source": []
  }
 ],
 "metadata": {
  "kernelspec": {
   "display_name": "programming",
   "language": "python",
   "name": "python3"
  },
  "language_info": {
   "codemirror_mode": {
    "name": "ipython",
    "version": 3
   },
   "file_extension": ".py",
   "mimetype": "text/x-python",
   "name": "python",
   "nbconvert_exporter": "python",
   "pygments_lexer": "ipython3",
   "version": "3.10.0"
  },
  "vscode": {
   "interpreter": {
    "hash": "05a440cbc0a4d5663111a9b3b9ea59349399813ac6e64ad16052767f7ba4c947"
   }
  }
 },
 "nbformat": 4,
 "nbformat_minor": 5
}
