{
 "cells": [
  {
   "cell_type": "code",
   "execution_count": null,
   "id": "e9c02108-e432-4b1a-b581-7524d4d954c4",
   "metadata": {},
   "outputs": [],
   "source": [
    "with open(\"input.txt\", 'r') as f:\n",
    "    data = f.read()\n",
    "    rocks = [[['#','#','#','#']], [['.','#','.'],['#','#','#'],['.','#','.']], [['.','.','#'],['.','.','#'],['#','#','#']], [['#'],['#'],['#'],['#']], [['#','#'],['#','#']]]\n",
    "    width = 8\n",
    "    index = 0\n",
    "    n = len(data)\n",
    "    # total = 1000000000000\n",
    "    total = 100000\n",
    "    height = 0\n",
    "    heights = [0]\n",
    "    diffs = []\n",
    "    done = set()\n",
    "    for k in range(total):\n",
    "        rock = rocks[k%len(rocks)]\n",
    "        coords = []\n",
    "        R, C = len(rock), len(rock[0])\n",
    "        for r in range(R):\n",
    "            for c in range(C):\n",
    "                if rock[~r][c] == '#':\n",
    "                    coords.append((r + height + 4, c + 3))\n",
    "        while True:\n",
    "            blow = data[index]\n",
    "            if blow == '>':\n",
    "                if not any(c == width-1 or (r, c+1) in done for r, c in coords): \n",
    "                    for i in range(len(coords)):\n",
    "                        r, c = coords[i]\n",
    "                        coords[i] = (r, c+1) # shift right by 1\n",
    "            else:\n",
    "                if not any(c == 1 or (r, c-1) in done for r, c in coords): \n",
    "                    for i in range(len(coords)):\n",
    "                        r, c = coords[i]\n",
    "                        coords[i] = (r, c-1) # shift left by 1\n",
    "            index = (index + 1) % n\n",
    "            if any(r == 1 or (r-1, c) in done for r, c in coords): break # stopped reach ground or another rock\n",
    "            for i in range(len(coords)):\n",
    "                r, c = coords[i]\n",
    "                coords[i] = (r-1, c) # shift down by 1\n",
    "\n",
    "        height = max([height] + [r for r, c in coords])\n",
    "        heights.append(height)\n",
    "        diffs.append(heights[-1] - heights[-2])\n",
    "        done.update(coords)"
   ]
  },
  {
   "cell_type": "code",
   "execution_count": null,
   "id": "e1d5c7ea-0aa2-4334-9343-163d363c937d",
   "metadata": {},
   "outputs": [],
   "source": [
    "len(heights), len(diffs)"
   ]
  },
  {
   "cell_type": "code",
   "execution_count": null,
   "id": "b3c6500b-1c08-4982-861b-ec88077e1134",
   "metadata": {},
   "outputs": [],
   "source": [
    "start = [1,3,2,0,0,1,3,3,2,0,1,3,3,0,2,1,3,2,0,1,1,2,2,2,0,0,3,0,3,0,1,2,1,2,0,0,2,0,2,0,1,3,3,0,2,1,3,0,0,2,1,3,0,2,0,1,3,3,0,2,1,2,3,0,2,1,3,3,4,0,1,3,3,0,0,1,3,2,4,0,1,2,3,2,2,1,3,0,3,2,1,3,3,2,2,1,2,3,2,2,1,2,1,2,0,1,2,1,2,0,1,0,3,1,2,1,3,2,2,0,1,3,2,0,0,0,2,3,2,0,1,3,2,4,2,0,0,0,0,2,1,3,0,4,2,0,3,3,0,2,1,3,3,2,0,1,3,2,4,0,0,2,3,0,0,0,0,3,2,2,1,3,3,0,0,1,3,2,2,0,1,3,0,2,0,1,3,3,4,0,1,3,2,4,2,1,3,2,2,0,1,2,2,0,0,1,3,0,2,2,1,2,3,2,2,1,3,2,2,0,1,3,2,4,2,0,2,3,0,2,1,3,3,2,2,1,3,3,0,0,1,2,2,2,2,1,3,3,2,2,1,3,2,1,1,1,3,3,2,0,1,2,2,2,2,1,2,3,0,1,0,3,3,0,0,1,3,2,2,0,0,2,3,0,0,1,3,3,4,2,0,0,3,2,0,1,3,2,4,0,1,3,2,0,0,1,3,0,3,0,0,1,2,2,2,0,0,1,3,0,0,3,3,0,0,1,0,3,4,2,1,2,3,0,0,1,2,1,2,2,1,3,3,0,0,1,3,2,0,0,1,3,2,2,2,1,3,2,0,0,0,3,3,0,0,0,2,2,0,2,1,2,1,4,0,0,2,2,1,0,1,3,3,0,2,1,2,3,2,0,1,3,2,4,2,1,2,3,0,0,1,3,3,4,0,1,3,3,2,0,1,3,3,2,2,1,0,3,1,0,1,3,3,0,2,1,3,3,0,2,1,0,3,1,1,1,0,3,2,2,1,0,0,0,2,1,3,3,0,0,1,3,2,2,2,1,3,3,2,0,0,2,2,2,2,0,0,3,1,1,1,3,2,0,0,1,3,3,2,0,1,3,3,0,0,1,3,2,0,0,0,2,1,2,2,1,2,1,4,0,1,3,0,2,2,1,0,3,0,0,1,3,3,0,2,1,2,1,0,1,1,3,0,0,2,1,2,2,2,2,1,3,2,0,0,0,3,0,3,0,1,2,1,3,0,0,1,2,1,1,1,1,3,0,0,1,3,3,0,2,1,3,3,4,0,0,2,0,3,0,0,2,2,0,0,0,2,2,2,0,1,3,3,0,0,1,2,3,0,0,1,3,3,0,0,1,3,3,2,2,1,3,3,2,0,1,3,3,0,0,1,3,3,0,0,1,3,3,2,2,1,3,3,0,2,1,3,3,2,0,0,0,3,2,2,1,3,2,0,0,1,3,0,3,2,1,3,3,0,0,1,2,1,3,0,0,1,3,0,0,1,3,2,4,0,1,2,3,4,0,1,3,3,0,0,1,3,3,2,0,1,2,3,0,1,0,1,2,1,1,0,2,2,2,2,1,3,2,2,0,0,2,3,2,0,1,3,0,0,2,1,2,1,3,2,1,3,0,3,2,1,3,2,1,1,1,2,2,2,2,1,2,3,0,0,1,2,2,4,0,0,2,3,0,2,1,2,2,2,2,1,3,3,0,0,1,3,3,0,2,1,3,2,0,0,1,2,3,4,2,1,3,3,4,0,1,3,0,3,0,0,0,3,0,2,1,3,0,1,2,1,3,3,0,0,1,3,3,2,2,1,3,3,0,0,1,3,3,4,0,1,3,3,0,0,1,3,2,0,2,1,3,0,4,2,0,0,3,0,0,0,2,2,2,0,1,3,2,0,0,1,3,0,4,2,1,0,0,4,0,0,0,0,4,0,1,3,3,4,0,1,3,3,4,0,1,3,0,3,0,0,3,2,1,0,1,3,3,2,2,1,2,1,2,0,1,2,3,0,2,0,2,3,2,0,1,3,3,2,0,1,3,2,0,0,1,3,0,4,0,0,2,1,3,0,1,3,3,2,0,1,3,3,2,2,1,3,2,0,0,0,2,2,2,0,1,3,0,1,1,1,2,3,2,2,1,3,3,4,0,1,3,3,0,0,1,3,2,2,2,1,3,2,1,0,1,1,2,2,0,1,3,2,0,2,1,3,3,2,2,1,3,3,2,2,1,3,0,3,0,0,2,2,1,0,1,3,3,4,2,1,2,3,0,2,1,3,3,2,0,1,3,2,2,0,1,2,1,2,0,0,2,2,2,0,1,3,2,2,0,1,2,2,1,1,1,3,3,2,2,1,3,3,4,0,1,2,2,2,0,1,3,3,2,0,1,3,3,4,0,1,3,3,2,0,1,2,2,2,2,1,3,3,0,0,1,2,3,0,2,1,2,1,2,2,1,3,3,4,0,0,0,3,0,2,1,3,2,1,1,1,2,3,2,0,1,3,2,0,0,1,3,3,4,0,1,3,3,2,0,1,2,1,2,2,0,2,2,2,2,1,3,0,2,2,1,3,3,0,2,1,3,2,2,0,1,3,3,0,0,1,3,3,0,0,1,3,2,0,0,1,3,3,4,0,1,2,1,1,0,1,3,3,2,2,1,3,0,0,2,1,3,0,4,2,1,3,2,2,2,0,2,2,2,0,1,3,3,2,0,1,2,1,2,0,1,2,2,2,0,1,3,2,2,0,0,2,2,2,0,0,2,0,3,2,0,0,2,4,0,1,3,2,0,0,1,3,3,0,2,1,3,0,2,2,1,0,3,4,0,0,0,3,0,2,0,2,3,2,2,1,3,2,0,0,1,3,3,0,0,1,3,3,0,0,1,2,1,2,2,1,2,3,0,2,1,3,3,4,0,1,3,2,0,0,1,3,0,2,0,1,2,1,2,2,1,3,0,4,0,0,3,3,0,0,1,3,3,2,2,1,3,3,2,0,1,2,2,1,1,0,3,3,4,0,1,3,3,4,2,1,3,3,2,0,1,3,2,0,0,1,0,3,4,0,0,3,3,2,0,1,3,3,4,0,1,3,0,2,0,1,3,3,0,0,1,2,3,0,0,1,3,3,0,2,1,0,0,0,2,1,2,2,4,0,1,3,2,2,0]\n",
    "len_start = len(start)"
   ]
  },
  {
   "cell_type": "code",
   "execution_count": null,
   "id": "e0c5bfc1-9b53-4b90-b944-0de5369f6c21",
   "metadata": {},
   "outputs": [],
   "source": [
    "h += sum(start)\n"
   ]
  },
  {
   "cell_type": "code",
   "execution_count": null,
   "id": "71a972b6-8a13-463f-b6bf-7e805a2bc352",
   "metadata": {},
   "outputs": [],
   "source": [
    "sum(start)"
   ]
  },
  {
   "cell_type": "code",
   "execution_count": null,
   "id": "88b295be-3dbc-4973-93ea-bdb717e7c676",
   "metadata": {},
   "outputs": [],
   "source": [
    "pat = [0,2,2,2,2,1,2,3,2,0,1,3,3,2,0,0,2,3,0,2,1,3,3,0,0,0,2,3,2,0,1,3,3,2,0,1,3,3,2,2,1,3,2,2,2,0,2,3,2,0,0,2,3,0,0,0,2,2,2,2,1,3,2,1,0,0,3,0,4,0,1,3,3,4,2,1,2,3,2,0,1,2,2,2,2,1,2,1,3,0,1,2,3,2,2,1,2,2,0,2,0,0,3,2,2,1,3,0,3,0,0,2,1,0,0,1,3,3,2,2,1,3,3,2,0,1,3,2,2,0,1,3,2,2,0,1,2,1,2,0,1,2,3,0,0,1,3,2,0,0,1,2,2,2,0,1,3,0,1,2,1,2,2,2,2,1,0,3,0,2,1,3,0,3,2,0,3,0,0,0,0,3,0,1,1,1,3,3,0,2,0,2,2,4,0,1,2,3,0,0,1,3,3,0,0,1,3,3,2,0,1,3,0,2,0,1,3,2,1,2,1,3,3,2,0,0,2,2,2,2,1,2,3,0,1,1,3,3,2,2,1,3,3,2,2,1,3,3,4,0,1,2,2,0,0,1,2,3,4,0,1,3,2,0,0,1,2,1,2,0,1,3,0,3,0,0,2,0,2,0,1,2,3,0,0,1,3,3,0,0,0,0,3,2,2,1,3,2,0,0,1,3,0,0,2,1,3,3,0,0,1,3,3,2,2,1,3,3,0,0,1,3,3,2,2,1,3,3,2,2,0,0,3,2,0,1,3,0,3,0,1,3,3,0,0,1,3,3,4,0,0,2,2,2,2,1,3,3,0,0,1,3,0,2,0,1,3,2,2,0,1,3,2,0,2,1,2,2,2,0,0,2,2,2,2,1,3,3,2,2,1,2,2,0,2,0,3,2,2,2,0,2,2,1,2,1,2,3,2,0,1,2,3,4,2,1,2,1,2,2,1,3,3,2,0,1,2,3,2,0,1,3,0,3,0,0,2,3,2,2,1,3,0,2,0,1,2,3,0,0,1,0,3,0,2,1,3,3,0,2,0,0,3,1,2,0,3,0,0,2,1,3,3,0,0,1,3,2,2,0,1,3,2,0,0,0,3,0,1,2,1,3,2,0,0,1,2,1,1,1,1,3,3,0,0,1,3,2,2,0,1,2,1,2,0,1,2,1,2,0,1,2,1,0,2,1,3,2,0,0,1,3,2,0,0,0,2,1,2,0,1,2,2,0,0,1,3,2,2,0,1,3,0,0,2,1,3,3,0,2,1,3,0,0,2,1,0,3,1,0,0,3,2,4,0,1,3,3,0,0,1,3,2,4,2,1,3,3,2,2,1,2,3,0,0,1,3,2,2,0,1,3,2,1,0,1,3,2,0,2,1,2,3,0,1,1,3,3,0,2,1,3,2,4,0,0,2,2,2,0,1,2,3,0,2,1,3,3,4,2,1,3,3,2,0,1,3,2,2,2,1,2,3,2,0,1,3,3,4,0,1,3,2,2,2,1,3,3,0,0,1,2,3,4,0,1,3,2,0,0,1,2,1,2,0,1,2,2,2,0,1,3,2,2,0,1,3,3,2,0,0,2,3,2,2,1,3,3,2,0,1,3,0,4,0,1,3,2,1,0,0,3,0,1,1,0,3,0,4,2,1,2,1,2,0,1,3,2,4,2,1,3,2,2,0,0,2,3,2,2,1,3,3,0,0,1,2,2,2,0,1,2,2,2,0,0,2,3,0,0,1,2,3,0,1,1,0,3,2,0,1,0,3,4,2,0,2,2,4,2,1,0,0,4,0,0,0,3,0,2,1,3,3,0,0,1,2,1,2,0,0,3,3,4,0,1,3,3,2,0,1,3,2,0,2,1,3,2,0,0,0,3,2,2,0,1,3,2,2,0,1,2,3,0,2,0,2,3,0,0,1,3,3,0,0,1,3,3,4,2,1,3,0,2,2,1,0,3,1,0,1,3,3,2,2,1,2,2,4,0,1,3,3,4,0,1,3,2,2,2,1,3,3,2,0,1,3,3,0,0,1,2,1,2,0,1,3,2,2,0,0,2,3,2,2,1,3,3,0,2,1,2,3,0,2,1,2,3,0,2,1,3,2,0,0,1,3,3,0,0,1,2,1,2,2,1,3,0,1,1,0,3,2,1,0,1,3,3,0,0,1,3,2,4,0,1,2,3,4,0,1,3,3,0,0,1,3,3,2,0,1,2,3,0,1,0,1,2,1,1,0,2,2,2,2,1,3,2,2,0,0,2,3,2,0,1,3,0,0,2,1,2,1,3,2,1,3,0,3,2,1,3,2,1,1,1,2,2,2,2,1,2,3,0,0,1,2,2,4,0,0,2,3,0,2,1,2,2,2,2,1,3,3,0,0,1,3,3,0,2,1,3,2,0,0,1,2,3,4,2,1,3,3,4,0,1,3,0,3,0,0,0,3,0,2,1,3,0,1,2,1,3,3,0,0,1,3,3,2,2,1,3,3,0,0,1,3,3,4,0,1,3,3,0,0,1,3,2,0,2,1,3,0,4,2,0,0,3,0,0,0,2,2,2,0,1,3,2,0,0,1,3,0,4,2,1,0,0,4,0,0,0,0,4,0,1,3,3,4,0,1,3,3,4,0,1,3,0,3,0,0,3,2,1,0,1,3,3,2,2,1,2,1,2,0,1,2,3,0,2,0,2,3,2,0,1,3,3,2,0,1,3,2,0,0,1,3,0,4,0,0,2,1,3,0,1,3,3,2,0,1,3,3,2,2,1,3,2,0,0,0,2,2,2,0,1,3,0,1,1,1,2,3,2,2,1,3,3,4,0,1,3,3,0,0,1,3,2,2,2,1,3,2,1,0,1,1,2,2,0,1,3,2,0,2,1,3,3,2,2,1,3,3,2,2,1,3,0,3,0,0,2,2,1,0,1,3,3,4,2,1,2,3,0,2,1,3,3,2,0,1,3,2,2,0,1,2,1,2,0,0,2,2,2,0,1,3,2,2,0,1,2,2,1,1,1,3,3,2,2,1,3,3,4,0,1,2,2,2,0,1,3,3,2,0,1,3,3,4,0,1,3,3,2,0,1,2,2,2,2,1,3,3,0,0,1,2,3,0,2,1,2,1,2,2,1,3,3,4,0,0,0,3,0,2,1,3,2,1,1,1,2,3,2,0,1,3,2,0,0,1,3,3,4,0,1,3,3,2,0,1,2,1,2,2,0,2,2,2,2,1,3,0,2,2,1,3,3,0,2,1,3,2,2,0,1,3,3,0,0,1,3,3,0,0,1,3,2,0,0,1,3,3,4,0,1,2,1,1,0,1,3,3,2,2,1,3,0,0,2,1,3,0,4,2,1,3,2,2,2,0,2,2,2,0,1,3,3,2,0,1,2,1,2,0,1,2,2,2,0,1,3,2,2,0,0,2,2,2,0,0,2,0,3,2,0,0,2,4,0,1,3,2,0,0,1,3,3,0,2,1,3,0,2,2,1,0,3,4,0,0,0,3,0,2,0,2,3,2,2,1,3,2,0,0,1,3,3,0,0,1,3,3,0,0,1,2,1,2,2,1,2,3,0,2,1,3,3,4,0,1,3,2,0,0,1,3,0,2,0,1,2,1,2,2,1,3,0,4,0,0,3,3,0,0,1,3,3,2,2,1,3,3,2,0,1,2,2,1,1,0,3,3,4,0,1,3,3,4,2,1,3,3,2,0,1,3,2,0,0,1,0,3,4,0,0,3,3,2,0,1,3,3,4,0,1,3,0,2,0,1,3,3,0,0,1,2,3,0,0,1,3,3,0,2,1,0,0,0,2,1,2,2,4,0,1,3,2,2,0]\n",
    "len_ = len(pat)\n",
    "sum_ = sum(pat)\n",
    "len_"
   ]
  },
  {
   "cell_type": "code",
   "execution_count": null,
   "id": "6a24b83b-f9a5-4d98-bf52-2d0819f0fe63",
   "metadata": {},
   "outputs": [],
   "source": [
    "total = 1000000000000 - len_start"
   ]
  },
  {
   "cell_type": "code",
   "execution_count": null,
   "id": "bb3cfa63-f5e0-4c46-bc94-a91fecb819f9",
   "metadata": {},
   "outputs": [],
   "source": [
    "multiplier = total//len_"
   ]
  },
  {
   "cell_type": "code",
   "execution_count": null,
   "id": "60a9a61d-b4c6-4857-8e9b-5261d464d26f",
   "metadata": {},
   "outputs": [],
   "source": [
    "remaining = total%len_"
   ]
  },
  {
   "cell_type": "code",
   "execution_count": null,
   "id": "f1f4d3f9-508f-4b05-89c3-932748312a68",
   "metadata": {},
   "outputs": [],
   "source": [
    "sum(start)"
   ]
  },
  {
   "cell_type": "code",
   "execution_count": null,
   "id": "55e20638-a004-431f-88e9-587f221d3dfd",
   "metadata": {},
   "outputs": [],
   "source": [
    "multiplier"
   ]
  },
  {
   "cell_type": "code",
   "execution_count": null,
   "id": "e15e65ba-404f-4ab8-86ab-f41a3d00b249",
   "metadata": {},
   "outputs": [],
   "source": [
    "sum(pat[:remaining])"
   ]
  },
  {
   "cell_type": "code",
   "execution_count": null,
   "id": "704a0c9d-9496-4771-8deb-2faf77a751b8",
   "metadata": {},
   "outputs": [],
   "source": [
    "sum(start) + multiplier*sum_ + sum(pat[:remaining])"
   ]
  },
  {
   "cell_type": "code",
   "execution_count": null,
   "id": "8a203b3d-6fc2-443d-b254-117b6300e2f0",
   "metadata": {},
   "outputs": [],
   "source": [
    "sum(pat[:17])"
   ]
  },
  {
   "cell_type": "code",
   "execution_count": null,
   "id": "91fe284c-577d-4fd5-9b90-ce357fb085a1",
   "metadata": {},
   "outputs": [],
   "source": [
    "test = 's'"
   ]
  },
  {
   "cell_type": "code",
   "execution_count": null,
   "id": "204b7e8b",
   "metadata": {},
   "outputs": [],
   "source": [
    "test"
   ]
  },
  {
   "attachments": {},
   "cell_type": "markdown",
   "id": "3605bc5a",
   "metadata": {},
   "source": [
    "# Day 21"
   ]
  },
  {
   "cell_type": "code",
   "execution_count": null,
   "id": "9539b036",
   "metadata": {
    "tags": []
   },
   "outputs": [],
   "source": [
    "\n",
    "\n",
    "from collections import *\n",
    "from itertools import *\n",
    "from functools import *\n",
    "import math\n",
    "\n",
    "f = open(\"input.txt\", 'r')\n",
    "data = f.read().splitlines()\n",
    "\n",
    "\"\"\"\n",
    "answer the riddle\n",
    "\n",
    "job\n",
    "yell number\n",
    "yell result of math operation\n",
    "\n",
    "\n",
    "\"\"\""
   ]
  },
  {
   "cell_type": "code",
   "execution_count": null,
   "id": "144247f2",
   "metadata": {},
   "outputs": [],
   "source": [
    "from parse import compile\n",
    "import time\n",
    "\n",
    "def main():\n",
    "    with open('input.txt', 'r') as f:\n",
    "        data = f.read().splitlines()\n",
    "        pat = compile(\"{}: {} {} {}\")\n",
    "        pat2 = compile(\"{}: {:d}\")\n",
    "        adj_list = {}\n",
    "        for line in data:\n",
    "            if isinstance(pat.parse(line), type(None)):\n",
    "                name, num = pat2.parse(line)\n",
    "                adj_list[name] = int(num)\n",
    "            else:\n",
    "                name, left, op, right = pat.parse(line)\n",
    "                adj_list[name] = (left, op, right)\n",
    "        human_value = adj_list['humn']\n",
    "        def dfs(node, val = human_value):\n",
    "            if isinstance(adj_list[node], int): # leaf node\n",
    "                return adj_list[node] if node != 'humn' else val\n",
    "            left, op, right = adj_list[node]\n",
    "            left_val, right_val = dfs(left, val), dfs(self.self.self.right, val)\n",
    "            if node == 'root':\n",
    "                return left_val <= right_val\n",
    "            if op == '+':\n",
    "                return left_val + right_val\n",
    "            elif op == '-':\n",
    "                return left_val - right_val\n",
    "            elif op == '*':\n",
    "                return left_val * right_val\n",
    "            else:\n",
    "                return left_val // right_val\n",
    "        \n",
    "        # I know that the left_result is decreasing function, \n",
    "        # f(x) compared to right_result\n",
    "        # when to less it means you need to move to the left segment\n",
    "        # when greater than it means you need to move to the right segment\n",
    "        # FFFFFFFFFFFFTTTTTTTT, want to return the first T\n",
    "        left, right = 0, 100_000_000_000_000\n",
    "        while left < right:\n",
    "            mid = (left + right)>>1\n",
    "            if dfs('root', val = mid):\n",
    "                right = mid\n",
    "            else:\n",
    "                left = mid + 1\n",
    "        return left"
   ]
  },
  {
   "cell_type": "code",
   "execution_count": null,
   "id": "da7eb4c1",
   "metadata": {},
   "outputs": [],
   "source": [
    "main()"
   ]
  },
  {
   "cell_type": "code",
   "execution_count": null,
   "id": "56f436a2",
   "metadata": {},
   "outputs": [],
   "source": [
    "dfs('root', 3_887_609_741_189)"
   ]
  },
  {
   "cell_type": "code",
   "execution_count": null,
   "id": "3ef418af",
   "metadata": {},
   "outputs": [],
   "source": [
    "print(f'{left:,}')\n",
    "left"
   ]
  },
  {
   "cell_type": "code",
   "execution_count": null,
   "id": "7e0e2137",
   "metadata": {},
   "outputs": [],
   "source": [
    "for i in range(100):\n",
    "    print(f'{i}: {dfs(\"root\", i)}')"
   ]
  },
  {
   "cell_type": "code",
   "execution_count": null,
   "id": "b79625a3",
   "metadata": {},
   "outputs": [],
   "source": [
    "# determine that it is a decreasing function"
   ]
  },
  {
   "cell_type": "code",
   "execution_count": null,
   "id": "f3f47ff9",
   "metadata": {},
   "outputs": [],
   "source": [
    "def main():\n",
    "    with open('input.txt', 'r') as f:\n",
    "        data = f.read().splitlines()\n",
    "        pat = compile(\"{}: {} {} {}\")\n",
    "        pat2 = compile(\"{}: {:d}\")\n",
    "        child_nodes = {}\n",
    "        for line in data:\n",
    "            if isinstance(pat.parse(line), type(None)):\n",
    "                name, num = pat2.parse(line)\n",
    "                child_nodes[name] = int(num)\n",
    "            else:\n",
    "                name, left, op, right = pat.parse(line)\n",
    "                child_nodes[name] = (left, op, right)\n",
    "        human_value = child_nodes['humn']\n",
    "        def dfs(node, val = human_value):\n",
    "            if isinstance(child_nodes[node], int): # leaf node\n",
    "                return child_nodes[node] if node != 'humn' else val\n",
    "            left, op, right = child_nodes[node]\n",
    "            left_val, right_val = dfs(left, val), dfs(right, val)\n",
    "            return int(eval(f'{left_val} {op} {right_val}'))\n",
    "        return dfs('root')\n",
    "main()"
   ]
  },
  {
   "cell_type": "code",
   "execution_count": null,
   "id": "9a6dfda5",
   "metadata": {},
   "outputs": [],
   "source": [
    "from z3.z3 import *"
   ]
  },
  {
   "cell_type": "code",
   "execution_count": null,
   "id": "d755395e",
   "metadata": {},
   "outputs": [],
   "source": [
    "def main():\n",
    "    with open('input.txt', 'r') as f:\n",
    "        data = f.read().splitlines()\n",
    "        pat = compile(\"{}: {} {} {}\")\n",
    "        pat2 = compile(\"{}: {:d}\")\n",
    "        child_nodes = {}\n",
    "        s = Solver()\n",
    "        arr = {}\n",
    "        for line in data:\n",
    "            if isinstance(pat.parse(line), type(None)):\n",
    "                name, num = pat2.parse(line)\n",
    "                arr[name] = Int(name)\n",
    "                s.add(arr[name] == num)\n",
    "            else:\n",
    "                name, left, op, right = pat.parse(line)\n",
    "                if name not in arr:\n",
    "                    arr[name] = Int(name)\n",
    "                if left not in arr:\n",
    "                    arr[left] = Int(left)\n",
    "                if right not in arr:\n",
    "                    arr[right] = Int(right)\n",
    "                s.add(arr[name] == eval(f'arr[left] {op} arr[right]'))\n",
    "        s.check()\n",
    "        return s.model()[arr['root']]\n",
    "main()"
   ]
  },
  {
   "cell_type": "code",
   "execution_count": null,
   "id": "27b54f3b",
   "metadata": {},
   "outputs": [],
   "source": [
    "name = 'x'\n",
    "name = Int(name)\n",
    "type(name)"
   ]
  },
  {
   "cell_type": "code",
   "execution_count": null,
   "id": "f6ab719b",
   "metadata": {},
   "outputs": [],
   "source": [
    "name = 'y'\n",
    "name = Int(name)\n",
    "type(name)"
   ]
  },
  {
   "cell_type": "code",
   "execution_count": null,
   "id": "7a0d61c3",
   "metadata": {},
   "outputs": [],
   "source": [
    "s = Solver()"
   ]
  },
  {
   "cell_type": "code",
   "execution_count": null,
   "id": "21d65eb0",
   "metadata": {},
   "outputs": [],
   "source": [
    "print(dir(s))"
   ]
  },
  {
   "cell_type": "code",
   "execution_count": null,
   "id": "efb178c1",
   "metadata": {},
   "outputs": [],
   "source": [
    "s.add(name == 1)\n"
   ]
  },
  {
   "cell_type": "code",
   "execution_count": null,
   "id": "9ea14900",
   "metadata": {},
   "outputs": [],
   "source": [
    "s.add(name == 4)"
   ]
  },
  {
   "cell_type": "code",
   "execution_count": null,
   "id": "609bec88",
   "metadata": {},
   "outputs": [],
   "source": [
    "s.check()"
   ]
  },
  {
   "cell_type": "code",
   "execution_count": null,
   "id": "c66806c2",
   "metadata": {},
   "outputs": [],
   "source": [
    "s.model()"
   ]
  },
  {
   "cell_type": "code",
   "execution_count": null,
   "id": "7e82a187",
   "metadata": {},
   "outputs": [],
   "source": [
    "s.add(name != s.model()[name])"
   ]
  },
  {
   "cell_type": "code",
   "execution_count": null,
   "id": "b6f990bb",
   "metadata": {},
   "outputs": [],
   "source": [
    "s.check()"
   ]
  },
  {
   "cell_type": "code",
   "execution_count": null,
   "id": "8f94b39a",
   "metadata": {},
   "outputs": [],
   "source": [
    "s = Solver()\n",
    "x, y = Ints('x y')\n",
    "s.add(x+y==5, x == 2)\n",
    "s.check()"
   ]
  },
  {
   "cell_type": "code",
   "execution_count": null,
   "id": "1b00e4ca",
   "metadata": {},
   "outputs": [],
   "source": [
    "s.model()"
   ]
  },
  {
   "cell_type": "code",
   "execution_count": null,
   "id": "a3bb22f1",
   "metadata": {},
   "outputs": [],
   "source": [
    "s.add(x != s.model()[x])"
   ]
  },
  {
   "cell_type": "code",
   "execution_count": null,
   "id": "be63651b",
   "metadata": {},
   "outputs": [],
   "source": [
    "s.check()"
   ]
  },
  {
   "cell_type": "code",
   "execution_count": null,
   "id": "b88fc7f2",
   "metadata": {},
   "outputs": [],
   "source": [
    "s.model()"
   ]
  },
  {
   "cell_type": "markdown",
   "id": "b863ea40",
   "metadata": {},
   "source": [
    "# Day 22"
   ]
  },
  {
   "cell_type": "code",
   "execution_count": null,
   "id": "54ee9456",
   "metadata": {},
   "outputs": [],
   "source": [
    "from collections import *\n",
    "from itertools import *\n",
    "from functools import *\n",
    "import math\n",
    "\n",
    "f = open(\"input.txt\", 'r')\n",
    "data = f.read().splitlines()\n",
    "grid = [list(line) for line in data[:-2]]\n",
    "R = len(grid)\n",
    "r = c = 0\n",
    "empty, wall = '.', '#'\n",
    "void = ' '\n",
    "instructions = data[-1]\n",
    "def display(grid):\n",
    "    print(\"\\n\".join([\"\".join(row) for row in grid]))\n",
    "right, down, left, up = 0, 1, 2, 3\n",
    "wrap = {1: {right: (2, right), down: (3, down), left: (4, right), up: (6, right)}, 2: {right: (5, left), down: (3, left), left: (1, left), up: (6, up)}, \\\n",
    "    3: {right: (2, up), down: (5, down), left: (4, down), up: (1, up)}, 4: {right: (5, right), down: (6, down), left: (1, right), up: (3, right)}, \\\n",
    "    5: {right: (2, left), down: (6, left), left: (4, left), up: (3, up)}, 6: {right: (5, up), down: (2, down), left: (1, down), up: (4, up)}}\n",
    "headings = {0: (0, 1), 1: (1, 0), 2: (0, -1), 3: (-1, 0)}"
   ]
  },
  {
   "cell_type": "code",
   "execution_count": null,
   "id": "b9d26077",
   "metadata": {},
   "outputs": [],
   "source": [
    "C = 0\n",
    "for row in grid:\n",
    "    C = max(C, len(row))"
   ]
  },
  {
   "cell_type": "code",
   "execution_count": null,
   "id": "7d6d26df",
   "metadata": {},
   "outputs": [],
   "source": [
    "for i in range(R):\n",
    "    n = len(grid[i])\n",
    "    grid[i].extend([void]*(C-n))\n"
   ]
  },
  {
   "cell_type": "code",
   "execution_count": null,
   "id": "b658d1e8",
   "metadata": {},
   "outputs": [],
   "source": [
    "def move(steps, heading, r, c):\n",
    "    for _ in range(steps):\n",
    "        nr, nc = r + headings[heading][0], c + headings[heading][1]\n",
    "        nr %= R\n",
    "        nc %= C\n",
    "        if grid[nr][nc] == wall: break\n",
    "        while grid[nr][nc] == void:\n",
    "            nr += headings[heading][0]\n",
    "            nc += headings[heading][1]\n",
    "            nr %= R\n",
    "            nc %= C\n",
    "        if grid[nr][nc] == wall: break\n",
    "        r = nr\n",
    "        c = nc\n",
    "    return r, c"
   ]
  },
  {
   "cell_type": "code",
   "execution_count": null,
   "id": "b15780a7",
   "metadata": {},
   "outputs": [],
   "source": [
    "num = 0\n",
    "heading = 0\n",
    "for x in instructions:\n",
    "    if x.isdigit():\n",
    "        num = num * 10 + int(x)\n",
    "    else:\n",
    "        r, c = move(num, heading, r, c)\n",
    "        num = 0\n",
    "        if x == 'R':\n",
    "            heading = (heading + 1) % 4\n",
    "        elif x == 'L':\n",
    "            heading = (heading - 1) % 4\n",
    "r, c = move(num, heading, r, c)\n",
    "r, c, heading"
   ]
  },
  {
   "cell_type": "code",
   "execution_count": null,
   "id": "a9c22388",
   "metadata": {},
   "outputs": [],
   "source": [
    "1000*(r+1) + 4*(c+1) + heading"
   ]
  },
  {
   "cell_type": "markdown",
   "id": "bb8639b2",
   "metadata": {},
   "source": [
    "## Part 2"
   ]
  },
  {
   "cell_type": "code",
   "execution_count": null,
   "id": "a1c002c5",
   "metadata": {},
   "outputs": [],
   "source": [
    "from collections import *\n",
    "from itertools import *\n",
    "import math\n",
    "from typing import Tuple\n",
    "\n",
    "class Cube:\n",
    "    def __init__(self, size, grid):\n",
    "        right, down, left, up = 0, 1, 2, 3\n",
    "        self.right, self.down, self.left, self.up = right, down, left, up\n",
    "        self.edges = {1: {right: 2, left: 4, up: 6, down: 3}, \n",
    "                    2: {right: 5, left: 1, up: 6, down: 3}, \\\n",
    "                    3: {right: 2, left: 4, up: 1, down: 5}, \\\n",
    "                    4: {right: 5, left: 1, up: 3, down: 6}, \\\n",
    "                    5: {right: 2, left: 4, up: 3, down: 6}, \\\n",
    "                    6: {right: 5, left: 1, up: 4, down: 2}}\n",
    "        self.transitions = {0: {(5, 3), (3, 5), (1, 3), (3, 1), (4, 6), (6, 4), (2, 6), (6, 2)}, \\\n",
    "                            1: {(4, 5), (5, 4), (1, 2), (2, 1)}, \\\n",
    "                            2: {(1, 6), (4, 3)}, \\\n",
    "                            3: {(6, 1), (3, 4)}, \\\n",
    "                            4: {(2, 5), (5, 2)}, \\\n",
    "                            5: {(1, 4), (4, 1)}, \\\n",
    "                            6: {(2, 3), (5, 6)}, \\\n",
    "                            7: {(3, 2), (6, 5)}}\n",
    "        self.transitions = {pair: key for key, pairs in self.transitions.items() for pair in pairs}\n",
    "        self.size = 50\n",
    "        self.headings = {right: (0, 1), down: (1, 0), left: (0, -1), up: (-1, 0)}\n",
    "        self.heading_map = ['right', 'down', 'left', 'up']\n",
    "        self.horizontal = (self.right, left)\n",
    "        self.vertical = (up, down)\n",
    "        self.empty, self.wall, self.void = '.', '#', ' '\n",
    "        self.grid = grid\n",
    "        self.build()\n",
    "\n",
    "    def build(self):\n",
    "        self.face = {}\n",
    "        cnt = 1\n",
    "        for r in range(len(self.grid)):\n",
    "            for c in range(len(self.grid[r])):\n",
    "                if self.grid[r][c] == self.void: continue\n",
    "                sr, sc = r, c\n",
    "                cu = self.construct(r, c)\n",
    "                self.face[cnt] = cu\n",
    "                cnt += 1\n",
    "    \n",
    "    def construct(self, starting_row, starting_col):\n",
    "        cube_face = [[' ']*self.size for _ in range(self.size)]\n",
    "        for r, c in product(range(starting_row, starting_row + self.size), range(starting_col, starting_col + self.size)):\n",
    "            cube_face[r-starting_row][c-starting_col] = self.grid[r][c]\n",
    "            self.grid[r][c] = self.void\n",
    "        return cube_face\n",
    "\n",
    "    def get_transition(self, prev_face: int, prev_heading: int, prev_row: int, prev_col: int) -> Tuple[int, int, int, int]:\n",
    "        \"\"\"\n",
    "        returns\n",
    "        face, heading, row, col\n",
    "        \"\"\"\n",
    "        next_face = self.edges[prev_face][prev_heading]\n",
    "        face_pair = (prev_face, next_face)\n",
    "        match self.transitions[face_pair]:\n",
    "            case 0:\n",
    "                return next_face, prev_heading, 0 if prev_heading == down else n - 1, prev_col\n",
    "            case 1:\n",
    "                return next_face, prev_heading, prev_row, 0 if prev_heading == right else n - 1\n",
    "            case 2:\n",
    "                return next_face, right, prev_col, 0\n",
    "            case 3:\n",
    "                return next_face, down, 0, prev_row\n",
    "            case 4:\n",
    "                return next_face, left, n - prev_row - 1, n - 1\n",
    "            case 5:\n",
    "                return next_face, right, n - prev_row - 1, 0\n",
    "            case 6:\n",
    "                return next_face, left, prev_col, n - 1\n",
    "            case 7:\n",
    "                return next_face, up, n - 1, prev_row\n",
    "\n",
    "    def move(self, steps, heading, cur, r, c, cube) -> Tuple[int, int, int, int]:\n",
    "        \"\"\"\n",
    "        returns\n",
    "        face, heading, row, col\n",
    "        \"\"\"\n",
    "        for i in range(steps):\n",
    "            ncur, nheading, nr, nc = cur, heading, r + self.headings[heading][0], c + self.headings[heading][1]\n",
    "            if nr in (-1, self.size) or nc in (-1, self.size):\n",
    "                ncur, nheading, nr, nc = self.get_transition(cur, heading, r, c)\n",
    "            if cube.face[ncur][nr][nc] == self.wall: break\n",
    "            cur, heading, r, c = ncur, nheading, nr, nc\n",
    "        return cur, heading, r, c\n",
    "\n",
    "            \n",
    "def display(grid):\n",
    "    print(\"\\n\".join([\"\".join(row) for row in grid]))\n",
    "\n",
    "def main():\n",
    "    with open('input.txt', 'r') as f:\n",
    "        data = f.read().splitlines()\n",
    "        grid = [list(line) for line in data[:-2]]\n",
    "        num_tiles = 50\n",
    "        cube = Cube(num_tiles, grid)\n",
    "        instructions = data[-1]\n",
    "        right, down, left, up = 0, 1, 2, 3\n",
    "        heading_map = ['right', 'down', 'left', 'up']\n",
    "        r = c = num = 0\n",
    "        heading = right\n",
    "        cur_cube = 1\n",
    "        for x in instructions:\n",
    "            if x.isdigit():\n",
    "                num = num * 10 + int(x)\n",
    "            else:\n",
    "                cur_cube, heading, r, c = cube.move(num, heading, cur_cube, r, c, cube)\n",
    "                num = 0\n",
    "                if x == 'R':\n",
    "                    heading = (heading + 1) % 4\n",
    "                elif x == 'L':\n",
    "                    heading = (heading - 1) % 4\n",
    "        cur_cube, heading, r, c = cube.move(num, heading, cur_cube, r, c, cube)\n",
    "        return r, c, cur_cube, heading\n"
   ]
  },
  {
   "cell_type": "code",
   "execution_count": null,
   "id": "964c5795",
   "metadata": {},
   "outputs": [],
   "source": [
    "r, c, cur_cube, heading = main()\n",
    "r, c, cur_cube, heading\n"
   ]
  },
  {
   "cell_type": "code",
   "execution_count": null,
   "id": "cf2ccaba",
   "metadata": {},
   "outputs": [],
   "source": [
    "r += 100"
   ]
  },
  {
   "cell_type": "code",
   "execution_count": null,
   "id": "d3efe454",
   "metadata": {},
   "outputs": [],
   "source": [
    "r, c"
   ]
  },
  {
   "cell_type": "code",
   "execution_count": null,
   "id": "731f0b0c",
   "metadata": {},
   "outputs": [],
   "source": [
    "1000*(r+1) + 4*(c+1) + heading"
   ]
  },
  {
   "cell_type": "code",
   "execution_count": null,
   "id": "58f383dc",
   "metadata": {},
   "outputs": [],
   "source": [
    "right, down, left, up = 0, 1, 2, 3\n",
    "edges = {1: {right: 2, left: 4, up: 6, down: 3}, \n",
    "            2: {right: 5, left: 1, up: 6, down: 3}, \\\n",
    "            3: {right: 2, left: 4, up: 1, down: 5}, \\\n",
    "            4: {right: 5, left: 1, up: 3, down: 6}, \\\n",
    "            5: {right: 2, left: 4, up: 3, down: 6}, \\\n",
    "            6: {right: 5, left: 1, up: 4, down: 3}}\n",
    "transitions = {0: {(5, 3), (3, 5), (1, 3), (3, 1), (4, 6), (6, 4), (2, 6), (6, 2)}, \\\n",
    "                    1: {(4, 5), (5, 4), (1, 2), (2, 1)}, \\\n",
    "                    2: {(1, 6), (4, 3)}, \\\n",
    "                    3: {(6, 1), (3, 4)}, \\\n",
    "                    4: {(2, 5), (5, 2)}, \\\n",
    "                    5: {(1, 4), (4, 1)}, \\\n",
    "                    6: {(2, 3), (5, 6)}, \\\n",
    "                    7: {(3, 2), (6, 5)}}\n",
    "transitions = {pair: key for key, pairs in transitions.items() for pair in pairs}\n",
    "n = 50\n",
    "def get_transition(prev_face, prev_heading, prev_row, prev_col) -> Tuple[int, int, int, int]:\n",
    "    \"\"\"\n",
    "    returns\n",
    "    face, heading, row, col\n",
    "    \"\"\"\n",
    "    next_face = edges[prev_face][prev_heading]\n",
    "    face_pair = (prev_face, next_face)\n",
    "    match transitions[face_pair]:\n",
    "        case 0:\n",
    "            return next_face, prev_heading, 0 if prev_heading == down else n - 1, prev_col\n",
    "        case 1:\n",
    "            return next_face, prev_heading, prev_row, 0 if prev_heading == right else n - 1\n",
    "        case 2:\n",
    "            return next_face, right, prev_col, 0\n",
    "        case 3:\n",
    "            return next_face, down, 0, prev_row\n",
    "        case 4:\n",
    "            return next_face, left, n - prev_row - 1, n - 1\n",
    "        case 5:\n",
    "            return next_face, right, n - prev_row - 1, 0\n",
    "        case 6:\n",
    "            return next_face, left, prev_col, n - 1\n",
    "        case 7:\n",
    "            return next_face, up, n - 1, prev_row\n",
    "\n"
   ]
  },
  {
   "cell_type": "code",
   "execution_count": null,
   "id": "935968a3",
   "metadata": {},
   "outputs": [],
   "source": [
    "assert get_transition(1, right, 3, 20) == (2, right, 3, 0)\n",
    "assert get_transition(1, left, 3, 20) == (4, right, 46, 0)\n",
    "assert get_transition(1, up, 3, 20) == (6, right, 20, 0)\n",
    "assert get_transition(1, down, 3, 20) == (3, down, 0, 20)"
   ]
  },
  {
   "cell_type": "markdown",
   "id": "e8bc940c",
   "metadata": {},
   "source": [
    "# Day 23"
   ]
  },
  {
   "cell_type": "markdown",
   "id": "0a941ab0",
   "metadata": {},
   "source": [
    "## Part 1"
   ]
  },
  {
   "cell_type": "code",
   "execution_count": 56,
   "id": "b48d8e48",
   "metadata": {},
   "outputs": [
    {
     "name": "stdout",
     "output_type": "stream",
     "text": [
      "round 1023\n"
     ]
    }
   ],
   "source": [
    "from collections import *\n",
    "from itertools import *\n",
    "def display(grid):\n",
    "    print(\"\\n\".join([\"\".join(row) for row in grid]))\n",
    "with open('input.txt', 'r') as f:\n",
    "    data = f.read().splitlines()\n",
    "    grid = [list(line) for line in data]\n",
    "    R, C = len(grid), len(grid[0])\n",
    "    occupied = set()\n",
    "    elf = '#'\n",
    "    empty = '.'\n",
    "    for r, c in product(range(R), range(C)):\n",
    "        if grid[r][c] == elf:\n",
    "            occupied.add((r, c))\n",
    "    north, south, west, east = (-1, 0), (1, 0), (0, -1), (0, 1)\n",
    "    northwest, southwest, northeast, southeast = (-1, -1), (1, -1), (-1, 1), (1, 1)\n",
    "    proposals = [north, south, west, east]\n",
    "    rounds = 10000\n",
    "    for round in range(1, rounds+1):\n",
    "        # print('round, proposals', round, proposals)\n",
    "        next_move = {}\n",
    "        counter = Counter()\n",
    "        one_can_move = False\n",
    "        # grid = [['.']*C for _ in range(R)]\n",
    "        for r, c in occupied:\n",
    "            # grid[r][c] = elf\n",
    "            can_move = False\n",
    "            for dr, dc in [north, south, west, east, northwest, northeast, southwest, southeast]:\n",
    "                nr, nc = r + dr, c + dc\n",
    "                if (nr, nc) in occupied:\n",
    "                    can_move = True\n",
    "            if not can_move: continue\n",
    "            one_can_move = True\n",
    "            for proposal in proposals:\n",
    "                taken = False\n",
    "                proposed = None\n",
    "                if proposal == north:\n",
    "                    for dr, dc in [north, northwest, northeast]:\n",
    "                        nr, nc = r + dr, c + dc\n",
    "                        if (nr, nc) in occupied:\n",
    "                            taken = True\n",
    "                            break\n",
    "                elif proposal == south:\n",
    "                    for dr, dc in [south, southwest, southeast]:\n",
    "                        nr, nc = r + dr, c + dc\n",
    "                        if (nr, nc) in occupied:\n",
    "                            taken = True\n",
    "                            break\n",
    "                elif proposal == west:\n",
    "                    for dr, dc in [west, northwest, southwest]:\n",
    "                        nr, nc = r + dr, c + dc\n",
    "                        if (nr, nc) in occupied:\n",
    "                            taken = True\n",
    "                            break\n",
    "                elif proposal == east:\n",
    "                    for dr, dc in [east, northeast, southeast]:\n",
    "                        nr, nc = r + dr, c + dc\n",
    "                        if (nr, nc) in occupied:\n",
    "                            taken = True\n",
    "                            break\n",
    "                if not taken: \n",
    "                    proposed = proposal\n",
    "                    nr, nc = r + proposed[0], c + proposed[1]\n",
    "                    next_move[(r, c)] = (nr, nc)\n",
    "                    counter[(nr, nc)] += 1\n",
    "                    break\n",
    "        if not one_can_move:\n",
    "            print('round', round)\n",
    "            break\n",
    "        for (r, c), (nr, nc) in next_move.items():\n",
    "            if counter[(nr, nc)] == 1:\n",
    "                occupied.discard((r, c))\n",
    "                occupied.add((nr, nc))\n",
    "#                 grid[nr][nc] = elf\n",
    "                # grid[r][c] = empty\n",
    "        # print('round', round)\n",
    "        # display(grid)\n",
    "        proposals = proposals[1:] + proposals[:1]\n"
   ]
  },
  {
   "cell_type": "code",
   "execution_count": 52,
   "id": "0337d816",
   "metadata": {},
   "outputs": [],
   "source": [
    "minRow, maxRow, minCol, maxCol = min(r for r, c in occupied), max(r for r, c in occupied), min(c for r, c in occupied), max(c for r, c in occupied)"
   ]
  },
  {
   "cell_type": "code",
   "execution_count": 53,
   "id": "87dad4fa",
   "metadata": {},
   "outputs": [
    {
     "data": {
      "text/plain": [
       "(-5, 77, -6, 77)"
      ]
     },
     "execution_count": 53,
     "metadata": {},
     "output_type": "execute_result"
    }
   ],
   "source": [
    "minRow, maxRow, minCol, maxCol"
   ]
  },
  {
   "cell_type": "code",
   "execution_count": 54,
   "id": "c0a36148",
   "metadata": {},
   "outputs": [
    {
     "data": {
      "text/plain": [
       "4236"
      ]
     },
     "execution_count": 54,
     "metadata": {},
     "output_type": "execute_result"
    }
   ],
   "source": [
    "res = 0\n",
    "for r, c in product(range(minRow, maxRow+1), range(minCol, maxCol+1)):\n",
    "    if (r, c) not in occupied:\n",
    "        res += 1\n",
    "res"
   ]
  },
  {
   "cell_type": "markdown",
   "id": "7f851be6",
   "metadata": {},
   "source": [
    "## Part 2"
   ]
  },
  {
   "cell_type": "code",
   "execution_count": null,
   "id": "88122d9c",
   "metadata": {},
   "outputs": [],
   "source": []
  },
  {
   "cell_type": "code",
   "execution_count": null,
   "id": "534b5ef4",
   "metadata": {},
   "outputs": [],
   "source": []
  },
  {
   "cell_type": "code",
   "execution_count": null,
   "id": "762113de",
   "metadata": {},
   "outputs": [],
   "source": []
  }
 ],
 "metadata": {
  "kernelspec": {
   "display_name": "programming",
   "language": "python",
   "name": "python3"
  },
  "language_info": {
   "codemirror_mode": {
    "name": "ipython",
    "version": 3
   },
   "file_extension": ".py",
   "mimetype": "text/x-python",
   "name": "python",
   "nbconvert_exporter": "python",
   "pygments_lexer": "ipython3",
   "version": "3.10.0"
  },
  "vscode": {
   "interpreter": {
    "hash": "05a440cbc0a4d5663111a9b3b9ea59349399813ac6e64ad16052767f7ba4c947"
   }
  }
 },
 "nbformat": 4,
 "nbformat_minor": 5
}
