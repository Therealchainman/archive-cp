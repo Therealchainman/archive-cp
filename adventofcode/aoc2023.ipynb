{
 "cells": [
  {
   "cell_type": "markdown",
   "metadata": {},
   "source": [
    "# IMPORTS"
   ]
  },
  {
   "cell_type": "code",
   "execution_count": 3,
   "metadata": {},
   "outputs": [],
   "source": [
    "from collections import *\n",
    "from functools import *\n",
    "from itertools import *\n",
    "import sys\n",
    "import re\n",
    "import math\n",
    "import string\n",
    "import bisect\n",
    "from parse import compile\n",
    "import matplotlib.pyplot as plt\n",
    "import numpy as np\n",
    "import heapq\n",
    "from matplotlib.path import Path\n",
    "import ast\n"
   ]
  },
  {
   "cell_type": "markdown",
   "metadata": {},
   "source": [
    "# SOLVING"
   ]
  },
  {
   "cell_type": "code",
   "execution_count": 126,
   "metadata": {},
   "outputs": [
    {
     "name": "stdout",
     "output_type": "stream",
     "text": [
      "part 1: 733\n",
      "part 2: 725\n"
     ]
    }
   ],
   "source": [
    "gain = compile(\"{} would gain {:d} happiness units by sitting next to {}.\")\n",
    "lose = compile(\"{} would lose {:d} happiness units by sitting next to {}.\")\n",
    "def solve(n, adj_mat):\n",
    "    score = lambda arr: sum(adj_mat[arr[i]][arr[(i + 1) % n]] + adj_mat[arr[i]][arr[(i - 1) % n]] for i in range(n))\n",
    "    return max(score(perm) for perm in permutations(range(n)))\n",
    "def main():\n",
    "    with open('big.txt', 'r') as f:\n",
    "        data = f.read().splitlines()\n",
    "        nodes = set()\n",
    "        for line in data:\n",
    "            g, l = gain.parse(line), lose.parse(line)\n",
    "            if g:\n",
    "                u, w, v = g.fixed\n",
    "            else:\n",
    "                u, w, v = l.fixed\n",
    "            nodes.update((u, v))\n",
    "        n = len(nodes)\n",
    "        adj_mat = [[0] * (n + 1) for _ in range(n + 1)]\n",
    "        nodes = list(nodes)\n",
    "        index = {node: i for i, node in enumerate(nodes)}\n",
    "        for line in data:\n",
    "            g, l = gain.parse(line), lose.parse(line)\n",
    "            if g:\n",
    "                u, w, v = g.fixed\n",
    "            else:\n",
    "                u, w, v = l.fixed\n",
    "                w = -w\n",
    "            adj_mat[index[u]][index[v]] = w\n",
    "        part_1 = solve(n, adj_mat)\n",
    "        print(\"part 1:\", part_1)\n",
    "        part_2 = solve(n + 1, adj_mat)\n",
    "        print(\"part 2:\", part_2)\n",
    "main()"
   ]
  },
  {
   "cell_type": "code",
   "execution_count": 108,
   "metadata": {},
   "outputs": [
    {
     "data": {
      "text/plain": [
       "40320"
      ]
     },
     "execution_count": 108,
     "metadata": {},
     "output_type": "execute_result"
    }
   ],
   "source": [
    "math.factorial(8)"
   ]
  },
  {
   "cell_type": "code",
   "execution_count": 49,
   "metadata": {},
   "outputs": [
    {
     "data": {
      "text/plain": [
       "False"
      ]
     },
     "execution_count": 49,
     "metadata": {},
     "output_type": "execute_result"
    }
   ],
   "source": [
    "None is False"
   ]
  },
  {
   "cell_type": "code",
   "execution_count": null,
   "metadata": {},
   "outputs": [],
   "source": []
  },
  {
   "cell_type": "code",
   "execution_count": null,
   "metadata": {},
   "outputs": [],
   "source": []
  },
  {
   "cell_type": "code",
   "execution_count": null,
   "metadata": {},
   "outputs": [],
   "source": []
  },
  {
   "cell_type": "code",
   "execution_count": null,
   "metadata": {},
   "outputs": [],
   "source": [
    "turn_on = compile(\"turn on {:d},{:d} through {:d},{:d}\")\n",
    "turn_off = compile(\"turn off {:d},{:d} through {:d},{:d}\")\n",
    "toggle = compile(\"toggle {:d},{:d} through {:d},{:d}\")\n",
    "with open('input.txt', 'r') as f:\n",
    "    data = f.read().splitlines()\n",
    "    lights = [[0] * 1000 for _ in range(1000)]\n",
    "    for line in data:\n",
    "        to, toff, tog = turn_on.parse(line), turn_off.parse(line), toggle.parse(line)\n",
    "        if to is not None:\n",
    "            r1, c1, r2, c2 = to.fixed\n",
    "            for r, c in product(range(r1, r2 + 1), range(c1, c2 + 1)):\n",
    "                lights[r][c] += 1\n",
    "        elif toff is not None:\n",
    "            r1, c1, r2, c2 = toff.fixed\n",
    "            for r, c in product(range(r1, r2 + 1), range(c1, c2 + 1)):\n",
    "                lights[r][c] = max(0, lights[r][c] - 1)\n",
    "        else:\n",
    "            r1, c1, r2, c2 = tog.fixed\n",
    "            for r, c in product(range(r1, r2 + 1), range(c1, c2 + 1)):\n",
    "                lights[r][c] += 2\n",
    "    print(sum(map(sum, lights)))"
   ]
  },
  {
   "cell_type": "code",
   "execution_count": null,
   "metadata": {},
   "outputs": [],
   "source": []
  }
 ],
 "metadata": {
  "kernelspec": {
   "display_name": "programming",
   "language": "python",
   "name": "python3"
  },
  "language_info": {
   "codemirror_mode": {
    "name": "ipython",
    "version": 3
   },
   "file_extension": ".py",
   "mimetype": "text/x-python",
   "name": "python",
   "nbconvert_exporter": "python",
   "pygments_lexer": "ipython3",
   "version": "3.11.3"
  }
 },
 "nbformat": 4,
 "nbformat_minor": 2
}
