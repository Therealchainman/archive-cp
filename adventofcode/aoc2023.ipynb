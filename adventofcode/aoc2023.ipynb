{
 "cells": [
  {
   "cell_type": "markdown",
   "metadata": {},
   "source": [
    "# IMPORTS"
   ]
  },
  {
   "cell_type": "code",
   "execution_count": 6,
   "metadata": {},
   "outputs": [],
   "source": [
    "from collections import *\n",
    "from functools import *\n",
    "from itertools import *\n",
    "import sys\n",
    "import re\n",
    "import math\n",
    "import string\n",
    "import bisect\n",
    "from parse import compile"
   ]
  },
  {
   "cell_type": "markdown",
   "metadata": {},
   "source": [
    "# Part 1"
   ]
  },
  {
   "cell_type": "code",
   "execution_count": 28,
   "metadata": {},
   "outputs": [
    {
     "name": "stdout",
     "output_type": "stream",
     "text": [
      "4403592\n"
     ]
    }
   ],
   "source": [
    "with open('input.txt', 'r') as f:\n",
    "    data = f.read().splitlines()\n",
    "    _, times = data[0].split((\":\"))\n",
    "    times = list(map(int, times.split()))\n",
    "    _, distance = data[1].split(\":\")\n",
    "    distance = list(map(int, distance.split()))\n",
    "    res = 1\n",
    "    for t, d in zip(times, distance):\n",
    "        ways = 0\n",
    "        for spd in range(t + 1):\n",
    "            if spd * (t - spd) > d: ways += 1\n",
    "        res *= ways\n",
    "    print(res)\n"
   ]
  },
  {
   "cell_type": "markdown",
   "metadata": {},
   "source": [
    "# Part 2"
   ]
  },
  {
   "cell_type": "code",
   "execution_count": 36,
   "metadata": {},
   "outputs": [
    {
     "name": "stdout",
     "output_type": "stream",
     "text": [
      "38017587\n"
     ]
    }
   ],
   "source": [
    "with open('input.txt', 'r') as f:\n",
    "    data = f.read().splitlines()\n",
    "    _, times = data[0].split((\":\"))\n",
    "    time = int(\"\".join(times.split()))\n",
    "    _, distances = data[1].split(\":\")\n",
    "    distance = int(\"\".join(distances.split()))\n",
    "    res = sum(1 for t in range(time + 1) if t * (time - t) > distance)\n",
    "    print(res)\n"
   ]
  },
  {
   "cell_type": "code",
   "execution_count": null,
   "metadata": {},
   "outputs": [],
   "source": []
  },
  {
   "cell_type": "code",
   "execution_count": 40,
   "metadata": {},
   "outputs": [
    {
     "name": "stdout",
     "output_type": "stream",
     "text": [
      "17836115\n"
     ]
    }
   ],
   "source": [
    "turn_on = compile(\"turn on {:d},{:d} through {:d},{:d}\")\n",
    "turn_off = compile(\"turn off {:d},{:d} through {:d},{:d}\")\n",
    "toggle = compile(\"toggle {:d},{:d} through {:d},{:d}\")\n",
    "with open('input.txt', 'r') as f:\n",
    "    data = f.read().splitlines()\n",
    "    lights = [[0] * 1000 for _ in range(1000)]\n",
    "    for line in data:\n",
    "        to, toff, tog = turn_on.parse(line), turn_off.parse(line), toggle.parse(line)\n",
    "        if to is not None:\n",
    "            r1, c1, r2, c2 = to.fixed\n",
    "            for r, c in product(range(r1, r2 + 1), range(c1, c2 + 1)):\n",
    "                lights[r][c] += 1\n",
    "        elif toff is not None:\n",
    "            r1, c1, r2, c2 = toff.fixed\n",
    "            for r, c in product(range(r1, r2 + 1), range(c1, c2 + 1)):\n",
    "                lights[r][c] = max(0, lights[r][c] - 1)\n",
    "        else:\n",
    "            r1, c1, r2, c2 = tog.fixed\n",
    "            for r, c in product(range(r1, r2 + 1), range(c1, c2 + 1)):\n",
    "                lights[r][c] += 2\n",
    "    print(sum(map(sum, lights)))"
   ]
  },
  {
   "cell_type": "code",
   "execution_count": null,
   "metadata": {},
   "outputs": [],
   "source": []
  }
 ],
 "metadata": {
  "kernelspec": {
   "display_name": "programming",
   "language": "python",
   "name": "python3"
  },
  "language_info": {
   "codemirror_mode": {
    "name": "ipython",
    "version": 3
   },
   "file_extension": ".py",
   "mimetype": "text/x-python",
   "name": "python",
   "nbconvert_exporter": "python",
   "pygments_lexer": "ipython3",
   "version": "3.11.3"
  }
 },
 "nbformat": 4,
 "nbformat_minor": 2
}
