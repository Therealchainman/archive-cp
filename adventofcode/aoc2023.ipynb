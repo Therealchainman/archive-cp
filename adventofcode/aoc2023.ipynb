{
 "cells": [
  {
   "cell_type": "markdown",
   "metadata": {},
   "source": [
    "# IMPORTS"
   ]
  },
  {
   "cell_type": "code",
   "execution_count": null,
   "metadata": {},
   "outputs": [],
   "source": [
    "from collections import *\n",
    "from functools import *\n",
    "from itertools import *\n",
    "import sys\n",
    "import re\n",
    "import math\n",
    "import string\n",
    "import bisect\n",
    "from parse import compile"
   ]
  },
  {
   "cell_type": "markdown",
   "metadata": {},
   "source": [
    "# Part 1"
   ]
  },
  {
   "cell_type": "code",
   "execution_count": null,
   "metadata": {},
   "outputs": [],
   "source": [
    "def get_hand_rank(hand):\n",
    "    card_counts = {}\n",
    "    card_values = {'A': 14, 'K': 13, 'Q': 12, 'J': 11, 'T': 10, '9': 9, '8': 8, '7': 7, '6': 6, '5': 5, '4': 4, '3': 3, '2': 2}\n",
    "\n",
    "    for card in hand:\n",
    "        if card in card_counts:\n",
    "            card_counts[card] += 1\n",
    "        else:\n",
    "            card_counts[card] = 1\n",
    "\n",
    "    sorted_counts = sorted(card_counts.values(), reverse=True)\n",
    "\n",
    "    if sorted_counts == [5]:\n",
    "        # Five of a kind\n",
    "        return (7, [card_values[hand[i]] for i in range(5)])\n",
    "    elif sorted_counts == [4, 1]:\n",
    "        # Four of a kind\n",
    "        return (6, [card_values[hand[i]] for i in range(5)])\n",
    "    elif sorted_counts == [3, 2]:\n",
    "        # Full house\n",
    "        return (5, [card_values[hand[i]] for i in range(5)])\n",
    "    elif sorted_counts == [3, 1, 1]:\n",
    "        # Three of a kind\n",
    "        return (4, [card_values[hand[i]] for i in range(5)])\n",
    "    elif sorted_counts == [2, 2, 1]:\n",
    "        # Two pair\n",
    "        return (3, [card_values[hand[i]] for i in range(5)])\n",
    "    elif sorted_counts == [2, 1, 1, 1]:\n",
    "        # One pair\n",
    "        return (2, [card_values[hand[i]] for i in range(5)])\n",
    "    else:\n",
    "        # High card\n",
    "        return (1, [card_values[hand[i]] for i in range(5)])\n",
    "\n",
    "with open('input.txt', 'r') as f:\n",
    "    data = f.read().splitlines()\n",
    "    print(data)\n",
    "    hands = []\n",
    "    values = {}\n",
    "    for i, line in enumerate(data):\n",
    "        hand, val = line.split()\n",
    "        val = int(val)\n",
    "        values[i] = val\n",
    "        hands.append((hand, i))\n",
    "    \n",
    "    def order_hands(hands):\n",
    "        return sorted(hands, key = lambda x: get_hand_rank(x[0]), reverse = True)\n",
    "    ordered_hands = order_hands(hands)\n",
    "    res = 0\n",
    "    rank = 1\n",
    "    for hand, i in reversed(ordered_hands):\n",
    "        res += rank * values[i]\n",
    "        rank += 1\n",
    "    print(res)"
   ]
  },
  {
   "cell_type": "code",
   "execution_count": 70,
   "metadata": {},
   "outputs": [
    {
     "name": "stdout",
     "output_type": "stream",
     "text": [
      "252137472\n"
     ]
    }
   ],
   "source": [
    "def get_hand_rank(hand):\n",
    "    card_counts = {}\n",
    "    card_values = {'A': 14, 'K': 13, 'Q': 12, 'T': 10, '9': 9, '8': 8, '7': 7, '6': 6, '5': 5, '4': 4, '3': 3, '2': 2, \"J\": 1}\n",
    "\n",
    "    # Count occurrences of each card, including J acting as a wildcard\n",
    "    for card in hand:\n",
    "        if card in card_counts:\n",
    "            card_counts[card] += 1\n",
    "        else:\n",
    "            card_counts[card] = 1\n",
    "    hand_list = list(hand)\n",
    "    # Use J as a wildcard to generate all possible hands\n",
    "    cur_hands = [hand_list]\n",
    "    for i in range(5):\n",
    "        if hand[i] == \"J\":\n",
    "            new_hands = []\n",
    "            for cur_hand in cur_hands:\n",
    "                for other_card in card_values.keys():\n",
    "                    new_hand = cur_hand[:]\n",
    "                    new_hand[i] = other_card\n",
    "                    new_hands.append(new_hand)\n",
    "            cur_hands = new_hands\n",
    "    for i in range(len(cur_hands)):\n",
    "        cur_hands[i] = \"\".join(cur_hands[i])\n",
    "    # Calculate ranks for all possible hands and choose the best rank\n",
    "    best_rank = calculate_rank(cur_hands[0]) # Initialize with positive infinity to ensure it gets updated\n",
    "    best_hand = cur_hands[0]\n",
    "    for possible_hand in cur_hands[1:]:\n",
    "        current_rank = calculate_rank(possible_hand)\n",
    "        if current_rank > best_rank:\n",
    "            best_hand = possible_hand\n",
    "            best_rank = current_rank\n",
    "    return best_rank, [card_values[hand[i]] for i in range(5)]\n",
    "\n",
    "def calculate_rank(hand):\n",
    "    card_counts = {}\n",
    "    card_values = {'A': 14, 'K': 13, 'Q': 12, 'T': 10, '9': 9, '8': 8, '7': 7, '6': 6, '5': 5, '4': 4, '3': 3, '2': 2, \"J\": 1}\n",
    "\n",
    "    for card in hand:\n",
    "        if card in card_counts:\n",
    "            card_counts[card] += 1\n",
    "        else:\n",
    "            card_counts[card] = 1\n",
    "\n",
    "    sorted_counts = sorted(card_counts.values(), reverse=True)\n",
    "    if sorted_counts == [5]:\n",
    "        # Five of a kind\n",
    "        return 7\n",
    "    elif sorted_counts == [4, 1]:\n",
    "        # Four of a kind\n",
    "        return 6\n",
    "    elif sorted_counts == [3, 2]:\n",
    "        # Full house\n",
    "        return 5\n",
    "    elif sorted_counts == [3, 1, 1]:\n",
    "        # Three of a kind\n",
    "        return 4\n",
    "    elif sorted_counts == [2, 2, 1]:\n",
    "        # Two pair\n",
    "        return 3\n",
    "    elif sorted_counts == [2, 1, 1, 1]:\n",
    "        # One pair\n",
    "        return 2\n",
    "    else:\n",
    "        # High card\n",
    "        return 1\n",
    "\n",
    "with open('input.txt', 'r') as f:\n",
    "    data = f.read().splitlines()\n",
    "    hands = []\n",
    "    values = {}\n",
    "    for i, line in enumerate(data):\n",
    "        hand, val = line.split()\n",
    "        val = int(val)\n",
    "        values[i] = val\n",
    "        hands.append((hand, i))\n",
    "    \n",
    "    def order_hands(hands):\n",
    "        return sorted(hands, key = lambda x: get_hand_rank(x[0]), reverse = True)\n",
    "    ordered_hands = order_hands(hands)\n",
    "    res = 0\n",
    "    rank = 1\n",
    "    for hand, i in reversed(ordered_hands):\n",
    "        res += rank * values[i]\n",
    "        rank += 1\n",
    "    print(res)"
   ]
  },
  {
   "cell_type": "code",
   "execution_count": 66,
   "metadata": {},
   "outputs": [
    {
     "data": {
      "text/plain": [
       "(7, [14, 14, 14, 14, 14])"
      ]
     },
     "execution_count": 66,
     "metadata": {},
     "output_type": "execute_result"
    }
   ],
   "source": [
    "get_hand_rank(\"KTJJT\")\n",
    "get_hand_rank(\"AAAAA\")"
   ]
  },
  {
   "cell_type": "code",
   "execution_count": null,
   "metadata": {},
   "outputs": [],
   "source": [
    "252137472"
   ]
  },
  {
   "cell_type": "code",
   "execution_count": null,
   "metadata": {},
   "outputs": [],
   "source": [
    "def get_hand_rank(hand):\n",
    "    card_counts = {}\n",
    "\n",
    "    for card in hand:\n",
    "        if card in card_counts:\n",
    "            card_counts[card] += 1\n",
    "        else:\n",
    "            card_counts[card] = 1\n",
    "\n",
    "    sorted_counts = sorted(card_counts.values(), reverse=True)\n",
    "\n",
    "    if sorted_counts == [5]:\n",
    "        return 1  # Five of a kind\n",
    "    elif sorted_counts == [4, 1]:\n",
    "        return 2  # Four of a kind\n",
    "    elif sorted_counts == [3, 2]:\n",
    "        return 3  # Full house\n",
    "    elif sorted_counts == [3, 1, 1]:\n",
    "        return 4  # Three of a kind\n",
    "    elif sorted_counts == [2, 2, 1]:\n",
    "        return 5  # Two pair\n",
    "    elif sorted_counts == [2, 1, 1, 1]:\n",
    "        return 6  # One pair\n",
    "    else:\n",
    "        return 7  # High card\n",
    "\n",
    "def order_hands(hands):\n",
    "    return sorted(hands, key=get_hand_rank)\n",
    "\n",
    "# Example usage\n",
    "hands = [\"AAAAA\", \"AA8AA\", \"23332\", \"TTT98\", \"23432\", \"A23A4\", \"23456\"]\n",
    "\n",
    "ordered_hands = order_hands(hands)\n",
    "\n",
    "print(\"Ordered Hands:\", ordered_hands)"
   ]
  },
  {
   "cell_type": "markdown",
   "metadata": {},
   "source": [
    "# Part 2"
   ]
  },
  {
   "cell_type": "code",
   "execution_count": null,
   "metadata": {},
   "outputs": [],
   "source": [
    "with open('input.txt', 'r') as f:\n",
    "    data = f.read().splitlines()\n",
    "    _, times = data[0].split((\":\"))\n",
    "    time = int(\"\".join(times.split()))\n",
    "    _, distances = data[1].split(\":\")\n",
    "    distance = int(\"\".join(distances.split()))\n",
    "    res = sum(1 for t in range(time + 1) if t * (time - t) > distance)\n",
    "    print(res)\n"
   ]
  },
  {
   "cell_type": "code",
   "execution_count": null,
   "metadata": {},
   "outputs": [],
   "source": [
    "turn_on = compile(\"turn on {:d},{:d} through {:d},{:d}\")\n",
    "turn_off = compile(\"turn off {:d},{:d} through {:d},{:d}\")\n",
    "toggle = compile(\"toggle {:d},{:d} through {:d},{:d}\")\n",
    "with open('input.txt', 'r') as f:\n",
    "    data = f.read().splitlines()\n",
    "    lights = [[0] * 1000 for _ in range(1000)]\n",
    "    for line in data:\n",
    "        to, toff, tog = turn_on.parse(line), turn_off.parse(line), toggle.parse(line)\n",
    "        if to is not None:\n",
    "            r1, c1, r2, c2 = to.fixed\n",
    "            for r, c in product(range(r1, r2 + 1), range(c1, c2 + 1)):\n",
    "                lights[r][c] += 1\n",
    "        elif toff is not None:\n",
    "            r1, c1, r2, c2 = toff.fixed\n",
    "            for r, c in product(range(r1, r2 + 1), range(c1, c2 + 1)):\n",
    "                lights[r][c] = max(0, lights[r][c] - 1)\n",
    "        else:\n",
    "            r1, c1, r2, c2 = tog.fixed\n",
    "            for r, c in product(range(r1, r2 + 1), range(c1, c2 + 1)):\n",
    "                lights[r][c] += 2\n",
    "    print(sum(map(sum, lights)))"
   ]
  },
  {
   "cell_type": "code",
   "execution_count": null,
   "metadata": {},
   "outputs": [],
   "source": []
  }
 ],
 "metadata": {
  "kernelspec": {
   "display_name": "programming",
   "language": "python",
   "name": "python3"
  },
  "language_info": {
   "codemirror_mode": {
    "name": "ipython",
    "version": 3
   },
   "file_extension": ".py",
   "mimetype": "text/x-python",
   "name": "python",
   "nbconvert_exporter": "python",
   "pygments_lexer": "ipython3",
   "version": "3.11.3"
  }
 },
 "nbformat": 4,
 "nbformat_minor": 2
}
