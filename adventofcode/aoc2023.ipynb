{
 "cells": [
  {
   "cell_type": "markdown",
   "metadata": {},
   "source": [
    "# IMPORTS"
   ]
  },
  {
   "cell_type": "code",
   "execution_count": 33,
   "metadata": {},
   "outputs": [],
   "source": [
    "from collections import *\n",
    "from functools import *\n",
    "from itertools import *\n",
    "import sys\n",
    "import re\n",
    "import math\n",
    "import string\n",
    "import bisect\n",
    "from parse import compile\n",
    "import matplotlib.pyplot as plt\n",
    "import numpy as np\n",
    "import heapq"
   ]
  },
  {
   "cell_type": "markdown",
   "metadata": {},
   "source": [
    "# Part 1"
   ]
  },
  {
   "cell_type": "code",
   "execution_count": 61,
   "metadata": {},
   "outputs": [
    {
     "name": "stdout",
     "output_type": "stream",
     "text": [
      "141\n"
     ]
    }
   ],
   "source": [
    "edge_encoded = compile(\"{} to {} = {:d}\")\n",
    "\n",
    "with open('input.txt', 'r') as f:\n",
    "    data = f.read().splitlines()\n",
    "    # step 1: count number of distinct nodes\n",
    "    seen = set()\n",
    "    index = {}\n",
    "    for line in data:\n",
    "        u, v, w = edge_encoded.parse(line).fixed\n",
    "        if u not in seen:\n",
    "            index[u] = len(index)\n",
    "            seen.add(u)\n",
    "        if v not in seen:\n",
    "            index[v] = len(index)\n",
    "            seen.add(v)\n",
    "    n = len(seen)\n",
    "    # step 2: read in the all pairs shortest distance\n",
    "    dist = [[0] * n for _ in range(n)]\n",
    "    for line in data:\n",
    "        u, v, w = edge_encoded.parse(line).fixed\n",
    "        dist[index[u]][index[v]] = w\n",
    "        dist[index[v]][index[u]] = w\n",
    "\n",
    "    # step 3: run dynamic programming\n",
    "    res = math.inf\n",
    "    # start a trip from each node\n",
    "    for src in range(n):\n",
    "        dp = [[math.inf] * n for _ in range(1 << n)]\n",
    "        dp[1 << src][src] = 0\n",
    "        for mask in range(1 << src, 1 << n):\n",
    "            for u in range(n):\n",
    "                if dp[mask][u] == math.inf: continue\n",
    "                for v in range(n):\n",
    "                    if (mask >> v) & 1: continue # already visited\n",
    "                    nmask = mask | (1 << v)\n",
    "                    dp[nmask][v] = min(dp[nmask][v], dp[mask][u] + dist[u][v])\n",
    "        # for all routes that visit every node and the last visited node is i\n",
    "        for i in range(n):\n",
    "            res = min(res, dp[(1 << n) - 1][i])\n",
    "    print(res)\n",
    "    \n"
   ]
  },
  {
   "cell_type": "markdown",
   "metadata": {},
   "source": [
    "# Part 2"
   ]
  },
  {
   "cell_type": "code",
   "execution_count": null,
   "metadata": {},
   "outputs": [],
   "source": []
  },
  {
   "cell_type": "code",
   "execution_count": null,
   "metadata": {},
   "outputs": [],
   "source": []
  },
  {
   "cell_type": "code",
   "execution_count": null,
   "metadata": {},
   "outputs": [],
   "source": [
    "turn_on = compile(\"turn on {:d},{:d} through {:d},{:d}\")\n",
    "turn_off = compile(\"turn off {:d},{:d} through {:d},{:d}\")\n",
    "toggle = compile(\"toggle {:d},{:d} through {:d},{:d}\")\n",
    "with open('input.txt', 'r') as f:\n",
    "    data = f.read().splitlines()\n",
    "    lights = [[0] * 1000 for _ in range(1000)]\n",
    "    for line in data:\n",
    "        to, toff, tog = turn_on.parse(line), turn_off.parse(line), toggle.parse(line)\n",
    "        if to is not None:\n",
    "            r1, c1, r2, c2 = to.fixed\n",
    "            for r, c in product(range(r1, r2 + 1), range(c1, c2 + 1)):\n",
    "                lights[r][c] += 1\n",
    "        elif toff is not None:\n",
    "            r1, c1, r2, c2 = toff.fixed\n",
    "            for r, c in product(range(r1, r2 + 1), range(c1, c2 + 1)):\n",
    "                lights[r][c] = max(0, lights[r][c] - 1)\n",
    "        else:\n",
    "            r1, c1, r2, c2 = tog.fixed\n",
    "            for r, c in product(range(r1, r2 + 1), range(c1, c2 + 1)):\n",
    "                lights[r][c] += 2\n",
    "    print(sum(map(sum, lights)))"
   ]
  },
  {
   "cell_type": "code",
   "execution_count": null,
   "metadata": {},
   "outputs": [],
   "source": []
  }
 ],
 "metadata": {
  "kernelspec": {
   "display_name": "programming",
   "language": "python",
   "name": "python3"
  },
  "language_info": {
   "codemirror_mode": {
    "name": "ipython",
    "version": 3
   },
   "file_extension": ".py",
   "mimetype": "text/x-python",
   "name": "python",
   "nbconvert_exporter": "python",
   "pygments_lexer": "ipython3",
   "version": "3.11.3"
  }
 },
 "nbformat": 4,
 "nbformat_minor": 2
}
