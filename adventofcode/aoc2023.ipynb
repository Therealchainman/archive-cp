{
 "cells": [
  {
   "cell_type": "markdown",
   "metadata": {},
   "source": [
    "# IMPORTS"
   ]
  },
  {
   "cell_type": "code",
   "execution_count": 5,
   "metadata": {},
   "outputs": [],
   "source": [
    "from collections import *\n",
    "from functools import *\n",
    "from itertools import *\n",
    "import sys\n",
    "import re\n",
    "import math\n",
    "import string\n",
    "import bisect\n",
    "from parse import compile\n",
    "import matplotlib.pyplot as plt\n",
    "import numpy as np\n",
    "import heapq\n",
    "from matplotlib.path import Path\n",
    "import ast\n"
   ]
  },
  {
   "cell_type": "markdown",
   "metadata": {},
   "source": [
    "# SOLVING"
   ]
  },
  {
   "cell_type": "code",
   "execution_count": 161,
   "metadata": {},
   "outputs": [
    {
     "name": "stdout",
     "output_type": "stream",
     "text": [
      "part 1: 7674\n",
      "part 2: 4443895258186\n"
     ]
    }
   ],
   "source": [
    "def solve(elements, groups):\n",
    "    # state = (current group size, current group index, last character)\n",
    "    bags = Counter()\n",
    "    if elements[0] == \"?\" or elements[0] == \"#\":\n",
    "        bags[(1, 0)] += 1\n",
    "    if elements[0] == \"?\" or elements[0] == \".\":\n",
    "        bags[(0, 0)] += 1\n",
    "    n = len(elements)\n",
    "    m = len(groups)\n",
    "    for i in range(1, n):\n",
    "        new_bags = Counter()\n",
    "        for (cur, j), cnt in bags.items():\n",
    "            if elements[i] == \".\":\n",
    "                if cur == 0:\n",
    "                    new_bags[(0, j)] += cnt\n",
    "                elif cur == groups[j]:\n",
    "                    new_bags[(0, j + 1)] += cnt\n",
    "            elif elements[i] == \"#\":\n",
    "                if j < m and cur < groups[j]:\n",
    "                    new_bags[(cur + 1, j)] += cnt\n",
    "            else:\n",
    "                if cur == 0:\n",
    "                    new_bags[(0, j)] += cnt\n",
    "                    if j < m:\n",
    "                        new_bags[(1, j)] += cnt\n",
    "                elif cur == groups[j]:\n",
    "                    new_bags[(0, j + 1)] += cnt\n",
    "                elif cur > 0:\n",
    "                    new_bags[(cur + 1, j)] += cnt\n",
    "        bags = new_bags\n",
    "    return sum(cnt for (_, j), cnt in bags.items() if j == m)\n",
    "def parts(sz):\n",
    "    with open(\"big.txt\", \"r\") as f:\n",
    "        data = f.read().splitlines()\n",
    "        res = 0\n",
    "        for line in data:\n",
    "            first, second = line.split()\n",
    "            start = list(map(int, second.split(\",\")))\n",
    "            elements = \"?\".join([first for _ in range(sz)]) + \".\"\n",
    "            groups = []\n",
    "            for _ in range(sz):\n",
    "                groups.extend(start)\n",
    "            res += solve(elements, groups)\n",
    "        return res\n",
    "print(\"part 1:\", parts(1))\n",
    "print(\"part 2:\", parts(5))"
   ]
  },
  {
   "cell_type": "code",
   "execution_count": 43,
   "metadata": {},
   "outputs": [
    {
     "data": {
      "text/plain": [
       "524288"
      ]
     },
     "execution_count": 43,
     "metadata": {},
     "output_type": "execute_result"
    }
   ],
   "source": [
    "2**19"
   ]
  },
  {
   "cell_type": "code",
   "execution_count": null,
   "metadata": {},
   "outputs": [],
   "source": []
  },
  {
   "cell_type": "code",
   "execution_count": null,
   "metadata": {},
   "outputs": [],
   "source": []
  },
  {
   "cell_type": "code",
   "execution_count": null,
   "metadata": {},
   "outputs": [],
   "source": []
  },
  {
   "cell_type": "code",
   "execution_count": null,
   "metadata": {},
   "outputs": [],
   "source": []
  },
  {
   "cell_type": "code",
   "execution_count": null,
   "metadata": {},
   "outputs": [],
   "source": [
    "turn_on = compile(\"turn on {:d},{:d} through {:d},{:d}\")\n",
    "turn_off = compile(\"turn off {:d},{:d} through {:d},{:d}\")\n",
    "toggle = compile(\"toggle {:d},{:d} through {:d},{:d}\")\n",
    "with open('input.txt', 'r') as f:\n",
    "    data = f.read().splitlines()\n",
    "    lights = [[0] * 1000 for _ in range(1000)]\n",
    "    for line in data:\n",
    "        to, toff, tog = turn_on.parse(line), turn_off.parse(line), toggle.parse(line)\n",
    "        if to is not None:\n",
    "            r1, c1, r2, c2 = to.fixed\n",
    "            for r, c in product(range(r1, r2 + 1), range(c1, c2 + 1)):\n",
    "                lights[r][c] += 1\n",
    "        elif toff is not None:\n",
    "            r1, c1, r2, c2 = toff.fixed\n",
    "            for r, c in product(range(r1, r2 + 1), range(c1, c2 + 1)):\n",
    "                lights[r][c] = max(0, lights[r][c] - 1)\n",
    "        else:\n",
    "            r1, c1, r2, c2 = tog.fixed\n",
    "            for r, c in product(range(r1, r2 + 1), range(c1, c2 + 1)):\n",
    "                lights[r][c] += 2\n",
    "    print(sum(map(sum, lights)))"
   ]
  },
  {
   "cell_type": "code",
   "execution_count": null,
   "metadata": {},
   "outputs": [],
   "source": []
  }
 ],
 "metadata": {
  "kernelspec": {
   "display_name": "programming",
   "language": "python",
   "name": "python3"
  },
  "language_info": {
   "codemirror_mode": {
    "name": "ipython",
    "version": 3
   },
   "file_extension": ".py",
   "mimetype": "text/x-python",
   "name": "python",
   "nbconvert_exporter": "python",
   "pygments_lexer": "ipython3",
   "version": "3.11.3"
  }
 },
 "nbformat": 4,
 "nbformat_minor": 2
}
