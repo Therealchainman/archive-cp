{
 "cells": [
  {
   "cell_type": "markdown",
   "metadata": {},
   "source": [
    "# IMPORTS"
   ]
  },
  {
   "cell_type": "code",
   "execution_count": 1,
   "metadata": {},
   "outputs": [],
   "source": [
    "from collections import *\n",
    "from functools import *\n",
    "from itertools import *\n",
    "import sys\n",
    "import re\n",
    "import math\n",
    "import string\n",
    "import bisect\n",
    "from parse import compile\n",
    "import matplotlib.pyplot as plt\n",
    "import numpy as np\n",
    "import heapq\n",
    "from matplotlib.path import Path\n",
    "import ast\n"
   ]
  },
  {
   "cell_type": "markdown",
   "metadata": {},
   "source": [
    "# SOLVING"
   ]
  },
  {
   "cell_type": "code",
   "execution_count": 48,
   "metadata": {},
   "outputs": [
    {
     "name": "stdout",
     "output_type": "stream",
     "text": [
      "108857\n"
     ]
    }
   ],
   "source": [
    "\n",
    "with open('big.txt', 'r') as f:\n",
    "    data = f.read().splitlines()\n",
    "    grid = [list(line) for line in data]\n",
    "    R, C = len(grid), len(grid[0])\n",
    "    rocks = set()\n",
    "    objects = []\n",
    "    for r, c in product(range(R), range(C)):\n",
    "        if grid[r][c] == \"#\":\n",
    "            rocks.add(c + r * 1j)\n",
    "        elif grid[r][c] == \"O\":\n",
    "            objects.append(c + r * 1j)\n",
    "    res = 0\n",
    "    for object in objects:\n",
    "        z = object\n",
    "        while z.imag > 0:\n",
    "            if z - 1j not in rocks:\n",
    "                z -= 1j\n",
    "            else: break\n",
    "        res += R - z.imag\n",
    "        rocks.add(z)\n",
    "    print(int(res))\n",
    "\n",
    "    # grid = set()\n",
    "    # abyss = 0\n",
    "    # def place_rocks(x1, y1, x2, y2):\n",
    "    #     if x1 == x2:\n",
    "    #         for y in range(min(y1, y2), max(y1, y2) + 1):\n",
    "    #             grid.add(x1 + y * 1j)\n",
    "    #     else:\n",
    "    #         for x in range(min(x1, x2), max(x1, x2) + 1):\n",
    "    #             grid.add(x + y1 * 1j)\n",
    "    # for line in data:\n",
    "    #     coords = [tuple(map(int, x.split(\",\"))) for x in line.split(\" -> \")]\n",
    "    #     for (x1, y1), (x2, y2) in zip(coords, coords[1:]):\n",
    "    #         abyss = max(abyss, y1, y2)\n",
    "    #         place_rocks(x1, y1, x2, y2)\n",
    "    # sand = 0\n",
    "    # depth = 1\n",
    "    # while depth > 0:\n",
    "    #     z = 500 \n",
    "    #     for depth in range(abyss + 1):\n",
    "    #         if z + 1j not in grid:\n",
    "    #             z += 1j\n",
    "    #         elif z - 1 + 1j not in grid:\n",
    "    #             z = z - 1 + 1j\n",
    "    #         elif z + 1 + 1j not in grid:\n",
    "    #             z = z + 1 + 1j\n",
    "    #         else:\n",
    "    #             break\n",
    "    #     # if depth == abyss: \n",
    "    #     #     break # break for part 1\n",
    "    #     grid.add(z)\n",
    "    #     sand += 1\n",
    "    # print(\"part 2:\", sand)"
   ]
  },
  {
   "cell_type": "code",
   "execution_count": 176,
   "metadata": {},
   "outputs": [
    {
     "name": "stdout",
     "output_type": "stream",
     "text": [
      "part 1 108857\n",
      "part 2 95273\n"
     ]
    }
   ],
   "source": [
    "def part1():\n",
    "    with open('big.txt', 'r') as f:\n",
    "        data = f.read().splitlines()\n",
    "        grid = [list(line) for line in data]\n",
    "        R, C = len(grid), len(grid[0])\n",
    "        rocks = set()\n",
    "        objects = []\n",
    "        for r, c in product(range(R), range(C)):\n",
    "            if grid[r][c] == \"#\":\n",
    "                rocks.add(c + r * 1j)\n",
    "            elif grid[r][c] == \"O\":\n",
    "                objects.append(c + r * 1j)\n",
    "        res = 0\n",
    "        vis = set()\n",
    "        def good(z):\n",
    "            return z not in rocks and z not in vis\n",
    "        def north(objects):\n",
    "            vis.clear()\n",
    "            new_objects = []\n",
    "            for obj in sorted(objects, key = lambda z: vertical(z)):\n",
    "                z = obj\n",
    "                while z.imag > 0:\n",
    "                    if good(z - 1j):\n",
    "                        z -= 1j\n",
    "                    else:\n",
    "                        break\n",
    "                vis.add(z)\n",
    "                new_objects.append(z)\n",
    "            return new_objects\n",
    "        objects = north(objects)\n",
    "        return int(sum(R - z.imag for z in objects))\n",
    "def part2():\n",
    "    # north, west, south, east\n",
    "    vertical = lambda z: (z.imag, z.real)\n",
    "    horizontal = lambda z: (z.real, z.imag)\n",
    "    cycles = 1_000_000_000\n",
    "    with open('big.txt', 'r') as f:\n",
    "        data = f.read().splitlines()\n",
    "        grid = [list(line) for line in data]\n",
    "        R, C = len(grid), len(grid[0])\n",
    "        rocks = set()\n",
    "        objects = []\n",
    "        for r, c in product(range(R), range(C)):\n",
    "            if grid[r][c] == \"#\":\n",
    "                rocks.add(c + r * 1j)\n",
    "            elif grid[r][c] == \"O\":\n",
    "                objects.append(c + r * 1j)\n",
    "        cnt = 0\n",
    "        objects.sort(key = lambda z: vertical(z))\n",
    "        first, second = {}, {}\n",
    "        vis = set()\n",
    "        def good(z):\n",
    "            return z not in rocks and z not in vis\n",
    "        def north(objects):\n",
    "            vis.clear()\n",
    "            new_objects = []\n",
    "            for obj in sorted(objects, key = lambda z: vertical(z)):\n",
    "                z = obj\n",
    "                while z.imag > 0:\n",
    "                    if good(z - 1j):\n",
    "                        z -= 1j\n",
    "                    else:\n",
    "                        break\n",
    "                vis.add(z)\n",
    "                new_objects.append(z)\n",
    "            return new_objects\n",
    "        def west(objects):\n",
    "            vis.clear()\n",
    "            new_objects = []\n",
    "            for obj in sorted(objects, key = lambda z: horizontal(z)):\n",
    "                z = obj\n",
    "                while z.real > 0:\n",
    "                    if good(z - 1):\n",
    "                        z -= 1\n",
    "                    else:\n",
    "                        break\n",
    "                vis.add(z)\n",
    "                new_objects.append(z)\n",
    "            return new_objects\n",
    "        def south(objects):\n",
    "            vis.clear()\n",
    "            new_objects = []\n",
    "            for obj in sorted(objects, key = lambda z: vertical(z), reverse = True):\n",
    "                z = obj\n",
    "                while z.imag < R - 1:\n",
    "                    if good(z + 1j):\n",
    "                        z += 1j\n",
    "                    else:\n",
    "                        break\n",
    "                vis.add(z)\n",
    "                new_objects.append(z)\n",
    "            return new_objects\n",
    "        def east(objects):\n",
    "            vis.clear()\n",
    "            new_objects = []\n",
    "            for obj in sorted(objects, key = lambda z: horizontal(z), reverse = True):\n",
    "                z = obj\n",
    "                while z.real < C - 1:\n",
    "                    if good(z + 1):\n",
    "                        z += 1\n",
    "                    else:\n",
    "                        break\n",
    "                vis.add(z)\n",
    "                new_objects.append(z)\n",
    "            return new_objects\n",
    "        while True:\n",
    "            objects = north(objects)\n",
    "            objects = west(objects)\n",
    "            objects = south(objects)\n",
    "            objects = east(objects)\n",
    "            objects.sort(key = lambda z: vertical(z))\n",
    "            cnt += 1\n",
    "            hash = tuple(objects)\n",
    "            if hash in first and hash in second: break\n",
    "            if hash in first:\n",
    "                second[hash] = cnt\n",
    "            else:\n",
    "                first[hash] = cnt\n",
    "        ran = min(second.values())\n",
    "        remaining_cycles = cycles - ran\n",
    "        rem = remaining_cycles % len(second)\n",
    "        for k in second.keys():\n",
    "            second[k] -= ran\n",
    "        for key, val in second.items():\n",
    "            if val == rem: return int(sum(R - z.imag for z in key))\n",
    "print(\"part 1\", part1())\n",
    "print(\"part 2\", part2())"
   ]
  },
  {
   "cell_type": "code",
   "execution_count": 137,
   "metadata": {},
   "outputs": [
    {
     "name": "stdout",
     "output_type": "stream",
     "text": [
      "95273\n"
     ]
    }
   ],
   "source": [
    "res = 0\n",
    "for z in hashed[i]:\n",
    "    res += R - z.imag\n",
    "print(int(res))"
   ]
  },
  {
   "cell_type": "code",
   "execution_count": null,
   "metadata": {},
   "outputs": [],
   "source": [
    "95273.0"
   ]
  },
  {
   "cell_type": "code",
   "execution_count": null,
   "metadata": {},
   "outputs": [],
   "source": [
    "95273\n",
    "95274\n",
    "95264\n",
    "95267\n",
    "95265\n",
    "95270"
   ]
  },
  {
   "cell_type": "code",
   "execution_count": 119,
   "metadata": {},
   "outputs": [
    {
     "name": "stdout",
     "output_type": "stream",
     "text": [
      "[1]\n",
      "[2]\n",
      "[3, 10, 17, 24, 31, 38, 45, 52, 59, 66, 73, 80, 87, 94, 101, 108, 115, 122, 129, 136, 143, 150, 157, 164, 171, 178, 185, 192, 199]\n",
      "[4, 11, 18, 25, 32, 39, 46, 53, 60, 67, 74, 81, 88, 95, 102, 109, 116, 123, 130, 137, 144, 151, 158, 165, 172, 179, 186, 193, 200]\n",
      "[5, 12, 19, 26, 33, 40, 47, 54, 61, 68, 75, 82, 89, 96, 103, 110, 117, 124, 131, 138, 145, 152, 159, 166, 173, 180, 187, 194, 201]\n",
      "[6, 13, 20, 27, 34, 41, 48, 55, 62, 69, 76, 83, 90, 97, 104, 111, 118, 125, 132, 139, 146, 153, 160, 167, 174, 181, 188, 195]\n",
      "[7, 14, 21, 28, 35, 42, 49, 56, 63, 70, 77, 84, 91, 98, 105, 112, 119, 126, 133, 140, 147, 154, 161, 168, 175, 182, 189, 196]\n",
      "[8, 15, 22, 29, 36, 43, 50, 57, 64, 71, 78, 85, 92, 99, 106, 113, 120, 127, 134, 141, 148, 155, 162, 169, 176, 183, 190, 197]\n",
      "[9, 16, 23, 30, 37, 44, 51, 58, 65, 72, 79, 86, 93, 100, 107, 114, 121, 128, 135, 142, 149, 156, 163, 170, 177, 184, 191, 198]\n"
     ]
    }
   ],
   "source": [
    "for _, v in seen.items():\n",
    "    print(v)"
   ]
  },
  {
   "cell_type": "code",
   "execution_count": 126,
   "metadata": {},
   "outputs": [
    {
     "name": "stdout",
     "output_type": "stream",
     "text": [
      "185\n",
      "186\n",
      "187\n",
      "188\n",
      "189\n",
      "190\n",
      "191\n",
      "192\n",
      "193\n",
      "194\n",
      "195\n",
      "196\n",
      "183\n",
      "184\n"
     ]
    }
   ],
   "source": [
    "for _, v in seen.items():\n",
    "    print(v)"
   ]
  },
  {
   "cell_type": "code",
   "execution_count": null,
   "metadata": {},
   "outputs": [],
   "source": []
  },
  {
   "cell_type": "code",
   "execution_count": null,
   "metadata": {},
   "outputs": [],
   "source": [
    "turn_on = compile(\"turn on {:d},{:d} through {:d},{:d}\")\n",
    "turn_off = compile(\"turn off {:d},{:d} through {:d},{:d}\")\n",
    "toggle = compile(\"toggle {:d},{:d} through {:d},{:d}\")\n",
    "with open('input.txt', 'r') as f:\n",
    "    data = f.read().splitlines()\n",
    "    lights = [[0] * 1000 for _ in range(1000)]\n",
    "    for line in data:\n",
    "        to, toff, tog = turn_on.parse(line), turn_off.parse(line), toggle.parse(line)\n",
    "        if to is not None:\n",
    "            r1, c1, r2, c2 = to.fixed\n",
    "            for r, c in product(range(r1, r2 + 1), range(c1, c2 + 1)):\n",
    "                lights[r][c] += 1\n",
    "        elif toff is not None:\n",
    "            r1, c1, r2, c2 = toff.fixed\n",
    "            for r, c in product(range(r1, r2 + 1), range(c1, c2 + 1)):\n",
    "                lights[r][c] = max(0, lights[r][c] - 1)\n",
    "        else:\n",
    "            r1, c1, r2, c2 = tog.fixed\n",
    "            for r, c in product(range(r1, r2 + 1), range(c1, c2 + 1)):\n",
    "                lights[r][c] += 2\n",
    "    print(sum(map(sum, lights)))"
   ]
  },
  {
   "cell_type": "code",
   "execution_count": null,
   "metadata": {},
   "outputs": [],
   "source": []
  }
 ],
 "metadata": {
  "kernelspec": {
   "display_name": "programming",
   "language": "python",
   "name": "python3"
  },
  "language_info": {
   "codemirror_mode": {
    "name": "ipython",
    "version": 3
   },
   "file_extension": ".py",
   "mimetype": "text/x-python",
   "name": "python",
   "nbconvert_exporter": "python",
   "pygments_lexer": "ipython3",
   "version": "3.11.3"
  }
 },
 "nbformat": 4,
 "nbformat_minor": 2
}
