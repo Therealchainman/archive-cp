{
 "cells": [
  {
   "cell_type": "markdown",
   "metadata": {},
   "source": [
    "# IMPORTS"
   ]
  },
  {
   "cell_type": "code",
   "execution_count": 2,
   "metadata": {},
   "outputs": [],
   "source": [
    "from collections import *\n",
    "from functools import *\n",
    "from itertools import *\n",
    "import sys\n",
    "import re\n",
    "import math\n",
    "import string\n",
    "import bisect\n",
    "from parse import compile\n",
    "import matplotlib.pyplot as plt\n",
    "import numpy as np\n",
    "import heapq\n",
    "from matplotlib.path import Path\n",
    "import ast\n"
   ]
  },
  {
   "cell_type": "markdown",
   "metadata": {},
   "source": [
    "# SOLVING"
   ]
  },
  {
   "cell_type": "code",
   "execution_count": 74,
   "metadata": {},
   "outputs": [
    {
     "name": "stdout",
     "output_type": "stream",
     "text": [
      "part 1: 28651\n",
      "part 2: 25450\n"
     ]
    }
   ],
   "source": [
    "\n",
    "def main():\n",
    "    with open('big.txt', 'r') as f:\n",
    "        data = f.read().splitlines()\n",
    "        partitions = [-1] + [i for i, line in enumerate(data) if not line] + [len(data)]\n",
    "        grids = [data[partitions[i - 1] + 1 : partitions[i]] for i in range(1, len(partitions))]\n",
    "        def check_horizontal(r):\n",
    "            return all(r1 == r2 for r1, r2 in zip(grid[r:], reversed(grid[:r])))\n",
    "        def check_vertical(c):\n",
    "            for row in grid:\n",
    "                if any(c1 != c2 for c1, c2 in zip(row[c:], reversed(row[:c]))): return False\n",
    "            return True\n",
    "        def find_horizontal():\n",
    "            for r in range(1, R):\n",
    "                if check_horizontal(r): return r \n",
    "            return 0\n",
    "        def find_vertical():\n",
    "            for c in range(1, C):\n",
    "                if check_vertical(c): return c \n",
    "            return 0\n",
    "        def find_reflection(cur_r, cur_c):\n",
    "            for r, c in product(range(R), range(C)):\n",
    "                tmp = grid[r][c]\n",
    "                grid[r][c] = \"#\" if tmp == \".\" else \".\"\n",
    "                for i in range(1, R):\n",
    "                    if check_horizontal(i) and i != cur_r: return i, 0\n",
    "                for j in range(1, C):\n",
    "                    if check_vertical(j) and j != cur_c: return 0, j\n",
    "                grid[r][c] = tmp\n",
    "            return 0, 0\n",
    "        row_count = col_count = rcount = ccount = 0\n",
    "        for grid in map(lambda gr: [list(line) for line in gr], grids):\n",
    "            R, C = len(grid), len(grid[0])\n",
    "            cur_r, cur_c = find_horizontal(), find_vertical()\n",
    "            rcount += cur_r\n",
    "            ccount += cur_c\n",
    "            new_r, new_c = find_reflection(cur_r, cur_c)\n",
    "            row_count += new_r\n",
    "            col_count += new_c\n",
    "        print(\"part 1:\", ccount + 100 * rcount)\n",
    "        print(\"part 2:\", col_count + 100 * row_count)\n",
    "main()"
   ]
  },
  {
   "cell_type": "code",
   "execution_count": null,
   "metadata": {},
   "outputs": [],
   "source": [
    "25450\n"
   ]
  },
  {
   "cell_type": "code",
   "execution_count": null,
   "metadata": {},
   "outputs": [],
   "source": []
  },
  {
   "cell_type": "code",
   "execution_count": null,
   "metadata": {},
   "outputs": [],
   "source": []
  },
  {
   "cell_type": "code",
   "execution_count": null,
   "metadata": {},
   "outputs": [],
   "source": []
  },
  {
   "cell_type": "code",
   "execution_count": null,
   "metadata": {},
   "outputs": [],
   "source": []
  },
  {
   "cell_type": "code",
   "execution_count": null,
   "metadata": {},
   "outputs": [],
   "source": [
    "turn_on = compile(\"turn on {:d},{:d} through {:d},{:d}\")\n",
    "turn_off = compile(\"turn off {:d},{:d} through {:d},{:d}\")\n",
    "toggle = compile(\"toggle {:d},{:d} through {:d},{:d}\")\n",
    "with open('input.txt', 'r') as f:\n",
    "    data = f.read().splitlines()\n",
    "    lights = [[0] * 1000 for _ in range(1000)]\n",
    "    for line in data:\n",
    "        to, toff, tog = turn_on.parse(line), turn_off.parse(line), toggle.parse(line)\n",
    "        if to is not None:\n",
    "            r1, c1, r2, c2 = to.fixed\n",
    "            for r, c in product(range(r1, r2 + 1), range(c1, c2 + 1)):\n",
    "                lights[r][c] += 1\n",
    "        elif toff is not None:\n",
    "            r1, c1, r2, c2 = toff.fixed\n",
    "            for r, c in product(range(r1, r2 + 1), range(c1, c2 + 1)):\n",
    "                lights[r][c] = max(0, lights[r][c] - 1)\n",
    "        else:\n",
    "            r1, c1, r2, c2 = tog.fixed\n",
    "            for r, c in product(range(r1, r2 + 1), range(c1, c2 + 1)):\n",
    "                lights[r][c] += 2\n",
    "    print(sum(map(sum, lights)))"
   ]
  },
  {
   "cell_type": "code",
   "execution_count": null,
   "metadata": {},
   "outputs": [],
   "source": []
  }
 ],
 "metadata": {
  "kernelspec": {
   "display_name": "programming",
   "language": "python",
   "name": "python3"
  },
  "language_info": {
   "codemirror_mode": {
    "name": "ipython",
    "version": 3
   },
   "file_extension": ".py",
   "mimetype": "text/x-python",
   "name": "python",
   "nbconvert_exporter": "python",
   "pygments_lexer": "ipython3",
   "version": "3.11.3"
  }
 },
 "nbformat": 4,
 "nbformat_minor": 2
}
