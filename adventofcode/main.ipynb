{
 "cells": [
  {
   "cell_type": "markdown",
   "metadata": {},
   "source": [
    "# IMPORTS"
   ]
  },
  {
   "cell_type": "code",
   "execution_count": 1,
   "metadata": {},
   "outputs": [],
   "source": [
    "from collections import *\n",
    "from functools import *\n",
    "from itertools import *\n",
    "import operator\n",
    "import sys\n",
    "import re\n",
    "import math\n",
    "import string\n",
    "import bisect\n",
    "import parse\n",
    "import matplotlib.pyplot as plt\n",
    "import numpy as np\n",
    "import heapq\n",
    "from matplotlib.path import Path\n",
    "import ast\n",
    "import hashlib\n",
    "import unittest\n",
    "import copy\n",
    "from dataclasses import dataclass, field\n",
    "import sympy\n",
    "import networkx as nx\n",
    "from pyvis.network import Network\n",
    "from typing import *\n",
    "from shapely.geometry import Polygon\n",
    "from enum import StrEnum, Enum\n",
    "from abc import ABC, abstractmethod"
   ]
  },
  {
   "cell_type": "code",
   "execution_count": null,
   "metadata": {},
   "outputs": [
    {
     "name": "stdout",
     "output_type": "stream",
     "text": [
      "00000155f8105dff7f56ee10fa9b9abd\n"
     ]
    }
   ],
   "source": [
    "number = \"abc3231929\".encode(\"utf-8\")\n",
    "for i in range(1, 1_000_000):\n",
    "    h = hashlib.md5(c).hexdigest()\n",
    "# Convert the integer to a string and encode it to bytes\n",
    "md5_hash = hashlib.md5(number).hexdigest()\n",
    "print(md5_hash)\n"
   ]
  },
  {
   "cell_type": "code",
   "execution_count": 80,
   "metadata": {},
   "outputs": [
    {
     "name": "stdout",
     "output_type": "stream",
     "text": [
      "123\n",
      "5184\n"
     ]
    }
   ],
   "source": [
    "from collections import Counter\n",
    "from parse import compile\n",
    "\n",
    "def is_ordered(update, rules):\n",
    "    position = {page: idx for idx, page in enumerate(update)}\n",
    "    for X, Y in rules:\n",
    "        if X in position and Y in position:\n",
    "            if position[X] >= position[Y]:\n",
    "                return False\n",
    "    return True\n",
    "\n",
    "def answer(suc, update, rules):\n",
    "    if is_ordered(update, rules): return 0\n",
    "    ind = Counter()\n",
    "    for i in range(len(update)):\n",
    "        for j in range(i + 1, len(update)):\n",
    "            u, v = update[i], update[j]\n",
    "            if v in suc[u]: ind[v] += 1\n",
    "            if u in suc[v]: ind[u] += 1\n",
    "    ans = []\n",
    "    q = deque([x for x in update if ind[x] == 0])\n",
    "    while q:\n",
    "        u = q.popleft()\n",
    "        ans.append(u)\n",
    "        for v in suc[u]:\n",
    "            if ind[v] > 0:\n",
    "                ind[v] -= 1\n",
    "                if ind[v] == 0:\n",
    "                    q.append(v)\n",
    "    return ans[len(ans) // 2]\n",
    "\n",
    "def calculate(filename: str):\n",
    "    with open(filename, \"r\") as f:\n",
    "        data = f.read().splitlines()\n",
    "        ans = 0\n",
    "        pat = compile(\"{:d}|{:d}\")\n",
    "        rules = []\n",
    "        suc = defaultdict(list)\n",
    "        for line in data:\n",
    "            if pat.parse(line) is not None:\n",
    "                x, y = pat.parse(line)\n",
    "                rules.append((x, y))\n",
    "                suc[x].append(y)\n",
    "            elif line:\n",
    "                arr = list(map(int, line.split(\",\")))\n",
    "                ans += answer(suc, arr, rules)\n",
    "    print(ans)\n",
    "calculate(\"small.txt\")\n",
    "calculate(\"big.txt\")"
   ]
  },
  {
   "cell_type": "code",
   "execution_count": null,
   "metadata": {},
   "outputs": [],
   "source": []
  }
 ],
 "metadata": {
  "kernelspec": {
   "display_name": ".venv",
   "language": "python",
   "name": "python3"
  },
  "language_info": {
   "codemirror_mode": {
    "name": "ipython",
    "version": 3
   },
   "file_extension": ".py",
   "mimetype": "text/x-python",
   "name": "python",
   "nbconvert_exporter": "python",
   "pygments_lexer": "ipython3",
   "version": "3.12.3"
  }
 },
 "nbformat": 4,
 "nbformat_minor": 2
}
