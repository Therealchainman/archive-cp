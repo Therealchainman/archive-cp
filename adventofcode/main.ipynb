{
 "cells": [
  {
   "cell_type": "markdown",
   "metadata": {},
   "source": [
    "# IMPORTS"
   ]
  },
  {
   "cell_type": "code",
   "execution_count": 14,
   "metadata": {},
   "outputs": [],
   "source": [
    "from collections import *\n",
    "from functools import *\n",
    "from itertools import *\n",
    "import operator\n",
    "import sys\n",
    "import re\n",
    "import math\n",
    "import string\n",
    "import bisect\n",
    "import parse\n",
    "import matplotlib.pyplot as plt\n",
    "import numpy as np\n",
    "import heapq\n",
    "from matplotlib.path import Path\n",
    "import ast\n",
    "import hashlib\n",
    "import unittest\n",
    "import copy\n",
    "from dataclasses import dataclass, field\n",
    "import sympy\n",
    "import networkx as nx\n",
    "from pyvis.network import Network\n",
    "from typing import *\n",
    "from shapely.geometry import Polygon\n",
    "from enum import StrEnum, Enum\n",
    "from abc import ABC, abstractmethod"
   ]
  },
  {
   "cell_type": "code",
   "execution_count": 18,
   "metadata": {},
   "outputs": [
    {
     "name": "stdout",
     "output_type": "stream",
     "text": [
      "part 1: 2344935\n",
      "part 2: 27647262\n"
     ]
    }
   ],
   "source": [
    "A, B = [], []\n",
    "with open(\"big.txt\", \"r\") as f:\n",
    "    for line in f:\n",
    "        left, right = map(int, line.split())  # Split the line and convert to integers\n",
    "        A.append(left)\n",
    "        B.append(right)\n",
    "    A.sort()\n",
    "    B.sort()\n",
    "    p1 = 0\n",
    "    for x, y in zip(A, B):\n",
    "        p1 += abs(x - y)\n",
    "    p2 = 0\n",
    "    a = Counter(A)\n",
    "    b = Counter(B)\n",
    "    for v in A:\n",
    "        p2 += v * b[v]\n",
    "    print(\"part 1:\", p1)\n",
    "    print(\"part 2:\", p2)"
   ]
  }
 ],
 "metadata": {
  "kernelspec": {
   "display_name": ".venv",
   "language": "python",
   "name": "python3"
  },
  "language_info": {
   "codemirror_mode": {
    "name": "ipython",
    "version": 3
   },
   "file_extension": ".py",
   "mimetype": "text/x-python",
   "name": "python",
   "nbconvert_exporter": "python",
   "pygments_lexer": "ipython3",
   "version": "3.12.3"
  }
 },
 "nbformat": 4,
 "nbformat_minor": 2
}
