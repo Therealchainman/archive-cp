{
 "cells": [
  {
   "cell_type": "markdown",
   "metadata": {},
   "source": [
    "# IMPORTS"
   ]
  },
  {
   "cell_type": "code",
   "execution_count": 1,
   "metadata": {},
   "outputs": [],
   "source": [
    "from collections import *\n",
    "from functools import *\n",
    "from itertools import *\n",
    "import operator\n",
    "import sys\n",
    "import re\n",
    "import math\n",
    "import string\n",
    "import bisect\n",
    "import parse\n",
    "import matplotlib.pyplot as plt\n",
    "import numpy as np\n",
    "import heapq\n",
    "from matplotlib.path import Path\n",
    "import ast\n",
    "import hashlib\n",
    "import unittest\n",
    "import copy\n",
    "from dataclasses import dataclass, field\n",
    "import sympy\n",
    "import networkx as nx\n",
    "from pyvis.network import Network\n",
    "from typing import *\n",
    "from shapely.geometry import Polygon\n",
    "from enum import StrEnum, Enum\n",
    "from abc import ABC, abstractmethod"
   ]
  },
  {
   "cell_type": "code",
   "execution_count": 31,
   "metadata": {},
   "outputs": [
    {
     "name": "stdout",
     "output_type": "stream",
     "text": [
      "161\n",
      "93465710\n"
     ]
    }
   ],
   "source": [
    "import re\n",
    "def calculate(filename: str):\n",
    "    \"\"\"\n",
    "    Read a grid from a file and count rows that satisfy the gradient conditions.\n",
    "    \"\"\"\n",
    "    with open(filename, \"r\") as f:\n",
    "        data = f.read()\n",
    "        enabled = True\n",
    "        ans = 0\n",
    "        mul_pattern = re.compile(r\"mul\\((\\d{1,3}),(\\d{1,3})\\)\")\n",
    "        do_pattern = re.compile(r\"do\\(\\)\")\n",
    "        dont_pattern = re.compile(r\"don't\\(\\)\")\n",
    "        i = 0\n",
    "        while i < len(data):\n",
    "            mul_match = mul_pattern.match(data, i)\n",
    "            do_match = do_pattern.match(data, i)\n",
    "            dont_match = dont_pattern.match(data, i)\n",
    "            if mul_match:\n",
    "                if enabled:\n",
    "                    x, y = map(int, mul_match.groups())\n",
    "                    ans += x * y\n",
    "                i = mul_match.end()\n",
    "            elif do_match:\n",
    "                enabled = True\n",
    "                i = do_match.end()\n",
    "            elif dont_match:\n",
    "                enabled = False \n",
    "                i = dont_match.end()\n",
    "            else:\n",
    "                i += 1\n",
    "    print(ans)\n",
    "calculate(\"small.txt\")\n",
    "calculate(\"big.txt\")"
   ]
  },
  {
   "cell_type": "code",
   "execution_count": null,
   "metadata": {},
   "outputs": [],
   "source": []
  }
 ],
 "metadata": {
  "kernelspec": {
   "display_name": ".venv",
   "language": "python",
   "name": "python3"
  },
  "language_info": {
   "codemirror_mode": {
    "name": "ipython",
    "version": 3
   },
   "file_extension": ".py",
   "mimetype": "text/x-python",
   "name": "python",
   "nbconvert_exporter": "python",
   "pygments_lexer": "ipython3",
   "version": "3.12.3"
  }
 },
 "nbformat": 4,
 "nbformat_minor": 2
}
