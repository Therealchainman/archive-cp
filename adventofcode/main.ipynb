{
 "cells": [
  {
   "cell_type": "markdown",
   "metadata": {},
   "source": [
    "# IMPORTS"
   ]
  },
  {
   "cell_type": "code",
   "execution_count": 6,
   "metadata": {},
   "outputs": [],
   "source": [
    "from collections import *\n",
    "from functools import *\n",
    "from itertools import *\n",
    "import operator\n",
    "import sys\n",
    "import re\n",
    "import math\n",
    "import string\n",
    "import bisect\n",
    "import parse\n",
    "import matplotlib.pyplot as plt\n",
    "import numpy as np\n",
    "import heapq\n",
    "from matplotlib.path import Path\n",
    "import ast\n",
    "import hashlib\n",
    "import unittest\n",
    "import copy\n",
    "from dataclasses import dataclass, field\n",
    "import sympy\n",
    "import networkx as nx\n",
    "from pyvis.network import Network\n",
    "from typing import *\n",
    "from shapely.geometry import Polygon\n",
    "from enum import StrEnum, Enum\n",
    "from abc import ABC, abstractmethod"
   ]
  },
  {
   "cell_type": "code",
   "execution_count": 36,
   "metadata": {},
   "outputs": [
    {
     "name": "stdout",
     "output_type": "stream",
     "text": [
      "1686\n"
     ]
    }
   ],
   "source": [
    "from itertools import product\n",
    "\n",
    "class PatrolGrid:\n",
    "    DIR = [(-1, 0), (0, 1), (1, 0), (0, -1)]\n",
    "    R = C = 0\n",
    "    grid = []\n",
    "\n",
    "    def in_bounds(self, r, c):\n",
    "        return 0 <= r < self.R and 0 <= c < self.C\n",
    "    \n",
    "    def is_loop(self, r, c):\n",
    "        vis = set()\n",
    "        p = 0\n",
    "        while self.in_bounds(r, c):\n",
    "            if (r, c, p) in vis: return True\n",
    "            vis.add((r, c, p))\n",
    "            dr, dc = self.DIR[p]\n",
    "            r += dr\n",
    "            c += dc\n",
    "            if self.in_bounds(r, c) and self.grid[r][c] == \"#\":\n",
    "                r -= dr\n",
    "                c -= dc\n",
    "                p = (p + 1) % len(self.DIR)\n",
    "        return False\n",
    "\n",
    "    def calculate(self, filename):\n",
    "        with open(filename, \"r\") as f:\n",
    "            self.grid = [list(x) for x in f.read().splitlines()]\n",
    "            self.R, self.C = len(self.grid), len(self.grid[0])\n",
    "            vis = set()\n",
    "            sr = sc = 0\n",
    "            for r, c in product(range(self.R), range(self.C)):\n",
    "                if self.grid[r][c] == \"^\":\n",
    "                    sr, sc = r, c\n",
    "                    break\n",
    "            p = ans = 0\n",
    "            while self.in_bounds(r, c):\n",
    "                vis.add((r, c))\n",
    "                dr, dc = self.DIR[p]\n",
    "                r += dr\n",
    "                c += dc\n",
    "                if self.in_bounds(r, c) and self.grid[r][c] == \"#\":\n",
    "                    r -= dr\n",
    "                    c -= dc\n",
    "                    p = (p + 1) % len(self.DIR)\n",
    "            for r, c in vis:\n",
    "                self.grid[r][c] = \"#\"\n",
    "                ans += self.is_loop(sr, sc)\n",
    "                self.grid[r][c] = \".\"\n",
    "            print(ans)\n",
    "PatrolGrid().calculate(\"big.txt\")"
   ]
  },
  {
   "cell_type": "code",
   "execution_count": null,
   "metadata": {},
   "outputs": [],
   "source": []
  }
 ],
 "metadata": {
  "kernelspec": {
   "display_name": ".venv",
   "language": "python",
   "name": "python3"
  },
  "language_info": {
   "codemirror_mode": {
    "name": "ipython",
    "version": 3
   },
   "file_extension": ".py",
   "mimetype": "text/x-python",
   "name": "python",
   "nbconvert_exporter": "python",
   "pygments_lexer": "ipython3",
   "version": "3.12.3"
  }
 },
 "nbformat": 4,
 "nbformat_minor": 2
}
