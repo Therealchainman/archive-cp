{
 "cells": [
  {
   "cell_type": "markdown",
   "metadata": {},
   "source": [
    "# IMPORTS"
   ]
  },
  {
   "cell_type": "code",
   "execution_count": 1,
   "metadata": {},
   "outputs": [],
   "source": [
    "from collections import *\n",
    "from functools import *\n",
    "from itertools import *\n",
    "import operator\n",
    "import sys\n",
    "import re\n",
    "import math\n",
    "import string\n",
    "import bisect\n",
    "import parse\n",
    "import matplotlib.pyplot as plt\n",
    "import numpy as np\n",
    "import heapq\n",
    "from matplotlib.path import Path\n",
    "import ast\n",
    "import hashlib\n",
    "import unittest\n",
    "import copy\n",
    "from dataclasses import dataclass, field\n",
    "import sympy\n",
    "import networkx as nx\n",
    "from pyvis.network import Network\n",
    "from typing import *\n",
    "from shapely.geometry import Polygon\n",
    "from enum import StrEnum, Enum\n",
    "from abc import ABC, abstractmethod"
   ]
  },
  {
   "cell_type": "code",
   "execution_count": 18,
   "metadata": {},
   "outputs": [
    {
     "name": "stdout",
     "output_type": "stream",
     "text": [
      "48\n",
      "93465710\n"
     ]
    }
   ],
   "source": [
    "import re\n",
    "def calculate(filename: str):\n",
    "    \"\"\"\n",
    "    Read a grid from a file and count rows that satisfy the gradient conditions.\n",
    "    \"\"\"\n",
    "    with open(filename, \"r\") as f:\n",
    "        data = f.read()\n",
    "        enabled = 1\n",
    "        ans = 0\n",
    "        pattern = r\"mul\\((\\d{1,3}),(\\d{1,3})\\)|do\\(\\)|don't\\(\\)\"\n",
    "        for match in re.finditer(pattern, data):\n",
    "            if match.group() == \"do()\":\n",
    "                enabled |= 1\n",
    "            elif match.group() == \"don't()\":\n",
    "                enabled &= 0\n",
    "            else:\n",
    "                if enabled:\n",
    "                    x, y = map(int, match.groups())\n",
    "                    ans += x * y\n",
    "    print(ans)\n",
    "calculate(\"small.txt\")\n",
    "calculate(\"big.txt\")"
   ]
  },
  {
   "cell_type": "code",
   "execution_count": null,
   "metadata": {},
   "outputs": [],
   "source": []
  }
 ],
 "metadata": {
  "kernelspec": {
   "display_name": ".venv",
   "language": "python",
   "name": "python3"
  },
  "language_info": {
   "codemirror_mode": {
    "name": "ipython",
    "version": 3
   },
   "file_extension": ".py",
   "mimetype": "text/x-python",
   "name": "python",
   "nbconvert_exporter": "python",
   "pygments_lexer": "ipython3",
   "version": "3.12.3"
  }
 },
 "nbformat": 4,
 "nbformat_minor": 2
}
