{
 "cells": [
  {
   "cell_type": "code",
   "execution_count": 1,
   "metadata": {},
   "outputs": [],
   "source": [
    "from collections import *\n",
    "from functools import *\n",
    "from itertools import *\n",
    "import operator\n",
    "import sys\n",
    "import re\n",
    "import math\n",
    "import string\n",
    "import bisect\n",
    "# import parse\n",
    "# import matplotlib.pyplot as plt\n",
    "# import matplotlib.animation as animation\n",
    "# import numpy as np\n",
    "import heapq\n",
    "# from matplotlib.path import Path\n",
    "import ast\n",
    "import hashlib\n",
    "import unittest\n",
    "import copy\n",
    "from dataclasses import dataclass, field\n",
    "# import sympy\n",
    "# import networkx as nx\n",
    "# from pyvis.network import Network\n",
    "from typing import *\n",
    "# from shapely.geometry import Polygon\n",
    "import random\n",
    "# from IPython.display import HTML\n",
    "# from sortedcontainers import SortedDict, SortedList\n",
    "import pathlib"
   ]
  },
  {
   "cell_type": "code",
   "execution_count": 2,
   "metadata": {},
   "outputs": [],
   "source": [
    "# %matplotlib notebook"
   ]
  },
  {
   "cell_type": "code",
   "execution_count": null,
   "metadata": {},
   "outputs": [],
   "source": [
    "def printer(x):\n",
    "    print(f\"{x:,}\")\n",
    "def binary(x):\n",
    "    return bin(x)[2:]"
   ]
  },
  {
   "cell_type": "code",
   "execution_count": 11,
   "metadata": {},
   "outputs": [
    {
     "name": "stdout",
     "output_type": "stream",
     "text": [
      "[6, 8, 63, 96, 28, 11, 57, 80, 60, 90, 27, 68, 67, 83, 31]\n"
     ]
    }
   ],
   "source": [
    "N = int(1e2)\n",
    "arr = [random.randint(1, N) for _ in range(15)]\n",
    "print(arr)"
   ]
  },
  {
   "cell_type": "code",
   "execution_count": 12,
   "metadata": {},
   "outputs": [
    {
     "name": "stdout",
     "output_type": "stream",
     "text": [
      "6 8 63 96 28 11 57 80 60 90 27 68 67 83 31\n"
     ]
    }
   ],
   "source": [
    "print(\" \".join(map(str, arr)))"
   ]
  },
  {
   "cell_type": "code",
   "execution_count": null,
   "metadata": {},
   "outputs": [],
   "source": []
  },
  {
   "cell_type": "code",
   "execution_count": null,
   "metadata": {},
   "outputs": [
    {
     "name": "stdout",
     "output_type": "stream",
     "text": [
      "8\n"
     ]
    }
   ],
   "source": [
    "print(len(solutions))LIMLIMLIM"
   ]
  },
  {
   "cell_type": "code",
   "execution_count": 14,
   "metadata": {},
   "outputs": [
    {
     "name": "stdout",
     "output_type": "stream",
     "text": [
      "(0, 2610, 4853)\n",
      "(1, 2, 3, 4, 5, 6, 7)\n",
      "(4, 5, 6, 7, 1, 2, 3)\n",
      "(7, 5, 3, 1, 6, 4, 2)\n",
      "(0, 2627, 4842)\n",
      "(1, 2, 3, 4, 5, 6, 7)\n",
      "(4, 5, 7, 2, 6, 3, 1)\n",
      "(7, 5, 2, 6, 1, 3, 4)\n",
      "(0, 2710, 4777)\n",
      "(1, 2, 3, 4, 5, 6, 7)\n",
      "(4, 6, 3, 7, 5, 1, 2)\n",
      "(7, 4, 6, 1, 2, 5, 3)\n",
      "(0, 2749, 4720)\n",
      "(1, 2, 3, 4, 5, 6, 7)\n",
      "(4, 6, 7, 3, 1, 5, 2)\n",
      "(7, 4, 2, 5, 6, 1, 3)\n",
      "(0, 2829, 4666)\n",
      "(1, 2, 3, 4, 5, 6, 7)\n",
      "(4, 7, 3, 6, 2, 5, 1)\n",
      "(7, 3, 6, 2, 5, 1, 4)\n",
      "(0, 2842, 4627)\n",
      "(1, 2, 3, 4, 5, 6, 7)\n",
      "(4, 7, 5, 2, 6, 1, 3)\n",
      "(7, 3, 4, 6, 1, 5, 2)\n",
      "(0, 3213, 4252)\n",
      "(1, 2, 3, 4, 5, 6, 7)\n",
      "(5, 3, 6, 7, 2, 4, 1)\n",
      "(6, 7, 3, 1, 5, 2, 4)\n",
      "(0, 3232, 4237)\n",
      "(1, 2, 3, 4, 5, 6, 7)\n",
      "(5, 3, 7, 4, 6, 1, 2)\n",
      "(6, 7, 2, 4, 1, 5, 3)\n"
     ]
    }
   ],
   "source": [
    "for s in solutions:\n",
    "    print(s)\n",
    "    for i in s:\n",
    "        print(arr[i])"
   ]
  },
  {
   "cell_type": "code",
   "execution_count": 9,
   "metadata": {},
   "outputs": [
    {
     "name": "stdout",
     "output_type": "stream",
     "text": [
      "{(3, 4, 5, 1, 2), (4, 5, 1, 2, 3), (5, 1, 2, 3, 4), (2, 3, 4, 5, 1), (1, 2, 3, 4, 5)}\n"
     ]
    }
   ],
   "source": [
    "N = 5\n",
    "s = set()\n",
    "for i in range(N):\n",
    "    v = i\n",
    "    arr = []\n",
    "    for j in range(N):\n",
    "        v += 1\n",
    "        if v > N: v = 1\n",
    "        arr.append(v)\n",
    "    s.add(tuple(arr))\n",
    "print(s)\n",
    "for p in permutations(range(1, N + 1)):\n",
    "    if p in s: continue\n",
    "    "
   ]
  },
  {
   "cell_type": "code",
   "execution_count": null,
   "metadata": {},
   "outputs": [],
   "source": []
  }
 ],
 "metadata": {
  "kernelspec": {
   "display_name": ".venv",
   "language": "python",
   "name": "python3"
  },
  "language_info": {
   "codemirror_mode": {
    "name": "ipython",
    "version": 3
   },
   "file_extension": ".py",
   "mimetype": "text/x-python",
   "name": "python",
   "nbconvert_exporter": "python",
   "pygments_lexer": "ipython3",
   "version": "3.12.3"
  }
 },
 "nbformat": 4,
 "nbformat_minor": 2
}
