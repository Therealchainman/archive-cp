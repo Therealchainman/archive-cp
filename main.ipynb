{
 "cells": [
  {
   "cell_type": "code",
   "execution_count": 1,
   "metadata": {},
   "outputs": [],
   "source": [
    "from collections import *\n",
    "from functools import *\n",
    "from itertools import *\n",
    "import operator\n",
    "import sys\n",
    "import re\n",
    "import math\n",
    "import string\n",
    "import bisect\n",
    "# import parse\n",
    "# import matplotlib.pyplot as plt\n",
    "# import matplotlib.animation as animation\n",
    "# import numpy as np\n",
    "import heapq\n",
    "# from matplotlib.path import Path\n",
    "import ast\n",
    "import hashlib\n",
    "import unittest\n",
    "import copy\n",
    "from dataclasses import dataclass, field\n",
    "# import sympy\n",
    "# import networkx as nx\n",
    "# from pyvis.network import Network\n",
    "from typing import *\n",
    "# from shapely.geometry import Polygon\n",
    "import random\n",
    "# from IPython.display import HTML\n",
    "# from sortedcontainers import SortedDict, SortedList\n",
    "import pathlib"
   ]
  },
  {
   "cell_type": "code",
   "execution_count": 2,
   "metadata": {},
   "outputs": [],
   "source": [
    "# %matplotlib notebook"
   ]
  },
  {
   "cell_type": "code",
   "execution_count": 3,
   "metadata": {},
   "outputs": [],
   "source": [
    "def printer(x):\n",
    "    print(f\"{x:,}\")\n",
    "def binary(x):\n",
    "\n",
    "    return bin(x)[2:]"
   ]
  },
  {
   "cell_type": "code",
   "execution_count": null,
   "metadata": {},
   "outputs": [],
   "source": [
    "MAX_M = 100 # Precalculated value such that totient_sum[MAX_M - 1] > 1E9\n",
    "mx = 0\n",
    "euler_sieve = [i for i in range(MAX_M)] # Euler sieve\n",
    "primes = [[] for i in range(MAX_M)] # Prime factors\n",
    "for i in range(2, MAX_M):\n",
    "    if euler_sieve[i] == i:\n",
    "        for j in range(i, MAX_M, i):\n",
    "            euler_sieve[j] = euler_sieve[j] * (i - 1) // i\n",
    "            primes[j].append(i)\n",
    "totient_sum = [0 for _ in range(MAX_M)] # Start from 2 in this problem since we dont have 0/1\n",
    "for i in range(2, MAX_M):\n",
    "    totient_sum[i] = totient_sum[i-1] + euler_sieve[i]\n",
    "\n",
    "def num_coprimes(m, M):\n",
    "    coprime = m\n",
    "    for i in range(1, 1 << len(primes[M])): # dont take away 1 nor the whole number i think\n",
    "            bits, num = 0, 1\n",
    "            for j in range(len(primes[M])):\n",
    "                if i & (1 << j) != 0:\n",
    "                    bits += 1\n",
    "                    num *= primes[M][j]\n",
    "            coprime += m // num * (1 if bits % 2 == 0 else -1)\n",
    "    return coprime\n"
   ]
  },
  {
   "cell_type": "code",
   "execution_count": 27,
   "metadata": {},
   "outputs": [
    {
     "name": "stdout",
     "output_type": "stream",
     "text": [
      "1,094,261,505\n"
     ]
    }
   ],
   "source": [
    "N = 60_000\n",
    "phi = [i for i in range(N)]\n",
    "for i in range(2, N):\n",
    "    if phi[i] == i:\n",
    "        for j in range(i, N, i):\n",
    "            phi[j] -= phi[j] // i\n",
    "totient_sum = [0 for _ in range(N)]\n",
    "for i in range(2, N):\n",
    "    totient_sum[i] = totient_sum[i - 1] + phi[i]\n",
    "printer(totient_sum[-1])"
   ]
  },
  {
   "cell_type": "code",
   "execution_count": 18,
   "metadata": {},
   "outputs": [
    {
     "name": "stdout",
     "output_type": "stream",
     "text": [
      "8\n",
      "277\n"
     ]
    }
   ],
   "source": [
    "print(euler_sieve[2 * 3 * 5])\n",
    "print(totient_sum[30])"
   ]
  },
  {
   "cell_type": "code",
   "execution_count": 9,
   "metadata": {},
   "outputs": [
    {
     "name": "stdout",
     "output_type": "stream",
     "text": [
      "1 29\n",
      "7 23\n",
      "11 19\n",
      "13 17\n",
      "17 13\n",
      "19 11\n",
      "23 7\n",
      "29 1\n"
     ]
    }
   ],
   "source": [
    "for i in range(1, 30):\n",
    "    if math.gcd(i, 30 - i) == 1:\n",
    "        print(i, 30 - i)"
   ]
  },
  {
   "cell_type": "code",
   "execution_count": 17,
   "metadata": {},
   "outputs": [
    {
     "name": "stdout",
     "output_type": "stream",
     "text": [
      "1 1\n",
      "2 1\n",
      "3 1\n",
      "4 1\n",
      "5 1\n",
      "6 1\n",
      "7 2\n",
      "8 2\n",
      "9 2\n",
      "10 2\n",
      "11 3\n",
      "12 3\n",
      "13 4\n",
      "14 4\n",
      "15 4\n",
      "16 4\n",
      "17 5\n",
      "18 5\n",
      "19 6\n",
      "20 6\n",
      "21 6\n",
      "22 6\n",
      "23 7\n",
      "24 7\n",
      "25 7\n",
      "26 7\n",
      "27 7\n",
      "28 7\n",
      "29 8\n"
     ]
    }
   ],
   "source": [
    "for i in range(1, 30):\n",
    "    print(i, num_coprimes(i, 30))"
   ]
  },
  {
   "cell_type": "code",
   "execution_count": 20,
   "metadata": {},
   "outputs": [
    {
     "name": "stdout",
     "output_type": "stream",
     "text": [
      "6\n"
     ]
    }
   ],
   "source": [
    "print(euler_sieve[7])"
   ]
  },
  {
   "cell_type": "code",
   "execution_count": null,
   "metadata": {},
   "outputs": [],
   "source": []
  }
 ],
 "metadata": {
  "kernelspec": {
   "display_name": ".venv",
   "language": "python",
   "name": "python3"
  },
  "language_info": {
   "codemirror_mode": {
    "name": "ipython",
    "version": 3
   },
   "file_extension": ".py",
   "mimetype": "text/x-python",
   "name": "python",
   "nbconvert_exporter": "python",
   "pygments_lexer": "ipython3",
   "version": "3.12.3"
  }
 },
 "nbformat": 4,
 "nbformat_minor": 2
}
