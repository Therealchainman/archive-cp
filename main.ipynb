{
 "cells": [
  {
   "cell_type": "code",
   "execution_count": 12,
   "metadata": {},
   "outputs": [],
   "source": [
    "from collections import *\n",
    "from functools import *\n",
    "from itertools import *\n",
    "import operator\n",
    "import sys\n",
    "import re\n",
    "import math\n",
    "import string\n",
    "import bisect\n",
    "# import parse\n",
    "# import matplotlib.pyplot as plt\n",
    "# import matplotlib.animation as animation\n",
    "# import numpy as np\n",
    "import heapq\n",
    "# from matplotlib.path import Path\n",
    "import ast\n",
    "import hashlib\n",
    "import unittest\n",
    "import copy\n",
    "from dataclasses import dataclass, field\n",
    "# import sympy\n",
    "# import networkx as nx\n",
    "# from pyvis.network import Network\n",
    "from typing import *\n",
    "# from shapely.geometry import Polygon\n",
    "import random\n",
    "# from IPython.display import HTML\n",
    "# from sortedcontainers import SortedDict, SortedList\n",
    "import pathlib"
   ]
  },
  {
   "cell_type": "code",
   "execution_count": 13,
   "metadata": {},
   "outputs": [],
   "source": [
    "# %matplotlib notebook"
   ]
  },
  {
   "cell_type": "code",
   "execution_count": 14,
   "metadata": {},
   "outputs": [],
   "source": [
    "def printer(x):\n",
    "    print(f\"{x:,}\")\n",
    "def binary(x):\n",
    "    return bin(x)[2:]"
   ]
  },
  {
   "cell_type": "code",
   "execution_count": 18,
   "metadata": {},
   "outputs": [
    {
     "name": "stdout",
     "output_type": "stream",
     "text": [
      "2,415,919,104\n"
     ]
    }
   ],
   "source": [
    "printer(12 * 12 * 2 ** 24)"
   ]
  },
  {
   "cell_type": "code",
   "execution_count": 39,
   "metadata": {},
   "outputs": [],
   "source": [
    "lookup = {}\n",
    "for i in range(1, 2 * 10 ** 5 + 1):\n",
    "    for j in range(i + 1):\n",
    "        k = i - j\n",
    "        lookup[i] = (j, k)\n",
    "        if math.comb(i, k) > 10 ** 6:\n",
    "            break"
   ]
  },
  {
   "cell_type": "code",
   "execution_count": 40,
   "metadata": {},
   "outputs": [],
   "source": [
    "import json\n",
    "with open(\"output.json\", \"w\") as f:\n",
    "    json.dump(lookup, f, indent = 4)"
   ]
  },
  {
   "cell_type": "code",
   "execution_count": 9,
   "metadata": {},
   "outputs": [],
   "source": [
    "n = 2 ** 30"
   ]
  },
  {
   "cell_type": "code",
   "execution_count": 10,
   "metadata": {},
   "outputs": [
    {
     "name": "stdout",
     "output_type": "stream",
     "text": [
      "1 536870912\n",
      "2 268435456\n",
      "3 134217728\n",
      "4 67108864\n",
      "5 33554432\n",
      "6 16777216\n",
      "7 8388608\n",
      "8 4194304\n",
      "9 2097152\n",
      "10 1048576\n",
      "11 524288\n",
      "12 262144\n",
      "13 131072\n",
      "14 65536\n",
      "15 32768\n",
      "16 16384\n",
      "17 8192\n",
      "18 4096\n",
      "19 2048\n",
      "20 1024\n",
      "21 512\n",
      "22 256\n",
      "23 128\n",
      "24 64\n",
      "25 32\n",
      "26 16\n",
      "27 8\n",
      "28 4\n",
      "29 2\n",
      "30 1\n",
      "30\n"
     ]
    }
   ],
   "source": [
    "cnt = 0\n",
    "while n > 1:\n",
    "    n //= 2\n",
    "    cnt += 1\n",
    "    print(cnt, n)\n",
    "print(cnt)"
   ]
  },
  {
   "cell_type": "code",
   "execution_count": 11,
   "metadata": {},
   "outputs": [
    {
     "data": {
      "text/plain": [
       "1024"
      ]
     },
     "execution_count": 11,
     "metadata": {},
     "output_type": "execute_result"
    }
   ],
   "source": [
    "2 ** 10"
   ]
  },
  {
   "cell_type": "code",
   "execution_count": null,
   "metadata": {},
   "outputs": [],
   "source": []
  }
 ],
 "metadata": {
  "kernelspec": {
   "display_name": ".venv",
   "language": "python",
   "name": "python3"
  },
  "language_info": {
   "codemirror_mode": {
    "name": "ipython",
    "version": 3
   },
   "file_extension": ".py",
   "mimetype": "text/x-python",
   "name": "python",
   "nbconvert_exporter": "python",
   "pygments_lexer": "ipython3",
   "version": "3.12.7"
  }
 },
 "nbformat": 4,
 "nbformat_minor": 2
}
