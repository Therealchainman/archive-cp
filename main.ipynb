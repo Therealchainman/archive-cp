{
 "cells": [
  {
   "cell_type": "code",
   "execution_count": 1,
   "metadata": {},
   "outputs": [],
   "source": [
    "from collections import *\n",
    "from functools import *\n",
    "from itertools import *\n",
    "import operator\n",
    "import sys\n",
    "import re\n",
    "import math\n",
    "import string\n",
    "import bisect\n",
    "# import parse\n",
    "# import matplotlib.pyplot as plt\n",
    "# import matplotlib.animation as animation\n",
    "# import numpy as np\n",
    "import heapq\n",
    "# from matplotlib.path import Path\n",
    "import ast\n",
    "import hashlib\n",
    "import unittest\n",
    "import copy\n",
    "from dataclasses import dataclass, field\n",
    "# import sympy\n",
    "# import networkx as nx\n",
    "# from pyvis.network import Network\n",
    "from typing import *\n",
    "# from shapely.geometry import Polygon\n",
    "import random\n",
    "# from IPython.display import HTML\n",
    "# from sortedcontainers import SortedDict, SortedList\n",
    "import pathlib"
   ]
  },
  {
   "cell_type": "code",
   "execution_count": 2,
   "metadata": {},
   "outputs": [],
   "source": [
    "# %matplotlib notebook"
   ]
  },
  {
   "cell_type": "code",
   "execution_count": 3,
   "metadata": {},
   "outputs": [],
   "source": [
    "def printer(x):\n",
    "    print(f\"{x:,}\")\n",
    "def binary(x):\n",
    "\n",
    "    return bin(x)[2:]"
   ]
  },
  {
   "cell_type": "code",
   "execution_count": 6,
   "metadata": {},
   "outputs": [
    {
     "name": "stdout",
     "output_type": "stream",
     "text": [
      "59,049\n"
     ]
    }
   ],
   "source": [
    "printer(9 ** 5)"
   ]
  },
  {
   "cell_type": "code",
   "execution_count": null,
   "metadata": {},
   "outputs": [
    {
     "name": "stdout",
     "output_type": "stream",
     "text": [
      "2\n",
      "6\n",
      "24\n",
      "120\n",
      "720\n",
      "5040\n",
      "40320\n",
      "362880\n",
      "3628800\n",
      "39916800\n",
      "479001600\n",
      "6227020800\n",
      "13\n"
     ]
    }
   ],
   "source": [
    "fact = [0] * 100_000\n",
    "max = 1e9\n",
    "fact[1] = 1\n",
    "for i in range(2, 100_000):\n",
    "    fact[i] = i * fact[i - 1]\n",
    "    print(fact[i])\n",
    "    if fact[i] > max:\n",
    "        break"
   ]
  },
  {
   "cell_type": "code",
   "execution_count": 12,
   "metadata": {},
   "outputs": [
    {
     "name": "stdout",
     "output_type": "stream",
     "text": [
      "5040\n",
      "1,000,000\n",
      "2,000,000\n",
      "3,000,000\n",
      "4,000,000\n",
      "5,000,000\n",
      "6,000,000\n",
      "7,000,000\n",
      "8,000,000\n",
      "9,000,000\n",
      "10,000,000\n",
      "11,000,000\n"
     ]
    },
    {
     "ename": "KeyboardInterrupt",
     "evalue": "",
     "output_type": "error",
     "traceback": [
      "\u001b[0;31m---------------------------------------------------------------------------\u001b[0m",
      "\u001b[0;31mKeyboardInterrupt\u001b[0m                         Traceback (most recent call last)",
      "Cell \u001b[0;32mIn[12], line 15\u001b[0m\n\u001b[1;32m     13\u001b[0m \u001b[38;5;28;01mfor\u001b[39;00m i \u001b[38;5;129;01min\u001b[39;00m \u001b[38;5;28mrange\u001b[39m(K):\n\u001b[1;32m     14\u001b[0m     \u001b[38;5;28;01mfor\u001b[39;00m j \u001b[38;5;129;01min\u001b[39;00m \u001b[38;5;28mrange\u001b[39m(N):\n\u001b[0;32m---> 15\u001b[0m         sums[j] \u001b[38;5;241m+\u001b[39m\u001b[38;5;241m=\u001b[39m arr[c[i]][j]\n\u001b[1;32m     16\u001b[0m sol \u001b[38;5;241m=\u001b[39m \u001b[38;5;28;01mTrue\u001b[39;00m\n\u001b[1;32m     17\u001b[0m \u001b[38;5;28;01mfor\u001b[39;00m i \u001b[38;5;129;01min\u001b[39;00m \u001b[38;5;28mrange\u001b[39m(N):\n",
      "\u001b[0;31mKeyboardInterrupt\u001b[0m: "
     ]
    }
   ],
   "source": [
    "N = 5\n",
    "K = 3\n",
    "arr = []\n",
    "for p in permutations(range(1, N + 1)):\n",
    "    arr.append(p)\n",
    "print(len(arr))\n",
    "solutions = []\n",
    "cnt = 0\n",
    "for c in combinations(range(len(arr)), K):\n",
    "    cnt += 1\n",
    "    if cnt % 1_000_000 == 0: printer(cnt)\n",
    "    sums = [0] * N\n",
    "    for i in range(K):\n",
    "        for j in range(N):\n",
    "            sums[j] += arr[c[i]][j]\n",
    "    sol = True\n",
    "    for i in range(N):\n",
    "        if sums[i] != sums[0]:\n",
    "            sol = False\n",
    "            break\n",
    "    if sol:\n",
    "        solutions.append(c)"
   ]
  },
  {
   "cell_type": "code",
   "execution_count": null,
   "metadata": {},
   "outputs": [
    {
     "name": "stdout",
     "output_type": "stream",
     "text": [
      "8\n"
     ]
    }
   ],
   "source": [
    "print(len(solutions))LIMLIMLIM"
   ]
  },
  {
   "cell_type": "code",
   "execution_count": 14,
   "metadata": {},
   "outputs": [
    {
     "name": "stdout",
     "output_type": "stream",
     "text": [
      "(0, 2610, 4853)\n",
      "(1, 2, 3, 4, 5, 6, 7)\n",
      "(4, 5, 6, 7, 1, 2, 3)\n",
      "(7, 5, 3, 1, 6, 4, 2)\n",
      "(0, 2627, 4842)\n",
      "(1, 2, 3, 4, 5, 6, 7)\n",
      "(4, 5, 7, 2, 6, 3, 1)\n",
      "(7, 5, 2, 6, 1, 3, 4)\n",
      "(0, 2710, 4777)\n",
      "(1, 2, 3, 4, 5, 6, 7)\n",
      "(4, 6, 3, 7, 5, 1, 2)\n",
      "(7, 4, 6, 1, 2, 5, 3)\n",
      "(0, 2749, 4720)\n",
      "(1, 2, 3, 4, 5, 6, 7)\n",
      "(4, 6, 7, 3, 1, 5, 2)\n",
      "(7, 4, 2, 5, 6, 1, 3)\n",
      "(0, 2829, 4666)\n",
      "(1, 2, 3, 4, 5, 6, 7)\n",
      "(4, 7, 3, 6, 2, 5, 1)\n",
      "(7, 3, 6, 2, 5, 1, 4)\n",
      "(0, 2842, 4627)\n",
      "(1, 2, 3, 4, 5, 6, 7)\n",
      "(4, 7, 5, 2, 6, 1, 3)\n",
      "(7, 3, 4, 6, 1, 5, 2)\n",
      "(0, 3213, 4252)\n",
      "(1, 2, 3, 4, 5, 6, 7)\n",
      "(5, 3, 6, 7, 2, 4, 1)\n",
      "(6, 7, 3, 1, 5, 2, 4)\n",
      "(0, 3232, 4237)\n",
      "(1, 2, 3, 4, 5, 6, 7)\n",
      "(5, 3, 7, 4, 6, 1, 2)\n",
      "(6, 7, 2, 4, 1, 5, 3)\n"
     ]
    }
   ],
   "source": [
    "for s in solutions:\n",
    "    print(s)\n",
    "    for i in s:\n",
    "        print(arr[i])"
   ]
  },
  {
   "cell_type": "code",
   "execution_count": 9,
   "metadata": {},
   "outputs": [
    {
     "name": "stdout",
     "output_type": "stream",
     "text": [
      "{(3, 4, 5, 1, 2), (4, 5, 1, 2, 3), (5, 1, 2, 3, 4), (2, 3, 4, 5, 1), (1, 2, 3, 4, 5)}\n"
     ]
    }
   ],
   "source": [
    "N = 5\n",
    "s = set()\n",
    "for i in range(N):\n",
    "    v = i\n",
    "    arr = []\n",
    "    for j in range(N):\n",
    "        v += 1\n",
    "        if v > N: v = 1\n",
    "        arr.append(v)\n",
    "    s.add(tuple(arr))\n",
    "print(s)\n",
    "for p in permutations(range(1, N + 1)):\n",
    "    if p in s: continue\n",
    "    "
   ]
  },
  {
   "cell_type": "code",
   "execution_count": null,
   "metadata": {},
   "outputs": [],
   "source": []
  }
 ],
 "metadata": {
  "kernelspec": {
   "display_name": ".venv",
   "language": "python",
   "name": "python3"
  },
  "language_info": {
   "codemirror_mode": {
    "name": "ipython",
    "version": 3
   },
   "file_extension": ".py",
   "mimetype": "text/x-python",
   "name": "python",
   "nbconvert_exporter": "python",
   "pygments_lexer": "ipython3",
   "version": "3.12.3"
  }
 },
 "nbformat": 4,
 "nbformat_minor": 2
}
