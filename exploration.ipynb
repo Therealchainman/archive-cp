{
 "cells": [
  {
   "cell_type": "code",
   "execution_count": 1,
   "id": "b7fc0fca-3f03-44b0-ba88-c4331b5d6f10",
   "metadata": {},
   "outputs": [],
   "source": [
    "from bisect import *\n",
    "from typing import *\n",
    "from math import *\n",
    "from string import *"
   ]
  },
  {
   "cell_type": "code",
   "execution_count": null,
   "id": "63bfe932-cdf4-4f89-9fb8-6a951e4bffe5",
   "metadata": {},
   "outputs": [],
   "source": []
  },
  {
   "cell_type": "code",
   "execution_count": 6,
   "id": "e258ab8a-676d-478f-ba66-728a347f2428",
   "metadata": {},
   "outputs": [],
   "source": [
    "arr = list(range(0, 40, 2))"
   ]
  },
  {
   "cell_type": "code",
   "execution_count": 37,
   "id": "71b1b701-49a2-4a48-b524-1a0459be5b65",
   "metadata": {},
   "outputs": [],
   "source": [
    "def binary_search_right(arr: List[int], target: int) -> int:\n",
    "    left, right = 0, len(arr)\n",
    "    while left < right:\n",
    "        mid = (left+right)//2\n",
    "        print('left, mid, right', left, mid, right)\n",
    "        print(target < arr[mid], target, arr[mid])\n",
    "        if target < arr[mid]:\n",
    "            right = mid\n",
    "        else:\n",
    "            left = mid + 1\n",
    "    return left\n",
    "def binary_search_left(arr: List[int], target: int) -> int:\n",
    "    left, right = 0, len(arr)\n",
    "    while left < right:\n",
    "        mid = (left+right)//2\n",
    "        if arr[mid] < target:\n",
    "            left = mid + 1\n",
    "        else:\n",
    "            right = mid\n",
    "    return left"
   ]
  },
  {
   "cell_type": "code",
   "execution_count": 27,
   "id": "ad5d1a00-9c54-4539-b929-c8d8cee78d7b",
   "metadata": {},
   "outputs": [
    {
     "data": {
      "text/plain": [
       "22"
      ]
     },
     "execution_count": 27,
     "metadata": {},
     "output_type": "execute_result"
    }
   ],
   "source": [
    "i = binary_search_left(arr, 22)\n",
    "arr[i]"
   ]
  },
  {
   "cell_type": "code",
   "execution_count": 21,
   "id": "b1153841-bc55-4e56-8aac-e3036122dce1",
   "metadata": {},
   "outputs": [
    {
     "data": {
      "text/plain": [
       "[0, 2, 4, 6, 8, 10, 12, 14, 16, 18, 20, 22, 24, 26, 28, 30, 32, 34, 36, 38]"
      ]
     },
     "execution_count": 21,
     "metadata": {},
     "output_type": "execute_result"
    }
   ],
   "source": [
    "arr"
   ]
  },
  {
   "cell_type": "code",
   "execution_count": 15,
   "id": "73333a9c-50c7-4600-8c3d-e8dad0a5d0bc",
   "metadata": {},
   "outputs": [],
   "source": [
    "bool_arr = [0]*11 + [1]*9"
   ]
  },
  {
   "cell_type": "code",
   "execution_count": 18,
   "id": "c0254d94-8a26-4cfd-9036-b64412caac61",
   "metadata": {},
   "outputs": [
    {
     "name": "stdout",
     "output_type": "stream",
     "text": [
      "[(0, 0), (2, 0), (4, 0), (6, 0), (8, 0), (10, 0), (12, 0), (14, 0), (16, 0), (18, 0), (20, 0), (22, 1), (24, 1), (26, 1), (28, 1), (30, 1), (32, 1), (34, 1), (36, 1), (38, 1)]\n"
     ]
    }
   ],
   "source": [
    "print(list(zip(arr, bool_arr)))"
   ]
  },
  {
   "cell_type": "raw",
   "id": "301b1d3f-d432-4aa5-9fa8-273249c5e84f",
   "metadata": {},
   "source": [
    "binary_search_right does\n",
    "\n",
    "FFFFFFTTTT\n",
    "      ^\n",
    "first element in the iterable that is greater than the target value\n",
    "returns the first true value\n",
    "\n",
    "binary_search_left\n",
    "\n",
    "TTTTTTTFFFFF\n",
    "       ^\n",
    "first element in the iterable that is greater than or equal to the target value\n",
    "returns the first false value"
   ]
  },
  {
   "cell_type": "code",
   "execution_count": 42,
   "id": "5c1cd672-311d-4fe3-8267-36baff6cb4c3",
   "metadata": {},
   "outputs": [
    {
     "name": "stdout",
     "output_type": "stream",
     "text": [
      "left, mid, right 0 0 1\n",
      "False [1, inf] [0, 0]\n",
      "0\n",
      "left, mid, right 0 1 2\n",
      "True [2, inf] [5, 20]\n",
      "left, mid, right 0 0 1\n",
      "False [2, inf] [0, 0]\n",
      "0\n",
      "left, mid, right 0 1 2\n",
      "False [5, inf] [5, 20]\n",
      "1\n"
     ]
    },
    {
     "data": {
      "text/plain": [
       "[[0, 0], [5, 20], [10, 50]]"
      ]
     },
     "execution_count": 42,
     "metadata": {},
     "output_type": "execute_result"
    }
   ],
   "source": [
    "jobs = [(1, 5, 20), (2, 5, 10), (5, 10, 30)]\n",
    "dp = [[0,0]]\n",
    "for s, e, p in jobs:\n",
    "    i = binary_search_right(dp, [s, inf]) - 1\n",
    "    print(i)\n",
    "    if dp[i][1] + p > dp[-1][1]:\n",
    "        dp.append([e, dp[i][1] + p])\n",
    "dp"
   ]
  },
  {
   "cell_type": "code",
   "execution_count": 29,
   "id": "37e778de-1d8a-4e1f-ac07-8816cbca4cef",
   "metadata": {},
   "outputs": [
    {
     "data": {
      "text/plain": [
       "False"
      ]
     },
     "execution_count": 29,
     "metadata": {},
     "output_type": "execute_result"
    }
   ],
   "source": [
    "[1] < [0,0]"
   ]
  },
  {
   "cell_type": "code",
   "execution_count": null,
   "id": "5637c59e-630b-419b-a2af-359abc2e9128",
   "metadata": {},
   "outputs": [],
   "source": []
  }
 ],
 "metadata": {
  "kernelspec": {
   "display_name": "Python 3 (ipykernel)",
   "language": "python",
   "name": "python3"
  },
  "language_info": {
   "codemirror_mode": {
    "name": "ipython",
    "version": 3
   },
   "file_extension": ".py",
   "mimetype": "text/x-python",
   "name": "python",
   "nbconvert_exporter": "python",
   "pygments_lexer": "ipython3",
   "version": "3.10.0"
  }
 },
 "nbformat": 4,
 "nbformat_minor": 5
}
