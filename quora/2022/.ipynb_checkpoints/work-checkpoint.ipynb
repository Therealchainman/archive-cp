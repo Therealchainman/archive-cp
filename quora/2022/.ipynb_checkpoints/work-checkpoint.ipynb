{
 "cells": [
  {
   "cell_type": "markdown",
   "id": "a0248d04-5669-42d4-840b-8b6610cbca5b",
   "metadata": {},
   "source": [
    "# DNA"
   ]
  },
  {
   "cell_type": "code",
   "execution_count": 17,
   "id": "f533b2aa-529b-4053-b0fa-fc5d44de6f8f",
   "metadata": {},
   "outputs": [],
   "source": [
    "s = \"GGGGAT\""
   ]
  },
  {
   "cell_type": "code",
   "execution_count": 18,
   "id": "69a91b42-258a-4e92-a6d4-cf2cf24de7c2",
   "metadata": {},
   "outputs": [],
   "source": [
    "def algorithm(s):\n",
    "    n = len(s)\n",
    "    bonds_dict = {'A':'T', 'T':'A', 'G':'C','C':'G'}\n",
    "    maxBonds = 0\n",
    "    basesLeft = 0\n",
    "    for i in range(n):\n",
    "        k = 2*i+1\n",
    "        bonds = 0\n",
    "        for j in range(i+1):\n",
    "            print(f\"j={j}, k={k}\")\n",
    "            if k<n and bonds_dict[s[j]]==s[k]:\n",
    "                bonds+=1\n",
    "            k-=1\n",
    "        if bonds>maxBonds:\n",
    "            maxBonds=bonds\n",
    "            basesLeft=i+1\n",
    "            \n",
    "    return basesLeft, maxBonds"
   ]
  },
  {
   "cell_type": "code",
   "execution_count": 19,
   "id": "9c6a965a-58e2-4f25-ad26-0c130219cbde",
   "metadata": {},
   "outputs": [
    {
     "name": "stdout",
     "output_type": "stream",
     "text": [
      "j=0, k=1\n",
      "j=0, k=3\n",
      "j=1, k=2\n",
      "j=0, k=5\n",
      "j=1, k=4\n",
      "j=2, k=3\n",
      "j=0, k=7\n",
      "j=1, k=6\n",
      "j=2, k=5\n",
      "j=3, k=4\n",
      "j=0, k=9\n",
      "j=1, k=8\n",
      "j=2, k=7\n",
      "j=3, k=6\n",
      "j=4, k=5\n",
      "j=0, k=11\n",
      "j=1, k=10\n",
      "j=2, k=9\n",
      "j=3, k=8\n",
      "j=4, k=7\n",
      "j=5, k=6\n"
     ]
    },
    {
     "data": {
      "text/plain": [
       "(5, 1)"
      ]
     },
     "execution_count": 19,
     "metadata": {},
     "output_type": "execute_result"
    }
   ],
   "source": [
    "algorithm(s)"
   ]
  },
  {
   "cell_type": "markdown",
   "id": "cd58fbcd-f497-4b44-9f5d-98a6663a8579",
   "metadata": {},
   "source": [
    "# CITY"
   ]
  },
  {
   "cell_type": "code",
   "execution_count": null,
   "id": "9739c8f9-39c7-4371-be6d-acdb8d50532b",
   "metadata": {},
   "outputs": [],
   "source": []
  }
 ],
 "metadata": {
  "kernelspec": {
   "display_name": "Python 3",
   "language": "python",
   "name": "python3"
  },
  "language_info": {
   "codemirror_mode": {
    "name": "ipython",
    "version": 3
   },
   "file_extension": ".py",
   "mimetype": "text/x-python",
   "name": "python",
   "nbconvert_exporter": "python",
   "pygments_lexer": "ipython3",
   "version": "3.8.5"
  }
 },
 "nbformat": 4,
 "nbformat_minor": 5
}
