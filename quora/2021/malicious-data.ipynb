{
 "cells": [
  {
   "cell_type": "markdown",
   "id": "88ee23a9-3655-41d0-b426-d99094560c16",
   "metadata": {},
   "source": [
    "# Malicious Data"
   ]
  },
  {
   "cell_type": "code",
   "execution_count": 4,
   "id": "329bd8c5-8e00-42e1-a4e2-27ccf0ddf958",
   "metadata": {},
   "outputs": [],
   "source": [
    "import matplotlib.pyplot as plt\n",
    "import lightgbm as lgb\n",
    "import numpy as np\n",
    "import sys\n",
    "from sklearn.metrics import roc_auc_score\n",
    "from scipy.stats import multivariate_normal"
   ]
  },
  {
   "cell_type": "code",
   "execution_count": 22,
   "id": "f5090a61-694b-40d7-ad01-dafd2cb50b5f",
   "metadata": {},
   "outputs": [],
   "source": [
    "# inp = sys.argv[1]\n",
    "# tes = sys.argv[2]\n",
    "# oup = sys.argv[3]\n",
    "\n",
    "X_train = []\n",
    "y_train = []\n",
    "with open(\"inputs/training-data-malicious.txt\") as f:\n",
    "    k, d, m = tuple(map(int, f.readline().strip().split()))\n",
    "    for _ in range(k):\n",
    "        parts = f.readline().strip().split()\n",
    "        X_train.append(list(float(x) for x in parts))\n",
    "    for _ in range(k):\n",
    "        y_train.append(int(f.readline().strip()))"
   ]
  },
  {
   "cell_type": "code",
   "execution_count": 23,
   "id": "ba1387e4-6b52-4442-b3bb-5b75ca28565d",
   "metadata": {},
   "outputs": [],
   "source": [
    "X_pos = np.array([x for x,y in zip(X_train, y_train) if y])\n",
    "# compute mean for a column vertically\n",
    "mean = np.mean(X_pos,axis=0) \n",
    "# covariance of the matrix how each element varies\n",
    "cov = np.cov(X_pos.transpose())\n",
    "X_simulated = np.random.multivariate_normal(mean, cov, 2000)\n",
    "X_simulated = [(a,b,c) for a,b,c in X_simulated if -3 < a < 3 and 0 < b < 3 and -3 < c < 3]\n",
    "X_fake = []\n",
    "for i in range(10000):\n",
    "    a,b,c = np.random.uniform(-3,3),np.random.uniform(0,3),np.random.uniform(-3,3)\n",
    "    if multivariate_normal.pdf([a,b,c], mean, cov) < 0.00089:\n",
    "        X_fake.append((a,b,c))\n",
    "assert len(X_fake) > 1000\n",
    "X_fake = X_fake[:1000]"
   ]
  },
  {
   "cell_type": "code",
   "execution_count": 29,
   "id": "aba4480e-bc76-4c17-9ea2-8a6df118959e",
   "metadata": {},
   "outputs": [
    {
     "name": "stdout",
     "output_type": "stream",
     "text": [
      "[[ 0.03952214  1.78999541  0.88716915]\n",
      " [ 0.13728722  1.55315086 -0.64679074]\n",
      " [-2.56305759  1.3727937   0.01054431]\n",
      " ...\n",
      " [-0.36737206  2.01291737 -1.08441843]\n",
      " [-0.17296757  0.46980984  1.68033002]\n",
      " [ 0.11510384  1.43081167  1.66252621]]\n"
     ]
    }
   ],
   "source": [
    "print(X_pos)"
   ]
  },
  {
   "cell_type": "code",
   "execution_count": null,
   "id": "20b4c242-b694-4e5b-af45-2594617f64b6",
   "metadata": {},
   "outputs": [],
   "source": [
    "with open(\"output.txt\", \"w\") as f:\n",
    "    counter = 0\n",
    "    for a,b,c in X_fake:\n",
    "        f.write(\"{} {} {}\\n\".format(a,b,c))\n",
    "    for y in range(1000):\n",
    "        f.write(\"{}\\n\".format(1))\n",
    "fig, axs = plt.subplots(1, 3, figsize=(14,4))\n",
    "\n",
    "idx1, idx2 = 1,0\n",
    "axs[0].scatter([x[idx1] for x in X_train], [x[idx2] for x in X_train], c=y_train, s=2, cmap=\"bwr\")\n",
    "\n",
    "idx1, idx2 = 2,0\n",
    "axs[1].scatter([x[idx1] for x in X_train], [x[idx2] for x in X_train], c=y_train, s=2, cmap=\"bwr\")\n",
    "\n",
    "idx1, idx2 = 2,1\n",
    "axs[2].scatter([x[idx1] for x in X_train], [x[idx2] for x in X_train], c=y_train, s=2, cmap=\"bwr\")\n",
    "plt.suptitle(\"Red = Positve, Blue = Negative\")\n",
    "plt.show()\n",
    "\n",
    "fig, axs = plt.subplots(1, 3, figsize=(14,4))\n",
    "\n",
    "idx1, idx2 = 1,0\n",
    "axs[0].scatter([x[idx1] for x in X_pos], [x[idx2] for x in X_pos], s=2, c=\"red\")\n",
    "axs[0].scatter([x[idx1] for x in X_fake], [x[idx2] for x in X_fake], s=2)\n",
    "\n",
    "idx1, idx2 = 2,0\n",
    "axs[1].scatter([x[idx1] for x in X_pos], [x[idx2] for x in X_pos], s=2, c=\"red\")\n",
    "axs[1].scatter([x[idx1] for x in X_fake], [x[idx2] for x in X_fake], s=2)\n",
    "\n",
    "idx1, idx2 = 2,1\n",
    "axs[2].scatter([x[idx1] for x in X_pos], [x[idx2] for x in X_pos], s=2, c=\"red\")\n",
    "axs[2].scatter([x[idx1] for x in X_fake], [x[idx2] for x in X_fake], s=2)\n",
    "plt.suptitle(\"Red = Positve, Light Blue = Malicious\")\n",
    "plt.show()\n"
   ]
  }
 ],
 "metadata": {
  "kernelspec": {
   "display_name": "Python 3 (ipykernel)",
   "language": "python",
   "name": "python3"
  },
  "language_info": {
   "codemirror_mode": {
    "name": "ipython",
    "version": 3
   },
   "file_extension": ".py",
   "mimetype": "text/x-python",
   "name": "python",
   "nbconvert_exporter": "python",
   "pygments_lexer": "ipython3",
   "version": "3.8.10"
  }
 },
 "nbformat": 4,
 "nbformat_minor": 5
}
