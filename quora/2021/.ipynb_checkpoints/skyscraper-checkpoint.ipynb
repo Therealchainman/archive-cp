{
 "cells": [
  {
   "cell_type": "markdown",
   "id": "dd49a14a-e283-467c-83fa-10c0d00a100c",
   "metadata": {},
   "source": [
    "# skyscraper"
   ]
  },
  {
   "cell_type": "code",
   "execution_count": 193,
   "id": "057e59a8-49c1-4e28-917b-a89425202e0b",
   "metadata": {},
   "outputs": [],
   "source": [
    "# Implement an algorithm to find the first element greater than a given amount\n",
    "# design a query algorithm that will find the first element greater than a given amount\n",
    "# max segment tree\n",
    "import math\n",
    "class SegmentTree:\n",
    "    def __init__(self,arr):\n",
    "        self.arr = arr\n",
    "        n = len(arr)\n",
    "        self.neutral = math.inf\n",
    "        self.size = 1\n",
    "        while self.size<n:\n",
    "            self.size*=2\n",
    "        self.tree = [0 for _ in range(self.size*2)]\n",
    "    def update_tree(self, idx, val):\n",
    "        self.update(idx,val,0,0,self.size)\n",
    "    def build_tree(self):\n",
    "        for i, val in enumerate(self.arr):\n",
    "            self.update_tree(i,val)\n",
    "    def update(self,idx,val,x,lx,rx):\n",
    "        if rx-lx==1:\n",
    "            self.tree[x] = val\n",
    "            return\n",
    "        mid = rx+lx>>1\n",
    "        if idx<mid:\n",
    "            self.update(idx,val,2*x+1,lx,mid)\n",
    "        else:\n",
    "            self.update(idx,val,2*x+2,mid,rx)\n",
    "        self.tree[x] = max(self.tree[2*x+1],self.tree[2*x+2])\n",
    "    def get_first_tree(self,l, r,val):\n",
    "        return self.get_first(l,r,0,0,self.size,val)\n",
    "    def get_first(self,l,r,x,lx,rx,val):\n",
    "        if lx>=r or rx<=l: return -1\n",
    "        if l<=lx and rx<=r:\n",
    "            if self.tree[x] <= val: return -1\n",
    "            while rx != lx+1:\n",
    "                mid = lx + rx >> 1\n",
    "                if self.tree[2*x+1]>val:\n",
    "                    x = 2*x+1\n",
    "                    rx = mid\n",
    "                else:\n",
    "                    x = 2*x+2\n",
    "                    lx = mid\n",
    "\n",
    "            return lx\n",
    "        mid = lx+rx>>1\n",
    "        left_segment = self.get_first(l,r,2*x+1,lx,mid,val)\n",
    "        if left_segment != -1: return left_segment\n",
    "        return self.get_first(l,r,2*x+2,mid,rx,val)\n",
    "    def get_last_tree(self,l,r,val):\n",
    "        return self.get_last(l,r,0,0,self.size,val)\n",
    "    def get_last(self,l,r,x,lx,rx,val):\n",
    "        if lx>=r or rx<=l: return -1\n",
    "        if l<=lx and rx<=r:\n",
    "            if self.tree[x] <= val: return -1\n",
    "            while rx != lx+1:\n",
    "                mid = lx+rx>>1\n",
    "                if self.tree[2*x+2]>val:\n",
    "                    x=2*x+2\n",
    "                    lx=mid\n",
    "                else:\n",
    "                    x=2*x+1\n",
    "                    rx=mid\n",
    "            return lx\n",
    "        mid = lx+rx>>1\n",
    "        right_segment = self.get_last(l,r,2*x+2,mid,rx,val)\n",
    "        if right_segment != -1: return right_segment\n",
    "        return self.get_last(l,r,2*x+1,lx,mid,val)\n",
    "    def get_count(self,i):\n",
    "        left_index = self.get_last_tree(0,i+1,self.arr[i])\n",
    "        right_index = self.get_first_tree(i+1,n,arr[i])\n",
    "        right_index = right_index if right_index!=-1 else len(self.arr)\n",
    "        return right_index-left_index-1"
   ]
  },
  {
   "cell_type": "code",
   "execution_count": 194,
   "id": "e07789b8-308e-4510-a89a-50dcae1901c7",
   "metadata": {},
   "outputs": [],
   "source": [
    "arr = [4,2,3,2,4,7,6,5]\n",
    "n = len(arr)\n",
    "segment_tree = SegmentTree(arr)\n",
    "segment_tree.build_tree()"
   ]
  },
  {
   "cell_type": "code",
   "execution_count": 195,
   "id": "9696277e-9f6d-4f3a-8448-5c0ed77a44c0",
   "metadata": {},
   "outputs": [
    {
     "data": {
      "text/plain": [
       "[7, 4, 7, 4, 3, 7, 6, 4, 2, 3, 2, 4, 7, 6, 5, 0]"
      ]
     },
     "execution_count": 195,
     "metadata": {},
     "output_type": "execute_result"
    }
   ],
   "source": [
    "segment_tree.tree"
   ]
  },
  {
   "cell_type": "code",
   "execution_count": 196,
   "id": "6953f5e4-d0dd-4ef5-a746-8a6872ee0389",
   "metadata": {},
   "outputs": [],
   "source": [
    "def get_size(i):\n",
    "    left_index = segment_tree.get_last_tree(0,i+1,arr[i])\n",
    "    right_index = segment_tree.get_first_tree(i+1,n,arr[i]) \n",
    "    right_index = right_index if right_index!=-1 else n\n",
    "    return right_index-left_index-1"
   ]
  },
  {
   "cell_type": "code",
   "execution_count": 205,
   "id": "3c0e3139-1d5d-4351-b14f-e550686bdac3",
   "metadata": {},
   "outputs": [],
   "source": [
    "import unittest\n",
    "class testQuery(unittest.TestCase):\n",
    "    def test(self):\n",
    "        arr = [4,2,3,2,4,7,6,5]\n",
    "        segment_tree = SegmentTree(arr)\n",
    "        segment_tree.build_tree()\n",
    "        self.assertEqual(segment_tree.get_count(0),5)\n",
    "        self.assertEqual(segment_tree.get_count(1),1)\n",
    "        self.assertEqual(segment_tree.get_count(2),3)\n",
    "        self.assertEqual(segment_tree.get_count(4),5)\n",
    "        self.assertEqual(segment_tree.get_count(5),8)\n",
    "        self.assertEqual(segment_tree.get_count(6),2)\n",
    "        segment_tree.update_tree(2,8)\n",
    "        self.assertEqual(segment_tree.get_count(4),2)\n",
    "        for i in range(4,7):\n",
    "            segment_tree.update_tree(i,1)\n",
    "        self.assertEqual(segment_tree.get_count(7),5)"
   ]
  },
  {
   "cell_type": "code",
   "execution_count": 206,
   "id": "44eea80a-dab2-43fb-b657-dcab3fe5fc09",
   "metadata": {},
   "outputs": [
    {
     "name": "stderr",
     "output_type": "stream",
     "text": [
      "test (__main__.testQuery) ... ok\n",
      "\n",
      "----------------------------------------------------------------------\n",
      "Ran 1 test in 0.004s\n",
      "\n",
      "OK\n"
     ]
    },
    {
     "data": {
      "text/plain": [
       "<unittest.main.TestProgram at 0x7ff5b0822af0>"
      ]
     },
     "execution_count": 206,
     "metadata": {},
     "output_type": "execute_result"
    }
   ],
   "source": [
    "unittest.main(argv=[''], verbosity=3, exit=False)"
   ]
  },
  {
   "cell_type": "markdown",
   "id": "94c9716e-6dac-4caa-a854-d2fe9eaeabae",
   "metadata": {},
   "source": [
    "# TODO: Add lazy propagation to improve time complexity\n",
    "\n",
    "Right now let's look at time complexity\n",
    "so num_visible_skyscraper(i) is O(logn), because it just performs a search for th left and right index in segment tree.\n",
    "set_height(i,x) is O(logn) because it just updates a single element\n",
    "set_heigth_range(i,j,x) is O(nlogn) because it could iterate through n elements to update all of them. \n",
    "\n",
    "With lazy propagation we can change all the update queries, even the range one to O(logn), \n",
    "However the query of num_visible_skyscraper(i) could still be nlogn if it needs to update all the values. "
   ]
  }
 ],
 "metadata": {
  "kernelspec": {
   "display_name": "Python 3 (ipykernel)",
   "language": "python",
   "name": "python3"
  },
  "language_info": {
   "codemirror_mode": {
    "name": "ipython",
    "version": 3
   },
   "file_extension": ".py",
   "mimetype": "text/x-python",
   "name": "python",
   "nbconvert_exporter": "python",
   "pygments_lexer": "ipython3",
   "version": "3.8.10"
  }
 },
 "nbformat": 4,
 "nbformat_minor": 5
}
