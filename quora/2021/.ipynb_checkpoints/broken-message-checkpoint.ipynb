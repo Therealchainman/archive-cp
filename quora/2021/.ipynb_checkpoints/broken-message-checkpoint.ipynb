{
 "cells": [
  {
   "cell_type": "markdown",
   "id": "a38f8edb-119c-4db3-bba5-ee019c54bebc",
   "metadata": {},
   "source": [
    "# Broken Message in ML"
   ]
  },
  {
   "cell_type": "raw",
   "id": "f7b37899-cff3-404c-ad33-b705a9949f8b",
   "metadata": {},
   "source": [
    "input: \n",
    "2\n",
    "1 2 -1 5 4\n",
    "1 3 2 6 5 -1\n",
    "output:\n",
    "6\n",
    "4\n",
    "\n",
    "Keep statistics of the values ​​before and after each value\n",
    "If you can use statistics both before and after, you can \"multiply\" the two statistics to make a judgment (think of it as a probability). I got 69 points with this"
   ]
  },
  {
   "cell_type": "code",
   "execution_count": 1,
   "id": "d0539b97-83ad-4e79-bb54-2d296d522c80",
   "metadata": {},
   "outputs": [],
   "source": [
    "# statistical language model? \n",
    "\n",
    "def repackage_hidden(h):\n",
    "    \"\"\"Wraps hidden states in new Tensors, to detach them from their history.\"\"\"\n",
    "    if isinstance(h, torch.Tensor):\n",
    "        return h.detach()\n",
    "    else:\n",
    "        return tuple(repackage_hidden(v) for v in h)\n",
    "\n",
    "def get_batch(source, i):\n",
    "    seq_len = min(args.bptt, len(source) - 1 - i)\n",
    "    data = source[i:i+seq_len]\n",
    "    target = source[i+1:i+1+seq_len].view(-1)\n",
    "    return data, target\n",
    "\n",
    "def train():\n",
    "    # ...\n",
    "    hidden = model.init_hidden(args.batch_size)\n",
    "    for batch, i in enumerate(range(0, train_data.size(0) - 1, args.bptt)):\n",
    "        data, targets = get_batch(train_data, i)\n",
    "        # Starting each batch, we detach the hidden state from how it was previously produced.\n",
    "        # If we didn't, the model would try backpropagating all the way to start of the dataset.\n",
    "        hidden = repackage_hidden(hidden)\n",
    "        model.zero_grad()\n",
    "        output, hidden = model(data, hidden)\n",
    "        loss = criterion(output.view(-1, ntokens), targets)\n",
    "        loss.backward()\n",
    "        # ..."
   ]
  },
  {
   "cell_type": "markdown",
   "id": "25130a60-efe4-4311-b714-e8c6166e7ce7",
   "metadata": {},
   "source": [
    "# Steps\n",
    "\n",
    "1. Need data with numbers encoding words in sentences, want it to be a decent sized data\n",
    "2. Load the data in with python code\n",
    "3. Create a statistical language model and train with loaded data\n",
    "4. Run the inference of the model on the input code with missing numbers\n",
    "\n"
   ]
  }
 ],
 "metadata": {
  "kernelspec": {
   "display_name": "Python 3 (ipykernel)",
   "language": "python",
   "name": "python3"
  },
  "language_info": {
   "codemirror_mode": {
    "name": "ipython",
    "version": 3
   },
   "file_extension": ".py",
   "mimetype": "text/x-python",
   "name": "python",
   "nbconvert_exporter": "python",
   "pygments_lexer": "ipython3",
   "version": "3.8.10"
  }
 },
 "nbformat": 4,
 "nbformat_minor": 5
}
