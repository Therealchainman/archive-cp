{
 "cells": [
  {
   "cell_type": "markdown",
   "id": "88ee23a9-3655-41d0-b426-d99094560c16",
   "metadata": {},
   "source": [
    "# Malicious Data"
   ]
  },
  {
   "cell_type": "code",
   "execution_count": null,
   "id": "f5090a61-694b-40d7-ad01-dafd2cb50b5f",
   "metadata": {},
   "outputs": [],
   "source": []
  }
 ],
 "metadata": {
  "kernelspec": {
   "display_name": "Python 3 (ipykernel)",
   "language": "python",
   "name": "python3"
  },
  "language_info": {
   "codemirror_mode": {
    "name": "ipython",
    "version": 3
   },
   "file_extension": ".py",
   "mimetype": "text/x-python",
   "name": "python",
   "nbconvert_exporter": "python",
   "pygments_lexer": "ipython3",
   "version": "3.8.10"
  }
 },
 "nbformat": 4,
 "nbformat_minor": 5
}
