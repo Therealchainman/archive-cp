{
 "cells": [
  {
   "cell_type": "markdown",
   "id": "a38f8edb-119c-4db3-bba5-ee019c54bebc",
   "metadata": {},
   "source": [
    "# Broken Message in ML"
   ]
  },
  {
   "cell_type": "code",
   "execution_count": null,
   "id": "5bf67fab-0703-4541-af56-37e2581da96e",
   "metadata": {},
   "outputs": [],
   "source": []
  }
 ],
 "metadata": {
  "kernelspec": {
   "display_name": "Python 3 (ipykernel)",
   "language": "python",
   "name": "python3"
  },
  "language_info": {
   "codemirror_mode": {
    "name": "ipython",
    "version": 3
   },
   "file_extension": ".py",
   "mimetype": "text/x-python",
   "name": "python",
   "nbconvert_exporter": "python",
   "pygments_lexer": "ipython3",
   "version": "3.8.10"
  }
 },
 "nbformat": 4,
 "nbformat_minor": 5
}
