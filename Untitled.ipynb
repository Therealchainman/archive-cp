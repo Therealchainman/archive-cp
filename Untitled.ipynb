{
 "cells": [
  {
   "cell_type": "code",
   "execution_count": 1,
   "id": "02b2a5be-930a-4668-85bd-e4ffc54e80f8",
   "metadata": {},
   "outputs": [],
   "source": [
    "import math"
   ]
  },
  {
   "cell_type": "code",
   "execution_count": 15,
   "id": "7e347bc1-30ba-4cb2-980c-24748f909493",
   "metadata": {},
   "outputs": [],
   "source": [
    "class AllocateMailboxes:\n",
    "    def __init__(self, houses):\n",
    "        self.houses = houses\n",
    "    def dist_houses_right(self):\n",
    "        return sum(h-self.houses[0] for h in self.houses[1:])\n",
    "    def dist_houses_left(self):\n",
    "        return sum(self.houses[-1]-h for h in self.houses[::-1][1:])\n",
    "    def right_array(self, initial_sum, num_houses):\n",
    "        arr = []\n",
    "        for i in range(1,21):\n",
    "            arr.append(initial_sum)\n",
    "            num_houses -= (i in self.houses)\n",
    "            initial_sum -= num_houses\n",
    "        return arr\n",
    "    def left_array(self, initial_sum, num_houses):\n",
    "        arr = []\n",
    "        for i in range(20,0,-1):\n",
    "            arr.append(initial_sum)\n",
    "            num_houses -= (i in self.houses)\n",
    "            initial_sum -= num_houses\n",
    "        return arr[::-1]\n"
   ]
  },
  {
   "cell_type": "code",
   "execution_count": 16,
   "id": "edabbd2e-a304-423b-aae5-6ef722d38aac",
   "metadata": {},
   "outputs": [],
   "source": [
    "mail = AllocateMailboxes([1,4,8,10,20])\n",
    "right = mail.right_array(mail.dist_houses_right(),len(mail.houses))\n",
    "left = mail.left_array(mail.dist_houses_left(),len(mail.houses))\n"
   ]
  },
  {
   "cell_type": "code",
   "execution_count": 17,
   "id": "e2474d14-d416-4c3a-b20a-5bd369f462d6",
   "metadata": {},
   "outputs": [
    {
     "data": {
      "text/plain": [
       "[38, 34, 30, 26, 23, 20, 17, 14, 12, 10, 9, 8, 7, 6, 5, 4, 3, 2, 1, 0]"
      ]
     },
     "execution_count": 17,
     "metadata": {},
     "output_type": "execute_result"
    }
   ],
   "source": [
    "right"
   ]
  },
  {
   "cell_type": "code",
   "execution_count": 18,
   "id": "a64e6e9c-b7da-42b7-8878-15d18234f27d",
   "metadata": {},
   "outputs": [
    {
     "data": {
      "text/plain": [
       "[0, 1, 2, 3, 5, 7, 9, 11, 14, 17, 21, 25, 29, 33, 37, 41, 45, 49, 53, 57]"
      ]
     },
     "execution_count": 18,
     "metadata": {},
     "output_type": "execute_result"
    }
   ],
   "source": [
    "left"
   ]
  },
  {
   "cell_type": "code",
   "execution_count": 19,
   "id": "e105392d-074e-4f81-bde3-5f184a0fdd48",
   "metadata": {},
   "outputs": [
    {
     "name": "stdout",
     "output_type": "stream",
     "text": [
      "answer for if k=1 is 25\n"
     ]
    }
   ],
   "source": [
    "# if k=1\n",
    "print(f\"answer for if k=1 is {min(l+r for l,r in zip(left,right))}\")"
   ]
  },
  {
   "cell_type": "code",
   "execution_count": null,
   "id": "fbcd9f7a-d34b-4334-b1ea-3125de026e3d",
   "metadata": {},
   "outputs": [],
   "source": []
  }
 ],
 "metadata": {
  "kernelspec": {
   "display_name": "Python 3 (ipykernel)",
   "language": "python",
   "name": "python3"
  },
  "language_info": {
   "codemirror_mode": {
    "name": "ipython",
    "version": 3
   },
   "file_extension": ".py",
   "mimetype": "text/x-python",
   "name": "python",
   "nbconvert_exporter": "python",
   "pygments_lexer": "ipython3",
   "version": "3.10.0"
  }
 },
 "nbformat": 4,
 "nbformat_minor": 5
}
